{
 "cells": [
  {
   "cell_type": "markdown",
   "id": "1cafbb17",
   "metadata": {},
   "source": [
    "# Прогнозирование оттока клиентов телеком компании\n",
    "## Исследовательский анализ данных\n",
    "### Описание данных"
   ]
  },
  {
   "cell_type": "markdown",
   "id": "87146537",
   "metadata": {},
   "source": [
    "Оператор связи «Ниединогоразрыва.ком» хочет научиться прогнозировать отток клиентов. Если выяснится, что пользователь планирует уйти, ему будут предложены промокоды и специальные условия. Команда оператора собрала персональные данные о некоторых клиентах, информацию об их тарифах и договорах.\n",
    "\n",
    "**Цель проекта:**\n",
    "Построить модель, которая будет предсказывать планирует ли клиент уходить. При этом метриика `auc-roc` должна быть выше 0,85.\n",
    "\n",
    "**Описание услуг**\n",
    "\n",
    "Оператор предоставляет два основных типа услуг:\n",
    "\n",
    "1. Стационарную телефонную связь. Возможно подключение телефонного аппарата к нескольким линиям одновременно.\n",
    "2. Интернет. Подключение может быть двух типов: через телефонную линию (DSL*,* от англ. *digital subscriber line*, «цифровая абонентская линия») или оптоволоконный кабель (*Fiber optic*).  \n",
    "\n",
    "Также доступны такие услуги:\n",
    "\n",
    "- Интернет-безопасность: антивирус (*DeviceProtection*) и блокировка небезопасных сайтов (*OnlineSecurity*);\n",
    "- Выделенная линия технической поддержки (*TechSupport*);\n",
    "- Облачное хранилище файлов для резервного копирования данных (*OnlineBackup*);\n",
    "- Стриминговое телевидение (*StreamingTV*) и каталог фильмов (*StreamingMovies*).\n",
    "\n",
    "За услуги клиенты могут платить каждый месяц или заключить договор на 1–2 года. Доступны различные способы расчёта и возможность получения электронного чека.\n",
    "\n",
    "**Описание данных**\n",
    "\n",
    "Данные состоят из файлов, полученных из разных источников:\n",
    "\n",
    "- `contract.csv` — информация о договоре;\n",
    "- `personal.csv` — персональные данные клиента;\n",
    "- `internet.csv` — информация об интернет-услугах;\n",
    "- `phone.csv` — информация об услугах телефонии.\n",
    "\n",
    "Во всех файлах столбец `customerID` содержит код клиента.\n",
    "\n",
    "Информация о договорах актуальна на 1 февраля 2020."
   ]
  },
  {
   "cell_type": "markdown",
   "id": "2b322ac9",
   "metadata": {},
   "source": [
    "### Обзор данных"
   ]
  },
  {
   "cell_type": "code",
   "execution_count": 67,
   "id": "aa9fa987",
   "metadata": {},
   "outputs": [],
   "source": [
    "# загрузка необходимых библиотек\n",
    "\n",
    "# импорты из стандартной библиотеки\n",
    "import os\n",
    "import warnings\n",
    "\n",
    "# импорты сторонних библиотек\n",
    "import numpy as np\n",
    "import pandas as pd\n",
    "import seaborn as sns\n",
    "import matplotlib.pyplot as plt\n",
    "import phik\n",
    "\n",
    "# импорты модулей текущего проекта\n",
    "from types import SimpleNamespace\n",
    "from sklearn.compose import make_column_transformer\n",
    "from sklearn.dummy import DummyClassifier\n",
    "from sklearn.metrics import (\n",
    "    roc_auc_score, \n",
    "    accuracy_score, \n",
    "    make_scorer,\n",
    "    roc_curve,\n",
    "    confusion_matrix,\n",
    "    plot_confusion_matrix\n",
    ")\n",
    "from sklearn.model_selection import (\n",
    "    GridSearchCV, \n",
    "    RandomizedSearchCV,\n",
    "    train_test_split, \n",
    "    KFold, \n",
    "    cross_val_score\n",
    ")\n",
    "from sklearn.preprocessing import (\n",
    "    OneHotEncoder,\n",
    "    OrdinalEncoder,\n",
    "    StandardScaler\n",
    ")\n",
    "from sklearn.ensemble import RandomForestClassifier\n",
    "from sklearn.linear_model import LogisticRegression\n",
    "from catboost import CatBoostClassifier\n",
    "from sklearn.linear_model import RidgeClassifier\n",
    "from sklearn.pipeline import make_pipeline\n",
    "\n",
    "# настройки\n",
    "warnings.filterwarnings(\"ignore\")"
   ]
  },
  {
   "cell_type": "code",
   "execution_count": 4,
   "id": "f9c98628",
   "metadata": {},
   "outputs": [],
   "source": [
    "# константа\n",
    "RANDOM_STATE = 270223"
   ]
  },
  {
   "cell_type": "code",
   "execution_count": 5,
   "id": "9da5e92a",
   "metadata": {},
   "outputs": [],
   "source": [
    "# загрузка данных\n",
    "pth_prod = 'data_final_provider'\n",
    "pth_dev = '/datasets/final_provider/'\n",
    "\n",
    "df_folder = pth_dev if os.path.exists(pth_dev) else pth_prod\n",
    "\n",
    "df = SimpleNamespace()\n",
    "for file_name in os.listdir(df_folder):\n",
    "    if os.path.isfile(os.path.join(df_folder, file_name)):\n",
    "        setattr(\n",
    "            df, \n",
    "            file_name.split(\".\")[0],\n",
    "            pd.read_csv(os.path.join(df_folder, file_name))\n",
    "        )    "
   ]
  },
  {
   "cell_type": "code",
   "execution_count": 6,
   "id": "bcc476e2",
   "metadata": {},
   "outputs": [
    {
     "data": {
      "text/html": [
       "<div>\n",
       "<style scoped>\n",
       "    .dataframe tbody tr th:only-of-type {\n",
       "        vertical-align: middle;\n",
       "    }\n",
       "\n",
       "    .dataframe tbody tr th {\n",
       "        vertical-align: top;\n",
       "    }\n",
       "\n",
       "    .dataframe thead th {\n",
       "        text-align: right;\n",
       "    }\n",
       "</style>\n",
       "<table border=\"1\" class=\"dataframe\">\n",
       "  <thead>\n",
       "    <tr style=\"text-align: right;\">\n",
       "      <th></th>\n",
       "      <th>customerID</th>\n",
       "      <th>BeginDate</th>\n",
       "      <th>EndDate</th>\n",
       "      <th>Type</th>\n",
       "      <th>PaperlessBilling</th>\n",
       "      <th>PaymentMethod</th>\n",
       "      <th>MonthlyCharges</th>\n",
       "      <th>TotalCharges</th>\n",
       "    </tr>\n",
       "  </thead>\n",
       "  <tbody>\n",
       "    <tr>\n",
       "      <th>1629</th>\n",
       "      <td>3533-UVMOM</td>\n",
       "      <td>2014-06-01</td>\n",
       "      <td>No</td>\n",
       "      <td>Two year</td>\n",
       "      <td>No</td>\n",
       "      <td>Bank transfer (automatic)</td>\n",
       "      <td>70.95</td>\n",
       "      <td>4741.45</td>\n",
       "    </tr>\n",
       "    <tr>\n",
       "      <th>5888</th>\n",
       "      <td>8610-WFCJF</td>\n",
       "      <td>2015-11-01</td>\n",
       "      <td>2019-12-01 00:00:00</td>\n",
       "      <td>Month-to-month</td>\n",
       "      <td>Yes</td>\n",
       "      <td>Electronic check</td>\n",
       "      <td>95.60</td>\n",
       "      <td>4783.5</td>\n",
       "    </tr>\n",
       "    <tr>\n",
       "      <th>4408</th>\n",
       "      <td>2824-DXNKN</td>\n",
       "      <td>2014-02-01</td>\n",
       "      <td>No</td>\n",
       "      <td>Two year</td>\n",
       "      <td>Yes</td>\n",
       "      <td>Bank transfer (automatic)</td>\n",
       "      <td>71.45</td>\n",
       "      <td>5025.85</td>\n",
       "    </tr>\n",
       "    <tr>\n",
       "      <th>6157</th>\n",
       "      <td>6776-TLWOI</td>\n",
       "      <td>2019-07-01</td>\n",
       "      <td>2019-10-01 00:00:00</td>\n",
       "      <td>Month-to-month</td>\n",
       "      <td>No</td>\n",
       "      <td>Mailed check</td>\n",
       "      <td>19.85</td>\n",
       "      <td>64.55</td>\n",
       "    </tr>\n",
       "    <tr>\n",
       "      <th>2730</th>\n",
       "      <td>1169-SAOCL</td>\n",
       "      <td>2016-01-01</td>\n",
       "      <td>No</td>\n",
       "      <td>One year</td>\n",
       "      <td>Yes</td>\n",
       "      <td>Bank transfer (automatic)</td>\n",
       "      <td>106.65</td>\n",
       "      <td>5168.1</td>\n",
       "    </tr>\n",
       "  </tbody>\n",
       "</table>\n",
       "</div>"
      ],
      "text/plain": [
       "      customerID   BeginDate              EndDate            Type  \\\n",
       "1629  3533-UVMOM  2014-06-01                   No        Two year   \n",
       "5888  8610-WFCJF  2015-11-01  2019-12-01 00:00:00  Month-to-month   \n",
       "4408  2824-DXNKN  2014-02-01                   No        Two year   \n",
       "6157  6776-TLWOI  2019-07-01  2019-10-01 00:00:00  Month-to-month   \n",
       "2730  1169-SAOCL  2016-01-01                   No        One year   \n",
       "\n",
       "     PaperlessBilling              PaymentMethod  MonthlyCharges TotalCharges  \n",
       "1629               No  Bank transfer (automatic)           70.95      4741.45  \n",
       "5888              Yes           Electronic check           95.60       4783.5  \n",
       "4408              Yes  Bank transfer (automatic)           71.45      5025.85  \n",
       "6157               No               Mailed check           19.85        64.55  \n",
       "2730              Yes  Bank transfer (automatic)          106.65       5168.1  "
      ]
     },
     "metadata": {},
     "output_type": "display_data"
    },
    {
     "name": "stdout",
     "output_type": "stream",
     "text": [
      "<class 'pandas.core.frame.DataFrame'>\n",
      "RangeIndex: 7043 entries, 0 to 7042\n",
      "Data columns (total 8 columns):\n",
      " #   Column            Non-Null Count  Dtype  \n",
      "---  ------            --------------  -----  \n",
      " 0   customerID        7043 non-null   object \n",
      " 1   BeginDate         7043 non-null   object \n",
      " 2   EndDate           7043 non-null   object \n",
      " 3   Type              7043 non-null   object \n",
      " 4   PaperlessBilling  7043 non-null   object \n",
      " 5   PaymentMethod     7043 non-null   object \n",
      " 6   MonthlyCharges    7043 non-null   float64\n",
      " 7   TotalCharges      7043 non-null   object \n",
      "dtypes: float64(1), object(7)\n",
      "memory usage: 440.3+ KB\n"
     ]
    },
    {
     "data": {
      "text/plain": [
       "None"
      ]
     },
     "metadata": {},
     "output_type": "display_data"
    },
    {
     "data": {
      "text/html": [
       "<div>\n",
       "<style scoped>\n",
       "    .dataframe tbody tr th:only-of-type {\n",
       "        vertical-align: middle;\n",
       "    }\n",
       "\n",
       "    .dataframe tbody tr th {\n",
       "        vertical-align: top;\n",
       "    }\n",
       "\n",
       "    .dataframe thead th {\n",
       "        text-align: right;\n",
       "    }\n",
       "</style>\n",
       "<table border=\"1\" class=\"dataframe\">\n",
       "  <thead>\n",
       "    <tr style=\"text-align: right;\">\n",
       "      <th></th>\n",
       "      <th>customerID</th>\n",
       "      <th>BeginDate</th>\n",
       "      <th>EndDate</th>\n",
       "      <th>Type</th>\n",
       "      <th>PaperlessBilling</th>\n",
       "      <th>PaymentMethod</th>\n",
       "      <th>MonthlyCharges</th>\n",
       "      <th>TotalCharges</th>\n",
       "    </tr>\n",
       "  </thead>\n",
       "  <tbody>\n",
       "    <tr>\n",
       "      <th>count</th>\n",
       "      <td>7043</td>\n",
       "      <td>7043</td>\n",
       "      <td>7043</td>\n",
       "      <td>7043</td>\n",
       "      <td>7043</td>\n",
       "      <td>7043</td>\n",
       "      <td>7043.000000</td>\n",
       "      <td>7043</td>\n",
       "    </tr>\n",
       "    <tr>\n",
       "      <th>unique</th>\n",
       "      <td>7043</td>\n",
       "      <td>77</td>\n",
       "      <td>5</td>\n",
       "      <td>3</td>\n",
       "      <td>2</td>\n",
       "      <td>4</td>\n",
       "      <td>NaN</td>\n",
       "      <td>6531</td>\n",
       "    </tr>\n",
       "    <tr>\n",
       "      <th>top</th>\n",
       "      <td>2669-QVCRG</td>\n",
       "      <td>2014-02-01</td>\n",
       "      <td>No</td>\n",
       "      <td>Month-to-month</td>\n",
       "      <td>Yes</td>\n",
       "      <td>Electronic check</td>\n",
       "      <td>NaN</td>\n",
       "      <td>20.2</td>\n",
       "    </tr>\n",
       "    <tr>\n",
       "      <th>freq</th>\n",
       "      <td>1</td>\n",
       "      <td>366</td>\n",
       "      <td>5174</td>\n",
       "      <td>3875</td>\n",
       "      <td>4171</td>\n",
       "      <td>2365</td>\n",
       "      <td>NaN</td>\n",
       "      <td>11</td>\n",
       "    </tr>\n",
       "    <tr>\n",
       "      <th>mean</th>\n",
       "      <td>NaN</td>\n",
       "      <td>NaN</td>\n",
       "      <td>NaN</td>\n",
       "      <td>NaN</td>\n",
       "      <td>NaN</td>\n",
       "      <td>NaN</td>\n",
       "      <td>64.761692</td>\n",
       "      <td>NaN</td>\n",
       "    </tr>\n",
       "    <tr>\n",
       "      <th>std</th>\n",
       "      <td>NaN</td>\n",
       "      <td>NaN</td>\n",
       "      <td>NaN</td>\n",
       "      <td>NaN</td>\n",
       "      <td>NaN</td>\n",
       "      <td>NaN</td>\n",
       "      <td>30.090047</td>\n",
       "      <td>NaN</td>\n",
       "    </tr>\n",
       "    <tr>\n",
       "      <th>min</th>\n",
       "      <td>NaN</td>\n",
       "      <td>NaN</td>\n",
       "      <td>NaN</td>\n",
       "      <td>NaN</td>\n",
       "      <td>NaN</td>\n",
       "      <td>NaN</td>\n",
       "      <td>18.250000</td>\n",
       "      <td>NaN</td>\n",
       "    </tr>\n",
       "    <tr>\n",
       "      <th>25%</th>\n",
       "      <td>NaN</td>\n",
       "      <td>NaN</td>\n",
       "      <td>NaN</td>\n",
       "      <td>NaN</td>\n",
       "      <td>NaN</td>\n",
       "      <td>NaN</td>\n",
       "      <td>35.500000</td>\n",
       "      <td>NaN</td>\n",
       "    </tr>\n",
       "    <tr>\n",
       "      <th>50%</th>\n",
       "      <td>NaN</td>\n",
       "      <td>NaN</td>\n",
       "      <td>NaN</td>\n",
       "      <td>NaN</td>\n",
       "      <td>NaN</td>\n",
       "      <td>NaN</td>\n",
       "      <td>70.350000</td>\n",
       "      <td>NaN</td>\n",
       "    </tr>\n",
       "    <tr>\n",
       "      <th>75%</th>\n",
       "      <td>NaN</td>\n",
       "      <td>NaN</td>\n",
       "      <td>NaN</td>\n",
       "      <td>NaN</td>\n",
       "      <td>NaN</td>\n",
       "      <td>NaN</td>\n",
       "      <td>89.850000</td>\n",
       "      <td>NaN</td>\n",
       "    </tr>\n",
       "    <tr>\n",
       "      <th>max</th>\n",
       "      <td>NaN</td>\n",
       "      <td>NaN</td>\n",
       "      <td>NaN</td>\n",
       "      <td>NaN</td>\n",
       "      <td>NaN</td>\n",
       "      <td>NaN</td>\n",
       "      <td>118.750000</td>\n",
       "      <td>NaN</td>\n",
       "    </tr>\n",
       "  </tbody>\n",
       "</table>\n",
       "</div>"
      ],
      "text/plain": [
       "        customerID   BeginDate EndDate            Type PaperlessBilling  \\\n",
       "count         7043        7043    7043            7043             7043   \n",
       "unique        7043          77       5               3                2   \n",
       "top     2669-QVCRG  2014-02-01      No  Month-to-month              Yes   \n",
       "freq             1         366    5174            3875             4171   \n",
       "mean           NaN         NaN     NaN             NaN              NaN   \n",
       "std            NaN         NaN     NaN             NaN              NaN   \n",
       "min            NaN         NaN     NaN             NaN              NaN   \n",
       "25%            NaN         NaN     NaN             NaN              NaN   \n",
       "50%            NaN         NaN     NaN             NaN              NaN   \n",
       "75%            NaN         NaN     NaN             NaN              NaN   \n",
       "max            NaN         NaN     NaN             NaN              NaN   \n",
       "\n",
       "           PaymentMethod  MonthlyCharges TotalCharges  \n",
       "count               7043     7043.000000         7043  \n",
       "unique                 4             NaN         6531  \n",
       "top     Electronic check             NaN         20.2  \n",
       "freq                2365             NaN           11  \n",
       "mean                 NaN       64.761692          NaN  \n",
       "std                  NaN       30.090047          NaN  \n",
       "min                  NaN       18.250000          NaN  \n",
       "25%                  NaN       35.500000          NaN  \n",
       "50%                  NaN       70.350000          NaN  \n",
       "75%                  NaN       89.850000          NaN  \n",
       "max                  NaN      118.750000          NaN  "
      ]
     },
     "metadata": {},
     "output_type": "display_data"
    }
   ],
   "source": [
    "# функция для открытия данных\n",
    "def get_data_info(data):\n",
    "    display(data.sample(5))\n",
    "    display(data.info())\n",
    "    display(data.describe(include='all'))\n",
    "    \n",
    "get_data_info(df.contract)   "
   ]
  },
  {
   "cell_type": "markdown",
   "id": "3680e590",
   "metadata": {},
   "source": [
    "Первые выводы по данным: **Файл Contract**\n",
    "\n",
    "1) Пропусков в данных нет\n",
    "\n",
    "2) Необходимо будет поменять типы данных\n",
    "\n",
    "   - `BeginDate`, `EndDate`\t- на дату. Или в случае второго столбца, то изменить на ушёл ли клиент или ещё пользуется услугами. Тем самым сделать целевым признаком.\n",
    "   \n",
    "   - `TotalCharges` на тип Float\n",
    "   \n",
    "Информация по столбцам:   \n",
    "* `customerID` - индивидуальный номер пользователя (есть во всех таблицах)\n",
    "* `BeginDate`- дата начала пользования услугами\n",
    "* `EndDate` - дата окончания пользования услугами\n",
    "* `Type` - тип оплаты: ежемесячный, годовой и тд.\n",
    "* `PaperlessBilling` - электронный платёжный документ\n",
    "* `PaymentMethod` - способ оплаты\n",
    "* `MonthlyCharges` - ежемесячные траты на услуги\n",
    "* `TotalCharges` - всего потрачено денег на услуги"
   ]
  },
  {
   "cell_type": "code",
   "execution_count": 7,
   "id": "5cae904e",
   "metadata": {},
   "outputs": [
    {
     "data": {
      "text/html": [
       "<div>\n",
       "<style scoped>\n",
       "    .dataframe tbody tr th:only-of-type {\n",
       "        vertical-align: middle;\n",
       "    }\n",
       "\n",
       "    .dataframe tbody tr th {\n",
       "        vertical-align: top;\n",
       "    }\n",
       "\n",
       "    .dataframe thead th {\n",
       "        text-align: right;\n",
       "    }\n",
       "</style>\n",
       "<table border=\"1\" class=\"dataframe\">\n",
       "  <thead>\n",
       "    <tr style=\"text-align: right;\">\n",
       "      <th></th>\n",
       "      <th>customerID</th>\n",
       "      <th>gender</th>\n",
       "      <th>SeniorCitizen</th>\n",
       "      <th>Partner</th>\n",
       "      <th>Dependents</th>\n",
       "    </tr>\n",
       "  </thead>\n",
       "  <tbody>\n",
       "    <tr>\n",
       "      <th>2394</th>\n",
       "      <td>8231-BSWXX</td>\n",
       "      <td>Male</td>\n",
       "      <td>0</td>\n",
       "      <td>No</td>\n",
       "      <td>No</td>\n",
       "    </tr>\n",
       "    <tr>\n",
       "      <th>1754</th>\n",
       "      <td>3658-QQJYD</td>\n",
       "      <td>Male</td>\n",
       "      <td>0</td>\n",
       "      <td>No</td>\n",
       "      <td>No</td>\n",
       "    </tr>\n",
       "    <tr>\n",
       "      <th>6231</th>\n",
       "      <td>3296-SILRA</td>\n",
       "      <td>Female</td>\n",
       "      <td>1</td>\n",
       "      <td>Yes</td>\n",
       "      <td>No</td>\n",
       "    </tr>\n",
       "    <tr>\n",
       "      <th>6329</th>\n",
       "      <td>6603-QWSPR</td>\n",
       "      <td>Female</td>\n",
       "      <td>0</td>\n",
       "      <td>No</td>\n",
       "      <td>No</td>\n",
       "    </tr>\n",
       "    <tr>\n",
       "      <th>4831</th>\n",
       "      <td>4654-GGUII</td>\n",
       "      <td>Female</td>\n",
       "      <td>0</td>\n",
       "      <td>No</td>\n",
       "      <td>No</td>\n",
       "    </tr>\n",
       "  </tbody>\n",
       "</table>\n",
       "</div>"
      ],
      "text/plain": [
       "      customerID  gender  SeniorCitizen Partner Dependents\n",
       "2394  8231-BSWXX    Male              0      No         No\n",
       "1754  3658-QQJYD    Male              0      No         No\n",
       "6231  3296-SILRA  Female              1     Yes         No\n",
       "6329  6603-QWSPR  Female              0      No         No\n",
       "4831  4654-GGUII  Female              0      No         No"
      ]
     },
     "metadata": {},
     "output_type": "display_data"
    },
    {
     "name": "stdout",
     "output_type": "stream",
     "text": [
      "<class 'pandas.core.frame.DataFrame'>\n",
      "RangeIndex: 7043 entries, 0 to 7042\n",
      "Data columns (total 5 columns):\n",
      " #   Column         Non-Null Count  Dtype \n",
      "---  ------         --------------  ----- \n",
      " 0   customerID     7043 non-null   object\n",
      " 1   gender         7043 non-null   object\n",
      " 2   SeniorCitizen  7043 non-null   int64 \n",
      " 3   Partner        7043 non-null   object\n",
      " 4   Dependents     7043 non-null   object\n",
      "dtypes: int64(1), object(4)\n",
      "memory usage: 275.2+ KB\n"
     ]
    },
    {
     "data": {
      "text/plain": [
       "None"
      ]
     },
     "metadata": {},
     "output_type": "display_data"
    },
    {
     "data": {
      "text/html": [
       "<div>\n",
       "<style scoped>\n",
       "    .dataframe tbody tr th:only-of-type {\n",
       "        vertical-align: middle;\n",
       "    }\n",
       "\n",
       "    .dataframe tbody tr th {\n",
       "        vertical-align: top;\n",
       "    }\n",
       "\n",
       "    .dataframe thead th {\n",
       "        text-align: right;\n",
       "    }\n",
       "</style>\n",
       "<table border=\"1\" class=\"dataframe\">\n",
       "  <thead>\n",
       "    <tr style=\"text-align: right;\">\n",
       "      <th></th>\n",
       "      <th>customerID</th>\n",
       "      <th>gender</th>\n",
       "      <th>SeniorCitizen</th>\n",
       "      <th>Partner</th>\n",
       "      <th>Dependents</th>\n",
       "    </tr>\n",
       "  </thead>\n",
       "  <tbody>\n",
       "    <tr>\n",
       "      <th>count</th>\n",
       "      <td>7043</td>\n",
       "      <td>7043</td>\n",
       "      <td>7043.000000</td>\n",
       "      <td>7043</td>\n",
       "      <td>7043</td>\n",
       "    </tr>\n",
       "    <tr>\n",
       "      <th>unique</th>\n",
       "      <td>7043</td>\n",
       "      <td>2</td>\n",
       "      <td>NaN</td>\n",
       "      <td>2</td>\n",
       "      <td>2</td>\n",
       "    </tr>\n",
       "    <tr>\n",
       "      <th>top</th>\n",
       "      <td>2669-QVCRG</td>\n",
       "      <td>Male</td>\n",
       "      <td>NaN</td>\n",
       "      <td>No</td>\n",
       "      <td>No</td>\n",
       "    </tr>\n",
       "    <tr>\n",
       "      <th>freq</th>\n",
       "      <td>1</td>\n",
       "      <td>3555</td>\n",
       "      <td>NaN</td>\n",
       "      <td>3641</td>\n",
       "      <td>4933</td>\n",
       "    </tr>\n",
       "    <tr>\n",
       "      <th>mean</th>\n",
       "      <td>NaN</td>\n",
       "      <td>NaN</td>\n",
       "      <td>0.162147</td>\n",
       "      <td>NaN</td>\n",
       "      <td>NaN</td>\n",
       "    </tr>\n",
       "    <tr>\n",
       "      <th>std</th>\n",
       "      <td>NaN</td>\n",
       "      <td>NaN</td>\n",
       "      <td>0.368612</td>\n",
       "      <td>NaN</td>\n",
       "      <td>NaN</td>\n",
       "    </tr>\n",
       "    <tr>\n",
       "      <th>min</th>\n",
       "      <td>NaN</td>\n",
       "      <td>NaN</td>\n",
       "      <td>0.000000</td>\n",
       "      <td>NaN</td>\n",
       "      <td>NaN</td>\n",
       "    </tr>\n",
       "    <tr>\n",
       "      <th>25%</th>\n",
       "      <td>NaN</td>\n",
       "      <td>NaN</td>\n",
       "      <td>0.000000</td>\n",
       "      <td>NaN</td>\n",
       "      <td>NaN</td>\n",
       "    </tr>\n",
       "    <tr>\n",
       "      <th>50%</th>\n",
       "      <td>NaN</td>\n",
       "      <td>NaN</td>\n",
       "      <td>0.000000</td>\n",
       "      <td>NaN</td>\n",
       "      <td>NaN</td>\n",
       "    </tr>\n",
       "    <tr>\n",
       "      <th>75%</th>\n",
       "      <td>NaN</td>\n",
       "      <td>NaN</td>\n",
       "      <td>0.000000</td>\n",
       "      <td>NaN</td>\n",
       "      <td>NaN</td>\n",
       "    </tr>\n",
       "    <tr>\n",
       "      <th>max</th>\n",
       "      <td>NaN</td>\n",
       "      <td>NaN</td>\n",
       "      <td>1.000000</td>\n",
       "      <td>NaN</td>\n",
       "      <td>NaN</td>\n",
       "    </tr>\n",
       "  </tbody>\n",
       "</table>\n",
       "</div>"
      ],
      "text/plain": [
       "        customerID gender  SeniorCitizen Partner Dependents\n",
       "count         7043   7043    7043.000000    7043       7043\n",
       "unique        7043      2            NaN       2          2\n",
       "top     2669-QVCRG   Male            NaN      No         No\n",
       "freq             1   3555            NaN    3641       4933\n",
       "mean           NaN    NaN       0.162147     NaN        NaN\n",
       "std            NaN    NaN       0.368612     NaN        NaN\n",
       "min            NaN    NaN       0.000000     NaN        NaN\n",
       "25%            NaN    NaN       0.000000     NaN        NaN\n",
       "50%            NaN    NaN       0.000000     NaN        NaN\n",
       "75%            NaN    NaN       0.000000     NaN        NaN\n",
       "max            NaN    NaN       1.000000     NaN        NaN"
      ]
     },
     "metadata": {},
     "output_type": "display_data"
    }
   ],
   "source": [
    "get_data_info(df.personal)  "
   ]
  },
  {
   "cell_type": "markdown",
   "id": "2d544bd6",
   "metadata": {},
   "source": [
    "Первые выводы по данным: **Файл personal**\n",
    "\n",
    "1) Пропусков в данных нет, и данных столько же, сколько в предыдущем файле\n",
    "\n",
    "2) Тип данных менять не нужно\n",
    "\n",
    "\n",
    "Информация по столбцам:   \n",
    "* `customerID` - индивидуальный номер пользователя (есть во всех таблицах)\n",
    "* `gender` - пол\n",
    "* `SeniorCitizen` - наличие пенсионного статуса по возрасту\n",
    "* `Partner` - наличие супруга или супруги\n",
    "* `Dependents` - наличие иждевенцев"
   ]
  },
  {
   "cell_type": "code",
   "execution_count": 8,
   "id": "a881565a",
   "metadata": {},
   "outputs": [
    {
     "data": {
      "text/html": [
       "<div>\n",
       "<style scoped>\n",
       "    .dataframe tbody tr th:only-of-type {\n",
       "        vertical-align: middle;\n",
       "    }\n",
       "\n",
       "    .dataframe tbody tr th {\n",
       "        vertical-align: top;\n",
       "    }\n",
       "\n",
       "    .dataframe thead th {\n",
       "        text-align: right;\n",
       "    }\n",
       "</style>\n",
       "<table border=\"1\" class=\"dataframe\">\n",
       "  <thead>\n",
       "    <tr style=\"text-align: right;\">\n",
       "      <th></th>\n",
       "      <th>customerID</th>\n",
       "      <th>InternetService</th>\n",
       "      <th>OnlineSecurity</th>\n",
       "      <th>OnlineBackup</th>\n",
       "      <th>DeviceProtection</th>\n",
       "      <th>TechSupport</th>\n",
       "      <th>StreamingTV</th>\n",
       "      <th>StreamingMovies</th>\n",
       "    </tr>\n",
       "  </thead>\n",
       "  <tbody>\n",
       "    <tr>\n",
       "      <th>1137</th>\n",
       "      <td>7767-UXAGJ</td>\n",
       "      <td>DSL</td>\n",
       "      <td>No</td>\n",
       "      <td>No</td>\n",
       "      <td>No</td>\n",
       "      <td>No</td>\n",
       "      <td>No</td>\n",
       "      <td>No</td>\n",
       "    </tr>\n",
       "    <tr>\n",
       "      <th>348</th>\n",
       "      <td>2181-UAESM</td>\n",
       "      <td>DSL</td>\n",
       "      <td>Yes</td>\n",
       "      <td>No</td>\n",
       "      <td>Yes</td>\n",
       "      <td>No</td>\n",
       "      <td>No</td>\n",
       "      <td>No</td>\n",
       "    </tr>\n",
       "    <tr>\n",
       "      <th>2305</th>\n",
       "      <td>6313-GIDIT</td>\n",
       "      <td>DSL</td>\n",
       "      <td>No</td>\n",
       "      <td>Yes</td>\n",
       "      <td>Yes</td>\n",
       "      <td>No</td>\n",
       "      <td>Yes</td>\n",
       "      <td>Yes</td>\n",
       "    </tr>\n",
       "    <tr>\n",
       "      <th>1581</th>\n",
       "      <td>9430-FRQOC</td>\n",
       "      <td>Fiber optic</td>\n",
       "      <td>No</td>\n",
       "      <td>No</td>\n",
       "      <td>Yes</td>\n",
       "      <td>Yes</td>\n",
       "      <td>No</td>\n",
       "      <td>No</td>\n",
       "    </tr>\n",
       "    <tr>\n",
       "      <th>4529</th>\n",
       "      <td>8066-POXGX</td>\n",
       "      <td>DSL</td>\n",
       "      <td>No</td>\n",
       "      <td>No</td>\n",
       "      <td>No</td>\n",
       "      <td>No</td>\n",
       "      <td>No</td>\n",
       "      <td>Yes</td>\n",
       "    </tr>\n",
       "  </tbody>\n",
       "</table>\n",
       "</div>"
      ],
      "text/plain": [
       "      customerID InternetService OnlineSecurity OnlineBackup DeviceProtection  \\\n",
       "1137  7767-UXAGJ             DSL             No           No               No   \n",
       "348   2181-UAESM             DSL            Yes           No              Yes   \n",
       "2305  6313-GIDIT             DSL             No          Yes              Yes   \n",
       "1581  9430-FRQOC     Fiber optic             No           No              Yes   \n",
       "4529  8066-POXGX             DSL             No           No               No   \n",
       "\n",
       "     TechSupport StreamingTV StreamingMovies  \n",
       "1137          No          No              No  \n",
       "348           No          No              No  \n",
       "2305          No         Yes             Yes  \n",
       "1581         Yes          No              No  \n",
       "4529          No          No             Yes  "
      ]
     },
     "metadata": {},
     "output_type": "display_data"
    },
    {
     "name": "stdout",
     "output_type": "stream",
     "text": [
      "<class 'pandas.core.frame.DataFrame'>\n",
      "RangeIndex: 5517 entries, 0 to 5516\n",
      "Data columns (total 8 columns):\n",
      " #   Column            Non-Null Count  Dtype \n",
      "---  ------            --------------  ----- \n",
      " 0   customerID        5517 non-null   object\n",
      " 1   InternetService   5517 non-null   object\n",
      " 2   OnlineSecurity    5517 non-null   object\n",
      " 3   OnlineBackup      5517 non-null   object\n",
      " 4   DeviceProtection  5517 non-null   object\n",
      " 5   TechSupport       5517 non-null   object\n",
      " 6   StreamingTV       5517 non-null   object\n",
      " 7   StreamingMovies   5517 non-null   object\n",
      "dtypes: object(8)\n",
      "memory usage: 344.9+ KB\n"
     ]
    },
    {
     "data": {
      "text/plain": [
       "None"
      ]
     },
     "metadata": {},
     "output_type": "display_data"
    },
    {
     "data": {
      "text/html": [
       "<div>\n",
       "<style scoped>\n",
       "    .dataframe tbody tr th:only-of-type {\n",
       "        vertical-align: middle;\n",
       "    }\n",
       "\n",
       "    .dataframe tbody tr th {\n",
       "        vertical-align: top;\n",
       "    }\n",
       "\n",
       "    .dataframe thead th {\n",
       "        text-align: right;\n",
       "    }\n",
       "</style>\n",
       "<table border=\"1\" class=\"dataframe\">\n",
       "  <thead>\n",
       "    <tr style=\"text-align: right;\">\n",
       "      <th></th>\n",
       "      <th>customerID</th>\n",
       "      <th>InternetService</th>\n",
       "      <th>OnlineSecurity</th>\n",
       "      <th>OnlineBackup</th>\n",
       "      <th>DeviceProtection</th>\n",
       "      <th>TechSupport</th>\n",
       "      <th>StreamingTV</th>\n",
       "      <th>StreamingMovies</th>\n",
       "    </tr>\n",
       "  </thead>\n",
       "  <tbody>\n",
       "    <tr>\n",
       "      <th>count</th>\n",
       "      <td>5517</td>\n",
       "      <td>5517</td>\n",
       "      <td>5517</td>\n",
       "      <td>5517</td>\n",
       "      <td>5517</td>\n",
       "      <td>5517</td>\n",
       "      <td>5517</td>\n",
       "      <td>5517</td>\n",
       "    </tr>\n",
       "    <tr>\n",
       "      <th>unique</th>\n",
       "      <td>5517</td>\n",
       "      <td>2</td>\n",
       "      <td>2</td>\n",
       "      <td>2</td>\n",
       "      <td>2</td>\n",
       "      <td>2</td>\n",
       "      <td>2</td>\n",
       "      <td>2</td>\n",
       "    </tr>\n",
       "    <tr>\n",
       "      <th>top</th>\n",
       "      <td>5419-JKZNQ</td>\n",
       "      <td>Fiber optic</td>\n",
       "      <td>No</td>\n",
       "      <td>No</td>\n",
       "      <td>No</td>\n",
       "      <td>No</td>\n",
       "      <td>No</td>\n",
       "      <td>No</td>\n",
       "    </tr>\n",
       "    <tr>\n",
       "      <th>freq</th>\n",
       "      <td>1</td>\n",
       "      <td>3096</td>\n",
       "      <td>3498</td>\n",
       "      <td>3088</td>\n",
       "      <td>3095</td>\n",
       "      <td>3473</td>\n",
       "      <td>2810</td>\n",
       "      <td>2785</td>\n",
       "    </tr>\n",
       "  </tbody>\n",
       "</table>\n",
       "</div>"
      ],
      "text/plain": [
       "        customerID InternetService OnlineSecurity OnlineBackup  \\\n",
       "count         5517            5517           5517         5517   \n",
       "unique        5517               2              2            2   \n",
       "top     5419-JKZNQ     Fiber optic             No           No   \n",
       "freq             1            3096           3498         3088   \n",
       "\n",
       "       DeviceProtection TechSupport StreamingTV StreamingMovies  \n",
       "count              5517        5517        5517            5517  \n",
       "unique                2           2           2               2  \n",
       "top                  No          No          No              No  \n",
       "freq               3095        3473        2810            2785  "
      ]
     },
     "metadata": {},
     "output_type": "display_data"
    }
   ],
   "source": [
    "get_data_info(df.internet) "
   ]
  },
  {
   "cell_type": "code",
   "execution_count": 9,
   "id": "4c8322b0",
   "metadata": {},
   "outputs": [
    {
     "data": {
      "text/html": [
       "<div>\n",
       "<style scoped>\n",
       "    .dataframe tbody tr th:only-of-type {\n",
       "        vertical-align: middle;\n",
       "    }\n",
       "\n",
       "    .dataframe tbody tr th {\n",
       "        vertical-align: top;\n",
       "    }\n",
       "\n",
       "    .dataframe thead th {\n",
       "        text-align: right;\n",
       "    }\n",
       "</style>\n",
       "<table border=\"1\" class=\"dataframe\">\n",
       "  <thead>\n",
       "    <tr style=\"text-align: right;\">\n",
       "      <th></th>\n",
       "      <th>customerID</th>\n",
       "      <th>MultipleLines</th>\n",
       "    </tr>\n",
       "  </thead>\n",
       "  <tbody>\n",
       "    <tr>\n",
       "      <th>2034</th>\n",
       "      <td>8182-BJDSI</td>\n",
       "      <td>Yes</td>\n",
       "    </tr>\n",
       "    <tr>\n",
       "      <th>4549</th>\n",
       "      <td>9367-TCUYN</td>\n",
       "      <td>No</td>\n",
       "    </tr>\n",
       "    <tr>\n",
       "      <th>2063</th>\n",
       "      <td>4957-TIALW</td>\n",
       "      <td>No</td>\n",
       "    </tr>\n",
       "    <tr>\n",
       "      <th>5302</th>\n",
       "      <td>2971-SGAFL</td>\n",
       "      <td>Yes</td>\n",
       "    </tr>\n",
       "    <tr>\n",
       "      <th>3752</th>\n",
       "      <td>3005-TYFRD</td>\n",
       "      <td>Yes</td>\n",
       "    </tr>\n",
       "  </tbody>\n",
       "</table>\n",
       "</div>"
      ],
      "text/plain": [
       "      customerID MultipleLines\n",
       "2034  8182-BJDSI           Yes\n",
       "4549  9367-TCUYN            No\n",
       "2063  4957-TIALW            No\n",
       "5302  2971-SGAFL           Yes\n",
       "3752  3005-TYFRD           Yes"
      ]
     },
     "metadata": {},
     "output_type": "display_data"
    },
    {
     "name": "stdout",
     "output_type": "stream",
     "text": [
      "<class 'pandas.core.frame.DataFrame'>\n",
      "RangeIndex: 6361 entries, 0 to 6360\n",
      "Data columns (total 2 columns):\n",
      " #   Column         Non-Null Count  Dtype \n",
      "---  ------         --------------  ----- \n",
      " 0   customerID     6361 non-null   object\n",
      " 1   MultipleLines  6361 non-null   object\n",
      "dtypes: object(2)\n",
      "memory usage: 99.5+ KB\n"
     ]
    },
    {
     "data": {
      "text/plain": [
       "None"
      ]
     },
     "metadata": {},
     "output_type": "display_data"
    },
    {
     "data": {
      "text/html": [
       "<div>\n",
       "<style scoped>\n",
       "    .dataframe tbody tr th:only-of-type {\n",
       "        vertical-align: middle;\n",
       "    }\n",
       "\n",
       "    .dataframe tbody tr th {\n",
       "        vertical-align: top;\n",
       "    }\n",
       "\n",
       "    .dataframe thead th {\n",
       "        text-align: right;\n",
       "    }\n",
       "</style>\n",
       "<table border=\"1\" class=\"dataframe\">\n",
       "  <thead>\n",
       "    <tr style=\"text-align: right;\">\n",
       "      <th></th>\n",
       "      <th>customerID</th>\n",
       "      <th>MultipleLines</th>\n",
       "    </tr>\n",
       "  </thead>\n",
       "  <tbody>\n",
       "    <tr>\n",
       "      <th>count</th>\n",
       "      <td>6361</td>\n",
       "      <td>6361</td>\n",
       "    </tr>\n",
       "    <tr>\n",
       "      <th>unique</th>\n",
       "      <td>6361</td>\n",
       "      <td>2</td>\n",
       "    </tr>\n",
       "    <tr>\n",
       "      <th>top</th>\n",
       "      <td>2669-QVCRG</td>\n",
       "      <td>No</td>\n",
       "    </tr>\n",
       "    <tr>\n",
       "      <th>freq</th>\n",
       "      <td>1</td>\n",
       "      <td>3390</td>\n",
       "    </tr>\n",
       "  </tbody>\n",
       "</table>\n",
       "</div>"
      ],
      "text/plain": [
       "        customerID MultipleLines\n",
       "count         6361          6361\n",
       "unique        6361             2\n",
       "top     2669-QVCRG            No\n",
       "freq             1          3390"
      ]
     },
     "metadata": {},
     "output_type": "display_data"
    }
   ],
   "source": [
    "get_data_info(df.phone) "
   ]
  },
  {
   "cell_type": "markdown",
   "id": "f36fdcbe",
   "metadata": {},
   "source": [
    "Первые выводы по данным: **Файлов internet и phone** \n",
    "\n",
    "1) Пропусков в данных нет, однако данных меньше, чем в предыдущих таблицах. А это означает, что есть пользователи, которые не пользуются услугами интернетаи и телефона, и есть также пользователи, которые используют и то, и другое.\n",
    "\n",
    "2) Тип данных менять не нужно\n",
    "\n",
    "Информация по столбцам:   \n",
    "* `customerID` - индивидуальный номер пользователя (есть во всех таблицах)\n",
    "* `InternetService` - вид типа подключения: через телефонную линию (DSL*,* от англ. *digital subscriber line*, «цифровая абонентская линия») или оптоволоконный кабель (*Fiber optic*)\n",
    "* `OnlineSecurity` - наличие услуги \"блокировка небезопасных сайтов\"\n",
    "* `OnlineBackup`наличие услуги \"Облачное хранилище файлов для резервного копирования данных\"\n",
    "* `DeviceProtection` - наличие услуги \"антивирус\"\n",
    "* `TechSupport` - наличие услуги \"выделенной линии технической поддержки\"\n",
    "* `StreamingTV` - наличие услуги \"Стриминговое телевидение\"\n",
    "* `StreamingMovies` - наличие услуги \"каталог фильмов для стримингово телевидения\"\n",
    "* `MultipleLines` - наличие возможности ведения параллельных линий во время звонка\n",
    "\n",
    "\n",
    "А также стоит отметить, что среди `customerID` во всех таблицах дубликатов нет. Это означает, что дубликаты устранять не нужно."
   ]
  },
  {
   "cell_type": "code",
   "execution_count": 10,
   "id": "26bf4b0e",
   "metadata": {},
   "outputs": [
    {
     "name": "stdout",
     "output_type": "stream",
     "text": [
      "Общее количество пользователей в исследовании 7043 или 100%\n",
      "Количество пользователей, которые пользуются интернетом 5517 или 78%\n",
      "Количество пользователей, которые пользуются услугами телефонии 6361 или 90%\n",
      "Количество пользователей, которые используют обе услуги 4835 или 69%\n"
     ]
    }
   ],
   "source": [
    "all_count = df.contract['customerID'].count()\n",
    "print('Общее количество пользователей в исследовании {} или 100%'.format(all_count))\n",
    "print('Количество пользователей, которые пользуются интернетом {0} или {1}%'.format(\n",
    "    df.internet['customerID'].count(), \n",
    "    round(df.internet['customerID'].count()/all_count*100)))\n",
    "print('Количество пользователей, которые пользуются услугами телефонии {0} или {1}%'.format(\n",
    "    df.phone['customerID'].count(), \n",
    "    round(df.phone['customerID'].count()/all_count*100)))\n",
    "print('Количество пользователей, которые используют обе услуги {} или {}%'.format(\n",
    "    df.phone['customerID'].count() + df.internet['customerID'].count() - all_count, \n",
    "    round((df.phone['customerID'].count() + df.internet['customerID'].count() - all_count)/all_count*100)))"
   ]
  },
  {
   "cell_type": "markdown",
   "id": "da4f4c61",
   "metadata": {},
   "source": [
    "Изменим **типы данных**, где это было необходимо. А также изменим типы `int64` и `float64` на более меньшие разрядности для более быстрой работы кода. Однако, перед этим ещё добавим в первую таблицу дополнительный столбец `client_leave`, где 1 - будет, что клиент ушёл, а 0 - является клиентом."
   ]
  },
  {
   "cell_type": "markdown",
   "id": "fd1b9135",
   "metadata": {},
   "source": [
    "Однако, в столбце `TotalCharges` файла `contract` сразу изменить тип не получится, так как там есть пропуски. Ранее их не заметили, так как они все были заполнены пробелами.\n",
    "\n",
    "Ниже можно увидеть вывод строк, где в столбце отсутствуют значения. Если обобщить все эти строки, то можно сказать, что данные клиенты только появились 1 февраля 2020 года, в день выгрузки данных. И на данный момент они ещё не оплачивали свои услуги. Поэтому данные пропуски будет корректно заполнять нулями."
   ]
  },
  {
   "cell_type": "code",
   "execution_count": 11,
   "id": "131d75fe",
   "metadata": {},
   "outputs": [],
   "source": [
    "# Добавление нового столбца client_leave\n",
    "df.contract['client_leave'] = 1\n",
    "df.contract['client_leave'][df.contract['EndDate'] == 'No'] = 0\n",
    "        \n",
    "# заменим все значения в столбце EndDate: с \"No\" на дату выгрузки таблиц - 1 февраля 2020г\n",
    "df.contract['EndDate'][df.contract['EndDate'] == 'No'] = '2020-02-01 00:00:00'\n",
    "\n",
    "# заменим тип данных на время\n",
    "df.contract['BeginDate'] = pd.to_datetime(df.contract['BeginDate'], format='%Y-%m-%d')\n",
    "df.contract['EndDate'] = pd.to_datetime(df.contract['EndDate'], format='%Y-%m-%d')\n",
    "\n",
    "# посчитаем сколько месяцев клиент пользуется услугами оператора связи\n",
    "df.contract['days'] = df.contract['EndDate'] - df.contract['BeginDate']"
   ]
  },
  {
   "cell_type": "code",
   "execution_count": 12,
   "id": "1ae264ea",
   "metadata": {},
   "outputs": [
    {
     "data": {
      "text/html": [
       "<div>\n",
       "<style scoped>\n",
       "    .dataframe tbody tr th:only-of-type {\n",
       "        vertical-align: middle;\n",
       "    }\n",
       "\n",
       "    .dataframe tbody tr th {\n",
       "        vertical-align: top;\n",
       "    }\n",
       "\n",
       "    .dataframe thead th {\n",
       "        text-align: right;\n",
       "    }\n",
       "</style>\n",
       "<table border=\"1\" class=\"dataframe\">\n",
       "  <thead>\n",
       "    <tr style=\"text-align: right;\">\n",
       "      <th></th>\n",
       "      <th>customerID</th>\n",
       "      <th>BeginDate</th>\n",
       "      <th>EndDate</th>\n",
       "      <th>Type</th>\n",
       "      <th>PaperlessBilling</th>\n",
       "      <th>PaymentMethod</th>\n",
       "      <th>MonthlyCharges</th>\n",
       "      <th>TotalCharges</th>\n",
       "      <th>client_leave</th>\n",
       "      <th>days</th>\n",
       "    </tr>\n",
       "  </thead>\n",
       "  <tbody>\n",
       "    <tr>\n",
       "      <th>488</th>\n",
       "      <td>4472-LVYGI</td>\n",
       "      <td>2020-02-01</td>\n",
       "      <td>2020-02-01</td>\n",
       "      <td>Two year</td>\n",
       "      <td>Yes</td>\n",
       "      <td>Bank transfer (automatic)</td>\n",
       "      <td>52.55</td>\n",
       "      <td></td>\n",
       "      <td>0</td>\n",
       "      <td>0 days</td>\n",
       "    </tr>\n",
       "    <tr>\n",
       "      <th>753</th>\n",
       "      <td>3115-CZMZD</td>\n",
       "      <td>2020-02-01</td>\n",
       "      <td>2020-02-01</td>\n",
       "      <td>Two year</td>\n",
       "      <td>No</td>\n",
       "      <td>Mailed check</td>\n",
       "      <td>20.25</td>\n",
       "      <td></td>\n",
       "      <td>0</td>\n",
       "      <td>0 days</td>\n",
       "    </tr>\n",
       "    <tr>\n",
       "      <th>936</th>\n",
       "      <td>5709-LVOEQ</td>\n",
       "      <td>2020-02-01</td>\n",
       "      <td>2020-02-01</td>\n",
       "      <td>Two year</td>\n",
       "      <td>No</td>\n",
       "      <td>Mailed check</td>\n",
       "      <td>80.85</td>\n",
       "      <td></td>\n",
       "      <td>0</td>\n",
       "      <td>0 days</td>\n",
       "    </tr>\n",
       "    <tr>\n",
       "      <th>1082</th>\n",
       "      <td>4367-NUYAO</td>\n",
       "      <td>2020-02-01</td>\n",
       "      <td>2020-02-01</td>\n",
       "      <td>Two year</td>\n",
       "      <td>No</td>\n",
       "      <td>Mailed check</td>\n",
       "      <td>25.75</td>\n",
       "      <td></td>\n",
       "      <td>0</td>\n",
       "      <td>0 days</td>\n",
       "    </tr>\n",
       "    <tr>\n",
       "      <th>1340</th>\n",
       "      <td>1371-DWPAZ</td>\n",
       "      <td>2020-02-01</td>\n",
       "      <td>2020-02-01</td>\n",
       "      <td>Two year</td>\n",
       "      <td>No</td>\n",
       "      <td>Credit card (automatic)</td>\n",
       "      <td>56.05</td>\n",
       "      <td></td>\n",
       "      <td>0</td>\n",
       "      <td>0 days</td>\n",
       "    </tr>\n",
       "    <tr>\n",
       "      <th>3331</th>\n",
       "      <td>7644-OMVMY</td>\n",
       "      <td>2020-02-01</td>\n",
       "      <td>2020-02-01</td>\n",
       "      <td>Two year</td>\n",
       "      <td>No</td>\n",
       "      <td>Mailed check</td>\n",
       "      <td>19.85</td>\n",
       "      <td></td>\n",
       "      <td>0</td>\n",
       "      <td>0 days</td>\n",
       "    </tr>\n",
       "    <tr>\n",
       "      <th>3826</th>\n",
       "      <td>3213-VVOLG</td>\n",
       "      <td>2020-02-01</td>\n",
       "      <td>2020-02-01</td>\n",
       "      <td>Two year</td>\n",
       "      <td>No</td>\n",
       "      <td>Mailed check</td>\n",
       "      <td>25.35</td>\n",
       "      <td></td>\n",
       "      <td>0</td>\n",
       "      <td>0 days</td>\n",
       "    </tr>\n",
       "    <tr>\n",
       "      <th>4380</th>\n",
       "      <td>2520-SGTTA</td>\n",
       "      <td>2020-02-01</td>\n",
       "      <td>2020-02-01</td>\n",
       "      <td>Two year</td>\n",
       "      <td>No</td>\n",
       "      <td>Mailed check</td>\n",
       "      <td>20.00</td>\n",
       "      <td></td>\n",
       "      <td>0</td>\n",
       "      <td>0 days</td>\n",
       "    </tr>\n",
       "    <tr>\n",
       "      <th>5218</th>\n",
       "      <td>2923-ARZLG</td>\n",
       "      <td>2020-02-01</td>\n",
       "      <td>2020-02-01</td>\n",
       "      <td>One year</td>\n",
       "      <td>Yes</td>\n",
       "      <td>Mailed check</td>\n",
       "      <td>19.70</td>\n",
       "      <td></td>\n",
       "      <td>0</td>\n",
       "      <td>0 days</td>\n",
       "    </tr>\n",
       "    <tr>\n",
       "      <th>6670</th>\n",
       "      <td>4075-WKNIU</td>\n",
       "      <td>2020-02-01</td>\n",
       "      <td>2020-02-01</td>\n",
       "      <td>Two year</td>\n",
       "      <td>No</td>\n",
       "      <td>Mailed check</td>\n",
       "      <td>73.35</td>\n",
       "      <td></td>\n",
       "      <td>0</td>\n",
       "      <td>0 days</td>\n",
       "    </tr>\n",
       "    <tr>\n",
       "      <th>6754</th>\n",
       "      <td>2775-SEFEE</td>\n",
       "      <td>2020-02-01</td>\n",
       "      <td>2020-02-01</td>\n",
       "      <td>Two year</td>\n",
       "      <td>Yes</td>\n",
       "      <td>Bank transfer (automatic)</td>\n",
       "      <td>61.90</td>\n",
       "      <td></td>\n",
       "      <td>0</td>\n",
       "      <td>0 days</td>\n",
       "    </tr>\n",
       "  </tbody>\n",
       "</table>\n",
       "</div>"
      ],
      "text/plain": [
       "      customerID  BeginDate    EndDate      Type PaperlessBilling  \\\n",
       "488   4472-LVYGI 2020-02-01 2020-02-01  Two year              Yes   \n",
       "753   3115-CZMZD 2020-02-01 2020-02-01  Two year               No   \n",
       "936   5709-LVOEQ 2020-02-01 2020-02-01  Two year               No   \n",
       "1082  4367-NUYAO 2020-02-01 2020-02-01  Two year               No   \n",
       "1340  1371-DWPAZ 2020-02-01 2020-02-01  Two year               No   \n",
       "3331  7644-OMVMY 2020-02-01 2020-02-01  Two year               No   \n",
       "3826  3213-VVOLG 2020-02-01 2020-02-01  Two year               No   \n",
       "4380  2520-SGTTA 2020-02-01 2020-02-01  Two year               No   \n",
       "5218  2923-ARZLG 2020-02-01 2020-02-01  One year              Yes   \n",
       "6670  4075-WKNIU 2020-02-01 2020-02-01  Two year               No   \n",
       "6754  2775-SEFEE 2020-02-01 2020-02-01  Two year              Yes   \n",
       "\n",
       "                  PaymentMethod  MonthlyCharges TotalCharges  client_leave  \\\n",
       "488   Bank transfer (automatic)           52.55                          0   \n",
       "753                Mailed check           20.25                          0   \n",
       "936                Mailed check           80.85                          0   \n",
       "1082               Mailed check           25.75                          0   \n",
       "1340    Credit card (automatic)           56.05                          0   \n",
       "3331               Mailed check           19.85                          0   \n",
       "3826               Mailed check           25.35                          0   \n",
       "4380               Mailed check           20.00                          0   \n",
       "5218               Mailed check           19.70                          0   \n",
       "6670               Mailed check           73.35                          0   \n",
       "6754  Bank transfer (automatic)           61.90                          0   \n",
       "\n",
       "       days  \n",
       "488  0 days  \n",
       "753  0 days  \n",
       "936  0 days  \n",
       "1082 0 days  \n",
       "1340 0 days  \n",
       "3331 0 days  \n",
       "3826 0 days  \n",
       "4380 0 days  \n",
       "5218 0 days  \n",
       "6670 0 days  \n",
       "6754 0 days  "
      ]
     },
     "execution_count": 12,
     "metadata": {},
     "output_type": "execute_result"
    }
   ],
   "source": [
    "df.contract[df.contract['TotalCharges'] == ' '].head(11)"
   ]
  },
  {
   "cell_type": "code",
   "execution_count": 13,
   "id": "1792e0b0",
   "metadata": {},
   "outputs": [],
   "source": [
    "# изменим значения '' в столбце TotalCharges на нули\n",
    "df.contract['TotalCharges'][df.contract['TotalCharges'] == ' '] = '0'\n",
    "\n",
    "# функция для изменения типа на int8\n",
    "def type_int8(data):\n",
    "    return data.astype('int8')\n",
    "    \n",
    "# функция для изменения типа на float16\n",
    "def type_float16(data):\n",
    "    return data.astype('float16')     "
   ]
  },
  {
   "cell_type": "code",
   "execution_count": 14,
   "id": "f011ef0f",
   "metadata": {},
   "outputs": [
    {
     "name": "stdout",
     "output_type": "stream",
     "text": [
      "<class 'pandas.core.frame.DataFrame'>\n",
      "RangeIndex: 7043 entries, 0 to 7042\n",
      "Data columns (total 10 columns):\n",
      " #   Column            Non-Null Count  Dtype          \n",
      "---  ------            --------------  -----          \n",
      " 0   customerID        7043 non-null   object         \n",
      " 1   BeginDate         7043 non-null   datetime64[ns] \n",
      " 2   EndDate           7043 non-null   datetime64[ns] \n",
      " 3   Type              7043 non-null   object         \n",
      " 4   PaperlessBilling  7043 non-null   object         \n",
      " 5   PaymentMethod     7043 non-null   object         \n",
      " 6   MonthlyCharges    7043 non-null   float64        \n",
      " 7   TotalCharges      7043 non-null   object         \n",
      " 8   client_leave      7043 non-null   int64          \n",
      " 9   days              7043 non-null   timedelta64[ns]\n",
      "dtypes: datetime64[ns](2), float64(1), int64(1), object(5), timedelta64[ns](1)\n",
      "memory usage: 550.4+ KB\n"
     ]
    }
   ],
   "source": [
    "df.contract.info()"
   ]
  },
  {
   "cell_type": "code",
   "execution_count": 15,
   "id": "7d2f2191",
   "metadata": {},
   "outputs": [],
   "source": [
    "# применение функций\n",
    "df.contract['MonthlyCharges'] = type_float16(df.contract['MonthlyCharges'])\n",
    "df.contract['TotalCharges'] = type_float16(df.contract['TotalCharges']) \n",
    "df.contract['client_leave'] = type_int8(df.contract['client_leave'])\n",
    "df.contract['days'] = df.contract['days'].dt.days.astype('int')\n",
    "\n",
    "df.personal['SeniorCitizen'] = df.personal['SeniorCitizen'].astype('object')"
   ]
  },
  {
   "cell_type": "markdown",
   "id": "079d2be5",
   "metadata": {},
   "source": [
    "В дальнейшем первые три столбца не планирую использовать для обучения модели, поэтому их в дальнейшем планирую удалить при объединении всех данных."
   ]
  },
  {
   "cell_type": "code",
   "execution_count": 16,
   "id": "41bd856c",
   "metadata": {},
   "outputs": [
    {
     "data": {
      "text/html": [
       "<div>\n",
       "<style scoped>\n",
       "    .dataframe tbody tr th:only-of-type {\n",
       "        vertical-align: middle;\n",
       "    }\n",
       "\n",
       "    .dataframe tbody tr th {\n",
       "        vertical-align: top;\n",
       "    }\n",
       "\n",
       "    .dataframe thead th {\n",
       "        text-align: right;\n",
       "    }\n",
       "</style>\n",
       "<table border=\"1\" class=\"dataframe\">\n",
       "  <thead>\n",
       "    <tr style=\"text-align: right;\">\n",
       "      <th></th>\n",
       "      <th>customerID</th>\n",
       "      <th>BeginDate</th>\n",
       "      <th>EndDate</th>\n",
       "      <th>Type</th>\n",
       "      <th>PaperlessBilling</th>\n",
       "      <th>PaymentMethod</th>\n",
       "      <th>MonthlyCharges</th>\n",
       "      <th>TotalCharges</th>\n",
       "      <th>client_leave</th>\n",
       "      <th>days</th>\n",
       "    </tr>\n",
       "  </thead>\n",
       "  <tbody>\n",
       "    <tr>\n",
       "      <th>0</th>\n",
       "      <td>7590-VHVEG</td>\n",
       "      <td>2020-01-01</td>\n",
       "      <td>2020-02-01</td>\n",
       "      <td>Month-to-month</td>\n",
       "      <td>Yes</td>\n",
       "      <td>Electronic check</td>\n",
       "      <td>29.84375</td>\n",
       "      <td>29.84375</td>\n",
       "      <td>0</td>\n",
       "      <td>31</td>\n",
       "    </tr>\n",
       "    <tr>\n",
       "      <th>1</th>\n",
       "      <td>5575-GNVDE</td>\n",
       "      <td>2017-04-01</td>\n",
       "      <td>2020-02-01</td>\n",
       "      <td>One year</td>\n",
       "      <td>No</td>\n",
       "      <td>Mailed check</td>\n",
       "      <td>56.93750</td>\n",
       "      <td>1890.00000</td>\n",
       "      <td>0</td>\n",
       "      <td>1036</td>\n",
       "    </tr>\n",
       "    <tr>\n",
       "      <th>2</th>\n",
       "      <td>3668-QPYBK</td>\n",
       "      <td>2019-10-01</td>\n",
       "      <td>2019-12-01</td>\n",
       "      <td>Month-to-month</td>\n",
       "      <td>Yes</td>\n",
       "      <td>Mailed check</td>\n",
       "      <td>53.84375</td>\n",
       "      <td>108.12500</td>\n",
       "      <td>1</td>\n",
       "      <td>61</td>\n",
       "    </tr>\n",
       "    <tr>\n",
       "      <th>3</th>\n",
       "      <td>7795-CFOCW</td>\n",
       "      <td>2016-05-01</td>\n",
       "      <td>2020-02-01</td>\n",
       "      <td>One year</td>\n",
       "      <td>No</td>\n",
       "      <td>Bank transfer (automatic)</td>\n",
       "      <td>42.31250</td>\n",
       "      <td>1841.00000</td>\n",
       "      <td>0</td>\n",
       "      <td>1371</td>\n",
       "    </tr>\n",
       "    <tr>\n",
       "      <th>4</th>\n",
       "      <td>9237-HQITU</td>\n",
       "      <td>2019-09-01</td>\n",
       "      <td>2019-11-01</td>\n",
       "      <td>Month-to-month</td>\n",
       "      <td>Yes</td>\n",
       "      <td>Electronic check</td>\n",
       "      <td>70.68750</td>\n",
       "      <td>151.62500</td>\n",
       "      <td>1</td>\n",
       "      <td>61</td>\n",
       "    </tr>\n",
       "  </tbody>\n",
       "</table>\n",
       "</div>"
      ],
      "text/plain": [
       "   customerID  BeginDate    EndDate            Type PaperlessBilling  \\\n",
       "0  7590-VHVEG 2020-01-01 2020-02-01  Month-to-month              Yes   \n",
       "1  5575-GNVDE 2017-04-01 2020-02-01        One year               No   \n",
       "2  3668-QPYBK 2019-10-01 2019-12-01  Month-to-month              Yes   \n",
       "3  7795-CFOCW 2016-05-01 2020-02-01        One year               No   \n",
       "4  9237-HQITU 2019-09-01 2019-11-01  Month-to-month              Yes   \n",
       "\n",
       "               PaymentMethod  MonthlyCharges  TotalCharges  client_leave  days  \n",
       "0           Electronic check        29.84375      29.84375             0    31  \n",
       "1               Mailed check        56.93750    1890.00000             0  1036  \n",
       "2               Mailed check        53.84375     108.12500             1    61  \n",
       "3  Bank transfer (automatic)        42.31250    1841.00000             0  1371  \n",
       "4           Electronic check        70.68750     151.62500             1    61  "
      ]
     },
     "execution_count": 16,
     "metadata": {},
     "output_type": "execute_result"
    }
   ],
   "source": [
    "df.contract.head()"
   ]
  },
  {
   "cell_type": "code",
   "execution_count": 17,
   "id": "edfe7ada",
   "metadata": {},
   "outputs": [
    {
     "name": "stdout",
     "output_type": "stream",
     "text": [
      "<class 'pandas.core.frame.DataFrame'>\n",
      "RangeIndex: 7043 entries, 0 to 7042\n",
      "Data columns (total 10 columns):\n",
      " #   Column            Non-Null Count  Dtype         \n",
      "---  ------            --------------  -----         \n",
      " 0   customerID        7043 non-null   object        \n",
      " 1   BeginDate         7043 non-null   datetime64[ns]\n",
      " 2   EndDate           7043 non-null   datetime64[ns]\n",
      " 3   Type              7043 non-null   object        \n",
      " 4   PaperlessBilling  7043 non-null   object        \n",
      " 5   PaymentMethod     7043 non-null   object        \n",
      " 6   MonthlyCharges    7043 non-null   float16       \n",
      " 7   TotalCharges      7043 non-null   float16       \n",
      " 8   client_leave      7043 non-null   int8          \n",
      " 9   days              7043 non-null   int64         \n",
      "dtypes: datetime64[ns](2), float16(2), int64(1), int8(1), object(4)\n",
      "memory usage: 419.7+ KB\n"
     ]
    }
   ],
   "source": [
    "df.contract.info()"
   ]
  },
  {
   "cell_type": "markdown",
   "id": "4bd2e638",
   "metadata": {},
   "source": [
    "Начнём с объединения данных в единную таблицу. И следующим шагом сразу устраним пропуски, так как объединили таблицы с разным количеством строк. Пропуски были из-за того, что пользователи просто не пользуются теми или иными услугами, поэтому просто заполним пропуски `No`."
   ]
  },
  {
   "cell_type": "code",
   "execution_count": 18,
   "id": "bdd799f4",
   "metadata": {},
   "outputs": [
    {
     "data": {
      "text/html": [
       "<div>\n",
       "<style scoped>\n",
       "    .dataframe tbody tr th:only-of-type {\n",
       "        vertical-align: middle;\n",
       "    }\n",
       "\n",
       "    .dataframe tbody tr th {\n",
       "        vertical-align: top;\n",
       "    }\n",
       "\n",
       "    .dataframe thead th {\n",
       "        text-align: right;\n",
       "    }\n",
       "</style>\n",
       "<table border=\"1\" class=\"dataframe\">\n",
       "  <thead>\n",
       "    <tr style=\"text-align: right;\">\n",
       "      <th></th>\n",
       "      <th>customerID</th>\n",
       "      <th>BeginDate</th>\n",
       "      <th>EndDate</th>\n",
       "      <th>Type</th>\n",
       "      <th>PaperlessBilling</th>\n",
       "      <th>PaymentMethod</th>\n",
       "      <th>MonthlyCharges</th>\n",
       "      <th>TotalCharges</th>\n",
       "      <th>client_leave</th>\n",
       "      <th>days</th>\n",
       "      <th>...</th>\n",
       "      <th>Partner</th>\n",
       "      <th>Dependents</th>\n",
       "      <th>InternetService</th>\n",
       "      <th>OnlineSecurity</th>\n",
       "      <th>OnlineBackup</th>\n",
       "      <th>DeviceProtection</th>\n",
       "      <th>TechSupport</th>\n",
       "      <th>StreamingTV</th>\n",
       "      <th>StreamingMovies</th>\n",
       "      <th>MultipleLines</th>\n",
       "    </tr>\n",
       "  </thead>\n",
       "  <tbody>\n",
       "    <tr>\n",
       "      <th>1144</th>\n",
       "      <td>0841-NULXI</td>\n",
       "      <td>2019-10-01</td>\n",
       "      <td>2019-11-01</td>\n",
       "      <td>Month-to-month</td>\n",
       "      <td>Yes</td>\n",
       "      <td>Electronic check</td>\n",
       "      <td>35.562500</td>\n",
       "      <td>35.562500</td>\n",
       "      <td>1</td>\n",
       "      <td>31</td>\n",
       "      <td>...</td>\n",
       "      <td>No</td>\n",
       "      <td>No</td>\n",
       "      <td>DSL</td>\n",
       "      <td>No</td>\n",
       "      <td>No</td>\n",
       "      <td>No</td>\n",
       "      <td>No</td>\n",
       "      <td>No</td>\n",
       "      <td>Yes</td>\n",
       "      <td>NaN</td>\n",
       "    </tr>\n",
       "    <tr>\n",
       "      <th>3256</th>\n",
       "      <td>7711-YIJWC</td>\n",
       "      <td>2015-01-01</td>\n",
       "      <td>2020-02-01</td>\n",
       "      <td>One year</td>\n",
       "      <td>No</td>\n",
       "      <td>Bank transfer (automatic)</td>\n",
       "      <td>84.875000</td>\n",
       "      <td>5264.000000</td>\n",
       "      <td>0</td>\n",
       "      <td>1857</td>\n",
       "      <td>...</td>\n",
       "      <td>Yes</td>\n",
       "      <td>Yes</td>\n",
       "      <td>DSL</td>\n",
       "      <td>Yes</td>\n",
       "      <td>Yes</td>\n",
       "      <td>Yes</td>\n",
       "      <td>Yes</td>\n",
       "      <td>Yes</td>\n",
       "      <td>Yes</td>\n",
       "      <td>No</td>\n",
       "    </tr>\n",
       "    <tr>\n",
       "      <th>1252</th>\n",
       "      <td>7617-EYGLW</td>\n",
       "      <td>2020-01-01</td>\n",
       "      <td>2020-02-01</td>\n",
       "      <td>Month-to-month</td>\n",
       "      <td>No</td>\n",
       "      <td>Electronic check</td>\n",
       "      <td>19.453125</td>\n",
       "      <td>19.453125</td>\n",
       "      <td>0</td>\n",
       "      <td>31</td>\n",
       "      <td>...</td>\n",
       "      <td>No</td>\n",
       "      <td>No</td>\n",
       "      <td>NaN</td>\n",
       "      <td>NaN</td>\n",
       "      <td>NaN</td>\n",
       "      <td>NaN</td>\n",
       "      <td>NaN</td>\n",
       "      <td>NaN</td>\n",
       "      <td>NaN</td>\n",
       "      <td>No</td>\n",
       "    </tr>\n",
       "    <tr>\n",
       "      <th>3083</th>\n",
       "      <td>1599-EAHXY</td>\n",
       "      <td>2015-02-01</td>\n",
       "      <td>2020-02-01</td>\n",
       "      <td>One year</td>\n",
       "      <td>No</td>\n",
       "      <td>Credit card (automatic)</td>\n",
       "      <td>23.953125</td>\n",
       "      <td>1506.000000</td>\n",
       "      <td>0</td>\n",
       "      <td>1826</td>\n",
       "      <td>...</td>\n",
       "      <td>Yes</td>\n",
       "      <td>Yes</td>\n",
       "      <td>NaN</td>\n",
       "      <td>NaN</td>\n",
       "      <td>NaN</td>\n",
       "      <td>NaN</td>\n",
       "      <td>NaN</td>\n",
       "      <td>NaN</td>\n",
       "      <td>NaN</td>\n",
       "      <td>Yes</td>\n",
       "    </tr>\n",
       "    <tr>\n",
       "      <th>3727</th>\n",
       "      <td>9057-SIHCH</td>\n",
       "      <td>2019-07-01</td>\n",
       "      <td>2019-10-01</td>\n",
       "      <td>Month-to-month</td>\n",
       "      <td>Yes</td>\n",
       "      <td>Electronic check</td>\n",
       "      <td>96.625000</td>\n",
       "      <td>292.000000</td>\n",
       "      <td>1</td>\n",
       "      <td>92</td>\n",
       "      <td>...</td>\n",
       "      <td>No</td>\n",
       "      <td>No</td>\n",
       "      <td>Fiber optic</td>\n",
       "      <td>No</td>\n",
       "      <td>No</td>\n",
       "      <td>No</td>\n",
       "      <td>No</td>\n",
       "      <td>Yes</td>\n",
       "      <td>Yes</td>\n",
       "      <td>Yes</td>\n",
       "    </tr>\n",
       "  </tbody>\n",
       "</table>\n",
       "<p>5 rows × 22 columns</p>\n",
       "</div>"
      ],
      "text/plain": [
       "      customerID  BeginDate    EndDate            Type PaperlessBilling  \\\n",
       "1144  0841-NULXI 2019-10-01 2019-11-01  Month-to-month              Yes   \n",
       "3256  7711-YIJWC 2015-01-01 2020-02-01        One year               No   \n",
       "1252  7617-EYGLW 2020-01-01 2020-02-01  Month-to-month               No   \n",
       "3083  1599-EAHXY 2015-02-01 2020-02-01        One year               No   \n",
       "3727  9057-SIHCH 2019-07-01 2019-10-01  Month-to-month              Yes   \n",
       "\n",
       "                  PaymentMethod  MonthlyCharges  TotalCharges  client_leave  \\\n",
       "1144           Electronic check       35.562500     35.562500             1   \n",
       "3256  Bank transfer (automatic)       84.875000   5264.000000             0   \n",
       "1252           Electronic check       19.453125     19.453125             0   \n",
       "3083    Credit card (automatic)       23.953125   1506.000000             0   \n",
       "3727           Electronic check       96.625000    292.000000             1   \n",
       "\n",
       "      days  ... Partner Dependents InternetService OnlineSecurity  \\\n",
       "1144    31  ...      No         No             DSL             No   \n",
       "3256  1857  ...     Yes        Yes             DSL            Yes   \n",
       "1252    31  ...      No         No             NaN            NaN   \n",
       "3083  1826  ...     Yes        Yes             NaN            NaN   \n",
       "3727    92  ...      No         No     Fiber optic             No   \n",
       "\n",
       "     OnlineBackup DeviceProtection TechSupport StreamingTV StreamingMovies  \\\n",
       "1144           No               No          No          No             Yes   \n",
       "3256          Yes              Yes         Yes         Yes             Yes   \n",
       "1252          NaN              NaN         NaN         NaN             NaN   \n",
       "3083          NaN              NaN         NaN         NaN             NaN   \n",
       "3727           No               No          No         Yes             Yes   \n",
       "\n",
       "     MultipleLines  \n",
       "1144           NaN  \n",
       "3256            No  \n",
       "1252            No  \n",
       "3083           Yes  \n",
       "3727           Yes  \n",
       "\n",
       "[5 rows x 22 columns]"
      ]
     },
     "metadata": {},
     "output_type": "display_data"
    },
    {
     "name": "stdout",
     "output_type": "stream",
     "text": [
      "<class 'pandas.core.frame.DataFrame'>\n",
      "Int64Index: 7043 entries, 0 to 7042\n",
      "Data columns (total 22 columns):\n",
      " #   Column            Non-Null Count  Dtype         \n",
      "---  ------            --------------  -----         \n",
      " 0   customerID        7043 non-null   object        \n",
      " 1   BeginDate         7043 non-null   datetime64[ns]\n",
      " 2   EndDate           7043 non-null   datetime64[ns]\n",
      " 3   Type              7043 non-null   object        \n",
      " 4   PaperlessBilling  7043 non-null   object        \n",
      " 5   PaymentMethod     7043 non-null   object        \n",
      " 6   MonthlyCharges    7043 non-null   float16       \n",
      " 7   TotalCharges      7043 non-null   float16       \n",
      " 8   client_leave      7043 non-null   int8          \n",
      " 9   days              7043 non-null   int64         \n",
      " 10  gender            7043 non-null   object        \n",
      " 11  SeniorCitizen     7043 non-null   object        \n",
      " 12  Partner           7043 non-null   object        \n",
      " 13  Dependents        7043 non-null   object        \n",
      " 14  InternetService   5517 non-null   object        \n",
      " 15  OnlineSecurity    5517 non-null   object        \n",
      " 16  OnlineBackup      5517 non-null   object        \n",
      " 17  DeviceProtection  5517 non-null   object        \n",
      " 18  TechSupport       5517 non-null   object        \n",
      " 19  StreamingTV       5517 non-null   object        \n",
      " 20  StreamingMovies   5517 non-null   object        \n",
      " 21  MultipleLines     6361 non-null   object        \n",
      "dtypes: datetime64[ns](2), float16(2), int64(1), int8(1), object(16)\n",
      "memory usage: 1.1+ MB\n"
     ]
    },
    {
     "data": {
      "text/plain": [
       "None"
      ]
     },
     "metadata": {},
     "output_type": "display_data"
    },
    {
     "data": {
      "text/html": [
       "<div>\n",
       "<style scoped>\n",
       "    .dataframe tbody tr th:only-of-type {\n",
       "        vertical-align: middle;\n",
       "    }\n",
       "\n",
       "    .dataframe tbody tr th {\n",
       "        vertical-align: top;\n",
       "    }\n",
       "\n",
       "    .dataframe thead th {\n",
       "        text-align: right;\n",
       "    }\n",
       "</style>\n",
       "<table border=\"1\" class=\"dataframe\">\n",
       "  <thead>\n",
       "    <tr style=\"text-align: right;\">\n",
       "      <th></th>\n",
       "      <th>customerID</th>\n",
       "      <th>BeginDate</th>\n",
       "      <th>EndDate</th>\n",
       "      <th>Type</th>\n",
       "      <th>PaperlessBilling</th>\n",
       "      <th>PaymentMethod</th>\n",
       "      <th>MonthlyCharges</th>\n",
       "      <th>TotalCharges</th>\n",
       "      <th>client_leave</th>\n",
       "      <th>days</th>\n",
       "      <th>...</th>\n",
       "      <th>Partner</th>\n",
       "      <th>Dependents</th>\n",
       "      <th>InternetService</th>\n",
       "      <th>OnlineSecurity</th>\n",
       "      <th>OnlineBackup</th>\n",
       "      <th>DeviceProtection</th>\n",
       "      <th>TechSupport</th>\n",
       "      <th>StreamingTV</th>\n",
       "      <th>StreamingMovies</th>\n",
       "      <th>MultipleLines</th>\n",
       "    </tr>\n",
       "  </thead>\n",
       "  <tbody>\n",
       "    <tr>\n",
       "      <th>count</th>\n",
       "      <td>7043</td>\n",
       "      <td>7043</td>\n",
       "      <td>7043</td>\n",
       "      <td>7043</td>\n",
       "      <td>7043</td>\n",
       "      <td>7043</td>\n",
       "      <td>7043.000000</td>\n",
       "      <td>7043.0</td>\n",
       "      <td>7043.000000</td>\n",
       "      <td>7043.000000</td>\n",
       "      <td>...</td>\n",
       "      <td>7043</td>\n",
       "      <td>7043</td>\n",
       "      <td>5517</td>\n",
       "      <td>5517</td>\n",
       "      <td>5517</td>\n",
       "      <td>5517</td>\n",
       "      <td>5517</td>\n",
       "      <td>5517</td>\n",
       "      <td>5517</td>\n",
       "      <td>6361</td>\n",
       "    </tr>\n",
       "    <tr>\n",
       "      <th>unique</th>\n",
       "      <td>7043</td>\n",
       "      <td>77</td>\n",
       "      <td>5</td>\n",
       "      <td>3</td>\n",
       "      <td>2</td>\n",
       "      <td>4</td>\n",
       "      <td>NaN</td>\n",
       "      <td>NaN</td>\n",
       "      <td>NaN</td>\n",
       "      <td>NaN</td>\n",
       "      <td>...</td>\n",
       "      <td>2</td>\n",
       "      <td>2</td>\n",
       "      <td>2</td>\n",
       "      <td>2</td>\n",
       "      <td>2</td>\n",
       "      <td>2</td>\n",
       "      <td>2</td>\n",
       "      <td>2</td>\n",
       "      <td>2</td>\n",
       "      <td>2</td>\n",
       "    </tr>\n",
       "    <tr>\n",
       "      <th>top</th>\n",
       "      <td>2669-QVCRG</td>\n",
       "      <td>2014-02-01 00:00:00</td>\n",
       "      <td>2020-02-01 00:00:00</td>\n",
       "      <td>Month-to-month</td>\n",
       "      <td>Yes</td>\n",
       "      <td>Electronic check</td>\n",
       "      <td>NaN</td>\n",
       "      <td>NaN</td>\n",
       "      <td>NaN</td>\n",
       "      <td>NaN</td>\n",
       "      <td>...</td>\n",
       "      <td>No</td>\n",
       "      <td>No</td>\n",
       "      <td>Fiber optic</td>\n",
       "      <td>No</td>\n",
       "      <td>No</td>\n",
       "      <td>No</td>\n",
       "      <td>No</td>\n",
       "      <td>No</td>\n",
       "      <td>No</td>\n",
       "      <td>No</td>\n",
       "    </tr>\n",
       "    <tr>\n",
       "      <th>freq</th>\n",
       "      <td>1</td>\n",
       "      <td>366</td>\n",
       "      <td>5174</td>\n",
       "      <td>3875</td>\n",
       "      <td>4171</td>\n",
       "      <td>2365</td>\n",
       "      <td>NaN</td>\n",
       "      <td>NaN</td>\n",
       "      <td>NaN</td>\n",
       "      <td>NaN</td>\n",
       "      <td>...</td>\n",
       "      <td>3641</td>\n",
       "      <td>4933</td>\n",
       "      <td>3096</td>\n",
       "      <td>3498</td>\n",
       "      <td>3088</td>\n",
       "      <td>3095</td>\n",
       "      <td>3473</td>\n",
       "      <td>2810</td>\n",
       "      <td>2785</td>\n",
       "      <td>3390</td>\n",
       "    </tr>\n",
       "    <tr>\n",
       "      <th>first</th>\n",
       "      <td>NaN</td>\n",
       "      <td>2013-10-01 00:00:00</td>\n",
       "      <td>2019-10-01 00:00:00</td>\n",
       "      <td>NaN</td>\n",
       "      <td>NaN</td>\n",
       "      <td>NaN</td>\n",
       "      <td>NaN</td>\n",
       "      <td>NaN</td>\n",
       "      <td>NaN</td>\n",
       "      <td>NaN</td>\n",
       "      <td>...</td>\n",
       "      <td>NaN</td>\n",
       "      <td>NaN</td>\n",
       "      <td>NaN</td>\n",
       "      <td>NaN</td>\n",
       "      <td>NaN</td>\n",
       "      <td>NaN</td>\n",
       "      <td>NaN</td>\n",
       "      <td>NaN</td>\n",
       "      <td>NaN</td>\n",
       "      <td>NaN</td>\n",
       "    </tr>\n",
       "    <tr>\n",
       "      <th>last</th>\n",
       "      <td>NaN</td>\n",
       "      <td>2020-02-01 00:00:00</td>\n",
       "      <td>2020-02-01 00:00:00</td>\n",
       "      <td>NaN</td>\n",
       "      <td>NaN</td>\n",
       "      <td>NaN</td>\n",
       "      <td>NaN</td>\n",
       "      <td>NaN</td>\n",
       "      <td>NaN</td>\n",
       "      <td>NaN</td>\n",
       "      <td>...</td>\n",
       "      <td>NaN</td>\n",
       "      <td>NaN</td>\n",
       "      <td>NaN</td>\n",
       "      <td>NaN</td>\n",
       "      <td>NaN</td>\n",
       "      <td>NaN</td>\n",
       "      <td>NaN</td>\n",
       "      <td>NaN</td>\n",
       "      <td>NaN</td>\n",
       "      <td>NaN</td>\n",
       "    </tr>\n",
       "    <tr>\n",
       "      <th>mean</th>\n",
       "      <td>NaN</td>\n",
       "      <td>NaN</td>\n",
       "      <td>NaN</td>\n",
       "      <td>NaN</td>\n",
       "      <td>NaN</td>\n",
       "      <td>NaN</td>\n",
       "      <td>inf</td>\n",
       "      <td>inf</td>\n",
       "      <td>0.265370</td>\n",
       "      <td>985.996166</td>\n",
       "      <td>...</td>\n",
       "      <td>NaN</td>\n",
       "      <td>NaN</td>\n",
       "      <td>NaN</td>\n",
       "      <td>NaN</td>\n",
       "      <td>NaN</td>\n",
       "      <td>NaN</td>\n",
       "      <td>NaN</td>\n",
       "      <td>NaN</td>\n",
       "      <td>NaN</td>\n",
       "      <td>NaN</td>\n",
       "    </tr>\n",
       "    <tr>\n",
       "      <th>std</th>\n",
       "      <td>NaN</td>\n",
       "      <td>NaN</td>\n",
       "      <td>NaN</td>\n",
       "      <td>NaN</td>\n",
       "      <td>NaN</td>\n",
       "      <td>NaN</td>\n",
       "      <td>30.078125</td>\n",
       "      <td>inf</td>\n",
       "      <td>0.441561</td>\n",
       "      <td>747.587844</td>\n",
       "      <td>...</td>\n",
       "      <td>NaN</td>\n",
       "      <td>NaN</td>\n",
       "      <td>NaN</td>\n",
       "      <td>NaN</td>\n",
       "      <td>NaN</td>\n",
       "      <td>NaN</td>\n",
       "      <td>NaN</td>\n",
       "      <td>NaN</td>\n",
       "      <td>NaN</td>\n",
       "      <td>NaN</td>\n",
       "    </tr>\n",
       "    <tr>\n",
       "      <th>min</th>\n",
       "      <td>NaN</td>\n",
       "      <td>NaN</td>\n",
       "      <td>NaN</td>\n",
       "      <td>NaN</td>\n",
       "      <td>NaN</td>\n",
       "      <td>NaN</td>\n",
       "      <td>18.250000</td>\n",
       "      <td>0.0</td>\n",
       "      <td>0.000000</td>\n",
       "      <td>0.000000</td>\n",
       "      <td>...</td>\n",
       "      <td>NaN</td>\n",
       "      <td>NaN</td>\n",
       "      <td>NaN</td>\n",
       "      <td>NaN</td>\n",
       "      <td>NaN</td>\n",
       "      <td>NaN</td>\n",
       "      <td>NaN</td>\n",
       "      <td>NaN</td>\n",
       "      <td>NaN</td>\n",
       "      <td>NaN</td>\n",
       "    </tr>\n",
       "    <tr>\n",
       "      <th>25%</th>\n",
       "      <td>NaN</td>\n",
       "      <td>NaN</td>\n",
       "      <td>NaN</td>\n",
       "      <td>NaN</td>\n",
       "      <td>NaN</td>\n",
       "      <td>NaN</td>\n",
       "      <td>35.500000</td>\n",
       "      <td>398.5</td>\n",
       "      <td>0.000000</td>\n",
       "      <td>273.000000</td>\n",
       "      <td>...</td>\n",
       "      <td>NaN</td>\n",
       "      <td>NaN</td>\n",
       "      <td>NaN</td>\n",
       "      <td>NaN</td>\n",
       "      <td>NaN</td>\n",
       "      <td>NaN</td>\n",
       "      <td>NaN</td>\n",
       "      <td>NaN</td>\n",
       "      <td>NaN</td>\n",
       "      <td>NaN</td>\n",
       "    </tr>\n",
       "    <tr>\n",
       "      <th>50%</th>\n",
       "      <td>NaN</td>\n",
       "      <td>NaN</td>\n",
       "      <td>NaN</td>\n",
       "      <td>NaN</td>\n",
       "      <td>NaN</td>\n",
       "      <td>NaN</td>\n",
       "      <td>70.375000</td>\n",
       "      <td>1395.0</td>\n",
       "      <td>0.000000</td>\n",
       "      <td>883.000000</td>\n",
       "      <td>...</td>\n",
       "      <td>NaN</td>\n",
       "      <td>NaN</td>\n",
       "      <td>NaN</td>\n",
       "      <td>NaN</td>\n",
       "      <td>NaN</td>\n",
       "      <td>NaN</td>\n",
       "      <td>NaN</td>\n",
       "      <td>NaN</td>\n",
       "      <td>NaN</td>\n",
       "      <td>NaN</td>\n",
       "    </tr>\n",
       "    <tr>\n",
       "      <th>75%</th>\n",
       "      <td>NaN</td>\n",
       "      <td>NaN</td>\n",
       "      <td>NaN</td>\n",
       "      <td>NaN</td>\n",
       "      <td>NaN</td>\n",
       "      <td>NaN</td>\n",
       "      <td>89.875000</td>\n",
       "      <td>3787.0</td>\n",
       "      <td>1.000000</td>\n",
       "      <td>1676.000000</td>\n",
       "      <td>...</td>\n",
       "      <td>NaN</td>\n",
       "      <td>NaN</td>\n",
       "      <td>NaN</td>\n",
       "      <td>NaN</td>\n",
       "      <td>NaN</td>\n",
       "      <td>NaN</td>\n",
       "      <td>NaN</td>\n",
       "      <td>NaN</td>\n",
       "      <td>NaN</td>\n",
       "      <td>NaN</td>\n",
       "    </tr>\n",
       "    <tr>\n",
       "      <th>max</th>\n",
       "      <td>NaN</td>\n",
       "      <td>NaN</td>\n",
       "      <td>NaN</td>\n",
       "      <td>NaN</td>\n",
       "      <td>NaN</td>\n",
       "      <td>NaN</td>\n",
       "      <td>118.750000</td>\n",
       "      <td>8688.0</td>\n",
       "      <td>1.000000</td>\n",
       "      <td>2191.000000</td>\n",
       "      <td>...</td>\n",
       "      <td>NaN</td>\n",
       "      <td>NaN</td>\n",
       "      <td>NaN</td>\n",
       "      <td>NaN</td>\n",
       "      <td>NaN</td>\n",
       "      <td>NaN</td>\n",
       "      <td>NaN</td>\n",
       "      <td>NaN</td>\n",
       "      <td>NaN</td>\n",
       "      <td>NaN</td>\n",
       "    </tr>\n",
       "  </tbody>\n",
       "</table>\n",
       "<p>13 rows × 22 columns</p>\n",
       "</div>"
      ],
      "text/plain": [
       "        customerID            BeginDate              EndDate            Type  \\\n",
       "count         7043                 7043                 7043            7043   \n",
       "unique        7043                   77                    5               3   \n",
       "top     2669-QVCRG  2014-02-01 00:00:00  2020-02-01 00:00:00  Month-to-month   \n",
       "freq             1                  366                 5174            3875   \n",
       "first          NaN  2013-10-01 00:00:00  2019-10-01 00:00:00             NaN   \n",
       "last           NaN  2020-02-01 00:00:00  2020-02-01 00:00:00             NaN   \n",
       "mean           NaN                  NaN                  NaN             NaN   \n",
       "std            NaN                  NaN                  NaN             NaN   \n",
       "min            NaN                  NaN                  NaN             NaN   \n",
       "25%            NaN                  NaN                  NaN             NaN   \n",
       "50%            NaN                  NaN                  NaN             NaN   \n",
       "75%            NaN                  NaN                  NaN             NaN   \n",
       "max            NaN                  NaN                  NaN             NaN   \n",
       "\n",
       "       PaperlessBilling     PaymentMethod  MonthlyCharges  TotalCharges  \\\n",
       "count              7043              7043     7043.000000        7043.0   \n",
       "unique                2                 4             NaN           NaN   \n",
       "top                 Yes  Electronic check             NaN           NaN   \n",
       "freq               4171              2365             NaN           NaN   \n",
       "first               NaN               NaN             NaN           NaN   \n",
       "last                NaN               NaN             NaN           NaN   \n",
       "mean                NaN               NaN             inf           inf   \n",
       "std                 NaN               NaN       30.078125           inf   \n",
       "min                 NaN               NaN       18.250000           0.0   \n",
       "25%                 NaN               NaN       35.500000         398.5   \n",
       "50%                 NaN               NaN       70.375000        1395.0   \n",
       "75%                 NaN               NaN       89.875000        3787.0   \n",
       "max                 NaN               NaN      118.750000        8688.0   \n",
       "\n",
       "        client_leave         days  ... Partner  Dependents InternetService  \\\n",
       "count    7043.000000  7043.000000  ...    7043        7043            5517   \n",
       "unique           NaN          NaN  ...       2           2               2   \n",
       "top              NaN          NaN  ...      No          No     Fiber optic   \n",
       "freq             NaN          NaN  ...    3641        4933            3096   \n",
       "first            NaN          NaN  ...     NaN         NaN             NaN   \n",
       "last             NaN          NaN  ...     NaN         NaN             NaN   \n",
       "mean        0.265370   985.996166  ...     NaN         NaN             NaN   \n",
       "std         0.441561   747.587844  ...     NaN         NaN             NaN   \n",
       "min         0.000000     0.000000  ...     NaN         NaN             NaN   \n",
       "25%         0.000000   273.000000  ...     NaN         NaN             NaN   \n",
       "50%         0.000000   883.000000  ...     NaN         NaN             NaN   \n",
       "75%         1.000000  1676.000000  ...     NaN         NaN             NaN   \n",
       "max         1.000000  2191.000000  ...     NaN         NaN             NaN   \n",
       "\n",
       "       OnlineSecurity OnlineBackup DeviceProtection TechSupport StreamingTV  \\\n",
       "count            5517         5517             5517        5517        5517   \n",
       "unique              2            2                2           2           2   \n",
       "top                No           No               No          No          No   \n",
       "freq             3498         3088             3095        3473        2810   \n",
       "first             NaN          NaN              NaN         NaN         NaN   \n",
       "last              NaN          NaN              NaN         NaN         NaN   \n",
       "mean              NaN          NaN              NaN         NaN         NaN   \n",
       "std               NaN          NaN              NaN         NaN         NaN   \n",
       "min               NaN          NaN              NaN         NaN         NaN   \n",
       "25%               NaN          NaN              NaN         NaN         NaN   \n",
       "50%               NaN          NaN              NaN         NaN         NaN   \n",
       "75%               NaN          NaN              NaN         NaN         NaN   \n",
       "max               NaN          NaN              NaN         NaN         NaN   \n",
       "\n",
       "       StreamingMovies MultipleLines  \n",
       "count             5517          6361  \n",
       "unique               2             2  \n",
       "top                 No            No  \n",
       "freq              2785          3390  \n",
       "first              NaN           NaN  \n",
       "last               NaN           NaN  \n",
       "mean               NaN           NaN  \n",
       "std                NaN           NaN  \n",
       "min                NaN           NaN  \n",
       "25%                NaN           NaN  \n",
       "50%                NaN           NaN  \n",
       "75%                NaN           NaN  \n",
       "max                NaN           NaN  \n",
       "\n",
       "[13 rows x 22 columns]"
      ]
     },
     "metadata": {},
     "output_type": "display_data"
    }
   ],
   "source": [
    "data = pd.merge(df.contract, df.personal, left_on='customerID', right_on='customerID', how='left')\n",
    "data = pd.merge(data, df.internet, left_on='customerID', right_on='customerID', how='left')\n",
    "data = pd.merge(data, df.phone, left_on='customerID', right_on='customerID', how='left')\n",
    "\n",
    "get_data_info(data)"
   ]
  },
  {
   "cell_type": "code",
   "execution_count": 19,
   "id": "0891c29a",
   "metadata": {},
   "outputs": [],
   "source": [
    "# устранение пропусков\n",
    "data = data.fillna('No')\n",
    "data['SeniorCitizen'] = data['SeniorCitizen'].astype('object')\n",
    "\n",
    "# удаление столбцов с данными времени\n",
    "data = data.drop(['customerID', 'BeginDate', 'EndDate'], axis=1)"
   ]
  },
  {
   "cell_type": "markdown",
   "id": "53a0da2c",
   "metadata": {},
   "source": [
    "После того, как данные объеденены, не имеет смысла оставлять часть столбцов. Например, можем сразу удалить данные, когда клиенты пришли или ушли из данной компании, а также их индивидуальный номер. Однако стоит отметить, что если бы сейчас стояла не только задача обучения модели, но и реального предсказания на новых данных, то индивидуальный номер стоило бы добавить, чтобы в последствии узнать, а кто именно из клиентов планирует уйти в скором времени, а кто остаться.\n",
    "\n",
    "\n",
    "После пробного обучения моделей оказалось, что часть признаков совершенно не оказались полезны для обучения модели. Поэтому преобразуем ещё немного данные, тем самым уменьшим количество столбцов, как результат.\n",
    "\n",
    "Сначала добавим новый столбец, который будет показывать количество используемых интернет услуг, то есть просуммируем количество `Yes` в столбцах `OnlineSecurity`, `OnlineBackup`, `DeviceProtection`, `TechSupport`, `StreamingTV`, `StreamingMovies`. А после этого удалим данные столбцы."
   ]
  },
  {
   "cell_type": "code",
   "execution_count": 20,
   "id": "c62e0a00",
   "metadata": {},
   "outputs": [
    {
     "data": {
      "text/html": [
       "<div>\n",
       "<style scoped>\n",
       "    .dataframe tbody tr th:only-of-type {\n",
       "        vertical-align: middle;\n",
       "    }\n",
       "\n",
       "    .dataframe tbody tr th {\n",
       "        vertical-align: top;\n",
       "    }\n",
       "\n",
       "    .dataframe thead th {\n",
       "        text-align: right;\n",
       "    }\n",
       "</style>\n",
       "<table border=\"1\" class=\"dataframe\">\n",
       "  <thead>\n",
       "    <tr style=\"text-align: right;\">\n",
       "      <th></th>\n",
       "      <th>Type</th>\n",
       "      <th>PaperlessBilling</th>\n",
       "      <th>PaymentMethod</th>\n",
       "      <th>MonthlyCharges</th>\n",
       "      <th>TotalCharges</th>\n",
       "      <th>client_leave</th>\n",
       "      <th>days</th>\n",
       "      <th>gender</th>\n",
       "      <th>SeniorCitizen</th>\n",
       "      <th>Partner</th>\n",
       "      <th>Dependents</th>\n",
       "      <th>InternetService</th>\n",
       "      <th>OnlineSecurity</th>\n",
       "      <th>OnlineBackup</th>\n",
       "      <th>DeviceProtection</th>\n",
       "      <th>TechSupport</th>\n",
       "      <th>StreamingTV</th>\n",
       "      <th>StreamingMovies</th>\n",
       "      <th>MultipleLines</th>\n",
       "    </tr>\n",
       "  </thead>\n",
       "  <tbody>\n",
       "    <tr>\n",
       "      <th>3224</th>\n",
       "      <td>Month-to-month</td>\n",
       "      <td>Yes</td>\n",
       "      <td>Electronic check</td>\n",
       "      <td>74.6250</td>\n",
       "      <td>521.000</td>\n",
       "      <td>1</td>\n",
       "      <td>214</td>\n",
       "      <td>Female</td>\n",
       "      <td>0</td>\n",
       "      <td>No</td>\n",
       "      <td>No</td>\n",
       "      <td>DSL</td>\n",
       "      <td>No</td>\n",
       "      <td>No</td>\n",
       "      <td>No</td>\n",
       "      <td>Yes</td>\n",
       "      <td>Yes</td>\n",
       "      <td>Yes</td>\n",
       "      <td>Yes</td>\n",
       "    </tr>\n",
       "    <tr>\n",
       "      <th>388</th>\n",
       "      <td>Month-to-month</td>\n",
       "      <td>Yes</td>\n",
       "      <td>Mailed check</td>\n",
       "      <td>90.3750</td>\n",
       "      <td>4064.000</td>\n",
       "      <td>0</td>\n",
       "      <td>1340</td>\n",
       "      <td>Male</td>\n",
       "      <td>0</td>\n",
       "      <td>No</td>\n",
       "      <td>No</td>\n",
       "      <td>Fiber optic</td>\n",
       "      <td>No</td>\n",
       "      <td>No</td>\n",
       "      <td>Yes</td>\n",
       "      <td>No</td>\n",
       "      <td>No</td>\n",
       "      <td>Yes</td>\n",
       "      <td>Yes</td>\n",
       "    </tr>\n",
       "    <tr>\n",
       "      <th>5249</th>\n",
       "      <td>Two year</td>\n",
       "      <td>No</td>\n",
       "      <td>Credit card (automatic)</td>\n",
       "      <td>67.1875</td>\n",
       "      <td>4672.000</td>\n",
       "      <td>0</td>\n",
       "      <td>2191</td>\n",
       "      <td>Male</td>\n",
       "      <td>0</td>\n",
       "      <td>No</td>\n",
       "      <td>Yes</td>\n",
       "      <td>DSL</td>\n",
       "      <td>Yes</td>\n",
       "      <td>Yes</td>\n",
       "      <td>Yes</td>\n",
       "      <td>Yes</td>\n",
       "      <td>Yes</td>\n",
       "      <td>Yes</td>\n",
       "      <td>No</td>\n",
       "    </tr>\n",
       "    <tr>\n",
       "      <th>1783</th>\n",
       "      <td>Month-to-month</td>\n",
       "      <td>Yes</td>\n",
       "      <td>Electronic check</td>\n",
       "      <td>71.6250</td>\n",
       "      <td>71.625</td>\n",
       "      <td>1</td>\n",
       "      <td>30</td>\n",
       "      <td>Male</td>\n",
       "      <td>0</td>\n",
       "      <td>No</td>\n",
       "      <td>Yes</td>\n",
       "      <td>Fiber optic</td>\n",
       "      <td>No</td>\n",
       "      <td>No</td>\n",
       "      <td>No</td>\n",
       "      <td>No</td>\n",
       "      <td>No</td>\n",
       "      <td>No</td>\n",
       "      <td>No</td>\n",
       "    </tr>\n",
       "    <tr>\n",
       "      <th>1453</th>\n",
       "      <td>Month-to-month</td>\n",
       "      <td>Yes</td>\n",
       "      <td>Electronic check</td>\n",
       "      <td>94.5000</td>\n",
       "      <td>2980.000</td>\n",
       "      <td>0</td>\n",
       "      <td>945</td>\n",
       "      <td>Male</td>\n",
       "      <td>0</td>\n",
       "      <td>No</td>\n",
       "      <td>No</td>\n",
       "      <td>Fiber optic</td>\n",
       "      <td>No</td>\n",
       "      <td>Yes</td>\n",
       "      <td>No</td>\n",
       "      <td>No</td>\n",
       "      <td>Yes</td>\n",
       "      <td>Yes</td>\n",
       "      <td>No</td>\n",
       "    </tr>\n",
       "  </tbody>\n",
       "</table>\n",
       "</div>"
      ],
      "text/plain": [
       "                Type PaperlessBilling            PaymentMethod  \\\n",
       "3224  Month-to-month              Yes         Electronic check   \n",
       "388   Month-to-month              Yes             Mailed check   \n",
       "5249        Two year               No  Credit card (automatic)   \n",
       "1783  Month-to-month              Yes         Electronic check   \n",
       "1453  Month-to-month              Yes         Electronic check   \n",
       "\n",
       "      MonthlyCharges  TotalCharges  client_leave  days  gender SeniorCitizen  \\\n",
       "3224         74.6250       521.000             1   214  Female             0   \n",
       "388          90.3750      4064.000             0  1340    Male             0   \n",
       "5249         67.1875      4672.000             0  2191    Male             0   \n",
       "1783         71.6250        71.625             1    30    Male             0   \n",
       "1453         94.5000      2980.000             0   945    Male             0   \n",
       "\n",
       "     Partner Dependents InternetService OnlineSecurity OnlineBackup  \\\n",
       "3224      No         No             DSL             No           No   \n",
       "388       No         No     Fiber optic             No           No   \n",
       "5249      No        Yes             DSL            Yes          Yes   \n",
       "1783      No        Yes     Fiber optic             No           No   \n",
       "1453      No         No     Fiber optic             No          Yes   \n",
       "\n",
       "     DeviceProtection TechSupport StreamingTV StreamingMovies MultipleLines  \n",
       "3224               No         Yes         Yes             Yes           Yes  \n",
       "388               Yes          No          No             Yes           Yes  \n",
       "5249              Yes         Yes         Yes             Yes            No  \n",
       "1783               No          No          No              No            No  \n",
       "1453               No          No         Yes             Yes            No  "
      ]
     },
     "metadata": {},
     "output_type": "display_data"
    },
    {
     "name": "stdout",
     "output_type": "stream",
     "text": [
      "<class 'pandas.core.frame.DataFrame'>\n",
      "Int64Index: 7043 entries, 0 to 7042\n",
      "Data columns (total 19 columns):\n",
      " #   Column            Non-Null Count  Dtype  \n",
      "---  ------            --------------  -----  \n",
      " 0   Type              7043 non-null   object \n",
      " 1   PaperlessBilling  7043 non-null   object \n",
      " 2   PaymentMethod     7043 non-null   object \n",
      " 3   MonthlyCharges    7043 non-null   float16\n",
      " 4   TotalCharges      7043 non-null   float16\n",
      " 5   client_leave      7043 non-null   int8   \n",
      " 6   days              7043 non-null   int64  \n",
      " 7   gender            7043 non-null   object \n",
      " 8   SeniorCitizen     7043 non-null   object \n",
      " 9   Partner           7043 non-null   object \n",
      " 10  Dependents        7043 non-null   object \n",
      " 11  InternetService   7043 non-null   object \n",
      " 12  OnlineSecurity    7043 non-null   object \n",
      " 13  OnlineBackup      7043 non-null   object \n",
      " 14  DeviceProtection  7043 non-null   object \n",
      " 15  TechSupport       7043 non-null   object \n",
      " 16  StreamingTV       7043 non-null   object \n",
      " 17  StreamingMovies   7043 non-null   object \n",
      " 18  MultipleLines     7043 non-null   object \n",
      "dtypes: float16(2), int64(1), int8(1), object(15)\n",
      "memory usage: 969.8+ KB\n"
     ]
    },
    {
     "data": {
      "text/plain": [
       "None"
      ]
     },
     "metadata": {},
     "output_type": "display_data"
    },
    {
     "data": {
      "text/html": [
       "<div>\n",
       "<style scoped>\n",
       "    .dataframe tbody tr th:only-of-type {\n",
       "        vertical-align: middle;\n",
       "    }\n",
       "\n",
       "    .dataframe tbody tr th {\n",
       "        vertical-align: top;\n",
       "    }\n",
       "\n",
       "    .dataframe thead th {\n",
       "        text-align: right;\n",
       "    }\n",
       "</style>\n",
       "<table border=\"1\" class=\"dataframe\">\n",
       "  <thead>\n",
       "    <tr style=\"text-align: right;\">\n",
       "      <th></th>\n",
       "      <th>Type</th>\n",
       "      <th>PaperlessBilling</th>\n",
       "      <th>PaymentMethod</th>\n",
       "      <th>MonthlyCharges</th>\n",
       "      <th>TotalCharges</th>\n",
       "      <th>client_leave</th>\n",
       "      <th>days</th>\n",
       "      <th>gender</th>\n",
       "      <th>SeniorCitizen</th>\n",
       "      <th>Partner</th>\n",
       "      <th>Dependents</th>\n",
       "      <th>InternetService</th>\n",
       "      <th>OnlineSecurity</th>\n",
       "      <th>OnlineBackup</th>\n",
       "      <th>DeviceProtection</th>\n",
       "      <th>TechSupport</th>\n",
       "      <th>StreamingTV</th>\n",
       "      <th>StreamingMovies</th>\n",
       "      <th>MultipleLines</th>\n",
       "    </tr>\n",
       "  </thead>\n",
       "  <tbody>\n",
       "    <tr>\n",
       "      <th>count</th>\n",
       "      <td>7043</td>\n",
       "      <td>7043</td>\n",
       "      <td>7043</td>\n",
       "      <td>7043.000000</td>\n",
       "      <td>7043.0</td>\n",
       "      <td>7043.000000</td>\n",
       "      <td>7043.000000</td>\n",
       "      <td>7043</td>\n",
       "      <td>7043.0</td>\n",
       "      <td>7043</td>\n",
       "      <td>7043</td>\n",
       "      <td>7043</td>\n",
       "      <td>7043</td>\n",
       "      <td>7043</td>\n",
       "      <td>7043</td>\n",
       "      <td>7043</td>\n",
       "      <td>7043</td>\n",
       "      <td>7043</td>\n",
       "      <td>7043</td>\n",
       "    </tr>\n",
       "    <tr>\n",
       "      <th>unique</th>\n",
       "      <td>3</td>\n",
       "      <td>2</td>\n",
       "      <td>4</td>\n",
       "      <td>NaN</td>\n",
       "      <td>NaN</td>\n",
       "      <td>NaN</td>\n",
       "      <td>NaN</td>\n",
       "      <td>2</td>\n",
       "      <td>2.0</td>\n",
       "      <td>2</td>\n",
       "      <td>2</td>\n",
       "      <td>3</td>\n",
       "      <td>2</td>\n",
       "      <td>2</td>\n",
       "      <td>2</td>\n",
       "      <td>2</td>\n",
       "      <td>2</td>\n",
       "      <td>2</td>\n",
       "      <td>2</td>\n",
       "    </tr>\n",
       "    <tr>\n",
       "      <th>top</th>\n",
       "      <td>Month-to-month</td>\n",
       "      <td>Yes</td>\n",
       "      <td>Electronic check</td>\n",
       "      <td>NaN</td>\n",
       "      <td>NaN</td>\n",
       "      <td>NaN</td>\n",
       "      <td>NaN</td>\n",
       "      <td>Male</td>\n",
       "      <td>0.0</td>\n",
       "      <td>No</td>\n",
       "      <td>No</td>\n",
       "      <td>Fiber optic</td>\n",
       "      <td>No</td>\n",
       "      <td>No</td>\n",
       "      <td>No</td>\n",
       "      <td>No</td>\n",
       "      <td>No</td>\n",
       "      <td>No</td>\n",
       "      <td>No</td>\n",
       "    </tr>\n",
       "    <tr>\n",
       "      <th>freq</th>\n",
       "      <td>3875</td>\n",
       "      <td>4171</td>\n",
       "      <td>2365</td>\n",
       "      <td>NaN</td>\n",
       "      <td>NaN</td>\n",
       "      <td>NaN</td>\n",
       "      <td>NaN</td>\n",
       "      <td>3555</td>\n",
       "      <td>5901.0</td>\n",
       "      <td>3641</td>\n",
       "      <td>4933</td>\n",
       "      <td>3096</td>\n",
       "      <td>5024</td>\n",
       "      <td>4614</td>\n",
       "      <td>4621</td>\n",
       "      <td>4999</td>\n",
       "      <td>4336</td>\n",
       "      <td>4311</td>\n",
       "      <td>4072</td>\n",
       "    </tr>\n",
       "    <tr>\n",
       "      <th>mean</th>\n",
       "      <td>NaN</td>\n",
       "      <td>NaN</td>\n",
       "      <td>NaN</td>\n",
       "      <td>inf</td>\n",
       "      <td>inf</td>\n",
       "      <td>0.265370</td>\n",
       "      <td>985.996166</td>\n",
       "      <td>NaN</td>\n",
       "      <td>NaN</td>\n",
       "      <td>NaN</td>\n",
       "      <td>NaN</td>\n",
       "      <td>NaN</td>\n",
       "      <td>NaN</td>\n",
       "      <td>NaN</td>\n",
       "      <td>NaN</td>\n",
       "      <td>NaN</td>\n",
       "      <td>NaN</td>\n",
       "      <td>NaN</td>\n",
       "      <td>NaN</td>\n",
       "    </tr>\n",
       "    <tr>\n",
       "      <th>std</th>\n",
       "      <td>NaN</td>\n",
       "      <td>NaN</td>\n",
       "      <td>NaN</td>\n",
       "      <td>30.078125</td>\n",
       "      <td>inf</td>\n",
       "      <td>0.441561</td>\n",
       "      <td>747.587844</td>\n",
       "      <td>NaN</td>\n",
       "      <td>NaN</td>\n",
       "      <td>NaN</td>\n",
       "      <td>NaN</td>\n",
       "      <td>NaN</td>\n",
       "      <td>NaN</td>\n",
       "      <td>NaN</td>\n",
       "      <td>NaN</td>\n",
       "      <td>NaN</td>\n",
       "      <td>NaN</td>\n",
       "      <td>NaN</td>\n",
       "      <td>NaN</td>\n",
       "    </tr>\n",
       "    <tr>\n",
       "      <th>min</th>\n",
       "      <td>NaN</td>\n",
       "      <td>NaN</td>\n",
       "      <td>NaN</td>\n",
       "      <td>18.250000</td>\n",
       "      <td>0.0</td>\n",
       "      <td>0.000000</td>\n",
       "      <td>0.000000</td>\n",
       "      <td>NaN</td>\n",
       "      <td>NaN</td>\n",
       "      <td>NaN</td>\n",
       "      <td>NaN</td>\n",
       "      <td>NaN</td>\n",
       "      <td>NaN</td>\n",
       "      <td>NaN</td>\n",
       "      <td>NaN</td>\n",
       "      <td>NaN</td>\n",
       "      <td>NaN</td>\n",
       "      <td>NaN</td>\n",
       "      <td>NaN</td>\n",
       "    </tr>\n",
       "    <tr>\n",
       "      <th>25%</th>\n",
       "      <td>NaN</td>\n",
       "      <td>NaN</td>\n",
       "      <td>NaN</td>\n",
       "      <td>35.500000</td>\n",
       "      <td>398.5</td>\n",
       "      <td>0.000000</td>\n",
       "      <td>273.000000</td>\n",
       "      <td>NaN</td>\n",
       "      <td>NaN</td>\n",
       "      <td>NaN</td>\n",
       "      <td>NaN</td>\n",
       "      <td>NaN</td>\n",
       "      <td>NaN</td>\n",
       "      <td>NaN</td>\n",
       "      <td>NaN</td>\n",
       "      <td>NaN</td>\n",
       "      <td>NaN</td>\n",
       "      <td>NaN</td>\n",
       "      <td>NaN</td>\n",
       "    </tr>\n",
       "    <tr>\n",
       "      <th>50%</th>\n",
       "      <td>NaN</td>\n",
       "      <td>NaN</td>\n",
       "      <td>NaN</td>\n",
       "      <td>70.375000</td>\n",
       "      <td>1395.0</td>\n",
       "      <td>0.000000</td>\n",
       "      <td>883.000000</td>\n",
       "      <td>NaN</td>\n",
       "      <td>NaN</td>\n",
       "      <td>NaN</td>\n",
       "      <td>NaN</td>\n",
       "      <td>NaN</td>\n",
       "      <td>NaN</td>\n",
       "      <td>NaN</td>\n",
       "      <td>NaN</td>\n",
       "      <td>NaN</td>\n",
       "      <td>NaN</td>\n",
       "      <td>NaN</td>\n",
       "      <td>NaN</td>\n",
       "    </tr>\n",
       "    <tr>\n",
       "      <th>75%</th>\n",
       "      <td>NaN</td>\n",
       "      <td>NaN</td>\n",
       "      <td>NaN</td>\n",
       "      <td>89.875000</td>\n",
       "      <td>3787.0</td>\n",
       "      <td>1.000000</td>\n",
       "      <td>1676.000000</td>\n",
       "      <td>NaN</td>\n",
       "      <td>NaN</td>\n",
       "      <td>NaN</td>\n",
       "      <td>NaN</td>\n",
       "      <td>NaN</td>\n",
       "      <td>NaN</td>\n",
       "      <td>NaN</td>\n",
       "      <td>NaN</td>\n",
       "      <td>NaN</td>\n",
       "      <td>NaN</td>\n",
       "      <td>NaN</td>\n",
       "      <td>NaN</td>\n",
       "    </tr>\n",
       "    <tr>\n",
       "      <th>max</th>\n",
       "      <td>NaN</td>\n",
       "      <td>NaN</td>\n",
       "      <td>NaN</td>\n",
       "      <td>118.750000</td>\n",
       "      <td>8688.0</td>\n",
       "      <td>1.000000</td>\n",
       "      <td>2191.000000</td>\n",
       "      <td>NaN</td>\n",
       "      <td>NaN</td>\n",
       "      <td>NaN</td>\n",
       "      <td>NaN</td>\n",
       "      <td>NaN</td>\n",
       "      <td>NaN</td>\n",
       "      <td>NaN</td>\n",
       "      <td>NaN</td>\n",
       "      <td>NaN</td>\n",
       "      <td>NaN</td>\n",
       "      <td>NaN</td>\n",
       "      <td>NaN</td>\n",
       "    </tr>\n",
       "  </tbody>\n",
       "</table>\n",
       "</div>"
      ],
      "text/plain": [
       "                  Type PaperlessBilling     PaymentMethod  MonthlyCharges  \\\n",
       "count             7043             7043              7043     7043.000000   \n",
       "unique               3                2                 4             NaN   \n",
       "top     Month-to-month              Yes  Electronic check             NaN   \n",
       "freq              3875             4171              2365             NaN   \n",
       "mean               NaN              NaN               NaN             inf   \n",
       "std                NaN              NaN               NaN       30.078125   \n",
       "min                NaN              NaN               NaN       18.250000   \n",
       "25%                NaN              NaN               NaN       35.500000   \n",
       "50%                NaN              NaN               NaN       70.375000   \n",
       "75%                NaN              NaN               NaN       89.875000   \n",
       "max                NaN              NaN               NaN      118.750000   \n",
       "\n",
       "        TotalCharges  client_leave         days gender  SeniorCitizen Partner  \\\n",
       "count         7043.0   7043.000000  7043.000000   7043         7043.0    7043   \n",
       "unique           NaN           NaN          NaN      2            2.0       2   \n",
       "top              NaN           NaN          NaN   Male            0.0      No   \n",
       "freq             NaN           NaN          NaN   3555         5901.0    3641   \n",
       "mean             inf      0.265370   985.996166    NaN            NaN     NaN   \n",
       "std              inf      0.441561   747.587844    NaN            NaN     NaN   \n",
       "min              0.0      0.000000     0.000000    NaN            NaN     NaN   \n",
       "25%            398.5      0.000000   273.000000    NaN            NaN     NaN   \n",
       "50%           1395.0      0.000000   883.000000    NaN            NaN     NaN   \n",
       "75%           3787.0      1.000000  1676.000000    NaN            NaN     NaN   \n",
       "max           8688.0      1.000000  2191.000000    NaN            NaN     NaN   \n",
       "\n",
       "       Dependents InternetService OnlineSecurity OnlineBackup  \\\n",
       "count        7043            7043           7043         7043   \n",
       "unique          2               3              2            2   \n",
       "top            No     Fiber optic             No           No   \n",
       "freq         4933            3096           5024         4614   \n",
       "mean          NaN             NaN            NaN          NaN   \n",
       "std           NaN             NaN            NaN          NaN   \n",
       "min           NaN             NaN            NaN          NaN   \n",
       "25%           NaN             NaN            NaN          NaN   \n",
       "50%           NaN             NaN            NaN          NaN   \n",
       "75%           NaN             NaN            NaN          NaN   \n",
       "max           NaN             NaN            NaN          NaN   \n",
       "\n",
       "       DeviceProtection TechSupport StreamingTV StreamingMovies MultipleLines  \n",
       "count              7043        7043        7043            7043          7043  \n",
       "unique                2           2           2               2             2  \n",
       "top                  No          No          No              No            No  \n",
       "freq               4621        4999        4336            4311          4072  \n",
       "mean                NaN         NaN         NaN             NaN           NaN  \n",
       "std                 NaN         NaN         NaN             NaN           NaN  \n",
       "min                 NaN         NaN         NaN             NaN           NaN  \n",
       "25%                 NaN         NaN         NaN             NaN           NaN  \n",
       "50%                 NaN         NaN         NaN             NaN           NaN  \n",
       "75%                 NaN         NaN         NaN             NaN           NaN  \n",
       "max                 NaN         NaN         NaN             NaN           NaN  "
      ]
     },
     "metadata": {},
     "output_type": "display_data"
    }
   ],
   "source": [
    "get_data_info(data)"
   ]
  },
  {
   "cell_type": "markdown",
   "id": "771f1d9d",
   "metadata": {},
   "source": [
    "### Исследовательский анализ данных"
   ]
  },
  {
   "cell_type": "markdown",
   "id": "b6a0a6f6",
   "metadata": {},
   "source": [
    "Проведём **корреляционный анализ** всех столбцов данных с целевым признаком - `client_leave`."
   ]
  },
  {
   "cell_type": "code",
   "execution_count": 21,
   "id": "994ee787",
   "metadata": {},
   "outputs": [
    {
     "name": "stdout",
     "output_type": "stream",
     "text": [
      "interval columns not set, guessing: ['MonthlyCharges', 'TotalCharges', 'client_leave', 'days']\n"
     ]
    },
    {
     "data": {
      "text/plain": [
       "gender              0.000000\n",
       "MultipleLines       0.059581\n",
       "StreamingMovies     0.093923\n",
       "StreamingTV         0.096865\n",
       "DeviceProtection    0.101516\n",
       "OnlineBackup        0.126973\n",
       "InternetService     0.196202\n",
       "Partner             0.232930\n",
       "SeniorCitizen       0.233432\n",
       "Type                0.251639\n",
       "Dependents          0.253936\n",
       "TechSupport         0.254615\n",
       "OnlineSecurity      0.264580\n",
       "TotalCharges        0.279512\n",
       "PaperlessBilling    0.295754\n",
       "MonthlyCharges      0.359955\n",
       "PaymentMethod       0.449125\n",
       "days                0.474001\n",
       "client_leave        1.000000\n",
       "Name: client_leave, dtype: float64"
      ]
     },
     "execution_count": 21,
     "metadata": {},
     "output_type": "execute_result"
    }
   ],
   "source": [
    "matrix_cor = data.phik_matrix()\n",
    "matrix_cor['client_leave'].sort_values()"
   ]
  },
  {
   "cell_type": "markdown",
   "id": "48dc39a3",
   "metadata": {},
   "source": [
    "Получаем, что самая сильная взаимосвязь оказалась ушёл клиент или остался с количеством дней, проведённых в компании, а на втором месте способ оплаты. Однако, данные взаимосвязи не можем назвать сильными, так как они обе составили менее 0,5. Другими словами чуть чаще, чем случайно. \n",
    "\n",
    "При этом стоит обратить, что пол клиента никак не связан, ушёл ли клиент или остался. Аналогично можем сказать, и про следом идущие признаки, у которых корреляционный анализ показал результат менее 0.3, что можем правда сказать о большей части признаков."
   ]
  },
  {
   "cell_type": "markdown",
   "id": "aa501bf4",
   "metadata": {},
   "source": [
    "**Далее**, посмотрим на распределение значений по каждому из признаков. \n",
    "\n",
    "Начнём с признака `days`. Напомню, данный признак был был создан, как разница между днём расторжения договора, если клиент ушёл или днём выгрузки данных, если ещё является клиентом, и днём заключения договора.\n",
    "\n",
    "По графику ниже, что заметить, что самое большое количество клиентов либо только пришли, либо они уже довольно давно в компании, более 2000 дней (~5.5 лет). И в целом нельзя говорить о нормальности распределения и какой-либо плавности. Есть ощущение, что довольно много групп по количеству дней среди клиентов."
   ]
  },
  {
   "cell_type": "code",
   "execution_count": 22,
   "id": "a5c4f9ea",
   "metadata": {},
   "outputs": [],
   "source": [
    "# создадим функцию для оптимизации процесса\n",
    "def hists(column, bins):\n",
    "    data[column].hist( bins=bins)\n",
    "    plt.ylabel('Количество пользователей')\n",
    "    plt.xlabel('Уникальные значения столбца {}'.format(column))\n",
    "    plt.grid(True)\n",
    "    plt.title('Распределение признака {}'.format(column))              \n",
    "    plt.show();"
   ]
  },
  {
   "cell_type": "code",
   "execution_count": 23,
   "id": "32d82f0d",
   "metadata": {},
   "outputs": [
    {
     "data": {
      "image/png": "[encoded data removed]",
      "text/plain": [
       "<Figure size 432x288 with 1 Axes>"
      ]
     },
     "metadata": {
      "needs_background": "light"
     },
     "output_type": "display_data"
    }
   ],
   "source": [
    "hists('days', 50)"
   ]
  },
  {
   "cell_type": "markdown",
   "id": "16a3253f",
   "metadata": {},
   "source": [
    "Далее рассмотрим столбец `PaymentMethod`. По графику видно, что больше всего клиентов, которые пользуются электронным чеком, остлаьные варианты практически одинаковое распределение."
   ]
  },
  {
   "cell_type": "code",
   "execution_count": 24,
   "id": "fa231493",
   "metadata": {},
   "outputs": [
    {
     "data": {
      "image/png": "[encoded data removed]",
      "text/plain": [
       "<Figure size 432x288 with 1 Axes>"
      ]
     },
     "metadata": {
      "needs_background": "light"
     },
     "output_type": "display_data"
    }
   ],
   "source": [
    "hists('PaymentMethod', 8)"
   ]
  },
  {
   "cell_type": "markdown",
   "id": "912db6a4",
   "metadata": {},
   "source": [
    "Ниже рассмотрено распределение столбца `MonthlyCharges`. По графику видно, что довольно много клиентов, которые только пришли, как следствие ещё не вносили ежемесячный платёж. В остальном данные также не можем сказать, что распределены нормально. Довольно  много столбцов, которые могут говорить о различных тарифах внутри компании."
   ]
  },
  {
   "cell_type": "code",
   "execution_count": 25,
   "id": "ec2ba77e",
   "metadata": {},
   "outputs": [
    {
     "data": {
      "image/png": "[encoded data removed]",
      "text/plain": [
       "<Figure size 432x288 with 1 Axes>"
      ]
     },
     "metadata": {
      "needs_background": "light"
     },
     "output_type": "display_data"
    }
   ],
   "source": [
    "hists('MonthlyCharges', 50)   "
   ]
  },
  {
   "cell_type": "markdown",
   "id": "1bef5007",
   "metadata": {},
   "source": [
    "Далее рассмотрим распределение по использованию электронных чеков. Большая часть клиентов использует электронные чеки. Их примерно на треть (~35%) больше, чем тех, кто не пользуется электроными чеками."
   ]
  },
  {
   "cell_type": "code",
   "execution_count": 26,
   "id": "6c59a256",
   "metadata": {},
   "outputs": [
    {
     "data": {
      "image/png": "[encoded data removed]",
      "text/plain": [
       "<Figure size 432x288 with 1 Axes>"
      ]
     },
     "metadata": {
      "needs_background": "light"
     },
     "output_type": "display_data"
    }
   ],
   "source": [
    "hists('PaperlessBilling', 4)"
   ]
  },
  {
   "cell_type": "markdown",
   "id": "8adda0ea",
   "metadata": {},
   "source": [
    "В данном столбце, также довольно много клиентов, которые не потратили денег на услуги компании. Что хорошо укладывается, что это новые клиенты. Однако \"новеньких\" клиентов примерно 600 человек, у кого не было или практически не было трат на ежемесячных услугах около 800, и соответственно, кто в целом ещё ничего не оплачивал в районе 1100 человек.\n",
    "\n",
    "Возможно, у компании есть какой-то тестовый период, после котого клиенты уходят, таким образом можно было бы объяснить разницу между данными столбцами.\n"
   ]
  },
  {
   "cell_type": "code",
   "execution_count": 27,
   "id": "29b0023d",
   "metadata": {},
   "outputs": [
    {
     "data": {
      "image/png": "[encoded data removed]",
      "text/plain": [
       "<Figure size 432x288 with 1 Axes>"
      ]
     },
     "metadata": {
      "needs_background": "light"
     },
     "output_type": "display_data"
    }
   ],
   "source": [
    "hists('TotalCharges', 50)"
   ]
  },
  {
   "cell_type": "markdown",
   "id": "ca631df7",
   "metadata": {},
   "source": [
    "Услугами `OnlineSecurity` и `TechSupport` не пользуется примерно в 2,5 раза больше человек, чем тех, у кого она подключена. Возможно, данными услугами пользуются одни и те же клиенты."
   ]
  },
  {
   "cell_type": "code",
   "execution_count": 28,
   "id": "18441b23",
   "metadata": {},
   "outputs": [
    {
     "data": {
      "image/png": "[encoded data removed]",
      "text/plain": [
       "<Figure size 432x288 with 1 Axes>"
      ]
     },
     "metadata": {
      "needs_background": "light"
     },
     "output_type": "display_data"
    },
    {
     "data": {
      "image/png": "[encoded data removed]",
      "text/plain": [
       "<Figure size 432x288 with 1 Axes>"
      ]
     },
     "metadata": {
      "needs_background": "light"
     },
     "output_type": "display_data"
    }
   ],
   "source": [
    "hists('OnlineSecurity', 4)\n",
    "plt.show()\n",
    "hists('TechSupport', 4)"
   ]
  },
  {
   "cell_type": "markdown",
   "id": "6f25df2f",
   "metadata": {},
   "source": [
    "Столбец `Dependents` содержит в себе информацию, есть ли у клиента дети, опекаемые люди и тд. Распределение примерно такое же, как в предыдущих столбцах, то есть клиентов, у которых нет иждевенцов примерно в 2,5 раза больше тех, у кого они есть."
   ]
  },
  {
   "cell_type": "code",
   "execution_count": 29,
   "id": "ef961c27",
   "metadata": {},
   "outputs": [
    {
     "data": {
      "image/png": "[encoded data removed]",
      "text/plain": [
       "<Figure size 432x288 with 1 Axes>"
      ]
     },
     "metadata": {
      "needs_background": "light"
     },
     "output_type": "display_data"
    }
   ],
   "source": [
    "hists('Dependents', 4)"
   ]
  },
  {
   "cell_type": "markdown",
   "id": "e9711d12",
   "metadata": {},
   "source": [
    "Большая часть клиентов имеют ежемесячную оплату, и примерно по поравну клиентов, у которых оплата ежегодная или даже раз в два года. Вторых немного больше даже."
   ]
  },
  {
   "cell_type": "code",
   "execution_count": 30,
   "id": "cdd1787b",
   "metadata": {},
   "outputs": [
    {
     "data": {
      "image/png": "[encoded data removed]",
      "text/plain": [
       "<Figure size 432x288 with 1 Axes>"
      ]
     },
     "metadata": {
      "needs_background": "light"
     },
     "output_type": "display_data"
    }
   ],
   "source": [
    "hists('Type', 6)    "
   ]
  },
  {
   "cell_type": "markdown",
   "id": "ff36d604",
   "metadata": {},
   "source": [
    "В выборке примерно только 1/7 часть клиентов являются пенсионерами."
   ]
  },
  {
   "cell_type": "code",
   "execution_count": 31,
   "id": "41f35f1c",
   "metadata": {},
   "outputs": [
    {
     "data": {
      "image/png": "[encoded data removed]",
      "text/plain": [
       "<Figure size 432x288 with 1 Axes>"
      ]
     },
     "metadata": {
      "needs_background": "light"
     },
     "output_type": "display_data"
    }
   ],
   "source": [
    "hists('SeniorCitizen', 4)"
   ]
  },
  {
   "cell_type": "markdown",
   "id": "1d931dbd",
   "metadata": {},
   "source": [
    "По наличию/отсутствию партнёра распределение равное у клиентов."
   ]
  },
  {
   "cell_type": "code",
   "execution_count": 32,
   "id": "e37882f0",
   "metadata": {},
   "outputs": [
    {
     "data": {
      "image/png": "[encoded data removed]",
      "text/plain": [
       "<Figure size 432x288 with 1 Axes>"
      ]
     },
     "metadata": {
      "needs_background": "light"
     },
     "output_type": "display_data"
    }
   ],
   "source": [
    "hists('Partner', 4) "
   ]
  },
  {
   "cell_type": "markdown",
   "id": "7eec0c9a",
   "metadata": {},
   "source": [
    "У большей части клиентов подключена услуга интернета, при этом примерно у 40% от всех клиентов подключено оптоволокно."
   ]
  },
  {
   "cell_type": "code",
   "execution_count": 33,
   "id": "35cdbb95",
   "metadata": {},
   "outputs": [
    {
     "data": {
      "image/png": "[encoded data removed]",
      "text/plain": [
       "<Figure size 432x288 with 1 Axes>"
      ]
     },
     "metadata": {
      "needs_background": "light"
     },
     "output_type": "display_data"
    }
   ],
   "source": [
    "hists('InternetService', 6)"
   ]
  },
  {
   "cell_type": "markdown",
   "id": "0ce15932",
   "metadata": {},
   "source": [
    "Услугами `OnlineBackup` и `DeviceProtection` пользуется около по 40% клиентов каждой."
   ]
  },
  {
   "cell_type": "code",
   "execution_count": 34,
   "id": "321cbfe0",
   "metadata": {},
   "outputs": [
    {
     "data": {
      "image/png": "[encoded data removed]",
      "text/plain": [
       "<Figure size 432x288 with 1 Axes>"
      ]
     },
     "metadata": {
      "needs_background": "light"
     },
     "output_type": "display_data"
    },
    {
     "data": {
      "image/png": "[encoded data removed]",
      "text/plain": [
       "<Figure size 432x288 with 1 Axes>"
      ]
     },
     "metadata": {
      "needs_background": "light"
     },
     "output_type": "display_data"
    }
   ],
   "source": [
    "hists('OnlineBackup', 4)\n",
    "plt.show()\n",
    "hists('DeviceProtection', 4)"
   ]
  },
  {
   "cell_type": "markdown",
   "id": "61785560",
   "metadata": {},
   "source": [
    "Стриминговым телевидением пользуется чуть больше клиентов, чем предыдущими услугами."
   ]
  },
  {
   "cell_type": "code",
   "execution_count": 35,
   "id": "9a20eb11",
   "metadata": {},
   "outputs": [
    {
     "data": {
      "image/png": "[encoded data removed]",
      "text/plain": [
       "<Figure size 432x288 with 1 Axes>"
      ]
     },
     "metadata": {
      "needs_background": "light"
     },
     "output_type": "display_data"
    },
    {
     "data": {
      "image/png": "[encoded data removed]",
      "text/plain": [
       "<Figure size 432x288 with 1 Axes>"
      ]
     },
     "metadata": {
      "needs_background": "light"
     },
     "output_type": "display_data"
    }
   ],
   "source": [
    "hists('StreamingTV', 4)\n",
    "plt.show()\n",
    "hists('StreamingMovies', 4)"
   ]
  },
  {
   "cell_type": "markdown",
   "id": "550ac79f",
   "metadata": {},
   "source": [
    "Примерно у 3/7 клиентов подлючена услуга подключения к нескольким линиям одновременно."
   ]
  },
  {
   "cell_type": "code",
   "execution_count": 36,
   "id": "c435c67b",
   "metadata": {},
   "outputs": [
    {
     "data": {
      "image/png": "[encoded data removed]",
      "text/plain": [
       "<Figure size 432x288 with 1 Axes>"
      ]
     },
     "metadata": {
      "needs_background": "light"
     },
     "output_type": "display_data"
    }
   ],
   "source": [
    "hists('MultipleLines', 4)"
   ]
  },
  {
   "cell_type": "markdown",
   "id": "b1d1117a",
   "metadata": {},
   "source": [
    "По полу распределение равное у клиентов."
   ]
  },
  {
   "cell_type": "code",
   "execution_count": 37,
   "id": "0aeaafce",
   "metadata": {},
   "outputs": [
    {
     "data": {
      "image/png": "[encoded data removed]",
      "text/plain": [
       "<Figure size 432x288 with 1 Axes>"
      ]
     },
     "metadata": {
      "needs_background": "light"
     },
     "output_type": "display_data"
    }
   ],
   "source": [
    "hists('gender', 4)"
   ]
  },
  {
   "cell_type": "code",
   "execution_count": 38,
   "id": "30ea945e",
   "metadata": {},
   "outputs": [],
   "source": [
    "data = data.drop('gender', axis=1)"
   ]
  },
  {
   "cell_type": "markdown",
   "id": "775beef4",
   "metadata": {},
   "source": [
    "Так как не обнаружена корреляция со столбцом пола, а также по той причине, что нет значимых различий среди значений столбца, то данный столбец было принято решение удалить."
   ]
  },
  {
   "cell_type": "markdown",
   "id": "b48e72ba",
   "metadata": {},
   "source": [
    "**Выводы по первому этапу:**\n",
    "1) Были открыты и изучены данные 4 таблиц: `contract`, `personal`, `internet`, `phone`.\n",
    "\n",
    "2) Были устранены пропуски\n",
    "\n",
    "3) Была удалена часть ненужных столбцов, а также пара добавлена\n",
    "\n",
    "4) Все данные были объеденены в единную переменную `data`\n"
   ]
  },
  {
   "cell_type": "markdown",
   "id": "de5c1a24",
   "metadata": {},
   "source": [
    "## Подготовка данных под модели"
   ]
  },
  {
   "cell_type": "code",
   "execution_count": 39,
   "id": "9ea2fda7",
   "metadata": {},
   "outputs": [],
   "source": [
    "features = data.drop(['client_leave'], axis=1)\n",
    "target = data['client_leave']\n",
    "\n",
    "features_train, features_test, target_train, target_test = train_test_split(\n",
    "    features, target, test_size=0.25, random_state=RANDOM_STATE, stratify=target)"
   ]
  },
  {
   "cell_type": "code",
   "execution_count": 40,
   "id": "ee9c7522",
   "metadata": {},
   "outputs": [
    {
     "data": {
      "text/html": [
       "<div>\n",
       "<style scoped>\n",
       "    .dataframe tbody tr th:only-of-type {\n",
       "        vertical-align: middle;\n",
       "    }\n",
       "\n",
       "    .dataframe tbody tr th {\n",
       "        vertical-align: top;\n",
       "    }\n",
       "\n",
       "    .dataframe thead th {\n",
       "        text-align: right;\n",
       "    }\n",
       "</style>\n",
       "<table border=\"1\" class=\"dataframe\">\n",
       "  <thead>\n",
       "    <tr style=\"text-align: right;\">\n",
       "      <th></th>\n",
       "      <th>Type</th>\n",
       "      <th>PaperlessBilling</th>\n",
       "      <th>PaymentMethod</th>\n",
       "      <th>MonthlyCharges</th>\n",
       "      <th>TotalCharges</th>\n",
       "      <th>days</th>\n",
       "      <th>SeniorCitizen</th>\n",
       "      <th>Partner</th>\n",
       "      <th>Dependents</th>\n",
       "      <th>InternetService</th>\n",
       "      <th>OnlineSecurity</th>\n",
       "      <th>OnlineBackup</th>\n",
       "      <th>DeviceProtection</th>\n",
       "      <th>TechSupport</th>\n",
       "      <th>StreamingTV</th>\n",
       "      <th>StreamingMovies</th>\n",
       "      <th>MultipleLines</th>\n",
       "    </tr>\n",
       "  </thead>\n",
       "  <tbody>\n",
       "    <tr>\n",
       "      <th>1699</th>\n",
       "      <td>One year</td>\n",
       "      <td>Yes</td>\n",
       "      <td>Mailed check</td>\n",
       "      <td>20.656250</td>\n",
       "      <td>958.000000</td>\n",
       "      <td>1279</td>\n",
       "      <td>0</td>\n",
       "      <td>No</td>\n",
       "      <td>No</td>\n",
       "      <td>No</td>\n",
       "      <td>No</td>\n",
       "      <td>No</td>\n",
       "      <td>No</td>\n",
       "      <td>No</td>\n",
       "      <td>No</td>\n",
       "      <td>No</td>\n",
       "      <td>No</td>\n",
       "    </tr>\n",
       "    <tr>\n",
       "      <th>2338</th>\n",
       "      <td>Two year</td>\n",
       "      <td>No</td>\n",
       "      <td>Bank transfer (automatic)</td>\n",
       "      <td>19.953125</td>\n",
       "      <td>1323.000000</td>\n",
       "      <td>2191</td>\n",
       "      <td>0</td>\n",
       "      <td>Yes</td>\n",
       "      <td>Yes</td>\n",
       "      <td>No</td>\n",
       "      <td>No</td>\n",
       "      <td>No</td>\n",
       "      <td>No</td>\n",
       "      <td>No</td>\n",
       "      <td>No</td>\n",
       "      <td>No</td>\n",
       "      <td>No</td>\n",
       "    </tr>\n",
       "    <tr>\n",
       "      <th>4922</th>\n",
       "      <td>Month-to-month</td>\n",
       "      <td>No</td>\n",
       "      <td>Electronic check</td>\n",
       "      <td>59.812500</td>\n",
       "      <td>3642.000000</td>\n",
       "      <td>1857</td>\n",
       "      <td>0</td>\n",
       "      <td>Yes</td>\n",
       "      <td>Yes</td>\n",
       "      <td>DSL</td>\n",
       "      <td>Yes</td>\n",
       "      <td>Yes</td>\n",
       "      <td>No</td>\n",
       "      <td>No</td>\n",
       "      <td>No</td>\n",
       "      <td>No</td>\n",
       "      <td>Yes</td>\n",
       "    </tr>\n",
       "    <tr>\n",
       "      <th>101</th>\n",
       "      <td>Month-to-month</td>\n",
       "      <td>No</td>\n",
       "      <td>Electronic check</td>\n",
       "      <td>19.453125</td>\n",
       "      <td>19.453125</td>\n",
       "      <td>31</td>\n",
       "      <td>0</td>\n",
       "      <td>Yes</td>\n",
       "      <td>Yes</td>\n",
       "      <td>No</td>\n",
       "      <td>No</td>\n",
       "      <td>No</td>\n",
       "      <td>No</td>\n",
       "      <td>No</td>\n",
       "      <td>No</td>\n",
       "      <td>No</td>\n",
       "      <td>No</td>\n",
       "    </tr>\n",
       "    <tr>\n",
       "      <th>4687</th>\n",
       "      <td>Month-to-month</td>\n",
       "      <td>Yes</td>\n",
       "      <td>Credit card (automatic)</td>\n",
       "      <td>94.687500</td>\n",
       "      <td>1915.000000</td>\n",
       "      <td>671</td>\n",
       "      <td>0</td>\n",
       "      <td>Yes</td>\n",
       "      <td>No</td>\n",
       "      <td>Fiber optic</td>\n",
       "      <td>No</td>\n",
       "      <td>No</td>\n",
       "      <td>Yes</td>\n",
       "      <td>No</td>\n",
       "      <td>Yes</td>\n",
       "      <td>Yes</td>\n",
       "      <td>No</td>\n",
       "    </tr>\n",
       "  </tbody>\n",
       "</table>\n",
       "</div>"
      ],
      "text/plain": [
       "                Type PaperlessBilling              PaymentMethod  \\\n",
       "1699        One year              Yes               Mailed check   \n",
       "2338        Two year               No  Bank transfer (automatic)   \n",
       "4922  Month-to-month               No           Electronic check   \n",
       "101   Month-to-month               No           Electronic check   \n",
       "4687  Month-to-month              Yes    Credit card (automatic)   \n",
       "\n",
       "      MonthlyCharges  TotalCharges  days SeniorCitizen Partner Dependents  \\\n",
       "1699       20.656250    958.000000  1279             0      No         No   \n",
       "2338       19.953125   1323.000000  2191             0     Yes        Yes   \n",
       "4922       59.812500   3642.000000  1857             0     Yes        Yes   \n",
       "101        19.453125     19.453125    31             0     Yes        Yes   \n",
       "4687       94.687500   1915.000000   671             0     Yes         No   \n",
       "\n",
       "     InternetService OnlineSecurity OnlineBackup DeviceProtection TechSupport  \\\n",
       "1699              No             No           No               No          No   \n",
       "2338              No             No           No               No          No   \n",
       "4922             DSL            Yes          Yes               No          No   \n",
       "101               No             No           No               No          No   \n",
       "4687     Fiber optic             No           No              Yes          No   \n",
       "\n",
       "     StreamingTV StreamingMovies MultipleLines  \n",
       "1699          No              No            No  \n",
       "2338          No              No            No  \n",
       "4922          No              No           Yes  \n",
       "101           No              No            No  \n",
       "4687         Yes             Yes            No  "
      ]
     },
     "metadata": {},
     "output_type": "display_data"
    },
    {
     "name": "stdout",
     "output_type": "stream",
     "text": [
      "<class 'pandas.core.frame.DataFrame'>\n",
      "Int64Index: 5282 entries, 201 to 3886\n",
      "Data columns (total 17 columns):\n",
      " #   Column            Non-Null Count  Dtype  \n",
      "---  ------            --------------  -----  \n",
      " 0   Type              5282 non-null   object \n",
      " 1   PaperlessBilling  5282 non-null   object \n",
      " 2   PaymentMethod     5282 non-null   object \n",
      " 3   MonthlyCharges    5282 non-null   float16\n",
      " 4   TotalCharges      5282 non-null   float16\n",
      " 5   days              5282 non-null   int64  \n",
      " 6   SeniorCitizen     5282 non-null   object \n",
      " 7   Partner           5282 non-null   object \n",
      " 8   Dependents        5282 non-null   object \n",
      " 9   InternetService   5282 non-null   object \n",
      " 10  OnlineSecurity    5282 non-null   object \n",
      " 11  OnlineBackup      5282 non-null   object \n",
      " 12  DeviceProtection  5282 non-null   object \n",
      " 13  TechSupport       5282 non-null   object \n",
      " 14  StreamingTV       5282 non-null   object \n",
      " 15  StreamingMovies   5282 non-null   object \n",
      " 16  MultipleLines     5282 non-null   object \n",
      "dtypes: float16(2), int64(1), object(14)\n",
      "memory usage: 680.9+ KB\n"
     ]
    },
    {
     "data": {
      "text/plain": [
       "None"
      ]
     },
     "metadata": {},
     "output_type": "display_data"
    },
    {
     "data": {
      "text/html": [
       "<div>\n",
       "<style scoped>\n",
       "    .dataframe tbody tr th:only-of-type {\n",
       "        vertical-align: middle;\n",
       "    }\n",
       "\n",
       "    .dataframe tbody tr th {\n",
       "        vertical-align: top;\n",
       "    }\n",
       "\n",
       "    .dataframe thead th {\n",
       "        text-align: right;\n",
       "    }\n",
       "</style>\n",
       "<table border=\"1\" class=\"dataframe\">\n",
       "  <thead>\n",
       "    <tr style=\"text-align: right;\">\n",
       "      <th></th>\n",
       "      <th>Type</th>\n",
       "      <th>PaperlessBilling</th>\n",
       "      <th>PaymentMethod</th>\n",
       "      <th>MonthlyCharges</th>\n",
       "      <th>TotalCharges</th>\n",
       "      <th>days</th>\n",
       "      <th>SeniorCitizen</th>\n",
       "      <th>Partner</th>\n",
       "      <th>Dependents</th>\n",
       "      <th>InternetService</th>\n",
       "      <th>OnlineSecurity</th>\n",
       "      <th>OnlineBackup</th>\n",
       "      <th>DeviceProtection</th>\n",
       "      <th>TechSupport</th>\n",
       "      <th>StreamingTV</th>\n",
       "      <th>StreamingMovies</th>\n",
       "      <th>MultipleLines</th>\n",
       "    </tr>\n",
       "  </thead>\n",
       "  <tbody>\n",
       "    <tr>\n",
       "      <th>count</th>\n",
       "      <td>5282</td>\n",
       "      <td>5282</td>\n",
       "      <td>5282</td>\n",
       "      <td>5282.000000</td>\n",
       "      <td>5282.000</td>\n",
       "      <td>5282.000000</td>\n",
       "      <td>5282.0</td>\n",
       "      <td>5282</td>\n",
       "      <td>5282</td>\n",
       "      <td>5282</td>\n",
       "      <td>5282</td>\n",
       "      <td>5282</td>\n",
       "      <td>5282</td>\n",
       "      <td>5282</td>\n",
       "      <td>5282</td>\n",
       "      <td>5282</td>\n",
       "      <td>5282</td>\n",
       "    </tr>\n",
       "    <tr>\n",
       "      <th>unique</th>\n",
       "      <td>3</td>\n",
       "      <td>2</td>\n",
       "      <td>4</td>\n",
       "      <td>NaN</td>\n",
       "      <td>NaN</td>\n",
       "      <td>NaN</td>\n",
       "      <td>2.0</td>\n",
       "      <td>2</td>\n",
       "      <td>2</td>\n",
       "      <td>3</td>\n",
       "      <td>2</td>\n",
       "      <td>2</td>\n",
       "      <td>2</td>\n",
       "      <td>2</td>\n",
       "      <td>2</td>\n",
       "      <td>2</td>\n",
       "      <td>2</td>\n",
       "    </tr>\n",
       "    <tr>\n",
       "      <th>top</th>\n",
       "      <td>Month-to-month</td>\n",
       "      <td>Yes</td>\n",
       "      <td>Electronic check</td>\n",
       "      <td>NaN</td>\n",
       "      <td>NaN</td>\n",
       "      <td>NaN</td>\n",
       "      <td>0.0</td>\n",
       "      <td>No</td>\n",
       "      <td>No</td>\n",
       "      <td>Fiber optic</td>\n",
       "      <td>No</td>\n",
       "      <td>No</td>\n",
       "      <td>No</td>\n",
       "      <td>No</td>\n",
       "      <td>No</td>\n",
       "      <td>No</td>\n",
       "      <td>No</td>\n",
       "    </tr>\n",
       "    <tr>\n",
       "      <th>freq</th>\n",
       "      <td>2941</td>\n",
       "      <td>3125</td>\n",
       "      <td>1751</td>\n",
       "      <td>NaN</td>\n",
       "      <td>NaN</td>\n",
       "      <td>NaN</td>\n",
       "      <td>4436.0</td>\n",
       "      <td>2750</td>\n",
       "      <td>3689</td>\n",
       "      <td>2309</td>\n",
       "      <td>3761</td>\n",
       "      <td>3450</td>\n",
       "      <td>3495</td>\n",
       "      <td>3767</td>\n",
       "      <td>3264</td>\n",
       "      <td>3249</td>\n",
       "      <td>3056</td>\n",
       "    </tr>\n",
       "    <tr>\n",
       "      <th>mean</th>\n",
       "      <td>NaN</td>\n",
       "      <td>NaN</td>\n",
       "      <td>NaN</td>\n",
       "      <td>inf</td>\n",
       "      <td>inf</td>\n",
       "      <td>982.055093</td>\n",
       "      <td>NaN</td>\n",
       "      <td>NaN</td>\n",
       "      <td>NaN</td>\n",
       "      <td>NaN</td>\n",
       "      <td>NaN</td>\n",
       "      <td>NaN</td>\n",
       "      <td>NaN</td>\n",
       "      <td>NaN</td>\n",
       "      <td>NaN</td>\n",
       "      <td>NaN</td>\n",
       "      <td>NaN</td>\n",
       "    </tr>\n",
       "    <tr>\n",
       "      <th>std</th>\n",
       "      <td>NaN</td>\n",
       "      <td>NaN</td>\n",
       "      <td>NaN</td>\n",
       "      <td>30.046875</td>\n",
       "      <td>inf</td>\n",
       "      <td>750.297620</td>\n",
       "      <td>NaN</td>\n",
       "      <td>NaN</td>\n",
       "      <td>NaN</td>\n",
       "      <td>NaN</td>\n",
       "      <td>NaN</td>\n",
       "      <td>NaN</td>\n",
       "      <td>NaN</td>\n",
       "      <td>NaN</td>\n",
       "      <td>NaN</td>\n",
       "      <td>NaN</td>\n",
       "      <td>NaN</td>\n",
       "    </tr>\n",
       "    <tr>\n",
       "      <th>min</th>\n",
       "      <td>NaN</td>\n",
       "      <td>NaN</td>\n",
       "      <td>NaN</td>\n",
       "      <td>18.250000</td>\n",
       "      <td>0.000</td>\n",
       "      <td>0.000000</td>\n",
       "      <td>NaN</td>\n",
       "      <td>NaN</td>\n",
       "      <td>NaN</td>\n",
       "      <td>NaN</td>\n",
       "      <td>NaN</td>\n",
       "      <td>NaN</td>\n",
       "      <td>NaN</td>\n",
       "      <td>NaN</td>\n",
       "      <td>NaN</td>\n",
       "      <td>NaN</td>\n",
       "      <td>NaN</td>\n",
       "    </tr>\n",
       "    <tr>\n",
       "      <th>25%</th>\n",
       "      <td>NaN</td>\n",
       "      <td>NaN</td>\n",
       "      <td>NaN</td>\n",
       "      <td>35.406250</td>\n",
       "      <td>385.125</td>\n",
       "      <td>245.000000</td>\n",
       "      <td>NaN</td>\n",
       "      <td>NaN</td>\n",
       "      <td>NaN</td>\n",
       "      <td>NaN</td>\n",
       "      <td>NaN</td>\n",
       "      <td>NaN</td>\n",
       "      <td>NaN</td>\n",
       "      <td>NaN</td>\n",
       "      <td>NaN</td>\n",
       "      <td>NaN</td>\n",
       "      <td>NaN</td>\n",
       "    </tr>\n",
       "    <tr>\n",
       "      <th>50%</th>\n",
       "      <td>NaN</td>\n",
       "      <td>NaN</td>\n",
       "      <td>NaN</td>\n",
       "      <td>70.312500</td>\n",
       "      <td>1387.000</td>\n",
       "      <td>853.000000</td>\n",
       "      <td>NaN</td>\n",
       "      <td>NaN</td>\n",
       "      <td>NaN</td>\n",
       "      <td>NaN</td>\n",
       "      <td>NaN</td>\n",
       "      <td>NaN</td>\n",
       "      <td>NaN</td>\n",
       "      <td>NaN</td>\n",
       "      <td>NaN</td>\n",
       "      <td>NaN</td>\n",
       "      <td>NaN</td>\n",
       "    </tr>\n",
       "    <tr>\n",
       "      <th>75%</th>\n",
       "      <td>NaN</td>\n",
       "      <td>NaN</td>\n",
       "      <td>NaN</td>\n",
       "      <td>89.734375</td>\n",
       "      <td>3759.000</td>\n",
       "      <td>1676.000000</td>\n",
       "      <td>NaN</td>\n",
       "      <td>NaN</td>\n",
       "      <td>NaN</td>\n",
       "      <td>NaN</td>\n",
       "      <td>NaN</td>\n",
       "      <td>NaN</td>\n",
       "      <td>NaN</td>\n",
       "      <td>NaN</td>\n",
       "      <td>NaN</td>\n",
       "      <td>NaN</td>\n",
       "      <td>NaN</td>\n",
       "    </tr>\n",
       "    <tr>\n",
       "      <th>max</th>\n",
       "      <td>NaN</td>\n",
       "      <td>NaN</td>\n",
       "      <td>NaN</td>\n",
       "      <td>118.750000</td>\n",
       "      <td>8688.000</td>\n",
       "      <td>2191.000000</td>\n",
       "      <td>NaN</td>\n",
       "      <td>NaN</td>\n",
       "      <td>NaN</td>\n",
       "      <td>NaN</td>\n",
       "      <td>NaN</td>\n",
       "      <td>NaN</td>\n",
       "      <td>NaN</td>\n",
       "      <td>NaN</td>\n",
       "      <td>NaN</td>\n",
       "      <td>NaN</td>\n",
       "      <td>NaN</td>\n",
       "    </tr>\n",
       "  </tbody>\n",
       "</table>\n",
       "</div>"
      ],
      "text/plain": [
       "                  Type PaperlessBilling     PaymentMethod  MonthlyCharges  \\\n",
       "count             5282             5282              5282     5282.000000   \n",
       "unique               3                2                 4             NaN   \n",
       "top     Month-to-month              Yes  Electronic check             NaN   \n",
       "freq              2941             3125              1751             NaN   \n",
       "mean               NaN              NaN               NaN             inf   \n",
       "std                NaN              NaN               NaN       30.046875   \n",
       "min                NaN              NaN               NaN       18.250000   \n",
       "25%                NaN              NaN               NaN       35.406250   \n",
       "50%                NaN              NaN               NaN       70.312500   \n",
       "75%                NaN              NaN               NaN       89.734375   \n",
       "max                NaN              NaN               NaN      118.750000   \n",
       "\n",
       "        TotalCharges         days  SeniorCitizen Partner Dependents  \\\n",
       "count       5282.000  5282.000000         5282.0    5282       5282   \n",
       "unique           NaN          NaN            2.0       2          2   \n",
       "top              NaN          NaN            0.0      No         No   \n",
       "freq             NaN          NaN         4436.0    2750       3689   \n",
       "mean             inf   982.055093            NaN     NaN        NaN   \n",
       "std              inf   750.297620            NaN     NaN        NaN   \n",
       "min            0.000     0.000000            NaN     NaN        NaN   \n",
       "25%          385.125   245.000000            NaN     NaN        NaN   \n",
       "50%         1387.000   853.000000            NaN     NaN        NaN   \n",
       "75%         3759.000  1676.000000            NaN     NaN        NaN   \n",
       "max         8688.000  2191.000000            NaN     NaN        NaN   \n",
       "\n",
       "       InternetService OnlineSecurity OnlineBackup DeviceProtection  \\\n",
       "count             5282           5282         5282             5282   \n",
       "unique               3              2            2                2   \n",
       "top        Fiber optic             No           No               No   \n",
       "freq              2309           3761         3450             3495   \n",
       "mean               NaN            NaN          NaN              NaN   \n",
       "std                NaN            NaN          NaN              NaN   \n",
       "min                NaN            NaN          NaN              NaN   \n",
       "25%                NaN            NaN          NaN              NaN   \n",
       "50%                NaN            NaN          NaN              NaN   \n",
       "75%                NaN            NaN          NaN              NaN   \n",
       "max                NaN            NaN          NaN              NaN   \n",
       "\n",
       "       TechSupport StreamingTV StreamingMovies MultipleLines  \n",
       "count         5282        5282            5282          5282  \n",
       "unique           2           2               2             2  \n",
       "top             No          No              No            No  \n",
       "freq          3767        3264            3249          3056  \n",
       "mean           NaN         NaN             NaN           NaN  \n",
       "std            NaN         NaN             NaN           NaN  \n",
       "min            NaN         NaN             NaN           NaN  \n",
       "25%            NaN         NaN             NaN           NaN  \n",
       "50%            NaN         NaN             NaN           NaN  \n",
       "75%            NaN         NaN             NaN           NaN  \n",
       "max            NaN         NaN             NaN           NaN  "
      ]
     },
     "metadata": {},
     "output_type": "display_data"
    }
   ],
   "source": [
    "get_data_info(features_train)"
   ]
  },
  {
   "cell_type": "code",
   "execution_count": 41,
   "id": "81e31828",
   "metadata": {},
   "outputs": [
    {
     "data": {
      "text/html": [
       "<div>\n",
       "<style scoped>\n",
       "    .dataframe tbody tr th:only-of-type {\n",
       "        vertical-align: middle;\n",
       "    }\n",
       "\n",
       "    .dataframe tbody tr th {\n",
       "        vertical-align: top;\n",
       "    }\n",
       "\n",
       "    .dataframe thead th {\n",
       "        text-align: right;\n",
       "    }\n",
       "</style>\n",
       "<table border=\"1\" class=\"dataframe\">\n",
       "  <thead>\n",
       "    <tr style=\"text-align: right;\">\n",
       "      <th></th>\n",
       "      <th>Type</th>\n",
       "      <th>PaperlessBilling</th>\n",
       "      <th>PaymentMethod</th>\n",
       "      <th>MonthlyCharges</th>\n",
       "      <th>TotalCharges</th>\n",
       "      <th>days</th>\n",
       "      <th>SeniorCitizen</th>\n",
       "      <th>Partner</th>\n",
       "      <th>Dependents</th>\n",
       "      <th>InternetService</th>\n",
       "      <th>OnlineSecurity</th>\n",
       "      <th>OnlineBackup</th>\n",
       "      <th>DeviceProtection</th>\n",
       "      <th>TechSupport</th>\n",
       "      <th>StreamingTV</th>\n",
       "      <th>StreamingMovies</th>\n",
       "      <th>MultipleLines</th>\n",
       "    </tr>\n",
       "  </thead>\n",
       "  <tbody>\n",
       "    <tr>\n",
       "      <th>3148</th>\n",
       "      <td>Month-to-month</td>\n",
       "      <td>No</td>\n",
       "      <td>Credit card (automatic)</td>\n",
       "      <td>75.437500</td>\n",
       "      <td>3546.00</td>\n",
       "      <td>1432</td>\n",
       "      <td>0</td>\n",
       "      <td>No</td>\n",
       "      <td>No</td>\n",
       "      <td>Fiber optic</td>\n",
       "      <td>Yes</td>\n",
       "      <td>No</td>\n",
       "      <td>No</td>\n",
       "      <td>No</td>\n",
       "      <td>No</td>\n",
       "      <td>No</td>\n",
       "      <td>No</td>\n",
       "    </tr>\n",
       "    <tr>\n",
       "      <th>3093</th>\n",
       "      <td>One year</td>\n",
       "      <td>Yes</td>\n",
       "      <td>Credit card (automatic)</td>\n",
       "      <td>54.406250</td>\n",
       "      <td>1517.00</td>\n",
       "      <td>853</td>\n",
       "      <td>0</td>\n",
       "      <td>No</td>\n",
       "      <td>Yes</td>\n",
       "      <td>DSL</td>\n",
       "      <td>No</td>\n",
       "      <td>Yes</td>\n",
       "      <td>No</td>\n",
       "      <td>Yes</td>\n",
       "      <td>No</td>\n",
       "      <td>No</td>\n",
       "      <td>No</td>\n",
       "    </tr>\n",
       "    <tr>\n",
       "      <th>4801</th>\n",
       "      <td>Two year</td>\n",
       "      <td>No</td>\n",
       "      <td>Bank transfer (automatic)</td>\n",
       "      <td>80.875000</td>\n",
       "      <td>5824.00</td>\n",
       "      <td>2191</td>\n",
       "      <td>0</td>\n",
       "      <td>Yes</td>\n",
       "      <td>Yes</td>\n",
       "      <td>DSL</td>\n",
       "      <td>Yes</td>\n",
       "      <td>Yes</td>\n",
       "      <td>Yes</td>\n",
       "      <td>Yes</td>\n",
       "      <td>No</td>\n",
       "      <td>Yes</td>\n",
       "      <td>Yes</td>\n",
       "    </tr>\n",
       "    <tr>\n",
       "      <th>1944</th>\n",
       "      <td>Month-to-month</td>\n",
       "      <td>No</td>\n",
       "      <td>Mailed check</td>\n",
       "      <td>25.500000</td>\n",
       "      <td>215.25</td>\n",
       "      <td>242</td>\n",
       "      <td>0</td>\n",
       "      <td>No</td>\n",
       "      <td>Yes</td>\n",
       "      <td>DSL</td>\n",
       "      <td>No</td>\n",
       "      <td>No</td>\n",
       "      <td>No</td>\n",
       "      <td>No</td>\n",
       "      <td>No</td>\n",
       "      <td>No</td>\n",
       "      <td>No</td>\n",
       "    </tr>\n",
       "    <tr>\n",
       "      <th>3643</th>\n",
       "      <td>One year</td>\n",
       "      <td>No</td>\n",
       "      <td>Credit card (automatic)</td>\n",
       "      <td>19.046875</td>\n",
       "      <td>990.50</td>\n",
       "      <td>1614</td>\n",
       "      <td>0</td>\n",
       "      <td>Yes</td>\n",
       "      <td>No</td>\n",
       "      <td>No</td>\n",
       "      <td>No</td>\n",
       "      <td>No</td>\n",
       "      <td>No</td>\n",
       "      <td>No</td>\n",
       "      <td>No</td>\n",
       "      <td>No</td>\n",
       "      <td>No</td>\n",
       "    </tr>\n",
       "  </tbody>\n",
       "</table>\n",
       "</div>"
      ],
      "text/plain": [
       "                Type PaperlessBilling              PaymentMethod  \\\n",
       "3148  Month-to-month               No    Credit card (automatic)   \n",
       "3093        One year              Yes    Credit card (automatic)   \n",
       "4801        Two year               No  Bank transfer (automatic)   \n",
       "1944  Month-to-month               No               Mailed check   \n",
       "3643        One year               No    Credit card (automatic)   \n",
       "\n",
       "      MonthlyCharges  TotalCharges  days SeniorCitizen Partner Dependents  \\\n",
       "3148       75.437500       3546.00  1432             0      No         No   \n",
       "3093       54.406250       1517.00   853             0      No        Yes   \n",
       "4801       80.875000       5824.00  2191             0     Yes        Yes   \n",
       "1944       25.500000        215.25   242             0      No        Yes   \n",
       "3643       19.046875        990.50  1614             0     Yes         No   \n",
       "\n",
       "     InternetService OnlineSecurity OnlineBackup DeviceProtection TechSupport  \\\n",
       "3148     Fiber optic            Yes           No               No          No   \n",
       "3093             DSL             No          Yes               No         Yes   \n",
       "4801             DSL            Yes          Yes              Yes         Yes   \n",
       "1944             DSL             No           No               No          No   \n",
       "3643              No             No           No               No          No   \n",
       "\n",
       "     StreamingTV StreamingMovies MultipleLines  \n",
       "3148          No              No            No  \n",
       "3093          No              No            No  \n",
       "4801          No             Yes           Yes  \n",
       "1944          No              No            No  \n",
       "3643          No              No            No  "
      ]
     },
     "metadata": {},
     "output_type": "display_data"
    },
    {
     "name": "stdout",
     "output_type": "stream",
     "text": [
      "<class 'pandas.core.frame.DataFrame'>\n",
      "Int64Index: 1761 entries, 1318 to 5580\n",
      "Data columns (total 17 columns):\n",
      " #   Column            Non-Null Count  Dtype  \n",
      "---  ------            --------------  -----  \n",
      " 0   Type              1761 non-null   object \n",
      " 1   PaperlessBilling  1761 non-null   object \n",
      " 2   PaymentMethod     1761 non-null   object \n",
      " 3   MonthlyCharges    1761 non-null   float16\n",
      " 4   TotalCharges      1761 non-null   float16\n",
      " 5   days              1761 non-null   int64  \n",
      " 6   SeniorCitizen     1761 non-null   object \n",
      " 7   Partner           1761 non-null   object \n",
      " 8   Dependents        1761 non-null   object \n",
      " 9   InternetService   1761 non-null   object \n",
      " 10  OnlineSecurity    1761 non-null   object \n",
      " 11  OnlineBackup      1761 non-null   object \n",
      " 12  DeviceProtection  1761 non-null   object \n",
      " 13  TechSupport       1761 non-null   object \n",
      " 14  StreamingTV       1761 non-null   object \n",
      " 15  StreamingMovies   1761 non-null   object \n",
      " 16  MultipleLines     1761 non-null   object \n",
      "dtypes: float16(2), int64(1), object(14)\n",
      "memory usage: 227.0+ KB\n"
     ]
    },
    {
     "data": {
      "text/plain": [
       "None"
      ]
     },
     "metadata": {},
     "output_type": "display_data"
    },
    {
     "data": {
      "text/html": [
       "<div>\n",
       "<style scoped>\n",
       "    .dataframe tbody tr th:only-of-type {\n",
       "        vertical-align: middle;\n",
       "    }\n",
       "\n",
       "    .dataframe tbody tr th {\n",
       "        vertical-align: top;\n",
       "    }\n",
       "\n",
       "    .dataframe thead th {\n",
       "        text-align: right;\n",
       "    }\n",
       "</style>\n",
       "<table border=\"1\" class=\"dataframe\">\n",
       "  <thead>\n",
       "    <tr style=\"text-align: right;\">\n",
       "      <th></th>\n",
       "      <th>Type</th>\n",
       "      <th>PaperlessBilling</th>\n",
       "      <th>PaymentMethod</th>\n",
       "      <th>MonthlyCharges</th>\n",
       "      <th>TotalCharges</th>\n",
       "      <th>days</th>\n",
       "      <th>SeniorCitizen</th>\n",
       "      <th>Partner</th>\n",
       "      <th>Dependents</th>\n",
       "      <th>InternetService</th>\n",
       "      <th>OnlineSecurity</th>\n",
       "      <th>OnlineBackup</th>\n",
       "      <th>DeviceProtection</th>\n",
       "      <th>TechSupport</th>\n",
       "      <th>StreamingTV</th>\n",
       "      <th>StreamingMovies</th>\n",
       "      <th>MultipleLines</th>\n",
       "    </tr>\n",
       "  </thead>\n",
       "  <tbody>\n",
       "    <tr>\n",
       "      <th>count</th>\n",
       "      <td>1761</td>\n",
       "      <td>1761</td>\n",
       "      <td>1761</td>\n",
       "      <td>1761.000000</td>\n",
       "      <td>1761.00</td>\n",
       "      <td>1761.000000</td>\n",
       "      <td>1761.0</td>\n",
       "      <td>1761</td>\n",
       "      <td>1761</td>\n",
       "      <td>1761</td>\n",
       "      <td>1761</td>\n",
       "      <td>1761</td>\n",
       "      <td>1761</td>\n",
       "      <td>1761</td>\n",
       "      <td>1761</td>\n",
       "      <td>1761</td>\n",
       "      <td>1761</td>\n",
       "    </tr>\n",
       "    <tr>\n",
       "      <th>unique</th>\n",
       "      <td>3</td>\n",
       "      <td>2</td>\n",
       "      <td>4</td>\n",
       "      <td>NaN</td>\n",
       "      <td>NaN</td>\n",
       "      <td>NaN</td>\n",
       "      <td>2.0</td>\n",
       "      <td>2</td>\n",
       "      <td>2</td>\n",
       "      <td>3</td>\n",
       "      <td>2</td>\n",
       "      <td>2</td>\n",
       "      <td>2</td>\n",
       "      <td>2</td>\n",
       "      <td>2</td>\n",
       "      <td>2</td>\n",
       "      <td>2</td>\n",
       "    </tr>\n",
       "    <tr>\n",
       "      <th>top</th>\n",
       "      <td>Month-to-month</td>\n",
       "      <td>Yes</td>\n",
       "      <td>Electronic check</td>\n",
       "      <td>NaN</td>\n",
       "      <td>NaN</td>\n",
       "      <td>NaN</td>\n",
       "      <td>0.0</td>\n",
       "      <td>No</td>\n",
       "      <td>No</td>\n",
       "      <td>Fiber optic</td>\n",
       "      <td>No</td>\n",
       "      <td>No</td>\n",
       "      <td>No</td>\n",
       "      <td>No</td>\n",
       "      <td>No</td>\n",
       "      <td>No</td>\n",
       "      <td>No</td>\n",
       "    </tr>\n",
       "    <tr>\n",
       "      <th>freq</th>\n",
       "      <td>934</td>\n",
       "      <td>1046</td>\n",
       "      <td>614</td>\n",
       "      <td>NaN</td>\n",
       "      <td>NaN</td>\n",
       "      <td>NaN</td>\n",
       "      <td>1465.0</td>\n",
       "      <td>891</td>\n",
       "      <td>1244</td>\n",
       "      <td>787</td>\n",
       "      <td>1263</td>\n",
       "      <td>1164</td>\n",
       "      <td>1126</td>\n",
       "      <td>1232</td>\n",
       "      <td>1072</td>\n",
       "      <td>1062</td>\n",
       "      <td>1016</td>\n",
       "    </tr>\n",
       "    <tr>\n",
       "      <th>mean</th>\n",
       "      <td>NaN</td>\n",
       "      <td>NaN</td>\n",
       "      <td>NaN</td>\n",
       "      <td>inf</td>\n",
       "      <td>inf</td>\n",
       "      <td>997.817149</td>\n",
       "      <td>NaN</td>\n",
       "      <td>NaN</td>\n",
       "      <td>NaN</td>\n",
       "      <td>NaN</td>\n",
       "      <td>NaN</td>\n",
       "      <td>NaN</td>\n",
       "      <td>NaN</td>\n",
       "      <td>NaN</td>\n",
       "      <td>NaN</td>\n",
       "      <td>NaN</td>\n",
       "      <td>NaN</td>\n",
       "    </tr>\n",
       "    <tr>\n",
       "      <th>std</th>\n",
       "      <td>NaN</td>\n",
       "      <td>NaN</td>\n",
       "      <td>NaN</td>\n",
       "      <td>30.234375</td>\n",
       "      <td>inf</td>\n",
       "      <td>739.486035</td>\n",
       "      <td>NaN</td>\n",
       "      <td>NaN</td>\n",
       "      <td>NaN</td>\n",
       "      <td>NaN</td>\n",
       "      <td>NaN</td>\n",
       "      <td>NaN</td>\n",
       "      <td>NaN</td>\n",
       "      <td>NaN</td>\n",
       "      <td>NaN</td>\n",
       "      <td>NaN</td>\n",
       "      <td>NaN</td>\n",
       "    </tr>\n",
       "    <tr>\n",
       "      <th>min</th>\n",
       "      <td>NaN</td>\n",
       "      <td>NaN</td>\n",
       "      <td>NaN</td>\n",
       "      <td>18.406250</td>\n",
       "      <td>0.00</td>\n",
       "      <td>0.000000</td>\n",
       "      <td>NaN</td>\n",
       "      <td>NaN</td>\n",
       "      <td>NaN</td>\n",
       "      <td>NaN</td>\n",
       "      <td>NaN</td>\n",
       "      <td>NaN</td>\n",
       "      <td>NaN</td>\n",
       "      <td>NaN</td>\n",
       "      <td>NaN</td>\n",
       "      <td>NaN</td>\n",
       "      <td>NaN</td>\n",
       "    </tr>\n",
       "    <tr>\n",
       "      <th>25%</th>\n",
       "      <td>NaN</td>\n",
       "      <td>NaN</td>\n",
       "      <td>NaN</td>\n",
       "      <td>36.000000</td>\n",
       "      <td>422.25</td>\n",
       "      <td>304.000000</td>\n",
       "      <td>NaN</td>\n",
       "      <td>NaN</td>\n",
       "      <td>NaN</td>\n",
       "      <td>NaN</td>\n",
       "      <td>NaN</td>\n",
       "      <td>NaN</td>\n",
       "      <td>NaN</td>\n",
       "      <td>NaN</td>\n",
       "      <td>NaN</td>\n",
       "      <td>NaN</td>\n",
       "      <td>NaN</td>\n",
       "    </tr>\n",
       "    <tr>\n",
       "      <th>50%</th>\n",
       "      <td>NaN</td>\n",
       "      <td>NaN</td>\n",
       "      <td>NaN</td>\n",
       "      <td>70.375000</td>\n",
       "      <td>1426.00</td>\n",
       "      <td>914.000000</td>\n",
       "      <td>NaN</td>\n",
       "      <td>NaN</td>\n",
       "      <td>NaN</td>\n",
       "      <td>NaN</td>\n",
       "      <td>NaN</td>\n",
       "      <td>NaN</td>\n",
       "      <td>NaN</td>\n",
       "      <td>NaN</td>\n",
       "      <td>NaN</td>\n",
       "      <td>NaN</td>\n",
       "      <td>NaN</td>\n",
       "    </tr>\n",
       "    <tr>\n",
       "      <th>75%</th>\n",
       "      <td>NaN</td>\n",
       "      <td>NaN</td>\n",
       "      <td>NaN</td>\n",
       "      <td>90.562500</td>\n",
       "      <td>3906.00</td>\n",
       "      <td>1676.000000</td>\n",
       "      <td>NaN</td>\n",
       "      <td>NaN</td>\n",
       "      <td>NaN</td>\n",
       "      <td>NaN</td>\n",
       "      <td>NaN</td>\n",
       "      <td>NaN</td>\n",
       "      <td>NaN</td>\n",
       "      <td>NaN</td>\n",
       "      <td>NaN</td>\n",
       "      <td>NaN</td>\n",
       "      <td>NaN</td>\n",
       "    </tr>\n",
       "    <tr>\n",
       "      <th>max</th>\n",
       "      <td>NaN</td>\n",
       "      <td>NaN</td>\n",
       "      <td>NaN</td>\n",
       "      <td>118.625000</td>\n",
       "      <td>8528.00</td>\n",
       "      <td>2191.000000</td>\n",
       "      <td>NaN</td>\n",
       "      <td>NaN</td>\n",
       "      <td>NaN</td>\n",
       "      <td>NaN</td>\n",
       "      <td>NaN</td>\n",
       "      <td>NaN</td>\n",
       "      <td>NaN</td>\n",
       "      <td>NaN</td>\n",
       "      <td>NaN</td>\n",
       "      <td>NaN</td>\n",
       "      <td>NaN</td>\n",
       "    </tr>\n",
       "  </tbody>\n",
       "</table>\n",
       "</div>"
      ],
      "text/plain": [
       "                  Type PaperlessBilling     PaymentMethod  MonthlyCharges  \\\n",
       "count             1761             1761              1761     1761.000000   \n",
       "unique               3                2                 4             NaN   \n",
       "top     Month-to-month              Yes  Electronic check             NaN   \n",
       "freq               934             1046               614             NaN   \n",
       "mean               NaN              NaN               NaN             inf   \n",
       "std                NaN              NaN               NaN       30.234375   \n",
       "min                NaN              NaN               NaN       18.406250   \n",
       "25%                NaN              NaN               NaN       36.000000   \n",
       "50%                NaN              NaN               NaN       70.375000   \n",
       "75%                NaN              NaN               NaN       90.562500   \n",
       "max                NaN              NaN               NaN      118.625000   \n",
       "\n",
       "        TotalCharges         days  SeniorCitizen Partner Dependents  \\\n",
       "count        1761.00  1761.000000         1761.0    1761       1761   \n",
       "unique           NaN          NaN            2.0       2          2   \n",
       "top              NaN          NaN            0.0      No         No   \n",
       "freq             NaN          NaN         1465.0     891       1244   \n",
       "mean             inf   997.817149            NaN     NaN        NaN   \n",
       "std              inf   739.486035            NaN     NaN        NaN   \n",
       "min             0.00     0.000000            NaN     NaN        NaN   \n",
       "25%           422.25   304.000000            NaN     NaN        NaN   \n",
       "50%          1426.00   914.000000            NaN     NaN        NaN   \n",
       "75%          3906.00  1676.000000            NaN     NaN        NaN   \n",
       "max          8528.00  2191.000000            NaN     NaN        NaN   \n",
       "\n",
       "       InternetService OnlineSecurity OnlineBackup DeviceProtection  \\\n",
       "count             1761           1761         1761             1761   \n",
       "unique               3              2            2                2   \n",
       "top        Fiber optic             No           No               No   \n",
       "freq               787           1263         1164             1126   \n",
       "mean               NaN            NaN          NaN              NaN   \n",
       "std                NaN            NaN          NaN              NaN   \n",
       "min                NaN            NaN          NaN              NaN   \n",
       "25%                NaN            NaN          NaN              NaN   \n",
       "50%                NaN            NaN          NaN              NaN   \n",
       "75%                NaN            NaN          NaN              NaN   \n",
       "max                NaN            NaN          NaN              NaN   \n",
       "\n",
       "       TechSupport StreamingTV StreamingMovies MultipleLines  \n",
       "count         1761        1761            1761          1761  \n",
       "unique           2           2               2             2  \n",
       "top             No          No              No            No  \n",
       "freq          1232        1072            1062          1016  \n",
       "mean           NaN         NaN             NaN           NaN  \n",
       "std            NaN         NaN             NaN           NaN  \n",
       "min            NaN         NaN             NaN           NaN  \n",
       "25%            NaN         NaN             NaN           NaN  \n",
       "50%            NaN         NaN             NaN           NaN  \n",
       "75%            NaN         NaN             NaN           NaN  \n",
       "max            NaN         NaN             NaN           NaN  "
      ]
     },
     "metadata": {},
     "output_type": "display_data"
    }
   ],
   "source": [
    "get_data_info(features_test)"
   ]
  },
  {
   "cell_type": "code",
   "execution_count": 42,
   "id": "406aba9a",
   "metadata": {},
   "outputs": [
    {
     "name": "stdout",
     "output_type": "stream",
     "text": [
      "['Type', 'PaperlessBilling', 'PaymentMethod', 'SeniorCitizen', 'Partner', 'Dependents', 'InternetService', 'OnlineSecurity', 'OnlineBackup', 'DeviceProtection', 'TechSupport', 'StreamingTV', 'StreamingMovies', 'MultipleLines']\n"
     ]
    },
    {
     "data": {
      "text/plain": [
       "['Type',\n",
       " 'PaperlessBilling',\n",
       " 'PaymentMethod',\n",
       " 'SeniorCitizen',\n",
       " 'Partner',\n",
       " 'Dependents',\n",
       " 'InternetService',\n",
       " 'OnlineSecurity',\n",
       " 'OnlineBackup',\n",
       " 'DeviceProtection',\n",
       " 'TechSupport',\n",
       " 'StreamingTV',\n",
       " 'StreamingMovies',\n",
       " 'MultipleLines']"
      ]
     },
     "execution_count": 42,
     "metadata": {},
     "output_type": "execute_result"
    }
   ],
   "source": [
    "features = data.drop(['client_leave'], axis=1)\n",
    "target = data['client_leave']\n",
    "\n",
    "X_train, X_test, y_train, y_test = train_test_split(\n",
    "    features, target, test_size=0.25, random_state=RANDOM_STATE\n",
    ")\n",
    "#категориальные признаки для OHE Ridge\n",
    "ohe_features_ridge = X_train.select_dtypes(include='object').columns.to_list()\n",
    "print(ohe_features_ridge)\n",
    "\n",
    "#категориальные признаки для OHE RandomForest\n",
    "ohe_features_rf = ohe_features_ridge.copy()\n",
    "ohe_features_rf"
   ]
  },
  {
   "cell_type": "code",
   "execution_count": 43,
   "id": "c0a71488",
   "metadata": {},
   "outputs": [
    {
     "data": {
      "text/plain": [
       "['MonthlyCharges', 'TotalCharges', 'days']"
      ]
     },
     "execution_count": 43,
     "metadata": {},
     "output_type": "execute_result"
    }
   ],
   "source": [
    "#численные признаки\n",
    "num_features = X_train.select_dtypes(exclude='object').columns.to_list()\n",
    "num_features"
   ]
  },
  {
   "cell_type": "code",
   "execution_count": 44,
   "id": "f12a3115",
   "metadata": {},
   "outputs": [],
   "source": [
    "X_train_ridge = X_train.copy()\n",
    "X_test_ridge = X_test.copy()"
   ]
  },
  {
   "cell_type": "code",
   "execution_count": 45,
   "id": "2acbac11",
   "metadata": {},
   "outputs": [
    {
     "data": {
      "text/html": [
       "<div>\n",
       "<style scoped>\n",
       "    .dataframe tbody tr th:only-of-type {\n",
       "        vertical-align: middle;\n",
       "    }\n",
       "\n",
       "    .dataframe tbody tr th {\n",
       "        vertical-align: top;\n",
       "    }\n",
       "\n",
       "    .dataframe thead th {\n",
       "        text-align: right;\n",
       "    }\n",
       "</style>\n",
       "<table border=\"1\" class=\"dataframe\">\n",
       "  <thead>\n",
       "    <tr style=\"text-align: right;\">\n",
       "      <th></th>\n",
       "      <th>MonthlyCharges</th>\n",
       "      <th>TotalCharges</th>\n",
       "      <th>days</th>\n",
       "      <th>Type_One year</th>\n",
       "      <th>Type_Two year</th>\n",
       "      <th>PaperlessBilling_Yes</th>\n",
       "      <th>PaymentMethod_Credit card (automatic)</th>\n",
       "      <th>PaymentMethod_Electronic check</th>\n",
       "      <th>PaymentMethod_Mailed check</th>\n",
       "      <th>SeniorCitizen_1</th>\n",
       "      <th>...</th>\n",
       "      <th>Dependents_Yes</th>\n",
       "      <th>InternetService_Fiber optic</th>\n",
       "      <th>InternetService_No</th>\n",
       "      <th>OnlineSecurity_Yes</th>\n",
       "      <th>OnlineBackup_Yes</th>\n",
       "      <th>DeviceProtection_Yes</th>\n",
       "      <th>TechSupport_Yes</th>\n",
       "      <th>StreamingTV_Yes</th>\n",
       "      <th>StreamingMovies_Yes</th>\n",
       "      <th>MultipleLines_Yes</th>\n",
       "    </tr>\n",
       "  </thead>\n",
       "  <tbody>\n",
       "    <tr>\n",
       "      <th>3792</th>\n",
       "      <td>0.881364</td>\n",
       "      <td>0.033137</td>\n",
       "      <td>-0.257657</td>\n",
       "      <td>0.0</td>\n",
       "      <td>0.0</td>\n",
       "      <td>1.0</td>\n",
       "      <td>0.0</td>\n",
       "      <td>1.0</td>\n",
       "      <td>0.0</td>\n",
       "      <td>1.0</td>\n",
       "      <td>...</td>\n",
       "      <td>0.0</td>\n",
       "      <td>1.0</td>\n",
       "      <td>0.0</td>\n",
       "      <td>0.0</td>\n",
       "      <td>0.0</td>\n",
       "      <td>0.0</td>\n",
       "      <td>0.0</td>\n",
       "      <td>1.0</td>\n",
       "      <td>1.0</td>\n",
       "      <td>0.0</td>\n",
       "    </tr>\n",
       "    <tr>\n",
       "      <th>4005</th>\n",
       "      <td>-1.364625</td>\n",
       "      <td>-0.996877</td>\n",
       "      <td>-1.273501</td>\n",
       "      <td>0.0</td>\n",
       "      <td>0.0</td>\n",
       "      <td>1.0</td>\n",
       "      <td>0.0</td>\n",
       "      <td>0.0</td>\n",
       "      <td>1.0</td>\n",
       "      <td>0.0</td>\n",
       "      <td>...</td>\n",
       "      <td>0.0</td>\n",
       "      <td>0.0</td>\n",
       "      <td>1.0</td>\n",
       "      <td>0.0</td>\n",
       "      <td>0.0</td>\n",
       "      <td>0.0</td>\n",
       "      <td>0.0</td>\n",
       "      <td>0.0</td>\n",
       "      <td>0.0</td>\n",
       "      <td>1.0</td>\n",
       "    </tr>\n",
       "    <tr>\n",
       "      <th>1766</th>\n",
       "      <td>-1.481598</td>\n",
       "      <td>-0.749344</td>\n",
       "      <td>-0.216222</td>\n",
       "      <td>1.0</td>\n",
       "      <td>0.0</td>\n",
       "      <td>1.0</td>\n",
       "      <td>0.0</td>\n",
       "      <td>0.0</td>\n",
       "      <td>1.0</td>\n",
       "      <td>0.0</td>\n",
       "      <td>...</td>\n",
       "      <td>1.0</td>\n",
       "      <td>0.0</td>\n",
       "      <td>1.0</td>\n",
       "      <td>0.0</td>\n",
       "      <td>0.0</td>\n",
       "      <td>0.0</td>\n",
       "      <td>0.0</td>\n",
       "      <td>0.0</td>\n",
       "      <td>0.0</td>\n",
       "      <td>0.0</td>\n",
       "    </tr>\n",
       "    <tr>\n",
       "      <th>210</th>\n",
       "      <td>-0.630931</td>\n",
       "      <td>-0.970129</td>\n",
       "      <td>-1.233401</td>\n",
       "      <td>0.0</td>\n",
       "      <td>0.0</td>\n",
       "      <td>1.0</td>\n",
       "      <td>1.0</td>\n",
       "      <td>0.0</td>\n",
       "      <td>0.0</td>\n",
       "      <td>0.0</td>\n",
       "      <td>...</td>\n",
       "      <td>0.0</td>\n",
       "      <td>0.0</td>\n",
       "      <td>0.0</td>\n",
       "      <td>0.0</td>\n",
       "      <td>0.0</td>\n",
       "      <td>0.0</td>\n",
       "      <td>0.0</td>\n",
       "      <td>0.0</td>\n",
       "      <td>0.0</td>\n",
       "      <td>0.0</td>\n",
       "    </tr>\n",
       "    <tr>\n",
       "      <th>3419</th>\n",
       "      <td>0.910608</td>\n",
       "      <td>1.859590</td>\n",
       "      <td>1.494672</td>\n",
       "      <td>0.0</td>\n",
       "      <td>1.0</td>\n",
       "      <td>1.0</td>\n",
       "      <td>0.0</td>\n",
       "      <td>0.0</td>\n",
       "      <td>1.0</td>\n",
       "      <td>0.0</td>\n",
       "      <td>...</td>\n",
       "      <td>1.0</td>\n",
       "      <td>1.0</td>\n",
       "      <td>0.0</td>\n",
       "      <td>0.0</td>\n",
       "      <td>1.0</td>\n",
       "      <td>0.0</td>\n",
       "      <td>1.0</td>\n",
       "      <td>1.0</td>\n",
       "      <td>0.0</td>\n",
       "      <td>0.0</td>\n",
       "    </tr>\n",
       "  </tbody>\n",
       "</table>\n",
       "<p>5 rows × 21 columns</p>\n",
       "</div>"
      ],
      "text/plain": [
       "      MonthlyCharges  TotalCharges      days  Type_One year  Type_Two year  \\\n",
       "3792        0.881364      0.033137 -0.257657            0.0            0.0   \n",
       "4005       -1.364625     -0.996877 -1.273501            0.0            0.0   \n",
       "1766       -1.481598     -0.749344 -0.216222            1.0            0.0   \n",
       "210        -0.630931     -0.970129 -1.233401            0.0            0.0   \n",
       "3419        0.910608      1.859590  1.494672            0.0            1.0   \n",
       "\n",
       "      PaperlessBilling_Yes  PaymentMethod_Credit card (automatic)  \\\n",
       "3792                   1.0                                    0.0   \n",
       "4005                   1.0                                    0.0   \n",
       "1766                   1.0                                    0.0   \n",
       "210                    1.0                                    1.0   \n",
       "3419                   1.0                                    0.0   \n",
       "\n",
       "      PaymentMethod_Electronic check  PaymentMethod_Mailed check  \\\n",
       "3792                             1.0                         0.0   \n",
       "4005                             0.0                         1.0   \n",
       "1766                             0.0                         1.0   \n",
       "210                              0.0                         0.0   \n",
       "3419                             0.0                         1.0   \n",
       "\n",
       "      SeniorCitizen_1  ...  Dependents_Yes  InternetService_Fiber optic  \\\n",
       "3792              1.0  ...             0.0                          1.0   \n",
       "4005              0.0  ...             0.0                          0.0   \n",
       "1766              0.0  ...             1.0                          0.0   \n",
       "210               0.0  ...             0.0                          0.0   \n",
       "3419              0.0  ...             1.0                          1.0   \n",
       "\n",
       "      InternetService_No  OnlineSecurity_Yes  OnlineBackup_Yes  \\\n",
       "3792                 0.0                 0.0               0.0   \n",
       "4005                 1.0                 0.0               0.0   \n",
       "1766                 1.0                 0.0               0.0   \n",
       "210                  0.0                 0.0               0.0   \n",
       "3419                 0.0                 0.0               1.0   \n",
       "\n",
       "      DeviceProtection_Yes  TechSupport_Yes  StreamingTV_Yes  \\\n",
       "3792                   0.0              0.0              1.0   \n",
       "4005                   0.0              0.0              0.0   \n",
       "1766                   0.0              0.0              0.0   \n",
       "210                    0.0              0.0              0.0   \n",
       "3419                   0.0              1.0              1.0   \n",
       "\n",
       "      StreamingMovies_Yes  MultipleLines_Yes  \n",
       "3792                  1.0                0.0  \n",
       "4005                  0.0                1.0  \n",
       "1766                  0.0                0.0  \n",
       "210                   0.0                0.0  \n",
       "3419                  0.0                0.0  \n",
       "\n",
       "[5 rows x 21 columns]"
      ]
     },
     "execution_count": 45,
     "metadata": {},
     "output_type": "execute_result"
    }
   ],
   "source": [
    "encoder_ohe = OneHotEncoder(drop='first', handle_unknown='ignore', sparse=False)\n",
    "\n",
    "# обучаем энкодер на заданных категориальных признаках тренировочной выборки\n",
    "encoder_ohe.fit(X_train_ridge[ohe_features_ridge])\n",
    "\n",
    "# добавляем закодированные признаки в X_train_ohe\n",
    "# encoder_ohe.get_feature_names_out() позволяет получить названия колонок\n",
    "X_train_ridge[\n",
    "    encoder_ohe.get_feature_names_out()\n",
    "] = encoder_ohe.transform(X_train_ridge[ohe_features_ridge])\n",
    "\n",
    "# удаляем незакодированные категориальные признаки (изначальные колонки)\n",
    "X_train_ridge = X_train_ridge.drop(ohe_features_ridge, axis=1)\n",
    "\n",
    "# создаём скелер\n",
    "scaler = StandardScaler()\n",
    "\n",
    "# обучаем его на численных признаках тренировочной выборки, трансформируем её же\n",
    "X_train_ridge[num_features] = scaler.fit_transform(X_train_ridge[num_features])\n",
    "\n",
    "# выводим результат\n",
    "X_train_ridge.head()"
   ]
  },
  {
   "cell_type": "code",
   "execution_count": 46,
   "id": "089b39d5",
   "metadata": {},
   "outputs": [
    {
     "data": {
      "text/html": [
       "<div>\n",
       "<style scoped>\n",
       "    .dataframe tbody tr th:only-of-type {\n",
       "        vertical-align: middle;\n",
       "    }\n",
       "\n",
       "    .dataframe tbody tr th {\n",
       "        vertical-align: top;\n",
       "    }\n",
       "\n",
       "    .dataframe thead th {\n",
       "        text-align: right;\n",
       "    }\n",
       "</style>\n",
       "<table border=\"1\" class=\"dataframe\">\n",
       "  <thead>\n",
       "    <tr style=\"text-align: right;\">\n",
       "      <th></th>\n",
       "      <th>MonthlyCharges</th>\n",
       "      <th>TotalCharges</th>\n",
       "      <th>days</th>\n",
       "      <th>Type_One year</th>\n",
       "      <th>Type_Two year</th>\n",
       "      <th>PaperlessBilling_Yes</th>\n",
       "      <th>PaymentMethod_Credit card (automatic)</th>\n",
       "      <th>PaymentMethod_Electronic check</th>\n",
       "      <th>PaymentMethod_Mailed check</th>\n",
       "      <th>SeniorCitizen_1</th>\n",
       "      <th>...</th>\n",
       "      <th>Dependents_Yes</th>\n",
       "      <th>InternetService_Fiber optic</th>\n",
       "      <th>InternetService_No</th>\n",
       "      <th>OnlineSecurity_Yes</th>\n",
       "      <th>OnlineBackup_Yes</th>\n",
       "      <th>DeviceProtection_Yes</th>\n",
       "      <th>TechSupport_Yes</th>\n",
       "      <th>StreamingTV_Yes</th>\n",
       "      <th>StreamingMovies_Yes</th>\n",
       "      <th>MultipleLines_Yes</th>\n",
       "    </tr>\n",
       "  </thead>\n",
       "  <tbody>\n",
       "    <tr>\n",
       "      <th>6199</th>\n",
       "      <td>0.824967</td>\n",
       "      <td>0.698589</td>\n",
       "      <td>0.434720</td>\n",
       "      <td>0.0</td>\n",
       "      <td>0.0</td>\n",
       "      <td>1.0</td>\n",
       "      <td>0.0</td>\n",
       "      <td>0.0</td>\n",
       "      <td>1.0</td>\n",
       "      <td>1.0</td>\n",
       "      <td>...</td>\n",
       "      <td>0.0</td>\n",
       "      <td>1.0</td>\n",
       "      <td>0.0</td>\n",
       "      <td>0.0</td>\n",
       "      <td>0.0</td>\n",
       "      <td>0.0</td>\n",
       "      <td>0.0</td>\n",
       "      <td>1.0</td>\n",
       "      <td>1.0</td>\n",
       "      <td>0.0</td>\n",
       "    </tr>\n",
       "    <tr>\n",
       "      <th>3521</th>\n",
       "      <td>-0.382363</td>\n",
       "      <td>0.342855</td>\n",
       "      <td>1.006800</td>\n",
       "      <td>1.0</td>\n",
       "      <td>0.0</td>\n",
       "      <td>0.0</td>\n",
       "      <td>0.0</td>\n",
       "      <td>1.0</td>\n",
       "      <td>0.0</td>\n",
       "      <td>0.0</td>\n",
       "      <td>...</td>\n",
       "      <td>1.0</td>\n",
       "      <td>0.0</td>\n",
       "      <td>0.0</td>\n",
       "      <td>1.0</td>\n",
       "      <td>1.0</td>\n",
       "      <td>0.0</td>\n",
       "      <td>0.0</td>\n",
       "      <td>0.0</td>\n",
       "      <td>0.0</td>\n",
       "      <td>0.0</td>\n",
       "    </tr>\n",
       "    <tr>\n",
       "      <th>5344</th>\n",
       "      <td>0.400939</td>\n",
       "      <td>1.436603</td>\n",
       "      <td>1.576207</td>\n",
       "      <td>0.0</td>\n",
       "      <td>1.0</td>\n",
       "      <td>1.0</td>\n",
       "      <td>1.0</td>\n",
       "      <td>0.0</td>\n",
       "      <td>0.0</td>\n",
       "      <td>0.0</td>\n",
       "      <td>...</td>\n",
       "      <td>1.0</td>\n",
       "      <td>0.0</td>\n",
       "      <td>0.0</td>\n",
       "      <td>1.0</td>\n",
       "      <td>1.0</td>\n",
       "      <td>1.0</td>\n",
       "      <td>1.0</td>\n",
       "      <td>1.0</td>\n",
       "      <td>0.0</td>\n",
       "      <td>0.0</td>\n",
       "    </tr>\n",
       "    <tr>\n",
       "      <th>6795</th>\n",
       "      <td>0.676661</td>\n",
       "      <td>1.027775</td>\n",
       "      <td>0.925265</td>\n",
       "      <td>0.0</td>\n",
       "      <td>0.0</td>\n",
       "      <td>1.0</td>\n",
       "      <td>0.0</td>\n",
       "      <td>1.0</td>\n",
       "      <td>0.0</td>\n",
       "      <td>0.0</td>\n",
       "      <td>...</td>\n",
       "      <td>1.0</td>\n",
       "      <td>1.0</td>\n",
       "      <td>0.0</td>\n",
       "      <td>1.0</td>\n",
       "      <td>1.0</td>\n",
       "      <td>0.0</td>\n",
       "      <td>0.0</td>\n",
       "      <td>0.0</td>\n",
       "      <td>0.0</td>\n",
       "      <td>1.0</td>\n",
       "    </tr>\n",
       "    <tr>\n",
       "      <th>3168</th>\n",
       "      <td>-1.521807</td>\n",
       "      <td>-0.550461</td>\n",
       "      <td>0.720760</td>\n",
       "      <td>1.0</td>\n",
       "      <td>0.0</td>\n",
       "      <td>1.0</td>\n",
       "      <td>0.0</td>\n",
       "      <td>0.0</td>\n",
       "      <td>1.0</td>\n",
       "      <td>0.0</td>\n",
       "      <td>...</td>\n",
       "      <td>0.0</td>\n",
       "      <td>0.0</td>\n",
       "      <td>1.0</td>\n",
       "      <td>0.0</td>\n",
       "      <td>0.0</td>\n",
       "      <td>0.0</td>\n",
       "      <td>0.0</td>\n",
       "      <td>0.0</td>\n",
       "      <td>0.0</td>\n",
       "      <td>0.0</td>\n",
       "    </tr>\n",
       "  </tbody>\n",
       "</table>\n",
       "<p>5 rows × 21 columns</p>\n",
       "</div>"
      ],
      "text/plain": [
       "      MonthlyCharges  TotalCharges      days  Type_One year  Type_Two year  \\\n",
       "6199        0.824967      0.698589  0.434720            0.0            0.0   \n",
       "3521       -0.382363      0.342855  1.006800            1.0            0.0   \n",
       "5344        0.400939      1.436603  1.576207            0.0            1.0   \n",
       "6795        0.676661      1.027775  0.925265            0.0            0.0   \n",
       "3168       -1.521807     -0.550461  0.720760            1.0            0.0   \n",
       "\n",
       "      PaperlessBilling_Yes  PaymentMethod_Credit card (automatic)  \\\n",
       "6199                   1.0                                    0.0   \n",
       "3521                   0.0                                    0.0   \n",
       "5344                   1.0                                    1.0   \n",
       "6795                   1.0                                    0.0   \n",
       "3168                   1.0                                    0.0   \n",
       "\n",
       "      PaymentMethod_Electronic check  PaymentMethod_Mailed check  \\\n",
       "6199                             0.0                         1.0   \n",
       "3521                             1.0                         0.0   \n",
       "5344                             0.0                         0.0   \n",
       "6795                             1.0                         0.0   \n",
       "3168                             0.0                         1.0   \n",
       "\n",
       "      SeniorCitizen_1  ...  Dependents_Yes  InternetService_Fiber optic  \\\n",
       "6199              1.0  ...             0.0                          1.0   \n",
       "3521              0.0  ...             1.0                          0.0   \n",
       "5344              0.0  ...             1.0                          0.0   \n",
       "6795              0.0  ...             1.0                          1.0   \n",
       "3168              0.0  ...             0.0                          0.0   \n",
       "\n",
       "      InternetService_No  OnlineSecurity_Yes  OnlineBackup_Yes  \\\n",
       "6199                 0.0                 0.0               0.0   \n",
       "3521                 0.0                 1.0               1.0   \n",
       "5344                 0.0                 1.0               1.0   \n",
       "6795                 0.0                 1.0               1.0   \n",
       "3168                 1.0                 0.0               0.0   \n",
       "\n",
       "      DeviceProtection_Yes  TechSupport_Yes  StreamingTV_Yes  \\\n",
       "6199                   0.0              0.0              1.0   \n",
       "3521                   0.0              0.0              0.0   \n",
       "5344                   1.0              1.0              1.0   \n",
       "6795                   0.0              0.0              0.0   \n",
       "3168                   0.0              0.0              0.0   \n",
       "\n",
       "      StreamingMovies_Yes  MultipleLines_Yes  \n",
       "6199                  1.0                0.0  \n",
       "3521                  0.0                0.0  \n",
       "5344                  0.0                0.0  \n",
       "6795                  0.0                1.0  \n",
       "3168                  0.0                0.0  \n",
       "\n",
       "[5 rows x 21 columns]"
      ]
     },
     "execution_count": 46,
     "metadata": {},
     "output_type": "execute_result"
    }
   ],
   "source": [
    "# энкодером, который обучен на ТРЕНИРОВОЧНОЙ ВЫБОРКЕ, кодируем тестовую\n",
    "X_test_ridge[\n",
    "    encoder_ohe.get_feature_names_out()\n",
    "] = encoder_ohe.transform(X_test_ridge[ohe_features_ridge])\n",
    "\n",
    "X_test_ridge = X_test_ridge.drop(ohe_features_ridge, axis=1)\n",
    "\n",
    "# скелером, который обучен на ТРЕНИРОВОЧНОЙ ВЫБОРКЕ, масштабируем тестовую\n",
    "X_test_ridge[num_features] = scaler.transform(\n",
    "    X_test_ridge[num_features]\n",
    ")\n",
    "\n",
    "# выводим результат\n",
    "X_test_ridge.head()"
   ]
  },
  {
   "cell_type": "code",
   "execution_count": 47,
   "id": "b2fb64e5",
   "metadata": {},
   "outputs": [
    {
     "data": {
      "text/plain": [
       "((5282, 21), (1761, 21))"
      ]
     },
     "execution_count": 47,
     "metadata": {},
     "output_type": "execute_result"
    }
   ],
   "source": [
    "# получилось одинаковое количество признаков\n",
    "X_train_ridge.shape, X_test_ridge.shape"
   ]
  },
  {
   "cell_type": "code",
   "execution_count": 48,
   "id": "14ad9039",
   "metadata": {},
   "outputs": [
    {
     "data": {
      "text/plain": [
       "0"
      ]
     },
     "execution_count": 48,
     "metadata": {},
     "output_type": "execute_result"
    }
   ],
   "source": [
    "# получились одинаковые признаки в тренировочной и тестовой выборках\n",
    "(X_train_ridge.columns != X_test_ridge.columns).sum()"
   ]
  },
  {
   "cell_type": "markdown",
   "id": "e704370b",
   "metadata": {},
   "source": [
    "## Обучение моделей\n",
    "### Base model"
   ]
  },
  {
   "cell_type": "code",
   "execution_count": 49,
   "id": "4923ee66",
   "metadata": {},
   "outputs": [
    {
     "name": "stdout",
     "output_type": "stream",
     "text": [
      "AUC-ROC базовой модели: 0.5\n",
      "CPU times: user 3.22 ms, sys: 376 µs, total: 3.59 ms\n",
      "Wall time: 12.3 ms\n"
     ]
    }
   ],
   "source": [
    "%%time\n",
    "dummy_clf = DummyClassifier(strategy=\"most_frequent\")\n",
    "dummy_clf.fit(features_train, target_train)\n",
    "result = roc_auc_score(target_test, dummy_clf.predict(features_test))\n",
    "print(\"AUC-ROC базовой модели:\", round(result, 2))"
   ]
  },
  {
   "cell_type": "markdown",
   "id": "ac8b9172",
   "metadata": {},
   "source": [
    "Базовая модель дала результат 0.5, что, конечно, ниже ТЗ (`auc-roc` > 0,85). Однако, теперь мы уверены, что задачу нельзя было решить более простой моделью. Поэтому перейдём к более сложным моделям."
   ]
  },
  {
   "cell_type": "markdown",
   "id": "93273063",
   "metadata": {},
   "source": [
    "### RidgeClassifier"
   ]
  },
  {
   "cell_type": "code",
   "execution_count": 50,
   "id": "3d188afa",
   "metadata": {},
   "outputs": [
    {
     "name": "stdout",
     "output_type": "stream",
     "text": [
      "best_score: 0.8421530735278836\n",
      "best_params: {'alpha': 0.1}\n",
      "CPU times: user 24.5 s, sys: 27.9 s, total: 52.4 s\n",
      "Wall time: 52.4 s\n"
     ]
    }
   ],
   "source": [
    "%%time\n",
    "model_ridge = RidgeClassifier(random_state=RANDOM_STATE)\n",
    "\n",
    "# словарь с гиперпараметрами и значениями, которые хотим перебрать\n",
    "param_grid_ridge = {\n",
    "    'alpha': np.arange(0.1, 1, 0.01),\n",
    "}\n",
    "\n",
    "gs_ridge = GridSearchCV(\n",
    "    model_ridge, \n",
    "    param_grid=param_grid_ridge, \n",
    "    scoring='roc_auc', \n",
    "    n_jobs=-1)\n",
    "\n",
    "gs_ridge.fit(X_train_ridge, y_train)\n",
    "\n",
    "# лучшее значение roc_auc на кросс-валидации\n",
    "print(f'best_score: {gs_ridge.best_score_ }')\n",
    "\n",
    "# лучшие гиперпараметры\n",
    "print(f'best_params: {gs_ridge.best_params_}')"
   ]
  },
  {
   "cell_type": "markdown",
   "id": "ea1aeec1",
   "metadata": {},
   "source": [
    "Результат уже лучше базовой модели, однако, до ТЗ ещё немного не дотягивает (0,85). Поэтому для начала посмотрим на другие модели."
   ]
  },
  {
   "cell_type": "markdown",
   "id": "e7446c39",
   "metadata": {},
   "source": [
    "### Случайный лес"
   ]
  },
  {
   "cell_type": "code",
   "execution_count": 51,
   "id": "b01953ac",
   "metadata": {},
   "outputs": [],
   "source": [
    "X_train_rf = X_train.copy()\n",
    "X_test_rf = X_test.copy()"
   ]
  },
  {
   "cell_type": "code",
   "execution_count": 52,
   "id": "f61322e8",
   "metadata": {},
   "outputs": [
    {
     "name": "stdout",
     "output_type": "stream",
     "text": [
      "best_score: 0.8652203952733938\n",
      "best_params: {'randomforestclassifier__n_estimators': 198, 'randomforestclassifier__min_samples_split': 6, 'randomforestclassifier__min_samples_leaf': 2, 'randomforestclassifier__max_depth': 9}\n",
      "CPU times: user 18 s, sys: 0 ns, total: 18 s\n",
      "Wall time: 18 s\n"
     ]
    }
   ],
   "source": [
    "%%time\n",
    "col_transformer_rf= make_column_transformer(\n",
    "    (\n",
    "        OneHotEncoder(drop='first', handle_unknown='ignore'), \n",
    "        ohe_features_rf\n",
    "    ),\n",
    "    (\n",
    "        StandardScaler(), \n",
    "        num_features\n",
    "    ),\n",
    "    remainder='passthrough'\n",
    ")\n",
    "\n",
    "model_rf = RandomForestClassifier(random_state=RANDOM_STATE)\n",
    "\n",
    "pipline_rf = make_pipeline(col_transformer_rf, model_rf)\n",
    "\n",
    "param_grid_rf = {'randomforestclassifier__n_estimators': range (10, 200),\n",
    "                 'randomforestclassifier__max_depth': range (4, 20),\n",
    "                 'randomforestclassifier__min_samples_leaf': range (1,8),\n",
    "                 'randomforestclassifier__min_samples_split': range (2,10,2) }\n",
    "\n",
    "# получается достаточно много комбинаций гиперпараметров при переборе\n",
    "# будем использовать RandomizedSearchCV, он работает намного быстрее\n",
    "gs_rf = RandomizedSearchCV(\n",
    "    pipline_rf, \n",
    "    param_distributions=param_grid_rf, \n",
    "    scoring='roc_auc', \n",
    "    n_jobs=-1, \n",
    "    random_state=RANDOM_STATE\n",
    ")\n",
    "\n",
    "gs_rf.fit(X_train_rf, y_train)\n",
    "\n",
    "gs_rf_best_score = gs_rf.best_score_\n",
    "gs_rf_best_params = gs_rf.best_params_\n",
    "print(f'best_score: {gs_rf_best_score}')\n",
    "print(f'best_params: {gs_rf_best_params}')"
   ]
  },
  {
   "cell_type": "markdown",
   "id": "c02b9f03",
   "metadata": {},
   "source": [
    "Отлично, результат выше ТЗ. Однако, рассмотрим ещё пару моделей, вдруг там окажется результат лучше."
   ]
  },
  {
   "cell_type": "markdown",
   "id": "7a2eedf4",
   "metadata": {},
   "source": [
    "### CatBoostClassifier"
   ]
  },
  {
   "cell_type": "code",
   "execution_count": 53,
   "id": "cedbcae4",
   "metadata": {},
   "outputs": [],
   "source": [
    "X_train_cb = X_train.copy()\n",
    "X_test_cb = X_test.copy()"
   ]
  },
  {
   "cell_type": "markdown",
   "id": "d4dc3688",
   "metadata": {},
   "source": [
    "Потратив несколько часов времени на подсчёты в итоге сузила размах подбора гиперпараметров, чтобы обучение проходило за более быстрый срок. Поэтому модель ниже будет обучаться значительно быстрее."
   ]
  },
  {
   "cell_type": "code",
   "execution_count": 54,
   "id": "4ca4abe6",
   "metadata": {},
   "outputs": [
    {
     "name": "stdout",
     "output_type": "stream",
     "text": [
      "0:\tlearn: 0.5302563\ttotal: 52.1ms\tremaining: 20.8s\n",
      "100:\tlearn: 0.2464817\ttotal: 484ms\tremaining: 1.43s\n",
      "200:\tlearn: 0.1898072\ttotal: 889ms\tremaining: 880ms\n",
      "300:\tlearn: 0.1533143\ttotal: 1.29s\tremaining: 425ms\n",
      "399:\tlearn: 0.1275288\ttotal: 1.74s\tremaining: 0us\n",
      "0:\tlearn: 0.5306972\ttotal: 4.88ms\tremaining: 1.95s\n",
      "100:\tlearn: 0.2372705\ttotal: 441ms\tremaining: 1.3s\n",
      "200:\tlearn: 0.1806583\ttotal: 850ms\tremaining: 841ms\n",
      "300:\tlearn: 0.1432878\ttotal: 1.31s\tremaining: 430ms\n",
      "399:\tlearn: 0.1198734\ttotal: 1.73s\tremaining: 0us\n",
      "0:\tlearn: 0.5401908\ttotal: 4.65ms\tremaining: 1.85s\n",
      "100:\tlearn: 0.2432490\ttotal: 406ms\tremaining: 1.2s\n",
      "200:\tlearn: 0.1871335\ttotal: 826ms\tremaining: 818ms\n",
      "300:\tlearn: 0.1496668\ttotal: 1.24s\tremaining: 406ms\n",
      "399:\tlearn: 0.1231329\ttotal: 1.67s\tremaining: 0us\n",
      "0:\tlearn: 0.5344166\ttotal: 4.48ms\tremaining: 1.79s\n",
      "100:\tlearn: 0.2318746\ttotal: 431ms\tremaining: 1.27s\n",
      "200:\tlearn: 0.1773914\ttotal: 860ms\tremaining: 852ms\n",
      "300:\tlearn: 0.1414266\ttotal: 1.33s\tremaining: 439ms\n",
      "399:\tlearn: 0.1191844\ttotal: 1.74s\tremaining: 0us\n",
      "0:\tlearn: 0.5365525\ttotal: 5.55ms\tremaining: 2.22s\n",
      "100:\tlearn: 0.2367297\ttotal: 405ms\tremaining: 1.2s\n",
      "200:\tlearn: 0.1731476\ttotal: 846ms\tremaining: 837ms\n",
      "300:\tlearn: 0.1407570\ttotal: 1.27s\tremaining: 419ms\n",
      "399:\tlearn: 0.1139976\ttotal: 1.69s\tremaining: 0us\n",
      "0:\tlearn: 0.5302563\ttotal: 5.25ms\tremaining: 2.62s\n",
      "100:\tlearn: 0.2464817\ttotal: 446ms\tremaining: 1.76s\n",
      "200:\tlearn: 0.1898072\ttotal: 881ms\tremaining: 1.31s\n",
      "300:\tlearn: 0.1533143\ttotal: 1.28s\tremaining: 849ms\n",
      "400:\tlearn: 0.1275126\ttotal: 1.71s\tremaining: 422ms\n",
      "499:\tlearn: 0.1054668\ttotal: 2.13s\tremaining: 0us\n",
      "0:\tlearn: 0.5306972\ttotal: 4.91ms\tremaining: 2.45s\n",
      "100:\tlearn: 0.2372705\ttotal: 417ms\tremaining: 1.65s\n",
      "200:\tlearn: 0.1806583\ttotal: 844ms\tremaining: 1.25s\n",
      "300:\tlearn: 0.1432878\ttotal: 1.28s\tremaining: 848ms\n",
      "400:\tlearn: 0.1194947\ttotal: 1.7s\tremaining: 420ms\n",
      "499:\tlearn: 0.1021431\ttotal: 2.14s\tremaining: 0us\n",
      "0:\tlearn: 0.5401908\ttotal: 4.71ms\tremaining: 2.35s\n",
      "100:\tlearn: 0.2432490\ttotal: 468ms\tremaining: 1.85s\n",
      "200:\tlearn: 0.1871335\ttotal: 990ms\tremaining: 1.47s\n",
      "300:\tlearn: 0.1496668\ttotal: 1.42s\tremaining: 942ms\n",
      "400:\tlearn: 0.1229113\ttotal: 1.84s\tremaining: 454ms\n",
      "499:\tlearn: 0.1024921\ttotal: 2.29s\tremaining: 0us\n",
      "0:\tlearn: 0.5344166\ttotal: 4.67ms\tremaining: 2.33s\n",
      "100:\tlearn: 0.2318746\ttotal: 494ms\tremaining: 1.95s\n",
      "200:\tlearn: 0.1773914\ttotal: 923ms\tremaining: 1.37s\n",
      "300:\tlearn: 0.1414266\ttotal: 1.39s\tremaining: 917ms\n",
      "400:\tlearn: 0.1188991\ttotal: 1.84s\tremaining: 455ms\n",
      "499:\tlearn: 0.0998225\ttotal: 2.31s\tremaining: 0us\n",
      "0:\tlearn: 0.5365525\ttotal: 4.51ms\tremaining: 2.25s\n",
      "100:\tlearn: 0.2367297\ttotal: 442ms\tremaining: 1.74s\n",
      "200:\tlearn: 0.1731476\ttotal: 854ms\tremaining: 1.27s\n",
      "300:\tlearn: 0.1407570\ttotal: 1.31s\tremaining: 870ms\n",
      "400:\tlearn: 0.1137026\ttotal: 1.75s\tremaining: 432ms\n",
      "499:\tlearn: 0.0946156\ttotal: 2.22s\tremaining: 0us\n",
      "0:\tlearn: 0.5039129\ttotal: 6.37ms\tremaining: 2.54s\n",
      "100:\tlearn: 0.2145787\ttotal: 512ms\tremaining: 1.51s\n",
      "200:\tlearn: 0.1422566\ttotal: 1.01s\tremaining: 996ms\n",
      "300:\tlearn: 0.1057050\ttotal: 1.63s\tremaining: 535ms\n",
      "399:\tlearn: 0.0838429\ttotal: 2.24s\tremaining: 0us\n",
      "0:\tlearn: 0.5202958\ttotal: 5.85ms\tremaining: 2.33s\n",
      "100:\tlearn: 0.2151673\ttotal: 521ms\tremaining: 1.54s\n",
      "200:\tlearn: 0.1519186\ttotal: 1.04s\tremaining: 1.03s\n",
      "300:\tlearn: 0.1109183\ttotal: 1.54s\tremaining: 506ms\n",
      "399:\tlearn: 0.0862086\ttotal: 2.03s\tremaining: 0us\n",
      "0:\tlearn: 0.5044769\ttotal: 7.6ms\tremaining: 3.03s\n",
      "100:\tlearn: 0.2082514\ttotal: 514ms\tremaining: 1.52s\n",
      "200:\tlearn: 0.1489696\ttotal: 1.05s\tremaining: 1.04s\n",
      "300:\tlearn: 0.1087259\ttotal: 1.56s\tremaining: 513ms\n",
      "399:\tlearn: 0.0820549\ttotal: 2.1s\tremaining: 0us\n",
      "0:\tlearn: 0.5013593\ttotal: 6.16ms\tremaining: 2.46s\n",
      "100:\tlearn: 0.2109884\ttotal: 488ms\tremaining: 1.45s\n",
      "200:\tlearn: 0.1414277\ttotal: 1.01s\tremaining: 999ms\n",
      "300:\tlearn: 0.1028968\ttotal: 1.52s\tremaining: 502ms\n",
      "399:\tlearn: 0.0794874\ttotal: 2.08s\tremaining: 0us\n",
      "0:\tlearn: 0.5022623\ttotal: 5.55ms\tremaining: 2.22s\n",
      "100:\tlearn: 0.2024504\ttotal: 498ms\tremaining: 1.47s\n",
      "200:\tlearn: 0.1402896\ttotal: 1.06s\tremaining: 1.05s\n",
      "300:\tlearn: 0.1011318\ttotal: 1.66s\tremaining: 547ms\n",
      "399:\tlearn: 0.0797461\ttotal: 2.25s\tremaining: 0us\n",
      "0:\tlearn: 0.5039129\ttotal: 6.32ms\tremaining: 3.15s\n",
      "100:\tlearn: 0.2145787\ttotal: 534ms\tremaining: 2.11s\n",
      "200:\tlearn: 0.1422566\ttotal: 1.04s\tremaining: 1.54s\n",
      "300:\tlearn: 0.1057050\ttotal: 1.56s\tremaining: 1.03s\n",
      "400:\tlearn: 0.0834031\ttotal: 2.06s\tremaining: 507ms\n",
      "499:\tlearn: 0.0644575\ttotal: 2.57s\tremaining: 0us\n",
      "0:\tlearn: 0.5202958\ttotal: 8.91ms\tremaining: 4.45s\n",
      "100:\tlearn: 0.2151673\ttotal: 540ms\tremaining: 2.13s\n",
      "200:\tlearn: 0.1519186\ttotal: 1.05s\tremaining: 1.56s\n",
      "300:\tlearn: 0.1109183\ttotal: 1.55s\tremaining: 1.02s\n",
      "400:\tlearn: 0.0861634\ttotal: 2.11s\tremaining: 521ms\n",
      "499:\tlearn: 0.0691905\ttotal: 2.61s\tremaining: 0us\n",
      "0:\tlearn: 0.5044769\ttotal: 5.99ms\tremaining: 2.99s\n",
      "100:\tlearn: 0.2082514\ttotal: 528ms\tremaining: 2.08s\n",
      "200:\tlearn: 0.1489696\ttotal: 1.09s\tremaining: 1.63s\n",
      "300:\tlearn: 0.1087259\ttotal: 1.65s\tremaining: 1.09s\n",
      "400:\tlearn: 0.0817833\ttotal: 2.17s\tremaining: 535ms\n",
      "499:\tlearn: 0.0652879\ttotal: 2.67s\tremaining: 0us\n",
      "0:\tlearn: 0.5013593\ttotal: 5.62ms\tremaining: 2.8s\n",
      "100:\tlearn: 0.2109884\ttotal: 513ms\tremaining: 2.03s\n",
      "200:\tlearn: 0.1414277\ttotal: 1.02s\tremaining: 1.52s\n",
      "300:\tlearn: 0.1028968\ttotal: 1.58s\tremaining: 1.04s\n",
      "400:\tlearn: 0.0794495\ttotal: 2.12s\tremaining: 523ms\n",
      "499:\tlearn: 0.0626364\ttotal: 2.66s\tremaining: 0us\n",
      "0:\tlearn: 0.5022623\ttotal: 6.31ms\tremaining: 3.15s\n",
      "100:\tlearn: 0.2024504\ttotal: 528ms\tremaining: 2.09s\n",
      "200:\tlearn: 0.1402896\ttotal: 1.08s\tremaining: 1.61s\n",
      "300:\tlearn: 0.1011318\ttotal: 1.61s\tremaining: 1.06s\n",
      "400:\tlearn: 0.0796879\ttotal: 2.17s\tremaining: 536ms\n",
      "499:\tlearn: 0.0625162\ttotal: 2.71s\tremaining: 0us\n",
      "0:\tlearn: 0.5376626\ttotal: 5.65ms\tremaining: 2.25s\n",
      "100:\tlearn: 0.2516588\ttotal: 525ms\tremaining: 1.55s\n",
      "200:\tlearn: 0.1919866\ttotal: 1.07s\tremaining: 1.06s\n",
      "300:\tlearn: 0.1551537\ttotal: 1.58s\tremaining: 521ms\n",
      "399:\tlearn: 0.1316832\ttotal: 2.1s\tremaining: 0us\n",
      "best_score: 0.9179155183492014\n",
      "best_params: {'depth': 4, 'iterations': 400, 'learning_rate': 0.4}\n",
      "CPU times: user 47.6 s, sys: 93.2 ms, total: 47.7 s\n",
      "Wall time: 59.8 s\n"
     ]
    }
   ],
   "source": [
    "%%time\n",
    "cat_features = ohe_features_rf.copy()\n",
    "model_cb = CatBoostClassifier(random_state=RANDOM_STATE)\n",
    "\n",
    "# словарь с гиперпараметрами и значениями, которые хотим перебрать\n",
    "param_grid_cb = {\n",
    "    'iterations': range(400, 600, 100),\n",
    "    'learning_rate': np.arange(0.4, 0.5, 0.1),\n",
    "    'depth': range(4, 6)\n",
    "}\n",
    "\n",
    "\n",
    "gs_cb = GridSearchCV(\n",
    "    model_cb, \n",
    "    param_grid=param_grid_cb, \n",
    "    scoring='roc_auc', \n",
    "    n_jobs=-1)\n",
    "\n",
    "\n",
    "gs_cb.fit(X_train_cb, y_train, cat_features=cat_features, verbose=100)\n",
    "\n",
    "# лучшее значение roc_auc\n",
    "print(f'best_score: {gs_cb.best_score_}')\n",
    "\n",
    "# лучшие гиперпараметры\n",
    "print(f'best_params: {gs_cb.best_params_}')\n"
   ]
  },
  {
   "cell_type": "code",
   "execution_count": 55,
   "id": "ecd579e8",
   "metadata": {},
   "outputs": [
    {
     "name": "stdout",
     "output_type": "stream",
     "text": [
      "0:\tlearn: 0.5376626\ttotal: 6.19ms\tremaining: 2.47s\n",
      "399:\tlearn: 0.1316832\ttotal: 2.02s\tremaining: 0us\n"
     ]
    },
    {
     "data": {
      "text/plain": [
       "<catboost.core.CatBoostClassifier at 0x7fc45dd6e9d0>"
      ]
     },
     "execution_count": 55,
     "metadata": {},
     "output_type": "execute_result"
    }
   ],
   "source": [
    "# сохранение параметров лучшей модели\n",
    "model_best = CatBoostClassifier(random_state=RANDOM_STATE,\n",
    "                               cat_features=cat_features,\n",
    "                               iterations=400,\n",
    "                               depth = 4,\n",
    "                               learning_rate=0.4)\n",
    "model_best.fit(X_train_cb, y_train, verbose=500)"
   ]
  },
  {
   "cell_type": "markdown",
   "id": "f074374f",
   "metadata": {},
   "source": [
    "Отлично, результат выше ТЗ достигнут и у `CatBoost` результат оказался немного выше `RandomForest`. Поэтому лучшей моделью становится `CatBoost`. Перейдём к её тестированию  на тестовых данных."
   ]
  },
  {
   "cell_type": "markdown",
   "id": "665dba31",
   "metadata": {},
   "source": [
    "## Тестирование лучшей модели"
   ]
  },
  {
   "cell_type": "code",
   "execution_count": 56,
   "id": "16b01a91",
   "metadata": {},
   "outputs": [
    {
     "name": "stdout",
     "output_type": "stream",
     "text": [
      "AUC-ROC лучшей модели: 0.9106598154970356\n"
     ]
    }
   ],
   "source": [
    "cb_prediction = gs_cb.predict_proba(X_test_cb)[:, 1]\n",
    "res_best_model = roc_auc_score(y_test, cb_prediction)\n",
    "print('AUC-ROC лучшей модели:', res_best_model)"
   ]
  },
  {
   "cell_type": "markdown",
   "id": "0dfc4fc7",
   "metadata": {},
   "source": [
    "Отлично, результат на тестовых данных также оказался выше ТЗ (0,85 и выше). Проверим также лучшую модель на метрику `acuracy`."
   ]
  },
  {
   "cell_type": "code",
   "execution_count": 57,
   "id": "2df1dcdd",
   "metadata": {},
   "outputs": [
    {
     "name": "stdout",
     "output_type": "stream",
     "text": [
      "Точность лучшей модели: 0.865\n"
     ]
    }
   ],
   "source": [
    "print('Точность лучшей модели:', accuracy_score(y_test, gs_cb.predict(X_test_cb)).round(3))"
   ]
  },
  {
   "cell_type": "markdown",
   "id": "954114e6",
   "metadata": {},
   "source": [
    "Другими словами получаем, что модель предсказывает верно в 86 случая из 100. Ниже представлен график `ROC-кривой`."
   ]
  },
  {
   "cell_type": "code",
   "execution_count": 58,
   "id": "e3ddef0e",
   "metadata": {},
   "outputs": [
    {
     "data": {
      "image/png": "[encoded data removed]",
      "text/plain": [
       "<Figure size 432x288 with 1 Axes>"
      ]
     },
     "metadata": {
      "needs_background": "light"
     },
     "output_type": "display_data"
    }
   ],
   "source": [
    "# график ROC-кривой\n",
    "fpr, tpr, thresholds = roc_curve(y_test, cb_prediction)\n",
    "\n",
    "plt.figure()\n",
    "plt.plot(fpr, tpr)\n",
    "plt.plot([0, 1], [0, 1], linestyle='--')\n",
    "plt.ylim([0.0, 1.0])\n",
    "plt.xlim([0.0, 1.0])\n",
    "plt.xlabel('False Positive Rate')\n",
    "plt.ylabel('True Positive Rate')\n",
    "plt.title('ROC-кривая')\n",
    "plt.show()"
   ]
  },
  {
   "cell_type": "markdown",
   "id": "112fea96",
   "metadata": {},
   "source": [
    "А также рассмотрим какие признаки оказались важны для обучения нашей модели."
   ]
  },
  {
   "cell_type": "code",
   "execution_count": 59,
   "id": "9aef003d",
   "metadata": {},
   "outputs": [
    {
     "data": {
      "image/png": "[encoded data removed]",
      "text/plain": [
       "<Figure size 432x288 with 1 Axes>"
      ]
     },
     "metadata": {
      "needs_background": "light"
     },
     "output_type": "display_data"
    }
   ],
   "source": [
    "# построение графика, какие фичи оказались наиболее важными для модели\n",
    "def feature_import_barplot(model_best):\n",
    "    feature_importance = model_best.feature_importances_\n",
    "    feature_imp = pd.DataFrame(sorted(zip(feature_importance, features.columns)), columns=['Value','Feature'])\n",
    "    sns.barplot(x=\"Value\", y=\"Feature\", data=feature_imp.sort_values(by=\"Value\", ascending=False))\n",
    "    plt.title('Feature importance')\n",
    "    plt.tight_layout()\n",
    "    plt.show();\n",
    "    \n",
    "feature_import_barplot(model_best)    "
   ]
  },
  {
   "cell_type": "markdown",
   "id": "fd338b68",
   "metadata": {},
   "source": [
    "Получается, что самый важный признак при обучении модели оказался - количество дней, которые абонент провёл в компании. На втором месте и с большим разрывом - ежемесечная оплата абонентом. И замыкает тройку - общее количество потраченных денег абонентом. \n",
    "\n",
    "Матрица ошибок представлена ниже."
   ]
  },
  {
   "cell_type": "code",
   "execution_count": 82,
   "id": "bf84b13c",
   "metadata": {},
   "outputs": [
    {
     "data": {
      "text/plain": [
       "array([[1217,   90],\n",
       "       [ 147,  307]])"
      ]
     },
     "execution_count": 82,
     "metadata": {},
     "output_type": "execute_result"
    }
   ],
   "source": [
    "confusion_matrix(y_test, model_best.predict(X_test_cb))"
   ]
  },
  {
   "cell_type": "code",
   "execution_count": 81,
   "id": "96619e64",
   "metadata": {},
   "outputs": [
    {
     "data": {
      "image/png": "[encoded data removed]",
      "text/plain": [
       "<Figure size 432x288 with 2 Axes>"
      ]
     },
     "metadata": {
      "needs_background": "light"
     },
     "output_type": "display_data"
    }
   ],
   "source": [
    "# матрица ошибок\n",
    "\n",
    "color = 'black'\n",
    "matrix = plot_confusion_matrix(model_best, X_test_cb, y_test, cmap=plt.cm.Blues)\n",
    "plt.xlabel('Predicted Label', color=color)\n",
    "plt.ylabel('True Label', color=color)\n",
    "plt.title('')\n",
    "plt.gcf().axes[0].tick_params(colors=color)\n",
    "plt.gcf().axes[1].tick_params(colors=color)\n",
    "plt.title('Confusion Matrix')\n",
    "plt.show()"
   ]
  },
  {
   "cell_type": "markdown",
   "id": "35819573",
   "metadata": {},
   "source": [
    "## Выводы"
   ]
  },
  {
   "cell_type": "markdown",
   "id": "8e06c002",
   "metadata": {},
   "source": [
    "Данный проект выполнялся для оператора связи «Ниединогоразрыва.ком», которые хотят научиться прогнозировать отток клиентов. Прогнозирование необходимо, чтобы в случае, если пользователь планирует уйти, то ему будут предложены промоокды и специальные условия. Для обучения модели машинного обучения были подготовлены персональные данные о некоторых клиентах, информация их тарифах и договорах.\n",
    "\n",
    "**Цель проекта:**\n",
    "Построить модель, которая будет предсказывать планирует ли клиент уходить. При этом метриика `auc-roc` должна быть выше 0,85.\n",
    "\n",
    "Более подробно информация об основных типах услуг была рассмотрена при описании данных. Информация о договорах актуальна на 1 февраля 2020.\n",
    "\n",
    "Проект содержит в себе несколько этапов, поэтому рассмотрим более подробно каждый из них.\n",
    "\n",
    "**1. Исследовательский анализ данных**\n",
    "В ходе первого этапа, были рассмотрены данные, которые состояли из четырёх источников.\n",
    "\n",
    "- `contract.csv` — информация о договоре;\n",
    "- `personal.csv` — персональные данные клиента;\n",
    "- `internet.csv` — информация об интернет-услугах;\n",
    "- `phone.csv` — информация об услугах телефонии.\n",
    "\n",
    "Во всех файлах столбец `customerID` содержит код клиента.\n",
    "\n",
    "Было выяснено, что всего были получены данные 7043 клиентов, а меньшее количество значений в столбцах `internet.csv` и `phone.csv` было по причине того, что не все клиенты пользовались услугами интернета или телефонии.\n",
    "\n",
    "Был создан новый столбец `days` - это количество дней проведённых клиентами в компании для ушедших клиентов, либо на день сбора данных, которые продолжают пользоваться услугами связи оператора.\n",
    "\n",
    "Четыре файла были объедены в один для более удобной работы с данными, после чего были была проведена работа над изменением типов данных, устранением пропусков и другой подготовкой данный для предстоящего обучения.\n",
    "\n",
    "*Также в рамках данного блока*, был проведён корреляционный анализ, где самая высокая корреляция была целевого признака с количеством дней клиента в компании (0,47). Рассмотрев более подробно каждый из признаков было принято решение удалить признак `gender`, в силу того, что он не коррелировал с целевым признаком, и среди данных поравну количество клиентов мужского и женского полов.\n",
    "\n",
    "**2. Подготовка данных под модели**\n",
    "\n",
    "На втором этапе, было деление данных на две группы: обучение и тестирование. Также для более качественного обучение части моделей данные были закодированы и приведены к одинаковому масштабу.\n",
    "\n",
    "**3. Обучение моделей**\n",
    "\n",
    "Для выполнения цели было выбрано несколько моделей: `DummyClassifier`, `RidgeClassifier`, `RandomForestClassifier`, `CatBoostClassifier`.\n",
    "\n",
    "Базовая модель (в нашем случае `DummyClassifier`) использовалась для проверки, может ли более простая модель решить поставленную задачу. Однако, её результат в 0,5 нас не удовлетворил, поэтому были рассмотрены уже модели машинного обучения.\n",
    "\n",
    "Модели на тестовых данных `RandomForestClassifier` и `CatBoostClassifier` смогли показать результаты выше ТЗ (`AUC-ROC>0.85`), однако результат у `CatBoostClassifier` оказался выше, поэтому только на ней проводили тестирование.\n",
    "\n",
    "Обучение моделей и прочее описание более подробно изложено в данном блоке проекта.\n",
    "\n",
    "**4. Тестирование лучшей модели**\n",
    "\n",
    "Ниже представлены результаты лучшей модели `CatBoostClassifier` на тестовых данных. Использовалось две метрики: `AUC-ROC` и `accuracy`.\n"
   ]
  },
  {
   "cell_type": "code",
   "execution_count": 60,
   "id": "731a5aea",
   "metadata": {},
   "outputs": [
    {
     "name": "stdout",
     "output_type": "stream",
     "text": [
      "AUC-ROC лучшей модели: 0.911\n",
      "Точность лучшей модели: 0.865\n"
     ]
    }
   ],
   "source": [
    "print('AUC-ROC лучшей модели:', res_best_model.round(3))\n",
    "print('Точность лучшей модели:', accuracy_score(y_test, gs_cb.predict(X_test_cb)).round(3))"
   ]
  },
  {
   "attachments": {
    "image-2.png": {
     "image/png": "[encoded data removed]"
    },
    "image-3.png": {
     "image/png": "[encoded data removed]"
    },
    "image.png": {
     "image/png": "[encoded data removed]"
    }
   },
   "cell_type": "markdown",
   "id": "dbd0a28b",
   "metadata": {},
   "source": [
    "![image-2.png](attachment:image-2.png)\n",
    "\n",
    "На графике выше представлено распределение значимости каждых признаков данных. Самым важным признаком для модели оказалось количество дней, проведённых клиентом в компании, далее количество потраченных средств за месяц и после общее количество трат. Подобные результаты мы уже видели при проведении корреляционного анализа.\n",
    "\n",
    "А на графике ниже представлена матрица ошибок лучшей модели.\n",
    "\n",
    "![image.png](attachment:image.png)\n",
    "\n",
    "А также график AUC-ROC\n",
    "![image-3.png](attachment:image-3.png)"
   ]
  }
 ],
 "metadata": {
  "ExecuteTimeLog": [
   {
    "duration": 403,
    "start_time": "2023-03-03T10:13:24.567Z"
   },
   {
    "duration": 510,
    "start_time": "2023-03-03T10:13:24.973Z"
   },
   {
    "duration": 59,
    "start_time": "2023-03-03T10:13:25.485Z"
   },
   {
    "duration": 36,
    "start_time": "2023-03-03T10:13:25.545Z"
   },
   {
    "duration": 42,
    "start_time": "2023-03-03T10:13:25.583Z"
   },
   {
    "duration": 48,
    "start_time": "2023-03-03T10:13:25.626Z"
   },
   {
    "duration": 8,
    "start_time": "2023-03-03T10:13:25.676Z"
   },
   {
    "duration": 9,
    "start_time": "2023-03-03T10:13:25.686Z"
   },
   {
    "duration": 11,
    "start_time": "2023-03-03T10:13:25.697Z"
   },
   {
    "duration": 2,
    "start_time": "2023-03-03T10:13:25.710Z"
   },
   {
    "duration": 1390,
    "start_time": "2023-03-03T10:13:25.714Z"
   },
   {
    "duration": 7,
    "start_time": "2023-03-03T10:13:48.174Z"
   },
   {
    "duration": 21,
    "start_time": "2023-03-03T10:14:45.878Z"
   },
   {
    "duration": 18,
    "start_time": "2023-03-03T10:15:07.117Z"
   },
   {
    "duration": 6,
    "start_time": "2023-03-03T10:15:51.524Z"
   },
   {
    "duration": 2,
    "start_time": "2023-03-03T10:23:23.040Z"
   },
   {
    "duration": 28,
    "start_time": "2023-03-03T10:33:24.862Z"
   },
   {
    "duration": 48,
    "start_time": "2023-03-03T10:50:01.704Z"
   },
   {
    "duration": 393,
    "start_time": "2023-03-03T10:50:06.717Z"
   },
   {
    "duration": 2,
    "start_time": "2023-03-03T10:50:07.114Z"
   },
   {
    "duration": 483,
    "start_time": "2023-03-03T10:50:07.117Z"
   },
   {
    "duration": 67,
    "start_time": "2023-03-03T10:50:07.603Z"
   },
   {
    "duration": 49,
    "start_time": "2023-03-03T10:50:07.671Z"
   },
   {
    "duration": 40,
    "start_time": "2023-03-03T10:50:07.721Z"
   },
   {
    "duration": 24,
    "start_time": "2023-03-03T10:50:07.762Z"
   },
   {
    "duration": 9,
    "start_time": "2023-03-03T10:50:07.814Z"
   },
   {
    "duration": 12,
    "start_time": "2023-03-03T10:50:07.824Z"
   },
   {
    "duration": 12,
    "start_time": "2023-03-03T10:50:07.838Z"
   },
   {
    "duration": 4,
    "start_time": "2023-03-03T10:50:07.852Z"
   },
   {
    "duration": 85,
    "start_time": "2023-03-03T10:50:40.509Z"
   },
   {
    "duration": 9,
    "start_time": "2023-03-03T10:50:53.736Z"
   },
   {
    "duration": 399,
    "start_time": "2023-03-03T14:15:53.887Z"
   },
   {
    "duration": 3,
    "start_time": "2023-03-03T14:15:54.288Z"
   },
   {
    "duration": 571,
    "start_time": "2023-03-03T14:15:54.292Z"
   },
   {
    "duration": 63,
    "start_time": "2023-03-03T14:15:54.864Z"
   },
   {
    "duration": 64,
    "start_time": "2023-03-03T14:15:54.929Z"
   },
   {
    "duration": 59,
    "start_time": "2023-03-03T14:15:54.996Z"
   },
   {
    "duration": 38,
    "start_time": "2023-03-03T14:15:55.057Z"
   },
   {
    "duration": 14,
    "start_time": "2023-03-03T14:15:55.098Z"
   },
   {
    "duration": 35,
    "start_time": "2023-03-03T14:15:55.114Z"
   },
   {
    "duration": 14,
    "start_time": "2023-03-03T14:15:55.151Z"
   },
   {
    "duration": 10,
    "start_time": "2023-03-03T14:15:55.166Z"
   },
   {
    "duration": 446,
    "start_time": "2023-03-03T14:45:42.142Z"
   },
   {
    "duration": 3,
    "start_time": "2023-03-03T14:45:42.590Z"
   },
   {
    "duration": 130,
    "start_time": "2023-03-03T14:45:42.596Z"
   },
   {
    "duration": 100,
    "start_time": "2023-03-03T14:45:42.729Z"
   },
   {
    "duration": 77,
    "start_time": "2023-03-03T14:45:42.832Z"
   },
   {
    "duration": 79,
    "start_time": "2023-03-03T14:45:42.911Z"
   },
   {
    "duration": 56,
    "start_time": "2023-03-03T14:45:42.992Z"
   },
   {
    "duration": 15,
    "start_time": "2023-03-03T14:45:43.050Z"
   },
   {
    "duration": 25,
    "start_time": "2023-03-03T14:45:43.067Z"
   },
   {
    "duration": 18,
    "start_time": "2023-03-03T14:45:43.095Z"
   },
   {
    "duration": 36,
    "start_time": "2023-03-03T14:45:43.115Z"
   },
   {
    "duration": 970,
    "start_time": "2023-03-03T14:55:38.252Z"
   },
   {
    "duration": 795,
    "start_time": "2023-03-03T14:56:00.841Z"
   },
   {
    "duration": 862,
    "start_time": "2023-03-03T14:58:38.502Z"
   },
   {
    "duration": 14,
    "start_time": "2023-03-03T15:00:18.967Z"
   },
   {
    "duration": 12,
    "start_time": "2023-03-03T15:00:24.458Z"
   },
   {
    "duration": 58,
    "start_time": "2023-03-03T15:01:26.200Z"
   },
   {
    "duration": 78,
    "start_time": "2023-03-03T15:03:01.618Z"
   },
   {
    "duration": 10,
    "start_time": "2023-03-03T15:04:02.888Z"
   },
   {
    "duration": 46,
    "start_time": "2023-03-03T15:04:19.094Z"
   },
   {
    "duration": 49,
    "start_time": "2023-03-03T15:05:11.058Z"
   },
   {
    "duration": 61,
    "start_time": "2023-03-03T15:05:25.561Z"
   },
   {
    "duration": 110,
    "start_time": "2023-03-03T15:07:00.054Z"
   },
   {
    "duration": 76,
    "start_time": "2023-03-03T15:08:54.827Z"
   },
   {
    "duration": 9,
    "start_time": "2023-03-03T15:09:17.498Z"
   },
   {
    "duration": 14,
    "start_time": "2023-03-03T15:11:15.766Z"
   },
   {
    "duration": 646,
    "start_time": "2023-03-03T15:13:02.208Z"
   },
   {
    "duration": 2461,
    "start_time": "2023-03-03T15:13:22.067Z"
   },
   {
    "duration": 2320,
    "start_time": "2023-03-03T15:17:20.368Z"
   },
   {
    "duration": 2243,
    "start_time": "2023-03-03T15:18:07.468Z"
   },
   {
    "duration": 2429,
    "start_time": "2023-03-03T15:18:55.851Z"
   },
   {
    "duration": 47,
    "start_time": "2023-03-03T15:19:21.290Z"
   },
   {
    "duration": 14,
    "start_time": "2023-03-03T15:19:23.755Z"
   },
   {
    "duration": 2447,
    "start_time": "2023-03-03T15:24:02.282Z"
   },
   {
    "duration": 2341,
    "start_time": "2023-03-03T15:24:10.898Z"
   },
   {
    "duration": 2273,
    "start_time": "2023-03-03T15:24:49.983Z"
   },
   {
    "duration": 4,
    "start_time": "2023-03-03T15:26:43.928Z"
   },
   {
    "duration": 13,
    "start_time": "2023-03-03T15:26:58.831Z"
   },
   {
    "duration": 34,
    "start_time": "2023-03-03T15:27:24.044Z"
   },
   {
    "duration": 16,
    "start_time": "2023-03-03T15:27:41.809Z"
   },
   {
    "duration": 407,
    "start_time": "2023-03-03T15:27:51.577Z"
   },
   {
    "duration": 2,
    "start_time": "2023-03-03T15:27:51.989Z"
   },
   {
    "duration": 117,
    "start_time": "2023-03-03T15:27:51.993Z"
   },
   {
    "duration": 62,
    "start_time": "2023-03-03T15:27:52.111Z"
   },
   {
    "duration": 37,
    "start_time": "2023-03-03T15:27:52.175Z"
   },
   {
    "duration": 65,
    "start_time": "2023-03-03T15:27:52.213Z"
   },
   {
    "duration": 37,
    "start_time": "2023-03-03T15:27:52.280Z"
   },
   {
    "duration": 36,
    "start_time": "2023-03-03T15:27:52.320Z"
   },
   {
    "duration": 868,
    "start_time": "2023-03-03T15:27:52.358Z"
   },
   {
    "duration": 0,
    "start_time": "2023-03-03T15:27:53.227Z"
   },
   {
    "duration": 0,
    "start_time": "2023-03-03T15:27:53.229Z"
   },
   {
    "duration": 0,
    "start_time": "2023-03-03T15:27:53.230Z"
   },
   {
    "duration": 0,
    "start_time": "2023-03-03T15:27:53.232Z"
   },
   {
    "duration": 0,
    "start_time": "2023-03-03T15:27:53.234Z"
   },
   {
    "duration": 712,
    "start_time": "2023-03-03T15:28:29.072Z"
   },
   {
    "duration": 17,
    "start_time": "2023-03-03T15:28:46.159Z"
   },
   {
    "duration": 2611,
    "start_time": "2023-03-03T15:29:27.001Z"
   },
   {
    "duration": 18,
    "start_time": "2023-03-03T15:29:34.193Z"
   },
   {
    "duration": 416,
    "start_time": "2023-03-03T15:30:23.657Z"
   },
   {
    "duration": 3,
    "start_time": "2023-03-03T15:30:24.075Z"
   },
   {
    "duration": 127,
    "start_time": "2023-03-03T15:30:24.079Z"
   },
   {
    "duration": 63,
    "start_time": "2023-03-03T15:30:24.208Z"
   },
   {
    "duration": 39,
    "start_time": "2023-03-03T15:30:24.274Z"
   },
   {
    "duration": 71,
    "start_time": "2023-03-03T15:30:24.315Z"
   },
   {
    "duration": 25,
    "start_time": "2023-03-03T15:30:24.388Z"
   },
   {
    "duration": 40,
    "start_time": "2023-03-03T15:30:24.415Z"
   },
   {
    "duration": 2704,
    "start_time": "2023-03-03T15:30:24.456Z"
   },
   {
    "duration": 2,
    "start_time": "2023-03-03T15:30:27.162Z"
   },
   {
    "duration": 12,
    "start_time": "2023-03-03T15:30:27.166Z"
   },
   {
    "duration": 30,
    "start_time": "2023-03-03T15:30:27.180Z"
   },
   {
    "duration": 20,
    "start_time": "2023-03-03T15:30:27.212Z"
   },
   {
    "duration": 2763,
    "start_time": "2023-03-03T15:30:27.235Z"
   },
   {
    "duration": 59,
    "start_time": "2023-03-03T15:31:07.256Z"
   },
   {
    "duration": 55,
    "start_time": "2023-03-03T15:31:10.212Z"
   },
   {
    "duration": 2723,
    "start_time": "2023-03-03T15:31:13.950Z"
   },
   {
    "duration": 2979,
    "start_time": "2023-03-03T15:31:31.804Z"
   },
   {
    "duration": 2302,
    "start_time": "2023-03-03T15:31:46.416Z"
   },
   {
    "duration": 2521,
    "start_time": "2023-03-03T15:31:59.417Z"
   },
   {
    "duration": 59,
    "start_time": "2023-03-03T15:32:52.469Z"
   },
   {
    "duration": 12,
    "start_time": "2023-03-03T15:33:01.505Z"
   },
   {
    "duration": 2255,
    "start_time": "2023-03-03T15:33:06.412Z"
   },
   {
    "duration": 12,
    "start_time": "2023-03-03T15:33:10.479Z"
   },
   {
    "duration": 31,
    "start_time": "2023-03-03T15:33:32.264Z"
   },
   {
    "duration": 14,
    "start_time": "2023-03-03T15:33:56.103Z"
   },
   {
    "duration": 385,
    "start_time": "2023-03-03T15:34:06.971Z"
   },
   {
    "duration": 2,
    "start_time": "2023-03-03T15:34:07.359Z"
   },
   {
    "duration": 108,
    "start_time": "2023-03-03T15:34:07.362Z"
   },
   {
    "duration": 77,
    "start_time": "2023-03-03T15:34:07.472Z"
   },
   {
    "duration": 39,
    "start_time": "2023-03-03T15:34:07.552Z"
   },
   {
    "duration": 69,
    "start_time": "2023-03-03T15:34:07.593Z"
   },
   {
    "duration": 26,
    "start_time": "2023-03-03T15:34:07.663Z"
   },
   {
    "duration": 9,
    "start_time": "2023-03-03T15:34:07.691Z"
   },
   {
    "duration": 3280,
    "start_time": "2023-03-03T15:34:07.701Z"
   },
   {
    "duration": 14,
    "start_time": "2023-03-03T15:34:10.983Z"
   },
   {
    "duration": 10,
    "start_time": "2023-03-03T15:34:10.998Z"
   },
   {
    "duration": 14,
    "start_time": "2023-03-03T15:34:11.010Z"
   },
   {
    "duration": 22,
    "start_time": "2023-03-03T15:34:11.026Z"
   },
   {
    "duration": 2314,
    "start_time": "2023-03-03T15:34:11.050Z"
   },
   {
    "duration": 64,
    "start_time": "2023-03-03T15:36:24.871Z"
   },
   {
    "duration": 26,
    "start_time": "2023-03-03T15:44:13.771Z"
   },
   {
    "duration": 409,
    "start_time": "2023-03-03T15:44:52.769Z"
   },
   {
    "duration": 3,
    "start_time": "2023-03-03T15:44:53.181Z"
   },
   {
    "duration": 123,
    "start_time": "2023-03-03T15:44:53.185Z"
   },
   {
    "duration": 73,
    "start_time": "2023-03-03T15:44:53.310Z"
   },
   {
    "duration": 63,
    "start_time": "2023-03-03T15:44:53.386Z"
   },
   {
    "duration": 48,
    "start_time": "2023-03-03T15:44:53.451Z"
   },
   {
    "duration": 56,
    "start_time": "2023-03-03T15:44:53.501Z"
   },
   {
    "duration": 22,
    "start_time": "2023-03-03T15:44:53.558Z"
   },
   {
    "duration": 2566,
    "start_time": "2023-03-03T15:44:53.582Z"
   },
   {
    "duration": 21,
    "start_time": "2023-03-03T15:44:56.149Z"
   },
   {
    "duration": 6,
    "start_time": "2023-03-03T15:44:56.171Z"
   },
   {
    "duration": 21,
    "start_time": "2023-03-03T15:44:56.178Z"
   },
   {
    "duration": 9,
    "start_time": "2023-03-03T15:44:56.201Z"
   },
   {
    "duration": 2713,
    "start_time": "2023-03-03T15:44:56.213Z"
   },
   {
    "duration": 64,
    "start_time": "2023-03-03T15:46:44.990Z"
   },
   {
    "duration": 404,
    "start_time": "2023-03-03T15:47:24.472Z"
   },
   {
    "duration": 3,
    "start_time": "2023-03-03T15:47:24.878Z"
   },
   {
    "duration": 115,
    "start_time": "2023-03-03T15:47:24.882Z"
   },
   {
    "duration": 67,
    "start_time": "2023-03-03T15:47:24.999Z"
   },
   {
    "duration": 42,
    "start_time": "2023-03-03T15:47:25.069Z"
   },
   {
    "duration": 69,
    "start_time": "2023-03-03T15:47:25.112Z"
   },
   {
    "duration": 37,
    "start_time": "2023-03-03T15:47:25.183Z"
   },
   {
    "duration": 37,
    "start_time": "2023-03-03T15:47:25.223Z"
   },
   {
    "duration": 2345,
    "start_time": "2023-03-03T15:47:25.263Z"
   },
   {
    "duration": 38,
    "start_time": "2023-03-03T15:47:27.610Z"
   },
   {
    "duration": 6,
    "start_time": "2023-03-03T15:47:27.650Z"
   },
   {
    "duration": 36,
    "start_time": "2023-03-03T15:47:27.658Z"
   },
   {
    "duration": 9,
    "start_time": "2023-03-03T15:47:27.696Z"
   },
   {
    "duration": 2577,
    "start_time": "2023-03-03T15:47:27.708Z"
   },
   {
    "duration": 68,
    "start_time": "2023-03-03T15:55:04.676Z"
   },
   {
    "duration": 13,
    "start_time": "2023-03-03T15:55:09.528Z"
   },
   {
    "duration": 367,
    "start_time": "2023-03-03T15:55:18.792Z"
   },
   {
    "duration": 3,
    "start_time": "2023-03-03T15:55:19.161Z"
   },
   {
    "duration": 112,
    "start_time": "2023-03-03T15:55:19.165Z"
   },
   {
    "duration": 60,
    "start_time": "2023-03-03T15:55:19.278Z"
   },
   {
    "duration": 36,
    "start_time": "2023-03-03T15:55:19.348Z"
   },
   {
    "duration": 81,
    "start_time": "2023-03-03T15:55:19.386Z"
   },
   {
    "duration": 25,
    "start_time": "2023-03-03T15:55:19.469Z"
   },
   {
    "duration": 10,
    "start_time": "2023-03-03T15:55:19.549Z"
   },
   {
    "duration": 3163,
    "start_time": "2023-03-03T15:55:19.561Z"
   },
   {
    "duration": 12,
    "start_time": "2023-03-03T15:55:22.726Z"
   },
   {
    "duration": 8,
    "start_time": "2023-03-03T15:55:22.747Z"
   },
   {
    "duration": 15,
    "start_time": "2023-03-03T15:55:22.757Z"
   },
   {
    "duration": 7,
    "start_time": "2023-03-03T15:55:22.774Z"
   },
   {
    "duration": 2638,
    "start_time": "2023-03-03T15:55:22.783Z"
   },
   {
    "duration": 57,
    "start_time": "2023-03-03T15:55:46.270Z"
   },
   {
    "duration": 71,
    "start_time": "2023-03-03T15:55:49.184Z"
   },
   {
    "duration": 14,
    "start_time": "2023-03-03T15:55:52.281Z"
   },
   {
    "duration": 389,
    "start_time": "2023-03-03T15:58:32.074Z"
   },
   {
    "duration": 2,
    "start_time": "2023-03-03T15:58:32.465Z"
   },
   {
    "duration": 125,
    "start_time": "2023-03-03T15:58:32.469Z"
   },
   {
    "duration": 67,
    "start_time": "2023-03-03T15:58:32.596Z"
   },
   {
    "duration": 42,
    "start_time": "2023-03-03T15:58:32.665Z"
   },
   {
    "duration": 72,
    "start_time": "2023-03-03T15:58:32.709Z"
   },
   {
    "duration": 31,
    "start_time": "2023-03-03T15:58:32.783Z"
   },
   {
    "duration": 40,
    "start_time": "2023-03-03T15:58:32.816Z"
   },
   {
    "duration": 2308,
    "start_time": "2023-03-03T15:58:32.857Z"
   },
   {
    "duration": 16,
    "start_time": "2023-03-03T15:58:35.168Z"
   },
   {
    "duration": 15,
    "start_time": "2023-03-03T15:58:35.186Z"
   },
   {
    "duration": 23,
    "start_time": "2023-03-03T15:58:35.204Z"
   },
   {
    "duration": 26,
    "start_time": "2023-03-03T15:58:35.229Z"
   },
   {
    "duration": 2,
    "start_time": "2023-03-03T15:58:35.259Z"
   },
   {
    "duration": 16,
    "start_time": "2023-03-03T15:58:50.187Z"
   },
   {
    "duration": 82,
    "start_time": "2023-03-03T16:03:03.504Z"
   },
   {
    "duration": 12,
    "start_time": "2023-03-03T16:03:29.382Z"
   },
   {
    "duration": 15,
    "start_time": "2023-03-03T16:10:37.826Z"
   },
   {
    "duration": 14,
    "start_time": "2023-03-03T16:12:53.965Z"
   },
   {
    "duration": 14,
    "start_time": "2023-03-03T16:14:31.795Z"
   },
   {
    "duration": 15,
    "start_time": "2023-03-03T16:17:07.720Z"
   },
   {
    "duration": 15,
    "start_time": "2023-03-03T16:17:16.887Z"
   },
   {
    "duration": 15,
    "start_time": "2023-03-03T16:21:28.367Z"
   },
   {
    "duration": 15,
    "start_time": "2023-03-03T16:21:31.936Z"
   },
   {
    "duration": 16,
    "start_time": "2023-03-03T16:21:36.912Z"
   },
   {
    "duration": 16,
    "start_time": "2023-03-03T16:21:39.408Z"
   },
   {
    "duration": 6,
    "start_time": "2023-03-03T16:22:48.194Z"
   },
   {
    "duration": 16,
    "start_time": "2023-03-03T16:23:04.914Z"
   },
   {
    "duration": 7,
    "start_time": "2023-03-03T16:23:15.802Z"
   },
   {
    "duration": 12,
    "start_time": "2023-03-03T16:23:19.486Z"
   },
   {
    "duration": 14,
    "start_time": "2023-03-03T16:30:54.090Z"
   },
   {
    "duration": 10,
    "start_time": "2023-03-03T16:31:34.479Z"
   },
   {
    "duration": 358,
    "start_time": "2023-03-03T16:31:47.405Z"
   },
   {
    "duration": 2,
    "start_time": "2023-03-03T16:31:47.765Z"
   },
   {
    "duration": 145,
    "start_time": "2023-03-03T16:31:47.768Z"
   },
   {
    "duration": 77,
    "start_time": "2023-03-03T16:31:47.915Z"
   },
   {
    "duration": 67,
    "start_time": "2023-03-03T16:31:47.994Z"
   },
   {
    "duration": 44,
    "start_time": "2023-03-03T16:31:48.063Z"
   },
   {
    "duration": 47,
    "start_time": "2023-03-03T16:31:48.109Z"
   },
   {
    "duration": 8,
    "start_time": "2023-03-03T16:31:48.158Z"
   },
   {
    "duration": 2204,
    "start_time": "2023-03-03T16:31:48.168Z"
   },
   {
    "duration": 15,
    "start_time": "2023-03-03T16:31:50.374Z"
   },
   {
    "duration": 272,
    "start_time": "2023-03-03T16:31:50.391Z"
   },
   {
    "duration": 0,
    "start_time": "2023-03-03T16:31:50.665Z"
   },
   {
    "duration": 0,
    "start_time": "2023-03-03T16:31:50.666Z"
   },
   {
    "duration": 0,
    "start_time": "2023-03-03T16:31:50.667Z"
   },
   {
    "duration": 0,
    "start_time": "2023-03-03T16:31:50.668Z"
   },
   {
    "duration": 759,
    "start_time": "2023-03-03T16:32:32.568Z"
   },
   {
    "duration": 722,
    "start_time": "2023-03-03T16:33:11.167Z"
   },
   {
    "duration": 865,
    "start_time": "2023-03-03T16:33:23.828Z"
   },
   {
    "duration": 853,
    "start_time": "2023-03-03T16:33:59.925Z"
   },
   {
    "duration": 49,
    "start_time": "2023-03-04T17:40:26.238Z"
   },
   {
    "duration": 390,
    "start_time": "2023-03-04T17:40:33.637Z"
   },
   {
    "duration": 2,
    "start_time": "2023-03-04T17:40:34.029Z"
   },
   {
    "duration": 554,
    "start_time": "2023-03-04T17:40:34.032Z"
   },
   {
    "duration": 88,
    "start_time": "2023-03-04T17:40:34.588Z"
   },
   {
    "duration": 67,
    "start_time": "2023-03-04T17:40:34.678Z"
   },
   {
    "duration": 71,
    "start_time": "2023-03-04T17:40:34.747Z"
   },
   {
    "duration": 26,
    "start_time": "2023-03-04T17:40:34.820Z"
   },
   {
    "duration": 9,
    "start_time": "2023-03-04T17:40:34.847Z"
   },
   {
    "duration": 2537,
    "start_time": "2023-03-04T17:40:34.857Z"
   },
   {
    "duration": 16,
    "start_time": "2023-03-04T17:40:37.397Z"
   },
   {
    "duration": 17,
    "start_time": "2023-03-04T17:40:37.415Z"
   },
   {
    "duration": 14,
    "start_time": "2023-03-04T17:40:37.433Z"
   },
   {
    "duration": 98,
    "start_time": "2023-03-04T17:40:37.449Z"
   },
   {
    "duration": 0,
    "start_time": "2023-03-04T17:40:37.549Z"
   },
   {
    "duration": 0,
    "start_time": "2023-03-04T17:40:37.550Z"
   },
   {
    "duration": 0,
    "start_time": "2023-03-04T17:40:37.551Z"
   },
   {
    "duration": 12,
    "start_time": "2023-03-04T17:41:33.064Z"
   },
   {
    "duration": 8,
    "start_time": "2023-03-04T17:41:53.257Z"
   },
   {
    "duration": 549,
    "start_time": "2023-03-04T17:42:31.478Z"
   },
   {
    "duration": 3,
    "start_time": "2023-03-04T17:42:32.030Z"
   },
   {
    "duration": 152,
    "start_time": "2023-03-04T17:42:32.035Z"
   },
   {
    "duration": 81,
    "start_time": "2023-03-04T17:42:32.189Z"
   },
   {
    "duration": 57,
    "start_time": "2023-03-04T17:42:32.273Z"
   },
   {
    "duration": 90,
    "start_time": "2023-03-04T17:42:32.332Z"
   },
   {
    "duration": 38,
    "start_time": "2023-03-04T17:42:32.424Z"
   },
   {
    "duration": 28,
    "start_time": "2023-03-04T17:42:32.465Z"
   },
   {
    "duration": 2913,
    "start_time": "2023-03-04T17:42:32.495Z"
   },
   {
    "duration": 24,
    "start_time": "2023-03-04T17:42:35.410Z"
   },
   {
    "duration": 23,
    "start_time": "2023-03-04T17:42:35.436Z"
   },
   {
    "duration": 20,
    "start_time": "2023-03-04T17:42:35.461Z"
   },
   {
    "duration": 139,
    "start_time": "2023-03-04T17:42:35.484Z"
   },
   {
    "duration": 0,
    "start_time": "2023-03-04T17:42:35.625Z"
   },
   {
    "duration": 0,
    "start_time": "2023-03-04T17:42:35.627Z"
   },
   {
    "duration": 0,
    "start_time": "2023-03-04T17:42:35.629Z"
   },
   {
    "duration": 393,
    "start_time": "2023-03-04T17:44:12.699Z"
   },
   {
    "duration": 3,
    "start_time": "2023-03-04T17:44:13.094Z"
   },
   {
    "duration": 126,
    "start_time": "2023-03-04T17:44:13.098Z"
   },
   {
    "duration": 67,
    "start_time": "2023-03-04T17:44:13.226Z"
   },
   {
    "duration": 45,
    "start_time": "2023-03-04T17:44:13.297Z"
   },
   {
    "duration": 76,
    "start_time": "2023-03-04T17:44:13.344Z"
   },
   {
    "duration": 29,
    "start_time": "2023-03-04T17:44:13.422Z"
   },
   {
    "duration": 38,
    "start_time": "2023-03-04T17:44:13.453Z"
   },
   {
    "duration": 2475,
    "start_time": "2023-03-04T17:44:13.494Z"
   },
   {
    "duration": 30,
    "start_time": "2023-03-04T17:44:15.972Z"
   },
   {
    "duration": 27,
    "start_time": "2023-03-04T17:44:16.004Z"
   },
   {
    "duration": 15,
    "start_time": "2023-03-04T17:44:16.033Z"
   },
   {
    "duration": 9,
    "start_time": "2023-03-04T17:44:16.050Z"
   },
   {
    "duration": 95,
    "start_time": "2023-03-04T17:44:16.062Z"
   },
   {
    "duration": 0,
    "start_time": "2023-03-04T17:44:16.159Z"
   },
   {
    "duration": 0,
    "start_time": "2023-03-04T17:44:16.161Z"
   },
   {
    "duration": 2,
    "start_time": "2023-03-04T17:44:35.785Z"
   },
   {
    "duration": 426,
    "start_time": "2023-03-04T17:44:49.170Z"
   },
   {
    "duration": 2,
    "start_time": "2023-03-04T17:44:49.599Z"
   },
   {
    "duration": 118,
    "start_time": "2023-03-04T17:44:49.603Z"
   },
   {
    "duration": 69,
    "start_time": "2023-03-04T17:44:49.723Z"
   },
   {
    "duration": 56,
    "start_time": "2023-03-04T17:44:49.795Z"
   },
   {
    "duration": 71,
    "start_time": "2023-03-04T17:44:49.853Z"
   },
   {
    "duration": 23,
    "start_time": "2023-03-04T17:44:49.925Z"
   },
   {
    "duration": 8,
    "start_time": "2023-03-04T17:44:49.949Z"
   },
   {
    "duration": 2394,
    "start_time": "2023-03-04T17:44:49.959Z"
   },
   {
    "duration": 16,
    "start_time": "2023-03-04T17:44:52.355Z"
   },
   {
    "duration": 22,
    "start_time": "2023-03-04T17:44:52.373Z"
   },
   {
    "duration": 19,
    "start_time": "2023-03-04T17:44:52.397Z"
   },
   {
    "duration": 75,
    "start_time": "2023-03-04T17:44:52.418Z"
   },
   {
    "duration": 0,
    "start_time": "2023-03-04T17:44:52.495Z"
   },
   {
    "duration": 0,
    "start_time": "2023-03-04T17:44:52.496Z"
   },
   {
    "duration": 0,
    "start_time": "2023-03-04T17:44:52.498Z"
   },
   {
    "duration": 7,
    "start_time": "2023-03-04T17:46:25.111Z"
   },
   {
    "duration": 12,
    "start_time": "2023-03-04T17:46:25.785Z"
   },
   {
    "duration": 14,
    "start_time": "2023-03-04T17:46:27.310Z"
   },
   {
    "duration": 3,
    "start_time": "2023-03-04T17:46:29.128Z"
   },
   {
    "duration": 7,
    "start_time": "2023-03-04T17:46:33.779Z"
   },
   {
    "duration": 11,
    "start_time": "2023-03-04T17:46:47.389Z"
   },
   {
    "duration": 409,
    "start_time": "2023-03-04T17:47:31.766Z"
   },
   {
    "duration": 2,
    "start_time": "2023-03-04T17:47:32.177Z"
   },
   {
    "duration": 119,
    "start_time": "2023-03-04T17:47:32.181Z"
   },
   {
    "duration": 66,
    "start_time": "2023-03-04T17:47:32.302Z"
   },
   {
    "duration": 63,
    "start_time": "2023-03-04T17:47:32.370Z"
   },
   {
    "duration": 69,
    "start_time": "2023-03-04T17:47:32.435Z"
   },
   {
    "duration": 33,
    "start_time": "2023-03-04T17:47:32.508Z"
   },
   {
    "duration": 11,
    "start_time": "2023-03-04T17:47:32.542Z"
   },
   {
    "duration": 2342,
    "start_time": "2023-03-04T17:47:32.555Z"
   },
   {
    "duration": 30,
    "start_time": "2023-03-04T17:47:34.899Z"
   },
   {
    "duration": 12,
    "start_time": "2023-03-04T17:47:34.931Z"
   },
   {
    "duration": 13,
    "start_time": "2023-03-04T17:47:34.945Z"
   },
   {
    "duration": 91,
    "start_time": "2023-03-04T17:47:34.959Z"
   },
   {
    "duration": 0,
    "start_time": "2023-03-04T17:47:35.051Z"
   },
   {
    "duration": 0,
    "start_time": "2023-03-04T17:47:35.052Z"
   },
   {
    "duration": 420,
    "start_time": "2023-03-04T17:48:49.280Z"
   },
   {
    "duration": 3,
    "start_time": "2023-03-04T17:48:49.702Z"
   },
   {
    "duration": 130,
    "start_time": "2023-03-04T17:48:49.707Z"
   },
   {
    "duration": 84,
    "start_time": "2023-03-04T17:48:49.839Z"
   },
   {
    "duration": 35,
    "start_time": "2023-03-04T17:48:49.924Z"
   },
   {
    "duration": 67,
    "start_time": "2023-03-04T17:48:49.960Z"
   },
   {
    "duration": 24,
    "start_time": "2023-03-04T17:48:50.028Z"
   },
   {
    "duration": 9,
    "start_time": "2023-03-04T17:48:50.054Z"
   },
   {
    "duration": 2208,
    "start_time": "2023-03-04T17:48:50.064Z"
   },
   {
    "duration": 27,
    "start_time": "2023-03-04T17:48:52.275Z"
   },
   {
    "duration": 10,
    "start_time": "2023-03-04T17:48:52.304Z"
   },
   {
    "duration": 17,
    "start_time": "2023-03-04T17:48:52.315Z"
   },
   {
    "duration": 78,
    "start_time": "2023-03-04T17:48:52.334Z"
   },
   {
    "duration": 0,
    "start_time": "2023-03-04T17:48:52.414Z"
   },
   {
    "duration": 0,
    "start_time": "2023-03-04T17:48:52.416Z"
   },
   {
    "duration": 23,
    "start_time": "2023-03-04T17:49:12.565Z"
   },
   {
    "duration": 22,
    "start_time": "2023-03-04T17:49:36.887Z"
   },
   {
    "duration": 23,
    "start_time": "2023-03-04T17:49:54.539Z"
   },
   {
    "duration": 7,
    "start_time": "2023-03-04T17:53:55.971Z"
   },
   {
    "duration": 15,
    "start_time": "2023-03-04T17:53:56.568Z"
   },
   {
    "duration": 8,
    "start_time": "2023-03-04T17:54:01.632Z"
   },
   {
    "duration": 18,
    "start_time": "2023-03-04T17:54:15.050Z"
   },
   {
    "duration": 429,
    "start_time": "2023-03-09T10:47:17.138Z"
   },
   {
    "duration": 5,
    "start_time": "2023-03-09T10:47:17.570Z"
   },
   {
    "duration": 503,
    "start_time": "2023-03-09T10:47:17.578Z"
   },
   {
    "duration": 78,
    "start_time": "2023-03-09T10:47:18.083Z"
   },
   {
    "duration": 78,
    "start_time": "2023-03-09T10:47:18.164Z"
   },
   {
    "duration": 69,
    "start_time": "2023-03-09T10:47:18.244Z"
   },
   {
    "duration": 34,
    "start_time": "2023-03-09T10:47:18.318Z"
   },
   {
    "duration": 28,
    "start_time": "2023-03-09T10:47:18.354Z"
   },
   {
    "duration": 2768,
    "start_time": "2023-03-09T10:47:18.384Z"
   },
   {
    "duration": 18,
    "start_time": "2023-03-09T10:47:21.154Z"
   },
   {
    "duration": 16,
    "start_time": "2023-03-09T10:47:21.174Z"
   },
   {
    "duration": 31,
    "start_time": "2023-03-09T10:47:21.191Z"
   },
   {
    "duration": 71,
    "start_time": "2023-03-09T10:47:21.225Z"
   },
   {
    "duration": 0,
    "start_time": "2023-03-09T10:47:21.298Z"
   },
   {
    "duration": 0,
    "start_time": "2023-03-09T10:47:21.313Z"
   },
   {
    "duration": 0,
    "start_time": "2023-03-09T10:47:21.314Z"
   },
   {
    "duration": 458,
    "start_time": "2023-03-09T10:56:33.834Z"
   },
   {
    "duration": 3,
    "start_time": "2023-03-09T10:56:34.295Z"
   },
   {
    "duration": 145,
    "start_time": "2023-03-09T10:56:34.300Z"
   },
   {
    "duration": 101,
    "start_time": "2023-03-09T10:56:34.447Z"
   },
   {
    "duration": 77,
    "start_time": "2023-03-09T10:56:34.551Z"
   },
   {
    "duration": 56,
    "start_time": "2023-03-09T10:56:34.630Z"
   },
   {
    "duration": 55,
    "start_time": "2023-03-09T10:56:34.688Z"
   },
   {
    "duration": 9,
    "start_time": "2023-03-09T10:56:34.745Z"
   },
   {
    "duration": 2641,
    "start_time": "2023-03-09T10:56:34.756Z"
   },
   {
    "duration": 30,
    "start_time": "2023-03-09T10:56:37.399Z"
   },
   {
    "duration": 6,
    "start_time": "2023-03-09T10:56:37.431Z"
   },
   {
    "duration": 19,
    "start_time": "2023-03-09T10:56:37.439Z"
   },
   {
    "duration": 108,
    "start_time": "2023-03-09T10:56:37.460Z"
   },
   {
    "duration": 0,
    "start_time": "2023-03-09T10:56:37.570Z"
   },
   {
    "duration": 0,
    "start_time": "2023-03-09T10:56:37.571Z"
   },
   {
    "duration": 0,
    "start_time": "2023-03-09T10:56:37.573Z"
   },
   {
    "duration": 11,
    "start_time": "2023-03-09T11:01:09.325Z"
   },
   {
    "duration": 6,
    "start_time": "2023-03-09T11:01:19.123Z"
   },
   {
    "duration": 14,
    "start_time": "2023-03-09T11:01:25.765Z"
   },
   {
    "duration": 12,
    "start_time": "2023-03-09T11:04:56.957Z"
   },
   {
    "duration": 401,
    "start_time": "2023-03-09T11:05:12.191Z"
   },
   {
    "duration": 3,
    "start_time": "2023-03-09T11:05:12.594Z"
   },
   {
    "duration": 130,
    "start_time": "2023-03-09T11:05:12.598Z"
   },
   {
    "duration": 63,
    "start_time": "2023-03-09T11:05:12.729Z"
   },
   {
    "duration": 63,
    "start_time": "2023-03-09T11:05:12.794Z"
   },
   {
    "duration": 58,
    "start_time": "2023-03-09T11:05:12.858Z"
   },
   {
    "duration": 27,
    "start_time": "2023-03-09T11:05:12.918Z"
   },
   {
    "duration": 9,
    "start_time": "2023-03-09T11:05:12.947Z"
   },
   {
    "duration": 2504,
    "start_time": "2023-03-09T11:05:12.957Z"
   },
   {
    "duration": 16,
    "start_time": "2023-03-09T11:05:15.463Z"
   },
   {
    "duration": 6,
    "start_time": "2023-03-09T11:05:15.481Z"
   },
   {
    "duration": 29,
    "start_time": "2023-03-09T11:05:15.489Z"
   },
   {
    "duration": 82,
    "start_time": "2023-03-09T11:05:15.520Z"
   },
   {
    "duration": 0,
    "start_time": "2023-03-09T11:05:15.603Z"
   },
   {
    "duration": 0,
    "start_time": "2023-03-09T11:05:15.617Z"
   },
   {
    "duration": 0,
    "start_time": "2023-03-09T11:05:15.617Z"
   },
   {
    "duration": 6,
    "start_time": "2023-03-09T11:05:57.974Z"
   },
   {
    "duration": 451,
    "start_time": "2023-03-09T11:06:07.384Z"
   },
   {
    "duration": 4,
    "start_time": "2023-03-09T11:06:07.837Z"
   },
   {
    "duration": 145,
    "start_time": "2023-03-09T11:06:07.842Z"
   },
   {
    "duration": 86,
    "start_time": "2023-03-09T11:06:07.989Z"
   },
   {
    "duration": 57,
    "start_time": "2023-03-09T11:06:08.078Z"
   },
   {
    "duration": 45,
    "start_time": "2023-03-09T11:06:08.137Z"
   },
   {
    "duration": 58,
    "start_time": "2023-03-09T11:06:08.184Z"
   },
   {
    "duration": 9,
    "start_time": "2023-03-09T11:06:08.244Z"
   },
   {
    "duration": 2510,
    "start_time": "2023-03-09T11:06:08.256Z"
   },
   {
    "duration": 18,
    "start_time": "2023-03-09T11:06:10.767Z"
   },
   {
    "duration": 8,
    "start_time": "2023-03-09T11:06:10.787Z"
   },
   {
    "duration": 21,
    "start_time": "2023-03-09T11:06:10.812Z"
   },
   {
    "duration": 10,
    "start_time": "2023-03-09T11:06:10.835Z"
   },
   {
    "duration": 78,
    "start_time": "2023-03-09T11:06:10.848Z"
   },
   {
    "duration": 0,
    "start_time": "2023-03-09T11:06:10.930Z"
   },
   {
    "duration": 0,
    "start_time": "2023-03-09T11:06:10.931Z"
   },
   {
    "duration": 16,
    "start_time": "2023-03-09T11:06:28.313Z"
   },
   {
    "duration": 6,
    "start_time": "2023-03-09T11:06:53.158Z"
   },
   {
    "duration": 13,
    "start_time": "2023-03-09T11:06:58.753Z"
   },
   {
    "duration": 6,
    "start_time": "2023-03-09T11:07:15.586Z"
   },
   {
    "duration": 12,
    "start_time": "2023-03-09T11:07:20.994Z"
   },
   {
    "duration": 395,
    "start_time": "2023-03-09T11:07:56.546Z"
   },
   {
    "duration": 3,
    "start_time": "2023-03-09T11:07:56.943Z"
   },
   {
    "duration": 115,
    "start_time": "2023-03-09T11:07:56.947Z"
   },
   {
    "duration": 72,
    "start_time": "2023-03-09T11:07:57.064Z"
   },
   {
    "duration": 39,
    "start_time": "2023-03-09T11:07:57.137Z"
   },
   {
    "duration": 68,
    "start_time": "2023-03-09T11:07:57.178Z"
   },
   {
    "duration": 27,
    "start_time": "2023-03-09T11:07:57.248Z"
   },
   {
    "duration": 10,
    "start_time": "2023-03-09T11:07:57.276Z"
   },
   {
    "duration": 2649,
    "start_time": "2023-03-09T11:07:57.288Z"
   },
   {
    "duration": 16,
    "start_time": "2023-03-09T11:07:59.940Z"
   },
   {
    "duration": 6,
    "start_time": "2023-03-09T11:07:59.958Z"
   },
   {
    "duration": 13,
    "start_time": "2023-03-09T11:07:59.966Z"
   },
   {
    "duration": 36,
    "start_time": "2023-03-09T11:07:59.981Z"
   },
   {
    "duration": 30,
    "start_time": "2023-03-09T11:08:00.019Z"
   },
   {
    "duration": 37,
    "start_time": "2023-03-09T11:08:00.050Z"
   },
   {
    "duration": 21,
    "start_time": "2023-03-09T11:08:00.089Z"
   },
   {
    "duration": 401,
    "start_time": "2023-03-09T15:43:44.215Z"
   },
   {
    "duration": 3,
    "start_time": "2023-03-09T15:43:44.619Z"
   },
   {
    "duration": 440,
    "start_time": "2023-03-09T15:43:44.624Z"
   },
   {
    "duration": 85,
    "start_time": "2023-03-09T15:43:45.068Z"
   },
   {
    "duration": 62,
    "start_time": "2023-03-09T15:43:45.154Z"
   },
   {
    "duration": 69,
    "start_time": "2023-03-09T15:43:45.217Z"
   },
   {
    "duration": 32,
    "start_time": "2023-03-09T15:43:45.288Z"
   },
   {
    "duration": 13,
    "start_time": "2023-03-09T15:43:45.322Z"
   },
   {
    "duration": 2416,
    "start_time": "2023-03-09T15:43:45.337Z"
   },
   {
    "duration": 23,
    "start_time": "2023-03-09T15:43:47.756Z"
   },
   {
    "duration": 12,
    "start_time": "2023-03-09T15:43:47.781Z"
   },
   {
    "duration": 32,
    "start_time": "2023-03-09T15:43:47.795Z"
   },
   {
    "duration": 9,
    "start_time": "2023-03-09T15:43:47.830Z"
   },
   {
    "duration": 30,
    "start_time": "2023-03-09T15:43:47.841Z"
   },
   {
    "duration": 11,
    "start_time": "2023-03-09T15:43:47.873Z"
   },
   {
    "duration": 3,
    "start_time": "2023-03-09T15:43:47.886Z"
   },
   {
    "duration": 16,
    "start_time": "2023-03-09T15:43:47.891Z"
   },
   {
    "duration": 6,
    "start_time": "2023-03-09T15:50:50.015Z"
   },
   {
    "duration": 5,
    "start_time": "2023-03-09T15:51:11.313Z"
   },
   {
    "duration": 7,
    "start_time": "2023-03-09T15:51:15.942Z"
   },
   {
    "duration": 5,
    "start_time": "2023-03-09T15:51:23.146Z"
   },
   {
    "duration": 5,
    "start_time": "2023-03-09T15:51:33.446Z"
   },
   {
    "duration": 7,
    "start_time": "2023-03-09T15:51:38.403Z"
   },
   {
    "duration": 6,
    "start_time": "2023-03-09T15:51:48.246Z"
   },
   {
    "duration": 7,
    "start_time": "2023-03-09T15:51:51.215Z"
   },
   {
    "duration": 442,
    "start_time": "2023-03-09T15:52:32.736Z"
   },
   {
    "duration": 3,
    "start_time": "2023-03-09T15:52:33.180Z"
   },
   {
    "duration": 142,
    "start_time": "2023-03-09T15:52:33.184Z"
   },
   {
    "duration": 68,
    "start_time": "2023-03-09T15:52:33.328Z"
   },
   {
    "duration": 38,
    "start_time": "2023-03-09T15:52:33.398Z"
   },
   {
    "duration": 52,
    "start_time": "2023-03-09T15:52:33.438Z"
   },
   {
    "duration": 27,
    "start_time": "2023-03-09T15:52:33.491Z"
   },
   {
    "duration": 54,
    "start_time": "2023-03-09T15:52:33.520Z"
   },
   {
    "duration": 2656,
    "start_time": "2023-03-09T15:52:33.576Z"
   },
   {
    "duration": 15,
    "start_time": "2023-03-09T15:52:36.235Z"
   },
   {
    "duration": 6,
    "start_time": "2023-03-09T15:52:36.251Z"
   },
   {
    "duration": 13,
    "start_time": "2023-03-09T15:52:36.269Z"
   },
   {
    "duration": 7,
    "start_time": "2023-03-09T15:52:36.283Z"
   },
   {
    "duration": 19,
    "start_time": "2023-03-09T15:52:36.292Z"
   },
   {
    "duration": 19,
    "start_time": "2023-03-09T15:52:36.313Z"
   },
   {
    "duration": 13,
    "start_time": "2023-03-09T15:52:36.334Z"
   },
   {
    "duration": 28,
    "start_time": "2023-03-09T15:52:36.349Z"
   },
   {
    "duration": 405,
    "start_time": "2023-03-09T15:53:52.311Z"
   },
   {
    "duration": 2,
    "start_time": "2023-03-09T15:53:52.718Z"
   },
   {
    "duration": 122,
    "start_time": "2023-03-09T15:53:52.722Z"
   },
   {
    "duration": 69,
    "start_time": "2023-03-09T15:53:52.846Z"
   },
   {
    "duration": 66,
    "start_time": "2023-03-09T15:53:52.918Z"
   },
   {
    "duration": 45,
    "start_time": "2023-03-09T15:53:52.985Z"
   },
   {
    "duration": 53,
    "start_time": "2023-03-09T15:53:53.032Z"
   },
   {
    "duration": 9,
    "start_time": "2023-03-09T15:53:53.087Z"
   },
   {
    "duration": 2398,
    "start_time": "2023-03-09T15:53:53.098Z"
   },
   {
    "duration": 17,
    "start_time": "2023-03-09T15:53:55.498Z"
   },
   {
    "duration": 20,
    "start_time": "2023-03-09T15:53:55.517Z"
   },
   {
    "duration": 17,
    "start_time": "2023-03-09T15:53:55.539Z"
   },
   {
    "duration": 14,
    "start_time": "2023-03-09T15:53:55.559Z"
   },
   {
    "duration": 13,
    "start_time": "2023-03-09T15:53:55.576Z"
   },
   {
    "duration": 7,
    "start_time": "2023-03-09T15:53:55.591Z"
   },
   {
    "duration": 9,
    "start_time": "2023-03-09T15:53:55.600Z"
   },
   {
    "duration": 18,
    "start_time": "2023-03-09T15:53:55.610Z"
   },
   {
    "duration": 428,
    "start_time": "2023-03-10T15:11:32.421Z"
   },
   {
    "duration": 2,
    "start_time": "2023-03-10T15:11:32.851Z"
   },
   {
    "duration": 630,
    "start_time": "2023-03-10T15:11:32.855Z"
   },
   {
    "duration": 64,
    "start_time": "2023-03-10T15:11:33.487Z"
   },
   {
    "duration": 39,
    "start_time": "2023-03-10T15:11:33.553Z"
   },
   {
    "duration": 72,
    "start_time": "2023-03-10T15:11:33.593Z"
   },
   {
    "duration": 27,
    "start_time": "2023-03-10T15:11:33.667Z"
   },
   {
    "duration": 9,
    "start_time": "2023-03-10T15:11:33.696Z"
   },
   {
    "duration": 2328,
    "start_time": "2023-03-10T15:11:33.741Z"
   },
   {
    "duration": 16,
    "start_time": "2023-03-10T15:11:36.072Z"
   },
   {
    "duration": 11,
    "start_time": "2023-03-10T15:11:36.089Z"
   },
   {
    "duration": 22,
    "start_time": "2023-03-10T15:11:36.101Z"
   },
   {
    "duration": 20,
    "start_time": "2023-03-10T15:11:36.125Z"
   },
   {
    "duration": 27,
    "start_time": "2023-03-10T15:11:36.147Z"
   },
   {
    "duration": 7,
    "start_time": "2023-03-10T15:11:36.176Z"
   },
   {
    "duration": 7,
    "start_time": "2023-03-10T15:11:36.184Z"
   },
   {
    "duration": 12,
    "start_time": "2023-03-10T15:11:36.193Z"
   },
   {
    "duration": 393,
    "start_time": "2023-03-10T15:14:28.472Z"
   },
   {
    "duration": 3,
    "start_time": "2023-03-10T15:14:28.867Z"
   },
   {
    "duration": 110,
    "start_time": "2023-03-10T15:14:28.873Z"
   },
   {
    "duration": 66,
    "start_time": "2023-03-10T15:14:28.985Z"
   },
   {
    "duration": 40,
    "start_time": "2023-03-10T15:14:29.052Z"
   },
   {
    "duration": 77,
    "start_time": "2023-03-10T15:14:29.094Z"
   },
   {
    "duration": 27,
    "start_time": "2023-03-10T15:14:29.172Z"
   },
   {
    "duration": 42,
    "start_time": "2023-03-10T15:14:29.201Z"
   },
   {
    "duration": 15,
    "start_time": "2023-03-10T15:14:29.245Z"
   },
   {
    "duration": 18,
    "start_time": "2023-03-10T15:14:29.262Z"
   },
   {
    "duration": 18,
    "start_time": "2023-03-10T15:14:29.282Z"
   },
   {
    "duration": 12,
    "start_time": "2023-03-10T15:14:29.302Z"
   },
   {
    "duration": 40,
    "start_time": "2023-03-10T15:14:29.315Z"
   },
   {
    "duration": 9,
    "start_time": "2023-03-10T15:14:29.357Z"
   },
   {
    "duration": 20,
    "start_time": "2023-03-10T15:14:29.369Z"
   },
   {
    "duration": 11,
    "start_time": "2023-03-10T15:14:29.391Z"
   },
   {
    "duration": 38,
    "start_time": "2023-03-10T15:14:29.404Z"
   },
   {
    "duration": 35,
    "start_time": "2023-03-10T15:14:29.444Z"
   },
   {
    "duration": 21,
    "start_time": "2023-03-10T15:14:54.340Z"
   },
   {
    "duration": 40,
    "start_time": "2023-03-10T15:15:17.479Z"
   },
   {
    "duration": 28,
    "start_time": "2023-03-10T15:15:44.007Z"
   },
   {
    "duration": 550,
    "start_time": "2023-03-10T15:16:06.119Z"
   },
   {
    "duration": 2,
    "start_time": "2023-03-10T15:16:06.671Z"
   },
   {
    "duration": 137,
    "start_time": "2023-03-10T15:16:06.675Z"
   },
   {
    "duration": 92,
    "start_time": "2023-03-10T15:16:06.814Z"
   },
   {
    "duration": 82,
    "start_time": "2023-03-10T15:16:06.908Z"
   },
   {
    "duration": 86,
    "start_time": "2023-03-10T15:16:06.992Z"
   },
   {
    "duration": 39,
    "start_time": "2023-03-10T15:16:07.081Z"
   },
   {
    "duration": 16,
    "start_time": "2023-03-10T15:16:07.142Z"
   },
   {
    "duration": 23,
    "start_time": "2023-03-10T15:16:07.161Z"
   },
   {
    "duration": 15,
    "start_time": "2023-03-10T15:16:07.187Z"
   },
   {
    "duration": 52,
    "start_time": "2023-03-10T15:16:07.204Z"
   },
   {
    "duration": 9,
    "start_time": "2023-03-10T15:16:07.258Z"
   },
   {
    "duration": 18,
    "start_time": "2023-03-10T15:16:07.270Z"
   },
   {
    "duration": 10,
    "start_time": "2023-03-10T15:16:07.290Z"
   },
   {
    "duration": 55,
    "start_time": "2023-03-10T15:16:07.303Z"
   },
   {
    "duration": 20,
    "start_time": "2023-03-10T15:16:07.360Z"
   },
   {
    "duration": 6,
    "start_time": "2023-03-10T15:16:07.382Z"
   },
   {
    "duration": 18,
    "start_time": "2023-03-10T15:16:07.390Z"
   },
   {
    "duration": 25,
    "start_time": "2023-03-10T15:16:50.668Z"
   },
   {
    "duration": 1384,
    "start_time": "2023-03-10T15:17:07.475Z"
   },
   {
    "duration": 3,
    "start_time": "2023-03-10T15:17:08.861Z"
   },
   {
    "duration": 174,
    "start_time": "2023-03-10T15:17:08.867Z"
   },
   {
    "duration": 78,
    "start_time": "2023-03-10T15:17:09.044Z"
   },
   {
    "duration": 69,
    "start_time": "2023-03-10T15:17:09.124Z"
   },
   {
    "duration": 99,
    "start_time": "2023-03-10T15:17:09.196Z"
   },
   {
    "duration": 60,
    "start_time": "2023-03-10T15:17:09.298Z"
   },
   {
    "duration": 15,
    "start_time": "2023-03-10T15:17:09.361Z"
   },
   {
    "duration": 33,
    "start_time": "2023-03-10T15:17:09.378Z"
   },
   {
    "duration": 37,
    "start_time": "2023-03-10T15:17:09.413Z"
   },
   {
    "duration": 26,
    "start_time": "2023-03-10T15:17:09.452Z"
   },
   {
    "duration": 9,
    "start_time": "2023-03-10T15:17:09.480Z"
   },
   {
    "duration": 21,
    "start_time": "2023-03-10T15:17:09.491Z"
   },
   {
    "duration": 34,
    "start_time": "2023-03-10T15:17:09.516Z"
   },
   {
    "duration": 20,
    "start_time": "2023-03-10T15:17:09.552Z"
   },
   {
    "duration": 13,
    "start_time": "2023-03-10T15:17:09.574Z"
   },
   {
    "duration": 5,
    "start_time": "2023-03-10T15:17:09.590Z"
   },
   {
    "duration": 49,
    "start_time": "2023-03-10T15:17:09.597Z"
   },
   {
    "duration": 79,
    "start_time": "2023-03-10T15:26:44.894Z"
   },
   {
    "duration": 405,
    "start_time": "2023-03-10T15:29:48.982Z"
   },
   {
    "duration": 2,
    "start_time": "2023-03-10T15:29:49.389Z"
   },
   {
    "duration": 505,
    "start_time": "2023-03-10T15:29:49.393Z"
   },
   {
    "duration": 71,
    "start_time": "2023-03-10T15:29:49.900Z"
   },
   {
    "duration": 50,
    "start_time": "2023-03-10T15:29:49.972Z"
   },
   {
    "duration": 60,
    "start_time": "2023-03-10T15:29:50.024Z"
   },
   {
    "duration": 42,
    "start_time": "2023-03-10T15:29:50.086Z"
   },
   {
    "duration": 27,
    "start_time": "2023-03-10T15:29:50.129Z"
   },
   {
    "duration": 59,
    "start_time": "2023-03-10T15:29:50.158Z"
   },
   {
    "duration": 44,
    "start_time": "2023-03-10T15:29:50.219Z"
   },
   {
    "duration": 51,
    "start_time": "2023-03-10T15:29:50.264Z"
   },
   {
    "duration": 1406,
    "start_time": "2023-03-10T15:29:50.317Z"
   },
   {
    "duration": 0,
    "start_time": "2023-03-10T15:29:51.725Z"
   },
   {
    "duration": 0,
    "start_time": "2023-03-10T15:29:51.726Z"
   },
   {
    "duration": 0,
    "start_time": "2023-03-10T15:29:51.728Z"
   },
   {
    "duration": 0,
    "start_time": "2023-03-10T15:29:51.729Z"
   },
   {
    "duration": 0,
    "start_time": "2023-03-10T15:29:51.730Z"
   },
   {
    "duration": 431,
    "start_time": "2023-03-10T15:32:30.158Z"
   },
   {
    "duration": 2,
    "start_time": "2023-03-10T15:32:30.591Z"
   },
   {
    "duration": 165,
    "start_time": "2023-03-10T15:32:30.594Z"
   },
   {
    "duration": 80,
    "start_time": "2023-03-10T15:32:30.761Z"
   },
   {
    "duration": 54,
    "start_time": "2023-03-10T15:32:30.844Z"
   },
   {
    "duration": 78,
    "start_time": "2023-03-10T15:32:30.900Z"
   },
   {
    "duration": 32,
    "start_time": "2023-03-10T15:32:30.980Z"
   },
   {
    "duration": 39,
    "start_time": "2023-03-10T15:32:31.014Z"
   },
   {
    "duration": 2443,
    "start_time": "2023-03-10T15:32:31.056Z"
   },
   {
    "duration": 16,
    "start_time": "2023-03-10T15:32:33.502Z"
   },
   {
    "duration": 23,
    "start_time": "2023-03-10T15:32:33.520Z"
   },
   {
    "duration": 18,
    "start_time": "2023-03-10T15:32:33.545Z"
   },
   {
    "duration": 16,
    "start_time": "2023-03-10T15:32:33.565Z"
   },
   {
    "duration": 16,
    "start_time": "2023-03-10T15:32:33.583Z"
   },
   {
    "duration": 10,
    "start_time": "2023-03-10T15:32:33.601Z"
   },
   {
    "duration": 4,
    "start_time": "2023-03-10T15:32:33.613Z"
   },
   {
    "duration": 5,
    "start_time": "2023-03-10T15:32:33.618Z"
   },
   {
    "duration": 34,
    "start_time": "2023-03-10T15:32:33.625Z"
   },
   {
    "duration": 432,
    "start_time": "2023-03-10T15:33:54.629Z"
   },
   {
    "duration": 2,
    "start_time": "2023-03-10T15:33:55.063Z"
   },
   {
    "duration": 125,
    "start_time": "2023-03-10T15:33:55.066Z"
   },
   {
    "duration": 71,
    "start_time": "2023-03-10T15:33:55.192Z"
   },
   {
    "duration": 36,
    "start_time": "2023-03-10T15:33:55.265Z"
   },
   {
    "duration": 68,
    "start_time": "2023-03-10T15:33:55.303Z"
   },
   {
    "duration": 24,
    "start_time": "2023-03-10T15:33:55.373Z"
   },
   {
    "duration": 9,
    "start_time": "2023-03-10T15:33:55.399Z"
   },
   {
    "duration": 2542,
    "start_time": "2023-03-10T15:33:55.409Z"
   },
   {
    "duration": 18,
    "start_time": "2023-03-10T15:33:57.954Z"
   },
   {
    "duration": 7,
    "start_time": "2023-03-10T15:33:57.974Z"
   },
   {
    "duration": 19,
    "start_time": "2023-03-10T15:33:57.983Z"
   },
   {
    "duration": 8,
    "start_time": "2023-03-10T15:33:58.004Z"
   },
   {
    "duration": 45,
    "start_time": "2023-03-10T15:33:58.014Z"
   },
   {
    "duration": 9,
    "start_time": "2023-03-10T15:33:58.061Z"
   },
   {
    "duration": 21,
    "start_time": "2023-03-10T15:33:58.072Z"
   },
   {
    "duration": 8,
    "start_time": "2023-03-10T15:33:58.095Z"
   },
   {
    "duration": 114,
    "start_time": "2023-03-10T15:33:58.105Z"
   },
   {
    "duration": 14,
    "start_time": "2023-03-10T15:34:43.692Z"
   },
   {
    "duration": 15,
    "start_time": "2023-03-10T15:36:18.485Z"
   },
   {
    "duration": 14,
    "start_time": "2023-03-10T15:38:00.227Z"
   },
   {
    "duration": 1279,
    "start_time": "2023-03-12T20:41:23.211Z"
   },
   {
    "duration": 3,
    "start_time": "2023-03-12T20:41:24.492Z"
   },
   {
    "duration": 151,
    "start_time": "2023-03-12T20:41:24.496Z"
   },
   {
    "duration": 53,
    "start_time": "2023-03-12T20:41:24.649Z"
   },
   {
    "duration": 36,
    "start_time": "2023-03-12T20:41:24.704Z"
   },
   {
    "duration": 39,
    "start_time": "2023-03-12T20:41:24.741Z"
   },
   {
    "duration": 48,
    "start_time": "2023-03-12T20:41:24.782Z"
   },
   {
    "duration": 9,
    "start_time": "2023-03-12T20:41:24.831Z"
   },
   {
    "duration": 17,
    "start_time": "2023-03-12T20:41:24.841Z"
   },
   {
    "duration": 15,
    "start_time": "2023-03-12T20:41:24.860Z"
   },
   {
    "duration": 6,
    "start_time": "2023-03-12T20:41:24.876Z"
   },
   {
    "duration": 40,
    "start_time": "2023-03-12T20:41:24.883Z"
   },
   {
    "duration": 8,
    "start_time": "2023-03-12T20:41:24.924Z"
   },
   {
    "duration": 11,
    "start_time": "2023-03-12T20:41:24.935Z"
   },
   {
    "duration": 11,
    "start_time": "2023-03-12T20:41:24.947Z"
   },
   {
    "duration": 140,
    "start_time": "2023-03-12T20:41:24.960Z"
   },
   {
    "duration": 18,
    "start_time": "2023-03-12T20:41:25.102Z"
   },
   {
    "duration": 15,
    "start_time": "2023-03-12T20:41:25.123Z"
   },
   {
    "duration": 22,
    "start_time": "2023-03-12T20:41:25.139Z"
   },
   {
    "duration": 99,
    "start_time": "2023-03-12T20:41:25.163Z"
   },
   {
    "duration": 105,
    "start_time": "2023-03-12T20:41:25.264Z"
   },
   {
    "duration": 14,
    "start_time": "2023-03-12T20:41:25.371Z"
   },
   {
    "duration": 46,
    "start_time": "2023-03-12T20:41:25.387Z"
   },
   {
    "duration": 15,
    "start_time": "2023-03-12T20:41:25.435Z"
   },
   {
    "duration": 13,
    "start_time": "2023-03-12T20:41:25.452Z"
   },
   {
    "duration": 12,
    "start_time": "2023-03-12T20:41:25.467Z"
   },
   {
    "duration": 44,
    "start_time": "2023-03-12T20:41:25.481Z"
   },
   {
    "duration": 12,
    "start_time": "2023-03-12T20:41:25.527Z"
   },
   {
    "duration": 12,
    "start_time": "2023-03-12T20:41:25.541Z"
   },
   {
    "duration": 7,
    "start_time": "2023-03-12T20:41:25.555Z"
   },
   {
    "duration": 124358,
    "start_time": "2023-03-12T20:41:25.564Z"
   },
   {
    "duration": 122281,
    "start_time": "2023-03-12T20:43:29.924Z"
   },
   {
    "duration": 692,
    "start_time": "2023-03-12T20:45:32.207Z"
   },
   {
    "duration": 915,
    "start_time": "2023-03-12T20:45:32.900Z"
   },
   {
    "duration": 310903,
    "start_time": "2023-03-12T20:45:33.820Z"
   },
   {
    "duration": 369,
    "start_time": "2023-03-12T20:50:44.725Z"
   },
   {
    "duration": 19,
    "start_time": "2023-03-12T20:50:45.096Z"
   },
   {
    "duration": 3,
    "start_time": "2023-03-12T20:50:45.117Z"
   },
   {
    "duration": 5,
    "start_time": "2023-03-12T20:50:45.121Z"
   },
   {
    "duration": 14,
    "start_time": "2023-03-12T20:50:45.127Z"
   },
   {
    "duration": 241,
    "start_time": "2023-03-12T20:50:45.144Z"
   },
   {
    "duration": 1174,
    "start_time": "2023-03-12T23:21:35.538Z"
   },
   {
    "duration": 2,
    "start_time": "2023-03-12T23:21:36.714Z"
   },
   {
    "duration": 147,
    "start_time": "2023-03-12T23:21:36.718Z"
   },
   {
    "duration": 56,
    "start_time": "2023-03-12T23:21:36.866Z"
   },
   {
    "duration": 34,
    "start_time": "2023-03-12T23:21:36.924Z"
   },
   {
    "duration": 62,
    "start_time": "2023-03-12T23:21:36.959Z"
   },
   {
    "duration": 23,
    "start_time": "2023-03-12T23:21:37.023Z"
   },
   {
    "duration": 8,
    "start_time": "2023-03-12T23:21:37.048Z"
   },
   {
    "duration": 18,
    "start_time": "2023-03-12T23:21:37.057Z"
   },
   {
    "duration": 47,
    "start_time": "2023-03-12T23:21:37.076Z"
   },
   {
    "duration": 6,
    "start_time": "2023-03-12T23:21:37.124Z"
   },
   {
    "duration": 16,
    "start_time": "2023-03-12T23:21:37.131Z"
   },
   {
    "duration": 8,
    "start_time": "2023-03-12T23:21:37.149Z"
   },
   {
    "duration": 10,
    "start_time": "2023-03-12T23:21:37.160Z"
   },
   {
    "duration": 12,
    "start_time": "2023-03-12T23:21:37.172Z"
   },
   {
    "duration": 122,
    "start_time": "2023-03-12T23:21:37.212Z"
   },
   {
    "duration": 11,
    "start_time": "2023-03-12T23:21:37.336Z"
   },
   {
    "duration": 16,
    "start_time": "2023-03-12T23:21:37.349Z"
   },
   {
    "duration": 45,
    "start_time": "2023-03-12T23:21:37.367Z"
   },
   {
    "duration": 76,
    "start_time": "2023-03-12T23:21:37.414Z"
   },
   {
    "duration": 84,
    "start_time": "2023-03-12T23:21:37.492Z"
   },
   {
    "duration": 13,
    "start_time": "2023-03-12T23:21:37.577Z"
   },
   {
    "duration": 45,
    "start_time": "2023-03-12T23:21:37.592Z"
   },
   {
    "duration": 13,
    "start_time": "2023-03-12T23:21:37.639Z"
   },
   {
    "duration": 13,
    "start_time": "2023-03-12T23:21:37.654Z"
   },
   {
    "duration": 44,
    "start_time": "2023-03-12T23:21:37.668Z"
   },
   {
    "duration": 13,
    "start_time": "2023-03-12T23:21:37.714Z"
   },
   {
    "duration": 20,
    "start_time": "2023-03-12T23:21:37.729Z"
   },
   {
    "duration": 12,
    "start_time": "2023-03-12T23:21:37.750Z"
   },
   {
    "duration": 11,
    "start_time": "2023-03-12T23:21:37.763Z"
   },
   {
    "duration": 37,
    "start_time": "2023-03-12T23:21:37.776Z"
   },
   {
    "duration": 116824,
    "start_time": "2023-03-12T23:21:37.815Z"
   },
   {
    "duration": 114023,
    "start_time": "2023-03-12T23:23:34.641Z"
   },
   {
    "duration": 625,
    "start_time": "2023-03-12T23:25:28.665Z"
   },
   {
    "duration": 728,
    "start_time": "2023-03-12T23:25:29.291Z"
   },
   {
    "duration": 303406,
    "start_time": "2023-03-12T23:25:30.020Z"
   },
   {
    "duration": 356,
    "start_time": "2023-03-12T23:30:33.428Z"
   },
   {
    "duration": 7,
    "start_time": "2023-03-12T23:30:33.785Z"
   },
   {
    "duration": 7,
    "start_time": "2023-03-12T23:30:33.793Z"
   },
   {
    "duration": 12,
    "start_time": "2023-03-12T23:30:33.801Z"
   },
   {
    "duration": 12,
    "start_time": "2023-03-12T23:30:33.816Z"
   },
   {
    "duration": 249,
    "start_time": "2023-03-12T23:30:33.829Z"
   },
   {
    "duration": 2285,
    "start_time": "2023-03-13T16:25:18.591Z"
   },
   {
    "duration": 3,
    "start_time": "2023-03-13T16:25:20.878Z"
   },
   {
    "duration": 484,
    "start_time": "2023-03-13T16:25:20.882Z"
   },
   {
    "duration": 54,
    "start_time": "2023-03-13T16:25:21.368Z"
   },
   {
    "duration": 35,
    "start_time": "2023-03-13T16:25:21.424Z"
   },
   {
    "duration": 59,
    "start_time": "2023-03-13T16:25:21.461Z"
   },
   {
    "duration": 24,
    "start_time": "2023-03-13T16:25:21.521Z"
   },
   {
    "duration": 9,
    "start_time": "2023-03-13T16:25:21.547Z"
   },
   {
    "duration": 40,
    "start_time": "2023-03-13T16:25:21.558Z"
   },
   {
    "duration": 14,
    "start_time": "2023-03-13T16:25:21.600Z"
   },
   {
    "duration": 8,
    "start_time": "2023-03-13T16:25:21.616Z"
   },
   {
    "duration": 16,
    "start_time": "2023-03-13T16:25:21.625Z"
   },
   {
    "duration": 8,
    "start_time": "2023-03-13T16:25:21.642Z"
   },
   {
    "duration": 12,
    "start_time": "2023-03-13T16:25:21.652Z"
   },
   {
    "duration": 12,
    "start_time": "2023-03-13T16:25:21.690Z"
   },
   {
    "duration": 155,
    "start_time": "2023-03-13T16:25:21.704Z"
   },
   {
    "duration": 13,
    "start_time": "2023-03-13T16:25:21.861Z"
   },
   {
    "duration": 29,
    "start_time": "2023-03-13T16:25:21.876Z"
   },
   {
    "duration": 32,
    "start_time": "2023-03-13T16:25:21.907Z"
   },
   {
    "duration": 101,
    "start_time": "2023-03-13T16:25:21.941Z"
   },
   {
    "duration": 84,
    "start_time": "2023-03-13T16:25:22.044Z"
   },
   {
    "duration": 15,
    "start_time": "2023-03-13T16:25:22.130Z"
   },
   {
    "duration": 44,
    "start_time": "2023-03-13T16:25:22.147Z"
   },
   {
    "duration": 13,
    "start_time": "2023-03-13T16:25:22.193Z"
   },
   {
    "duration": 13,
    "start_time": "2023-03-13T16:25:22.207Z"
   },
   {
    "duration": 12,
    "start_time": "2023-03-13T16:25:22.221Z"
   },
   {
    "duration": 21,
    "start_time": "2023-03-13T16:25:22.235Z"
   },
   {
    "duration": 37,
    "start_time": "2023-03-13T16:25:22.259Z"
   },
   {
    "duration": 12,
    "start_time": "2023-03-13T16:25:22.298Z"
   },
   {
    "duration": 37,
    "start_time": "2023-03-13T16:25:22.311Z"
   },
   {
    "duration": 5,
    "start_time": "2023-03-13T16:25:22.350Z"
   },
   {
    "duration": 130595,
    "start_time": "2023-03-13T16:25:22.357Z"
   },
   {
    "duration": 127691,
    "start_time": "2023-03-13T16:27:32.953Z"
   },
   {
    "duration": 779,
    "start_time": "2023-03-13T16:29:40.646Z"
   },
   {
    "duration": 4864,
    "start_time": "2023-03-13T16:29:41.427Z"
   },
   {
    "duration": 309536,
    "start_time": "2023-03-13T16:29:46.293Z"
   },
   {
    "duration": 358,
    "start_time": "2023-03-13T16:34:55.831Z"
   },
   {
    "duration": 7,
    "start_time": "2023-03-13T16:34:56.191Z"
   },
   {
    "duration": 7,
    "start_time": "2023-03-13T16:34:56.199Z"
   },
   {
    "duration": 6,
    "start_time": "2023-03-13T16:34:56.208Z"
   },
   {
    "duration": 16,
    "start_time": "2023-03-13T16:34:56.217Z"
   },
   {
    "duration": 266,
    "start_time": "2023-03-13T16:34:56.236Z"
   },
   {
    "duration": 46,
    "start_time": "2023-03-13T18:10:28.911Z"
   },
   {
    "duration": 1454,
    "start_time": "2023-03-13T18:10:38.758Z"
   },
   {
    "duration": 2,
    "start_time": "2023-03-13T18:10:40.214Z"
   },
   {
    "duration": 339,
    "start_time": "2023-03-13T18:10:40.217Z"
   },
   {
    "duration": 46,
    "start_time": "2023-03-13T18:10:40.557Z"
   },
   {
    "duration": 31,
    "start_time": "2023-03-13T18:10:40.604Z"
   },
   {
    "duration": 53,
    "start_time": "2023-03-13T18:10:40.636Z"
   },
   {
    "duration": 22,
    "start_time": "2023-03-13T18:10:40.690Z"
   },
   {
    "duration": 7,
    "start_time": "2023-03-13T18:10:40.713Z"
   },
   {
    "duration": 18,
    "start_time": "2023-03-13T18:10:40.721Z"
   },
   {
    "duration": 12,
    "start_time": "2023-03-13T18:10:40.740Z"
   },
   {
    "duration": 27,
    "start_time": "2023-03-13T18:10:40.754Z"
   },
   {
    "duration": 17,
    "start_time": "2023-03-13T18:10:40.782Z"
   },
   {
    "duration": 7,
    "start_time": "2023-03-13T18:10:40.801Z"
   },
   {
    "duration": 11,
    "start_time": "2023-03-13T18:10:40.812Z"
   },
   {
    "duration": 12,
    "start_time": "2023-03-13T18:10:40.824Z"
   },
   {
    "duration": 130,
    "start_time": "2023-03-13T18:10:40.837Z"
   },
   {
    "duration": 10,
    "start_time": "2023-03-13T18:10:40.979Z"
   },
   {
    "duration": 15,
    "start_time": "2023-03-13T18:10:40.990Z"
   },
   {
    "duration": 21,
    "start_time": "2023-03-13T18:10:41.006Z"
   },
   {
    "duration": 104,
    "start_time": "2023-03-13T18:10:41.029Z"
   },
   {
    "duration": 68,
    "start_time": "2023-03-13T18:10:41.134Z"
   },
   {
    "duration": 12,
    "start_time": "2023-03-13T18:10:41.203Z"
   },
   {
    "duration": 24,
    "start_time": "2023-03-13T18:10:41.216Z"
   },
   {
    "duration": 12,
    "start_time": "2023-03-13T18:10:41.242Z"
   },
   {
    "duration": 31,
    "start_time": "2023-03-13T18:10:41.255Z"
   },
   {
    "duration": 11,
    "start_time": "2023-03-13T18:10:41.287Z"
   },
   {
    "duration": 17,
    "start_time": "2023-03-13T18:10:41.299Z"
   },
   {
    "duration": 9,
    "start_time": "2023-03-13T18:10:41.317Z"
   },
   {
    "duration": 12,
    "start_time": "2023-03-13T18:10:41.328Z"
   },
   {
    "duration": 5,
    "start_time": "2023-03-13T18:10:41.342Z"
   },
   {
    "duration": 115773,
    "start_time": "2023-03-13T18:10:41.349Z"
   },
   {
    "duration": 1306,
    "start_time": "2023-03-13T18:13:24.933Z"
   },
   {
    "duration": 3,
    "start_time": "2023-03-13T18:13:26.240Z"
   },
   {
    "duration": 102,
    "start_time": "2023-03-13T18:13:26.244Z"
   },
   {
    "duration": 47,
    "start_time": "2023-03-13T18:13:26.348Z"
   },
   {
    "duration": 29,
    "start_time": "2023-03-13T18:13:26.397Z"
   },
   {
    "duration": 33,
    "start_time": "2023-03-13T18:13:26.428Z"
   },
   {
    "duration": 35,
    "start_time": "2023-03-13T18:13:26.462Z"
   },
   {
    "duration": 7,
    "start_time": "2023-03-13T18:13:26.498Z"
   },
   {
    "duration": 20,
    "start_time": "2023-03-13T18:13:26.506Z"
   },
   {
    "duration": 12,
    "start_time": "2023-03-13T18:13:26.528Z"
   },
   {
    "duration": 5,
    "start_time": "2023-03-13T18:13:26.541Z"
   },
   {
    "duration": 36,
    "start_time": "2023-03-13T18:13:26.548Z"
   },
   {
    "duration": 7,
    "start_time": "2023-03-13T18:13:26.585Z"
   },
   {
    "duration": 10,
    "start_time": "2023-03-13T18:13:26.593Z"
   },
   {
    "duration": 12,
    "start_time": "2023-03-13T18:13:26.605Z"
   },
   {
    "duration": 121,
    "start_time": "2023-03-13T18:13:26.618Z"
   },
   {
    "duration": 10,
    "start_time": "2023-03-13T18:13:26.740Z"
   },
   {
    "duration": 29,
    "start_time": "2023-03-13T18:13:26.751Z"
   },
   {
    "duration": 20,
    "start_time": "2023-03-13T18:13:26.782Z"
   },
   {
    "duration": 80,
    "start_time": "2023-03-13T18:13:26.804Z"
   },
   {
    "duration": 58,
    "start_time": "2023-03-13T18:13:26.886Z"
   },
   {
    "duration": 12,
    "start_time": "2023-03-13T18:13:26.945Z"
   },
   {
    "duration": 45,
    "start_time": "2023-03-13T18:13:26.958Z"
   },
   {
    "duration": 11,
    "start_time": "2023-03-13T18:13:27.005Z"
   },
   {
    "duration": 11,
    "start_time": "2023-03-13T18:13:27.018Z"
   },
   {
    "duration": 11,
    "start_time": "2023-03-13T18:13:27.031Z"
   },
   {
    "duration": 40,
    "start_time": "2023-03-13T18:13:27.043Z"
   },
   {
    "duration": 11,
    "start_time": "2023-03-13T18:13:27.086Z"
   },
   {
    "duration": 10,
    "start_time": "2023-03-13T18:13:27.099Z"
   },
   {
    "duration": 5,
    "start_time": "2023-03-13T18:13:27.110Z"
   },
   {
    "duration": 117418,
    "start_time": "2023-03-13T18:13:27.116Z"
   },
   {
    "duration": 115624,
    "start_time": "2023-03-13T18:15:24.536Z"
   },
   {
    "duration": 588,
    "start_time": "2023-03-13T18:17:20.162Z"
   },
   {
    "duration": 1131,
    "start_time": "2023-03-13T18:17:20.751Z"
   },
   {
    "duration": 257015,
    "start_time": "2023-03-13T18:17:21.884Z"
   },
   {
    "duration": 343,
    "start_time": "2023-03-13T18:21:38.900Z"
   },
   {
    "duration": 6,
    "start_time": "2023-03-13T18:21:39.245Z"
   },
   {
    "duration": 7,
    "start_time": "2023-03-13T18:21:39.252Z"
   },
   {
    "duration": 4,
    "start_time": "2023-03-13T18:21:39.260Z"
   },
   {
    "duration": 22,
    "start_time": "2023-03-13T18:21:39.266Z"
   },
   {
    "duration": 203,
    "start_time": "2023-03-13T18:21:39.289Z"
   },
   {
    "duration": 42,
    "start_time": "2023-03-13T18:21:54.729Z"
   },
   {
    "duration": 98,
    "start_time": "2023-03-13T18:23:54.886Z"
   },
   {
    "duration": 95,
    "start_time": "2023-03-13T18:24:14.968Z"
   },
   {
    "duration": 11,
    "start_time": "2023-03-13T18:26:23.407Z"
   },
   {
    "duration": 4,
    "start_time": "2023-03-13T18:33:11.566Z"
   },
   {
    "duration": 2,
    "start_time": "2023-03-13T18:33:12.018Z"
   },
   {
    "duration": 5,
    "start_time": "2023-03-13T18:33:19.867Z"
   },
   {
    "duration": 2,
    "start_time": "2023-03-13T18:33:20.360Z"
   },
   {
    "duration": 95,
    "start_time": "2023-03-13T18:33:22.070Z"
   },
   {
    "duration": 41,
    "start_time": "2023-03-13T18:33:23.337Z"
   },
   {
    "duration": 32,
    "start_time": "2023-03-13T18:33:24.405Z"
   },
   {
    "duration": 40,
    "start_time": "2023-03-13T18:33:25.436Z"
   },
   {
    "duration": 27,
    "start_time": "2023-03-13T18:33:26.067Z"
   },
   {
    "duration": 7,
    "start_time": "2023-03-13T18:33:27.171Z"
   },
   {
    "duration": 16,
    "start_time": "2023-03-13T18:33:30.511Z"
   },
   {
    "duration": 16,
    "start_time": "2023-03-13T18:33:31.151Z"
   },
   {
    "duration": 6,
    "start_time": "2023-03-13T18:33:31.711Z"
   },
   {
    "duration": 12,
    "start_time": "2023-03-13T18:33:32.302Z"
   },
   {
    "duration": 6,
    "start_time": "2023-03-13T18:33:32.914Z"
   },
   {
    "duration": 10,
    "start_time": "2023-03-13T18:33:33.858Z"
   },
   {
    "duration": 11,
    "start_time": "2023-03-13T18:33:34.412Z"
   },
   {
    "duration": 123,
    "start_time": "2023-03-13T18:33:36.063Z"
   },
   {
    "duration": 10,
    "start_time": "2023-03-13T18:33:40.136Z"
   },
   {
    "duration": 14,
    "start_time": "2023-03-13T18:33:55.898Z"
   },
   {
    "duration": 21,
    "start_time": "2023-03-13T18:33:56.570Z"
   },
   {
    "duration": 78,
    "start_time": "2023-03-13T18:33:57.158Z"
   },
   {
    "duration": 64,
    "start_time": "2023-03-13T18:33:57.765Z"
   },
   {
    "duration": 14,
    "start_time": "2023-03-13T18:34:00.111Z"
   },
   {
    "duration": 9,
    "start_time": "2023-03-13T18:34:13.622Z"
   },
   {
    "duration": 62,
    "start_time": "2023-03-13T18:34:16.507Z"
   },
   {
    "duration": 56,
    "start_time": "2023-03-13T18:34:55.013Z"
   },
   {
    "duration": 12,
    "start_time": "2023-03-13T18:35:49.110Z"
   },
   {
    "duration": 6565,
    "start_time": "2023-03-13T18:37:59.755Z"
   },
   {
    "duration": 1939,
    "start_time": "2023-03-13T18:43:05.513Z"
   },
   {
    "duration": 1087,
    "start_time": "2023-03-13T18:43:07.454Z"
   },
   {
    "duration": 2,
    "start_time": "2023-03-13T18:43:08.542Z"
   },
   {
    "duration": 103,
    "start_time": "2023-03-13T18:43:08.545Z"
   },
   {
    "duration": 47,
    "start_time": "2023-03-13T18:43:08.650Z"
   },
   {
    "duration": 29,
    "start_time": "2023-03-13T18:43:08.698Z"
   },
   {
    "duration": 50,
    "start_time": "2023-03-13T18:43:08.729Z"
   },
   {
    "duration": 21,
    "start_time": "2023-03-13T18:43:08.781Z"
   },
   {
    "duration": 7,
    "start_time": "2023-03-13T18:43:08.804Z"
   },
   {
    "duration": 18,
    "start_time": "2023-03-13T18:43:08.812Z"
   },
   {
    "duration": 14,
    "start_time": "2023-03-13T18:43:08.831Z"
   },
   {
    "duration": 6,
    "start_time": "2023-03-13T18:43:08.846Z"
   },
   {
    "duration": 11,
    "start_time": "2023-03-13T18:43:08.879Z"
   },
   {
    "duration": 6,
    "start_time": "2023-03-13T18:43:08.892Z"
   },
   {
    "duration": 9,
    "start_time": "2023-03-13T18:43:08.900Z"
   },
   {
    "duration": 10,
    "start_time": "2023-03-13T18:43:08.910Z"
   },
   {
    "duration": 120,
    "start_time": "2023-03-13T18:43:08.922Z"
   },
   {
    "duration": 10,
    "start_time": "2023-03-13T18:43:09.043Z"
   },
   {
    "duration": 96,
    "start_time": "2023-03-13T18:43:09.054Z"
   },
   {
    "duration": 27,
    "start_time": "2023-03-13T18:43:09.152Z"
   },
   {
    "duration": 76,
    "start_time": "2023-03-13T18:43:09.181Z"
   },
   {
    "duration": 94,
    "start_time": "2023-03-13T18:43:09.259Z"
   },
   {
    "duration": 146,
    "start_time": "2023-03-13T18:43:09.355Z"
   },
   {
    "duration": 0,
    "start_time": "2023-03-13T18:43:09.502Z"
   },
   {
    "duration": 0,
    "start_time": "2023-03-13T18:43:09.504Z"
   },
   {
    "duration": 0,
    "start_time": "2023-03-13T18:43:09.505Z"
   },
   {
    "duration": 0,
    "start_time": "2023-03-13T18:43:09.507Z"
   },
   {
    "duration": 0,
    "start_time": "2023-03-13T18:43:09.508Z"
   },
   {
    "duration": 0,
    "start_time": "2023-03-13T18:43:09.509Z"
   },
   {
    "duration": 0,
    "start_time": "2023-03-13T18:43:09.510Z"
   },
   {
    "duration": 0,
    "start_time": "2023-03-13T18:43:09.512Z"
   },
   {
    "duration": 0,
    "start_time": "2023-03-13T18:43:09.513Z"
   },
   {
    "duration": 0,
    "start_time": "2023-03-13T18:43:09.514Z"
   },
   {
    "duration": 0,
    "start_time": "2023-03-13T18:43:09.516Z"
   },
   {
    "duration": 0,
    "start_time": "2023-03-13T18:43:09.517Z"
   },
   {
    "duration": 0,
    "start_time": "2023-03-13T18:43:09.518Z"
   },
   {
    "duration": 0,
    "start_time": "2023-03-13T18:43:09.519Z"
   },
   {
    "duration": 0,
    "start_time": "2023-03-13T18:43:09.520Z"
   },
   {
    "duration": 0,
    "start_time": "2023-03-13T18:43:09.522Z"
   },
   {
    "duration": 5,
    "start_time": "2023-03-13T18:47:10.657Z"
   },
   {
    "duration": 8,
    "start_time": "2023-03-13T19:08:07.913Z"
   },
   {
    "duration": 6,
    "start_time": "2023-03-13T19:10:05.229Z"
   },
   {
    "duration": 8,
    "start_time": "2023-03-13T19:11:12.328Z"
   },
   {
    "duration": 4,
    "start_time": "2023-03-13T19:11:36.344Z"
   },
   {
    "duration": 58,
    "start_time": "2023-03-13T19:14:46.468Z"
   },
   {
    "duration": 1762,
    "start_time": "2023-03-13T19:29:56.315Z"
   },
   {
    "duration": 1417,
    "start_time": "2023-03-13T19:29:58.079Z"
   },
   {
    "duration": 2,
    "start_time": "2023-03-13T19:29:59.497Z"
   },
   {
    "duration": 112,
    "start_time": "2023-03-13T19:29:59.500Z"
   },
   {
    "duration": 94,
    "start_time": "2023-03-13T19:29:59.614Z"
   },
   {
    "duration": 88,
    "start_time": "2023-03-13T19:29:59.709Z"
   },
   {
    "duration": 91,
    "start_time": "2023-03-13T19:29:59.799Z"
   },
   {
    "duration": 21,
    "start_time": "2023-03-13T19:29:59.891Z"
   },
   {
    "duration": 8,
    "start_time": "2023-03-13T19:29:59.914Z"
   },
   {
    "duration": 15,
    "start_time": "2023-03-13T19:29:59.980Z"
   },
   {
    "duration": 36,
    "start_time": "2023-03-13T19:29:59.996Z"
   },
   {
    "duration": 47,
    "start_time": "2023-03-13T19:30:00.033Z"
   },
   {
    "duration": 49,
    "start_time": "2023-03-13T19:30:00.081Z"
   },
   {
    "duration": 51,
    "start_time": "2023-03-13T19:30:00.132Z"
   },
   {
    "duration": 24,
    "start_time": "2023-03-13T19:30:00.185Z"
   },
   {
    "duration": 22,
    "start_time": "2023-03-13T19:30:00.211Z"
   },
   {
    "duration": 251,
    "start_time": "2023-03-13T19:30:00.234Z"
   },
   {
    "duration": 14,
    "start_time": "2023-03-13T19:30:00.487Z"
   },
   {
    "duration": 193,
    "start_time": "2023-03-13T19:30:00.503Z"
   },
   {
    "duration": 8,
    "start_time": "2023-03-13T19:30:00.697Z"
   },
   {
    "duration": 178,
    "start_time": "2023-03-13T19:30:00.706Z"
   },
   {
    "duration": 120,
    "start_time": "2023-03-13T19:30:00.886Z"
   },
   {
    "duration": 6,
    "start_time": "2023-03-13T19:30:01.008Z"
   },
   {
    "duration": 68,
    "start_time": "2023-03-13T19:30:01.015Z"
   },
   {
    "duration": 37,
    "start_time": "2023-03-13T19:30:01.084Z"
   },
   {
    "duration": 297,
    "start_time": "2023-03-13T19:30:01.123Z"
   },
   {
    "duration": 0,
    "start_time": "2023-03-13T19:30:01.421Z"
   },
   {
    "duration": 0,
    "start_time": "2023-03-13T19:30:01.423Z"
   },
   {
    "duration": 0,
    "start_time": "2023-03-13T19:30:01.424Z"
   },
   {
    "duration": 0,
    "start_time": "2023-03-13T19:30:01.425Z"
   },
   {
    "duration": 0,
    "start_time": "2023-03-13T19:30:01.480Z"
   },
   {
    "duration": 0,
    "start_time": "2023-03-13T19:30:01.482Z"
   },
   {
    "duration": 0,
    "start_time": "2023-03-13T19:30:01.483Z"
   },
   {
    "duration": 1,
    "start_time": "2023-03-13T19:30:01.484Z"
   },
   {
    "duration": 0,
    "start_time": "2023-03-13T19:30:01.486Z"
   },
   {
    "duration": 0,
    "start_time": "2023-03-13T19:30:01.487Z"
   },
   {
    "duration": 0,
    "start_time": "2023-03-13T19:30:01.489Z"
   },
   {
    "duration": 0,
    "start_time": "2023-03-13T19:30:01.490Z"
   },
   {
    "duration": 0,
    "start_time": "2023-03-13T19:30:01.491Z"
   },
   {
    "duration": 0,
    "start_time": "2023-03-13T19:30:01.493Z"
   },
   {
    "duration": 0,
    "start_time": "2023-03-13T19:30:01.494Z"
   },
   {
    "duration": 7,
    "start_time": "2023-03-13T19:34:17.311Z"
   },
   {
    "duration": 63,
    "start_time": "2023-03-13T19:34:18.121Z"
   },
   {
    "duration": 56,
    "start_time": "2023-03-13T19:34:20.026Z"
   },
   {
    "duration": 7,
    "start_time": "2023-03-13T19:34:24.912Z"
   },
   {
    "duration": 5,
    "start_time": "2023-03-13T19:34:26.212Z"
   },
   {
    "duration": 3,
    "start_time": "2023-03-13T19:34:27.165Z"
   },
   {
    "duration": 59,
    "start_time": "2023-03-13T19:34:29.072Z"
   },
   {
    "duration": 7,
    "start_time": "2023-03-13T19:37:14.568Z"
   },
   {
    "duration": 11,
    "start_time": "2023-03-13T19:37:38.016Z"
   },
   {
    "duration": 6,
    "start_time": "2023-03-13T19:38:13.958Z"
   },
   {
    "duration": 4,
    "start_time": "2023-03-13T19:38:27.959Z"
   },
   {
    "duration": 64,
    "start_time": "2023-03-13T19:38:36.251Z"
   },
   {
    "duration": 13,
    "start_time": "2023-03-13T19:41:19.016Z"
   },
   {
    "duration": 10,
    "start_time": "2023-03-13T19:47:33.715Z"
   },
   {
    "duration": 6,
    "start_time": "2023-03-13T19:47:58.378Z"
   },
   {
    "duration": 109,
    "start_time": "2023-03-13T19:48:14.059Z"
   },
   {
    "duration": 10,
    "start_time": "2023-03-13T19:49:49.824Z"
   },
   {
    "duration": 12,
    "start_time": "2023-03-13T19:50:14.134Z"
   },
   {
    "duration": 10,
    "start_time": "2023-03-13T19:50:20.636Z"
   },
   {
    "duration": 5,
    "start_time": "2023-03-13T19:50:21.671Z"
   },
   {
    "duration": 3,
    "start_time": "2023-03-13T19:50:22.346Z"
   },
   {
    "duration": 67,
    "start_time": "2023-03-13T19:50:23.118Z"
   },
   {
    "duration": 39,
    "start_time": "2023-03-13T19:50:24.115Z"
   },
   {
    "duration": 3,
    "start_time": "2023-03-13T19:51:32.859Z"
   },
   {
    "duration": 3,
    "start_time": "2023-03-13T19:51:46.411Z"
   },
   {
    "duration": 5924,
    "start_time": "2023-03-13T20:06:35.759Z"
   },
   {
    "duration": 14,
    "start_time": "2023-03-13T20:07:27.806Z"
   },
   {
    "duration": 4,
    "start_time": "2023-03-13T20:09:06.411Z"
   },
   {
    "duration": 12,
    "start_time": "2023-03-13T20:09:16.362Z"
   },
   {
    "duration": 9537,
    "start_time": "2023-03-13T20:11:38.743Z"
   },
   {
    "duration": 32,
    "start_time": "2023-03-13T20:15:17.250Z"
   },
   {
    "duration": 98,
    "start_time": "2023-03-13T20:15:25.384Z"
   },
   {
    "duration": 10,
    "start_time": "2023-03-13T20:23:32.218Z"
   },
   {
    "duration": 4,
    "start_time": "2023-03-13T20:25:05.465Z"
   },
   {
    "duration": 3,
    "start_time": "2023-03-13T20:25:59.151Z"
   },
   {
    "duration": 9,
    "start_time": "2023-03-13T20:25:59.649Z"
   },
   {
    "duration": 6,
    "start_time": "2023-03-13T20:26:40.622Z"
   },
   {
    "duration": 1800,
    "start_time": "2023-03-13T20:26:49.127Z"
   },
   {
    "duration": 1365,
    "start_time": "2023-03-13T20:26:50.929Z"
   },
   {
    "duration": 2,
    "start_time": "2023-03-13T20:26:52.296Z"
   },
   {
    "duration": 113,
    "start_time": "2023-03-13T20:26:52.300Z"
   },
   {
    "duration": 105,
    "start_time": "2023-03-13T20:26:52.415Z"
   },
   {
    "duration": 84,
    "start_time": "2023-03-13T20:26:52.522Z"
   },
   {
    "duration": 90,
    "start_time": "2023-03-13T20:26:52.607Z"
   },
   {
    "duration": 22,
    "start_time": "2023-03-13T20:26:52.698Z"
   },
   {
    "duration": 62,
    "start_time": "2023-03-13T20:26:52.722Z"
   },
   {
    "duration": 21,
    "start_time": "2023-03-13T20:26:52.786Z"
   },
   {
    "duration": 74,
    "start_time": "2023-03-13T20:26:52.809Z"
   },
   {
    "duration": 8,
    "start_time": "2023-03-13T20:26:52.884Z"
   },
   {
    "duration": 16,
    "start_time": "2023-03-13T20:26:52.894Z"
   },
   {
    "duration": 7,
    "start_time": "2023-03-13T20:26:52.912Z"
   },
   {
    "duration": 60,
    "start_time": "2023-03-13T20:26:52.920Z"
   },
   {
    "duration": 10,
    "start_time": "2023-03-13T20:26:52.982Z"
   },
   {
    "duration": 212,
    "start_time": "2023-03-13T20:26:52.994Z"
   },
   {
    "duration": 10,
    "start_time": "2023-03-13T20:26:53.208Z"
   },
   {
    "duration": 177,
    "start_time": "2023-03-13T20:26:53.219Z"
   },
   {
    "duration": 7,
    "start_time": "2023-03-13T20:26:53.398Z"
   },
   {
    "duration": 202,
    "start_time": "2023-03-13T20:26:53.407Z"
   },
   {
    "duration": 115,
    "start_time": "2023-03-13T20:26:53.611Z"
   },
   {
    "duration": 13,
    "start_time": "2023-03-13T20:26:53.728Z"
   },
   {
    "duration": 38,
    "start_time": "2023-03-13T20:26:53.745Z"
   },
   {
    "duration": 4,
    "start_time": "2023-03-13T20:26:53.785Z"
   },
   {
    "duration": 65,
    "start_time": "2023-03-13T20:26:53.791Z"
   },
   {
    "duration": 54,
    "start_time": "2023-03-13T20:26:53.858Z"
   },
   {
    "duration": 3,
    "start_time": "2023-03-13T20:26:53.913Z"
   },
   {
    "duration": 6,
    "start_time": "2023-03-13T20:26:53.918Z"
   },
   {
    "duration": 7,
    "start_time": "2023-03-13T20:26:53.925Z"
   },
   {
    "duration": 146,
    "start_time": "2023-03-13T20:26:53.934Z"
   },
   {
    "duration": 0,
    "start_time": "2023-03-13T20:26:54.082Z"
   },
   {
    "duration": 0,
    "start_time": "2023-03-13T20:26:54.083Z"
   },
   {
    "duration": 0,
    "start_time": "2023-03-13T20:26:54.084Z"
   },
   {
    "duration": 0,
    "start_time": "2023-03-13T20:26:54.085Z"
   },
   {
    "duration": 0,
    "start_time": "2023-03-13T20:26:54.086Z"
   },
   {
    "duration": 0,
    "start_time": "2023-03-13T20:26:54.086Z"
   },
   {
    "duration": 0,
    "start_time": "2023-03-13T20:26:54.087Z"
   },
   {
    "duration": 0,
    "start_time": "2023-03-13T20:26:54.088Z"
   },
   {
    "duration": 0,
    "start_time": "2023-03-13T20:26:54.089Z"
   },
   {
    "duration": 0,
    "start_time": "2023-03-13T20:26:54.090Z"
   },
   {
    "duration": 0,
    "start_time": "2023-03-13T20:26:54.091Z"
   },
   {
    "duration": 0,
    "start_time": "2023-03-13T20:26:54.091Z"
   },
   {
    "duration": 0,
    "start_time": "2023-03-13T20:26:54.092Z"
   },
   {
    "duration": 0,
    "start_time": "2023-03-13T20:26:54.093Z"
   },
   {
    "duration": 2642,
    "start_time": "2023-03-13T20:43:11.806Z"
   },
   {
    "duration": 18,
    "start_time": "2023-03-13T20:44:17.756Z"
   },
   {
    "duration": 969,
    "start_time": "2023-03-13T20:45:06.604Z"
   },
   {
    "duration": 961,
    "start_time": "2023-03-13T20:46:27.889Z"
   },
   {
    "duration": 858,
    "start_time": "2023-03-13T20:47:43.687Z"
   },
   {
    "duration": 1041,
    "start_time": "2023-03-13T20:47:50.757Z"
   },
   {
    "duration": 991,
    "start_time": "2023-03-13T20:57:03.341Z"
   },
   {
    "duration": 19,
    "start_time": "2023-03-13T21:08:22.839Z"
   },
   {
    "duration": 3126,
    "start_time": "2023-03-14T11:57:34.934Z"
   },
   {
    "duration": 6728,
    "start_time": "2023-03-14T11:57:38.062Z"
   },
   {
    "duration": 1386,
    "start_time": "2023-03-14T11:57:44.791Z"
   },
   {
    "duration": 2,
    "start_time": "2023-03-14T11:57:46.179Z"
   },
   {
    "duration": 311,
    "start_time": "2023-03-14T11:57:46.183Z"
   },
   {
    "duration": 54,
    "start_time": "2023-03-14T11:57:46.496Z"
   },
   {
    "duration": 33,
    "start_time": "2023-03-14T11:57:46.551Z"
   },
   {
    "duration": 41,
    "start_time": "2023-03-14T11:57:46.586Z"
   },
   {
    "duration": 47,
    "start_time": "2023-03-14T11:57:46.628Z"
   },
   {
    "duration": 8,
    "start_time": "2023-03-14T11:57:46.676Z"
   },
   {
    "duration": 28,
    "start_time": "2023-03-14T11:57:46.685Z"
   },
   {
    "duration": 24,
    "start_time": "2023-03-14T11:57:46.714Z"
   },
   {
    "duration": 13,
    "start_time": "2023-03-14T11:57:46.739Z"
   },
   {
    "duration": 49,
    "start_time": "2023-03-14T11:57:46.756Z"
   },
   {
    "duration": 11,
    "start_time": "2023-03-14T11:57:46.806Z"
   },
   {
    "duration": 29,
    "start_time": "2023-03-14T11:57:46.818Z"
   },
   {
    "duration": 22,
    "start_time": "2023-03-14T11:57:46.849Z"
   },
   {
    "duration": 110,
    "start_time": "2023-03-14T11:57:46.872Z"
   },
   {
    "duration": 11,
    "start_time": "2023-03-14T11:57:46.984Z"
   },
   {
    "duration": 88,
    "start_time": "2023-03-14T11:57:46.996Z"
   },
   {
    "duration": 997,
    "start_time": "2023-03-14T11:57:47.086Z"
   },
   {
    "duration": 21,
    "start_time": "2023-03-14T11:57:48.084Z"
   },
   {
    "duration": 19,
    "start_time": "2023-03-14T11:57:48.107Z"
   },
   {
    "duration": 76,
    "start_time": "2023-03-14T11:57:48.127Z"
   },
   {
    "duration": 78,
    "start_time": "2023-03-14T11:57:48.205Z"
   },
   {
    "duration": 12,
    "start_time": "2023-03-14T11:57:48.284Z"
   },
   {
    "duration": 34,
    "start_time": "2023-03-14T11:57:48.297Z"
   },
   {
    "duration": 14,
    "start_time": "2023-03-14T11:57:48.332Z"
   },
   {
    "duration": 72,
    "start_time": "2023-03-14T11:57:48.348Z"
   },
   {
    "duration": 49,
    "start_time": "2023-03-14T11:57:48.422Z"
   },
   {
    "duration": 3,
    "start_time": "2023-03-14T11:57:48.472Z"
   },
   {
    "duration": 17,
    "start_time": "2023-03-14T11:57:48.477Z"
   },
   {
    "duration": 23,
    "start_time": "2023-03-14T11:57:48.495Z"
   },
   {
    "duration": 183,
    "start_time": "2023-03-14T11:57:48.519Z"
   },
   {
    "duration": 0,
    "start_time": "2023-03-14T11:57:48.704Z"
   },
   {
    "duration": 0,
    "start_time": "2023-03-14T11:57:48.705Z"
   },
   {
    "duration": 0,
    "start_time": "2023-03-14T11:57:48.706Z"
   },
   {
    "duration": 0,
    "start_time": "2023-03-14T11:57:48.707Z"
   },
   {
    "duration": 0,
    "start_time": "2023-03-14T11:57:48.708Z"
   },
   {
    "duration": 0,
    "start_time": "2023-03-14T11:57:48.709Z"
   },
   {
    "duration": 0,
    "start_time": "2023-03-14T11:57:48.710Z"
   },
   {
    "duration": 0,
    "start_time": "2023-03-14T11:57:48.711Z"
   },
   {
    "duration": 0,
    "start_time": "2023-03-14T11:57:48.712Z"
   },
   {
    "duration": 0,
    "start_time": "2023-03-14T11:57:48.713Z"
   },
   {
    "duration": 0,
    "start_time": "2023-03-14T11:57:48.714Z"
   },
   {
    "duration": 0,
    "start_time": "2023-03-14T11:57:48.715Z"
   },
   {
    "duration": 0,
    "start_time": "2023-03-14T11:57:48.716Z"
   },
   {
    "duration": 0,
    "start_time": "2023-03-14T11:57:48.717Z"
   },
   {
    "duration": 9,
    "start_time": "2023-03-14T12:01:36.517Z"
   },
   {
    "duration": 9,
    "start_time": "2023-03-14T12:01:52.081Z"
   },
   {
    "duration": 132,
    "start_time": "2023-03-14T12:02:02.958Z"
   },
   {
    "duration": 205,
    "start_time": "2023-03-14T12:02:13.950Z"
   },
   {
    "duration": 141,
    "start_time": "2023-03-14T12:02:18.804Z"
   },
   {
    "duration": 225,
    "start_time": "2023-03-14T12:03:00.607Z"
   },
   {
    "duration": 11,
    "start_time": "2023-03-14T12:21:58.863Z"
   },
   {
    "duration": 10,
    "start_time": "2023-03-14T12:22:09.451Z"
   },
   {
    "duration": 159,
    "start_time": "2023-03-14T12:28:03.815Z"
   },
   {
    "duration": 173,
    "start_time": "2023-03-14T12:28:45.444Z"
   },
   {
    "duration": 168,
    "start_time": "2023-03-14T12:31:08.153Z"
   },
   {
    "duration": 1167,
    "start_time": "2023-03-14T12:32:44.463Z"
   },
   {
    "duration": 174,
    "start_time": "2023-03-14T12:32:55.528Z"
   },
   {
    "duration": 147,
    "start_time": "2023-03-14T12:33:02.313Z"
   },
   {
    "duration": 137,
    "start_time": "2023-03-14T12:33:05.433Z"
   },
   {
    "duration": 139,
    "start_time": "2023-03-14T12:33:51.240Z"
   },
   {
    "duration": 133,
    "start_time": "2023-03-14T12:40:13.996Z"
   },
   {
    "duration": 133,
    "start_time": "2023-03-14T12:40:30.444Z"
   },
   {
    "duration": 213,
    "start_time": "2023-03-14T12:40:34.223Z"
   },
   {
    "duration": 300,
    "start_time": "2023-03-14T12:40:40.793Z"
   },
   {
    "duration": 178,
    "start_time": "2023-03-14T12:40:44.700Z"
   },
   {
    "duration": 79,
    "start_time": "2023-03-14T12:46:34.938Z"
   },
   {
    "duration": 338,
    "start_time": "2023-03-14T12:47:48.866Z"
   },
   {
    "duration": 228,
    "start_time": "2023-03-14T12:47:58.595Z"
   },
   {
    "duration": 1163,
    "start_time": "2023-03-14T12:48:13.947Z"
   },
   {
    "duration": 2203,
    "start_time": "2023-03-14T12:48:39.253Z"
   },
   {
    "duration": 221,
    "start_time": "2023-03-14T12:49:19.796Z"
   },
   {
    "duration": 143,
    "start_time": "2023-03-14T12:49:52.065Z"
   },
   {
    "duration": 381,
    "start_time": "2023-03-14T12:50:09.099Z"
   },
   {
    "duration": 10,
    "start_time": "2023-03-14T12:52:46.165Z"
   },
   {
    "duration": 19,
    "start_time": "2023-03-14T12:52:50.456Z"
   },
   {
    "duration": 17,
    "start_time": "2023-03-14T12:53:02.174Z"
   },
   {
    "duration": 17,
    "start_time": "2023-03-14T12:53:20.097Z"
   },
   {
    "duration": 17,
    "start_time": "2023-03-14T12:53:22.492Z"
   },
   {
    "duration": 220,
    "start_time": "2023-03-14T12:53:59.752Z"
   },
   {
    "duration": 128,
    "start_time": "2023-03-14T12:54:04.195Z"
   },
   {
    "duration": 157,
    "start_time": "2023-03-14T12:54:09.155Z"
   },
   {
    "duration": 134,
    "start_time": "2023-03-14T12:54:13.461Z"
   },
   {
    "duration": 145,
    "start_time": "2023-03-14T12:54:32.681Z"
   },
   {
    "duration": 111,
    "start_time": "2023-03-14T12:54:40.729Z"
   },
   {
    "duration": 113,
    "start_time": "2023-03-14T12:54:45.726Z"
   },
   {
    "duration": 978,
    "start_time": "2023-03-14T13:01:55.355Z"
   },
   {
    "duration": 935,
    "start_time": "2023-03-14T13:02:01.191Z"
   },
   {
    "duration": 4,
    "start_time": "2023-03-14T13:08:32.994Z"
   },
   {
    "duration": 276,
    "start_time": "2023-03-14T13:08:33.334Z"
   },
   {
    "duration": 138,
    "start_time": "2023-03-14T13:08:44.415Z"
   },
   {
    "duration": 274,
    "start_time": "2023-03-14T13:08:46.815Z"
   },
   {
    "duration": 161,
    "start_time": "2023-03-14T13:08:50.103Z"
   },
   {
    "duration": 195,
    "start_time": "2023-03-14T13:08:55.560Z"
   },
   {
    "duration": 187,
    "start_time": "2023-03-14T13:09:46.694Z"
   },
   {
    "duration": 179,
    "start_time": "2023-03-14T13:09:50.297Z"
   },
   {
    "duration": 232,
    "start_time": "2023-03-14T13:14:02.956Z"
   },
   {
    "duration": 255,
    "start_time": "2023-03-14T13:14:07.232Z"
   },
   {
    "duration": 308,
    "start_time": "2023-03-14T13:14:10.891Z"
   },
   {
    "duration": 1290,
    "start_time": "2023-03-14T13:14:17.499Z"
   },
   {
    "duration": 141,
    "start_time": "2023-03-14T13:14:27.843Z"
   },
   {
    "duration": 145,
    "start_time": "2023-03-14T13:14:31.965Z"
   },
   {
    "duration": 167,
    "start_time": "2023-03-14T13:14:39.371Z"
   },
   {
    "duration": 120,
    "start_time": "2023-03-14T13:15:28.077Z"
   },
   {
    "duration": 120,
    "start_time": "2023-03-14T13:16:47.609Z"
   },
   {
    "duration": 120,
    "start_time": "2023-03-14T13:16:53.949Z"
   },
   {
    "duration": 326,
    "start_time": "2023-03-14T13:19:32.104Z"
   },
   {
    "duration": 162,
    "start_time": "2023-03-14T13:19:37.057Z"
   },
   {
    "duration": 169,
    "start_time": "2023-03-14T13:22:25.809Z"
   },
   {
    "duration": 9,
    "start_time": "2023-03-14T13:25:35.677Z"
   },
   {
    "duration": 104,
    "start_time": "2023-03-14T13:25:41.639Z"
   },
   {
    "duration": 106,
    "start_time": "2023-03-14T13:25:45.398Z"
   },
   {
    "duration": 123,
    "start_time": "2023-03-14T13:26:43.476Z"
   },
   {
    "duration": 196,
    "start_time": "2023-03-14T13:28:29.912Z"
   },
   {
    "duration": 98,
    "start_time": "2023-03-14T13:28:45.921Z"
   },
   {
    "duration": 100,
    "start_time": "2023-03-14T13:28:48.645Z"
   },
   {
    "duration": 206,
    "start_time": "2023-03-14T13:40:18.064Z"
   },
   {
    "duration": 106,
    "start_time": "2023-03-14T13:41:42.905Z"
   },
   {
    "duration": 115,
    "start_time": "2023-03-14T13:41:49.478Z"
   },
   {
    "duration": 101,
    "start_time": "2023-03-14T13:41:53.407Z"
   },
   {
    "duration": 103,
    "start_time": "2023-03-14T13:41:57.396Z"
   },
   {
    "duration": 100,
    "start_time": "2023-03-14T13:42:06.497Z"
   },
   {
    "duration": 101,
    "start_time": "2023-03-14T13:42:09.712Z"
   },
   {
    "duration": 109,
    "start_time": "2023-03-14T13:42:17.703Z"
   },
   {
    "duration": 111,
    "start_time": "2023-03-14T13:42:32.449Z"
   },
   {
    "duration": 138,
    "start_time": "2023-03-14T13:42:36.654Z"
   },
   {
    "duration": 120,
    "start_time": "2023-03-14T13:42:41.808Z"
   },
   {
    "duration": 141,
    "start_time": "2023-03-14T13:45:57.927Z"
   },
   {
    "duration": 131,
    "start_time": "2023-03-14T13:46:07.307Z"
   },
   {
    "duration": 135,
    "start_time": "2023-03-14T13:46:10.552Z"
   },
   {
    "duration": 277,
    "start_time": "2023-03-14T13:59:16.671Z"
   },
   {
    "duration": 195,
    "start_time": "2023-03-14T14:01:41.771Z"
   },
   {
    "duration": 14,
    "start_time": "2023-03-14T18:55:05.403Z"
   },
   {
    "duration": 404,
    "start_time": "2023-03-14T18:55:18.094Z"
   },
   {
    "duration": 406,
    "start_time": "2023-03-14T18:55:50.050Z"
   },
   {
    "duration": 385,
    "start_time": "2023-03-14T18:55:58.560Z"
   },
   {
    "duration": 2159,
    "start_time": "2023-03-14T18:56:15.166Z"
   },
   {
    "duration": 2897,
    "start_time": "2023-03-14T18:56:17.327Z"
   },
   {
    "duration": 1258,
    "start_time": "2023-03-14T18:56:20.226Z"
   },
   {
    "duration": 2,
    "start_time": "2023-03-14T18:56:21.486Z"
   },
   {
    "duration": 103,
    "start_time": "2023-03-14T18:56:21.490Z"
   },
   {
    "duration": 67,
    "start_time": "2023-03-14T18:56:21.595Z"
   },
   {
    "duration": 40,
    "start_time": "2023-03-14T18:56:21.664Z"
   },
   {
    "duration": 70,
    "start_time": "2023-03-14T18:56:21.706Z"
   },
   {
    "duration": 26,
    "start_time": "2023-03-14T18:56:21.778Z"
   },
   {
    "duration": 8,
    "start_time": "2023-03-14T18:56:21.808Z"
   },
   {
    "duration": 45,
    "start_time": "2023-03-14T18:56:21.818Z"
   },
   {
    "duration": 16,
    "start_time": "2023-03-14T18:56:21.865Z"
   },
   {
    "duration": 5,
    "start_time": "2023-03-14T18:56:21.883Z"
   },
   {
    "duration": 13,
    "start_time": "2023-03-14T18:56:21.890Z"
   },
   {
    "duration": 7,
    "start_time": "2023-03-14T18:56:21.905Z"
   },
   {
    "duration": 43,
    "start_time": "2023-03-14T18:56:21.913Z"
   },
   {
    "duration": 12,
    "start_time": "2023-03-14T18:56:21.958Z"
   },
   {
    "duration": 138,
    "start_time": "2023-03-14T18:56:21.971Z"
   },
   {
    "duration": 16,
    "start_time": "2023-03-14T18:56:22.112Z"
   },
   {
    "duration": 101,
    "start_time": "2023-03-14T18:56:22.130Z"
   },
   {
    "duration": 936,
    "start_time": "2023-03-14T18:56:22.232Z"
   },
   {
    "duration": 3,
    "start_time": "2023-03-14T18:56:23.169Z"
   },
   {
    "duration": 187,
    "start_time": "2023-03-14T18:56:23.174Z"
   },
   {
    "duration": 128,
    "start_time": "2023-03-14T18:56:23.363Z"
   },
   {
    "duration": 171,
    "start_time": "2023-03-14T18:56:23.492Z"
   },
   {
    "duration": 120,
    "start_time": "2023-03-14T18:56:23.664Z"
   },
   {
    "duration": 246,
    "start_time": "2023-03-14T18:56:23.785Z"
   },
   {
    "duration": 210,
    "start_time": "2023-03-14T18:56:24.035Z"
   },
   {
    "duration": 119,
    "start_time": "2023-03-14T18:56:24.247Z"
   },
   {
    "duration": 128,
    "start_time": "2023-03-14T18:56:24.368Z"
   },
   {
    "duration": 136,
    "start_time": "2023-03-14T18:56:24.497Z"
   },
   {
    "duration": 114,
    "start_time": "2023-03-14T18:56:24.634Z"
   },
   {
    "duration": 111,
    "start_time": "2023-03-14T18:56:24.754Z"
   },
   {
    "duration": 211,
    "start_time": "2023-03-14T18:56:24.867Z"
   },
   {
    "duration": 209,
    "start_time": "2023-03-14T18:56:25.080Z"
   },
   {
    "duration": 144,
    "start_time": "2023-03-14T18:56:25.291Z"
   },
   {
    "duration": 189,
    "start_time": "2023-03-14T18:56:25.436Z"
   },
   {
    "duration": 9,
    "start_time": "2023-03-14T18:56:25.626Z"
   },
   {
    "duration": 85,
    "start_time": "2023-03-14T18:56:25.637Z"
   },
   {
    "duration": 83,
    "start_time": "2023-03-14T18:56:25.724Z"
   },
   {
    "duration": 13,
    "start_time": "2023-03-14T18:56:25.808Z"
   },
   {
    "duration": 6,
    "start_time": "2023-03-14T18:56:25.822Z"
   },
   {
    "duration": 27,
    "start_time": "2023-03-14T18:56:25.829Z"
   },
   {
    "duration": 99,
    "start_time": "2023-03-14T18:56:25.858Z"
   },
   {
    "duration": 43,
    "start_time": "2023-03-14T18:56:25.958Z"
   },
   {
    "duration": 4,
    "start_time": "2023-03-14T18:56:26.002Z"
   },
   {
    "duration": 4,
    "start_time": "2023-03-14T18:56:26.008Z"
   },
   {
    "duration": 11444,
    "start_time": "2023-03-14T18:56:26.014Z"
   },
   {
    "duration": 96,
    "start_time": "2023-03-14T18:56:37.460Z"
   },
   {
    "duration": 365,
    "start_time": "2023-03-14T18:56:37.558Z"
   },
   {
    "duration": 8,
    "start_time": "2023-03-14T18:56:37.925Z"
   },
   {
    "duration": 0,
    "start_time": "2023-03-14T18:56:37.935Z"
   },
   {
    "duration": 0,
    "start_time": "2023-03-14T18:56:37.936Z"
   },
   {
    "duration": 0,
    "start_time": "2023-03-14T18:56:37.937Z"
   },
   {
    "duration": 0,
    "start_time": "2023-03-14T18:56:37.938Z"
   },
   {
    "duration": 0,
    "start_time": "2023-03-14T18:56:37.938Z"
   },
   {
    "duration": 0,
    "start_time": "2023-03-14T18:56:37.939Z"
   },
   {
    "duration": 0,
    "start_time": "2023-03-14T18:56:37.940Z"
   },
   {
    "duration": 0,
    "start_time": "2023-03-14T18:56:37.942Z"
   },
   {
    "duration": 0,
    "start_time": "2023-03-14T18:56:37.942Z"
   },
   {
    "duration": 10720,
    "start_time": "2023-03-14T19:00:34.237Z"
   },
   {
    "duration": 11717,
    "start_time": "2023-03-14T19:02:19.041Z"
   },
   {
    "duration": 45218,
    "start_time": "2023-03-14T19:02:42.861Z"
   },
   {
    "duration": 41444,
    "start_time": "2023-03-14T19:03:39.636Z"
   },
   {
    "duration": 49272,
    "start_time": "2023-03-14T19:04:29.793Z"
   },
   {
    "duration": 48653,
    "start_time": "2023-03-14T19:05:53.919Z"
   },
   {
    "duration": 10,
    "start_time": "2023-03-14T19:07:51.289Z"
   },
   {
    "duration": 78,
    "start_time": "2023-03-14T19:07:51.815Z"
   },
   {
    "duration": 64,
    "start_time": "2023-03-14T19:07:52.273Z"
   },
   {
    "duration": 13,
    "start_time": "2023-03-14T19:07:54.052Z"
   },
   {
    "duration": 5,
    "start_time": "2023-03-14T19:07:54.487Z"
   },
   {
    "duration": 3,
    "start_time": "2023-03-14T19:07:54.937Z"
   },
   {
    "duration": 80,
    "start_time": "2023-03-14T19:07:55.423Z"
   },
   {
    "duration": 55,
    "start_time": "2023-03-14T19:07:55.849Z"
   },
   {
    "duration": 4,
    "start_time": "2023-03-14T19:07:56.306Z"
   },
   {
    "duration": 5,
    "start_time": "2023-03-14T19:07:56.814Z"
   },
   {
    "duration": 6,
    "start_time": "2023-03-14T19:07:58.096Z"
   },
   {
    "duration": 43962,
    "start_time": "2023-03-14T19:08:00.398Z"
   },
   {
    "duration": 5,
    "start_time": "2023-03-14T19:11:25.717Z"
   },
   {
    "duration": 10,
    "start_time": "2023-03-14T19:11:29.783Z"
   },
   {
    "duration": 86,
    "start_time": "2023-03-14T19:11:30.386Z"
   },
   {
    "duration": 81,
    "start_time": "2023-03-14T19:11:30.834Z"
   },
   {
    "duration": 13,
    "start_time": "2023-03-14T19:11:32.117Z"
   },
   {
    "duration": 19,
    "start_time": "2023-03-14T19:11:32.474Z"
   },
   {
    "duration": 4,
    "start_time": "2023-03-14T19:11:32.909Z"
   },
   {
    "duration": 117,
    "start_time": "2023-03-14T19:11:33.296Z"
   },
   {
    "duration": 49,
    "start_time": "2023-03-14T19:11:33.683Z"
   },
   {
    "duration": 12,
    "start_time": "2023-03-14T19:11:34.064Z"
   },
   {
    "duration": 4,
    "start_time": "2023-03-14T19:11:34.483Z"
   },
   {
    "duration": 7,
    "start_time": "2023-03-14T19:11:35.916Z"
   },
   {
    "duration": 40190,
    "start_time": "2023-03-14T19:11:38.486Z"
   },
   {
    "duration": 4566,
    "start_time": "2023-03-14T19:13:27.396Z"
   },
   {
    "duration": 2298,
    "start_time": "2023-03-14T19:13:31.964Z"
   },
   {
    "duration": 1287,
    "start_time": "2023-03-14T19:13:34.264Z"
   },
   {
    "duration": 11,
    "start_time": "2023-03-14T19:13:35.560Z"
   },
   {
    "duration": 126,
    "start_time": "2023-03-14T19:13:35.575Z"
   },
   {
    "duration": 73,
    "start_time": "2023-03-14T19:13:35.703Z"
   },
   {
    "duration": 50,
    "start_time": "2023-03-14T19:13:35.780Z"
   },
   {
    "duration": 69,
    "start_time": "2023-03-14T19:13:35.832Z"
   },
   {
    "duration": 60,
    "start_time": "2023-03-14T19:13:35.904Z"
   },
   {
    "duration": 18,
    "start_time": "2023-03-14T19:13:35.966Z"
   },
   {
    "duration": 23,
    "start_time": "2023-03-14T19:13:35.986Z"
   },
   {
    "duration": 20,
    "start_time": "2023-03-14T19:13:36.011Z"
   },
   {
    "duration": 43,
    "start_time": "2023-03-14T19:13:36.033Z"
   },
   {
    "duration": 17,
    "start_time": "2023-03-14T19:13:36.082Z"
   },
   {
    "duration": 19,
    "start_time": "2023-03-14T19:13:36.100Z"
   },
   {
    "duration": 18,
    "start_time": "2023-03-14T19:13:36.121Z"
   },
   {
    "duration": 19,
    "start_time": "2023-03-14T19:13:36.141Z"
   },
   {
    "duration": 131,
    "start_time": "2023-03-14T19:13:36.161Z"
   },
   {
    "duration": 16,
    "start_time": "2023-03-14T19:13:36.294Z"
   },
   {
    "duration": 104,
    "start_time": "2023-03-14T19:13:36.311Z"
   },
   {
    "duration": 1146,
    "start_time": "2023-03-14T19:13:36.417Z"
   },
   {
    "duration": 4,
    "start_time": "2023-03-14T19:13:37.565Z"
   },
   {
    "duration": 260,
    "start_time": "2023-03-14T19:13:37.571Z"
   },
   {
    "duration": 146,
    "start_time": "2023-03-14T19:13:37.833Z"
   },
   {
    "duration": 196,
    "start_time": "2023-03-14T19:13:37.981Z"
   },
   {
    "duration": 130,
    "start_time": "2023-03-14T19:13:38.179Z"
   },
   {
    "duration": 264,
    "start_time": "2023-03-14T19:13:38.311Z"
   },
   {
    "duration": 209,
    "start_time": "2023-03-14T19:13:38.576Z"
   },
   {
    "duration": 108,
    "start_time": "2023-03-14T19:13:38.786Z"
   },
   {
    "duration": 132,
    "start_time": "2023-03-14T19:13:38.896Z"
   },
   {
    "duration": 149,
    "start_time": "2023-03-14T19:13:39.030Z"
   },
   {
    "duration": 124,
    "start_time": "2023-03-14T19:13:39.181Z"
   },
   {
    "duration": 129,
    "start_time": "2023-03-14T19:13:39.307Z"
   },
   {
    "duration": 206,
    "start_time": "2023-03-14T19:13:39.438Z"
   },
   {
    "duration": 223,
    "start_time": "2023-03-14T19:13:39.645Z"
   },
   {
    "duration": 133,
    "start_time": "2023-03-14T19:13:39.869Z"
   },
   {
    "duration": 202,
    "start_time": "2023-03-14T19:13:40.004Z"
   },
   {
    "duration": 3,
    "start_time": "2023-03-14T19:13:40.207Z"
   },
   {
    "duration": 10,
    "start_time": "2023-03-14T19:13:40.211Z"
   },
   {
    "duration": 114,
    "start_time": "2023-03-14T19:13:40.222Z"
   },
   {
    "duration": 83,
    "start_time": "2023-03-14T19:13:40.342Z"
   },
   {
    "duration": 11,
    "start_time": "2023-03-14T19:13:40.427Z"
   },
   {
    "duration": 32,
    "start_time": "2023-03-14T19:13:40.440Z"
   },
   {
    "duration": 4,
    "start_time": "2023-03-14T19:13:40.474Z"
   },
   {
    "duration": 83,
    "start_time": "2023-03-14T19:13:40.480Z"
   },
   {
    "duration": 43,
    "start_time": "2023-03-14T19:13:40.565Z"
   },
   {
    "duration": 4,
    "start_time": "2023-03-14T19:13:40.610Z"
   },
   {
    "duration": 4,
    "start_time": "2023-03-14T19:13:40.616Z"
   },
   {
    "duration": 7,
    "start_time": "2023-03-14T19:13:40.622Z"
   },
   {
    "duration": 44109,
    "start_time": "2023-03-14T19:13:40.655Z"
   },
   {
    "duration": 411,
    "start_time": "2023-03-14T19:14:24.777Z"
   },
   {
    "duration": 10,
    "start_time": "2023-03-14T19:14:25.189Z"
   },
   {
    "duration": 0,
    "start_time": "2023-03-14T19:14:25.201Z"
   },
   {
    "duration": 0,
    "start_time": "2023-03-14T19:14:25.202Z"
   },
   {
    "duration": 0,
    "start_time": "2023-03-14T19:14:25.203Z"
   },
   {
    "duration": 0,
    "start_time": "2023-03-14T19:14:25.205Z"
   },
   {
    "duration": 0,
    "start_time": "2023-03-14T19:14:25.206Z"
   },
   {
    "duration": 0,
    "start_time": "2023-03-14T19:14:25.208Z"
   },
   {
    "duration": 0,
    "start_time": "2023-03-14T19:14:25.209Z"
   },
   {
    "duration": 0,
    "start_time": "2023-03-14T19:14:25.210Z"
   },
   {
    "duration": 0,
    "start_time": "2023-03-14T19:14:25.211Z"
   },
   {
    "duration": 86,
    "start_time": "2023-03-14T19:23:18.808Z"
   },
   {
    "duration": 4,
    "start_time": "2023-03-14T19:23:52.820Z"
   },
   {
    "duration": 168786,
    "start_time": "2023-03-14T19:23:54.252Z"
   },
   {
    "duration": 22,
    "start_time": "2023-03-14T19:27:44.692Z"
   },
   {
    "duration": 3,
    "start_time": "2023-03-14T19:28:07.177Z"
   },
   {
    "duration": 32,
    "start_time": "2023-03-14T19:29:56.347Z"
   },
   {
    "duration": 12326,
    "start_time": "2023-03-14T19:31:18.407Z"
   },
   {
    "duration": 13185,
    "start_time": "2023-03-14T19:32:51.718Z"
   },
   {
    "duration": 12776,
    "start_time": "2023-03-14T19:33:15.633Z"
   },
   {
    "duration": 12767,
    "start_time": "2023-03-14T19:33:39.107Z"
   },
   {
    "duration": 12409,
    "start_time": "2023-03-14T19:34:11.462Z"
   },
   {
    "duration": 17514,
    "start_time": "2023-03-14T19:34:35.075Z"
   },
   {
    "duration": 13,
    "start_time": "2023-03-14T19:36:34.715Z"
   },
   {
    "duration": 46,
    "start_time": "2023-03-14T19:41:23.436Z"
   },
   {
    "duration": 2716,
    "start_time": "2023-03-14T19:42:28.793Z"
   },
   {
    "duration": 18662,
    "start_time": "2023-03-14T19:45:04.825Z"
   },
   {
    "duration": 77,
    "start_time": "2023-03-14T19:45:23.488Z"
   },
   {
    "duration": 94,
    "start_time": "2023-03-14T20:12:09.999Z"
   },
   {
    "duration": 78,
    "start_time": "2023-03-14T20:20:19.885Z"
   },
   {
    "duration": 84,
    "start_time": "2023-03-14T20:20:35.571Z"
   },
   {
    "duration": 3,
    "start_time": "2023-03-14T20:20:45.976Z"
   },
   {
    "duration": 4,
    "start_time": "2023-03-14T20:20:54.828Z"
   },
   {
    "duration": 86,
    "start_time": "2023-03-14T20:21:01.678Z"
   },
   {
    "duration": 77,
    "start_time": "2023-03-14T20:21:08.185Z"
   },
   {
    "duration": 80,
    "start_time": "2023-03-14T20:21:45.014Z"
   },
   {
    "duration": 3,
    "start_time": "2023-03-14T20:21:54.472Z"
   },
   {
    "duration": 99,
    "start_time": "2023-03-14T20:21:55.519Z"
   },
   {
    "duration": 2038,
    "start_time": "2023-03-14T20:23:06.727Z"
   },
   {
    "duration": 1961,
    "start_time": "2023-03-14T20:23:08.767Z"
   },
   {
    "duration": 1428,
    "start_time": "2023-03-14T20:23:10.730Z"
   },
   {
    "duration": 2,
    "start_time": "2023-03-14T20:23:12.160Z"
   },
   {
    "duration": 125,
    "start_time": "2023-03-14T20:23:12.163Z"
   },
   {
    "duration": 104,
    "start_time": "2023-03-14T20:23:12.289Z"
   },
   {
    "duration": 88,
    "start_time": "2023-03-14T20:23:12.394Z"
   },
   {
    "duration": 94,
    "start_time": "2023-03-14T20:23:12.483Z"
   },
   {
    "duration": 77,
    "start_time": "2023-03-14T20:23:12.579Z"
   },
   {
    "duration": 9,
    "start_time": "2023-03-14T20:23:12.658Z"
   },
   {
    "duration": 16,
    "start_time": "2023-03-14T20:23:12.668Z"
   },
   {
    "duration": 70,
    "start_time": "2023-03-14T20:23:12.685Z"
   },
   {
    "duration": 6,
    "start_time": "2023-03-14T20:23:12.757Z"
   },
   {
    "duration": 13,
    "start_time": "2023-03-14T20:23:12.764Z"
   },
   {
    "duration": 8,
    "start_time": "2023-03-14T20:23:12.778Z"
   },
   {
    "duration": 11,
    "start_time": "2023-03-14T20:23:12.787Z"
   },
   {
    "duration": 63,
    "start_time": "2023-03-14T20:23:12.799Z"
   },
   {
    "duration": 214,
    "start_time": "2023-03-14T20:23:12.863Z"
   },
   {
    "duration": 15,
    "start_time": "2023-03-14T20:23:13.079Z"
   },
   {
    "duration": 180,
    "start_time": "2023-03-14T20:23:13.095Z"
   },
   {
    "duration": 1030,
    "start_time": "2023-03-14T20:23:13.276Z"
   },
   {
    "duration": 4,
    "start_time": "2023-03-14T20:23:14.307Z"
   },
   {
    "duration": 180,
    "start_time": "2023-03-14T20:23:14.312Z"
   },
   {
    "duration": 122,
    "start_time": "2023-03-14T20:23:14.493Z"
   },
   {
    "duration": 169,
    "start_time": "2023-03-14T20:23:14.616Z"
   },
   {
    "duration": 119,
    "start_time": "2023-03-14T20:23:14.786Z"
   },
   {
    "duration": 240,
    "start_time": "2023-03-14T20:23:14.906Z"
   },
   {
    "duration": 209,
    "start_time": "2023-03-14T20:23:15.150Z"
   },
   {
    "duration": 131,
    "start_time": "2023-03-14T20:23:15.360Z"
   },
   {
    "duration": 124,
    "start_time": "2023-03-14T20:23:15.492Z"
   },
   {
    "duration": 140,
    "start_time": "2023-03-14T20:23:15.618Z"
   },
   {
    "duration": 120,
    "start_time": "2023-03-14T20:23:15.760Z"
   },
   {
    "duration": 122,
    "start_time": "2023-03-14T20:23:15.881Z"
   },
   {
    "duration": 197,
    "start_time": "2023-03-14T20:23:16.004Z"
   },
   {
    "duration": 201,
    "start_time": "2023-03-14T20:23:16.202Z"
   },
   {
    "duration": 115,
    "start_time": "2023-03-14T20:23:16.405Z"
   },
   {
    "duration": 187,
    "start_time": "2023-03-14T20:23:16.521Z"
   },
   {
    "duration": 2,
    "start_time": "2023-03-14T20:23:16.709Z"
   },
   {
    "duration": 11,
    "start_time": "2023-03-14T20:23:16.713Z"
   },
   {
    "duration": 73,
    "start_time": "2023-03-14T20:23:16.726Z"
   },
   {
    "duration": 84,
    "start_time": "2023-03-14T20:23:16.801Z"
   },
   {
    "duration": 14,
    "start_time": "2023-03-14T20:23:16.887Z"
   },
   {
    "duration": 8,
    "start_time": "2023-03-14T20:23:16.902Z"
   },
   {
    "duration": 4,
    "start_time": "2023-03-14T20:23:16.912Z"
   },
   {
    "duration": 117,
    "start_time": "2023-03-14T20:23:16.918Z"
   },
   {
    "duration": 52,
    "start_time": "2023-03-14T20:23:17.037Z"
   },
   {
    "duration": 3,
    "start_time": "2023-03-14T20:23:17.090Z"
   },
   {
    "duration": 8,
    "start_time": "2023-03-14T20:23:17.094Z"
   },
   {
    "duration": 6,
    "start_time": "2023-03-14T20:23:17.103Z"
   },
   {
    "duration": 47149,
    "start_time": "2023-03-14T20:23:17.110Z"
   },
   {
    "duration": 4,
    "start_time": "2023-03-14T20:24:04.260Z"
   },
   {
    "duration": 17987,
    "start_time": "2023-03-14T20:24:04.355Z"
   },
   {
    "duration": 3,
    "start_time": "2023-03-14T20:24:22.343Z"
   },
   {
    "duration": 128,
    "start_time": "2023-03-14T20:24:22.347Z"
   },
   {
    "duration": 0,
    "start_time": "2023-03-14T20:24:22.476Z"
   },
   {
    "duration": 0,
    "start_time": "2023-03-14T20:24:22.478Z"
   },
   {
    "duration": 0,
    "start_time": "2023-03-14T20:24:22.479Z"
   },
   {
    "duration": 0,
    "start_time": "2023-03-14T20:24:22.480Z"
   },
   {
    "duration": 0,
    "start_time": "2023-03-14T20:24:22.481Z"
   },
   {
    "duration": 0,
    "start_time": "2023-03-14T20:24:22.483Z"
   },
   {
    "duration": 0,
    "start_time": "2023-03-14T20:24:22.484Z"
   },
   {
    "duration": 0,
    "start_time": "2023-03-14T20:24:22.485Z"
   },
   {
    "duration": 0,
    "start_time": "2023-03-14T20:24:22.486Z"
   },
   {
    "duration": 0,
    "start_time": "2023-03-14T20:24:22.487Z"
   },
   {
    "duration": 68,
    "start_time": "2023-03-14T20:26:21.050Z"
   },
   {
    "duration": 39,
    "start_time": "2023-03-14T20:26:45.543Z"
   },
   {
    "duration": 54,
    "start_time": "2023-03-14T20:27:04.647Z"
   },
   {
    "duration": 78,
    "start_time": "2023-03-14T20:27:10.877Z"
   },
   {
    "duration": 316,
    "start_time": "2023-03-14T20:32:43.352Z"
   },
   {
    "duration": 4,
    "start_time": "2023-03-14T20:32:46.469Z"
   },
   {
    "duration": 148526,
    "start_time": "2023-03-14T20:32:47.227Z"
   },
   {
    "duration": 4,
    "start_time": "2023-03-14T20:35:19.258Z"
   },
   {
    "duration": 2048,
    "start_time": "2023-03-14T20:54:33.689Z"
   },
   {
    "duration": 2019,
    "start_time": "2023-03-14T20:54:35.739Z"
   },
   {
    "duration": 1309,
    "start_time": "2023-03-14T20:54:37.761Z"
   },
   {
    "duration": 2,
    "start_time": "2023-03-14T20:54:39.073Z"
   },
   {
    "duration": 97,
    "start_time": "2023-03-14T20:54:39.076Z"
   },
   {
    "duration": 52,
    "start_time": "2023-03-14T20:54:39.174Z"
   },
   {
    "duration": 56,
    "start_time": "2023-03-14T20:54:39.227Z"
   },
   {
    "duration": 92,
    "start_time": "2023-03-14T20:54:39.285Z"
   },
   {
    "duration": 77,
    "start_time": "2023-03-14T20:54:39.378Z"
   },
   {
    "duration": 8,
    "start_time": "2023-03-14T20:54:39.458Z"
   },
   {
    "duration": 17,
    "start_time": "2023-03-14T20:54:39.467Z"
   },
   {
    "duration": 14,
    "start_time": "2023-03-14T20:54:39.486Z"
   },
   {
    "duration": 6,
    "start_time": "2023-03-14T20:54:39.556Z"
   },
   {
    "duration": 13,
    "start_time": "2023-03-14T20:54:39.563Z"
   },
   {
    "duration": 7,
    "start_time": "2023-03-14T20:54:39.578Z"
   },
   {
    "duration": 18,
    "start_time": "2023-03-14T20:54:39.586Z"
   },
   {
    "duration": 22,
    "start_time": "2023-03-14T20:54:39.656Z"
   },
   {
    "duration": 210,
    "start_time": "2023-03-14T20:54:39.679Z"
   },
   {
    "duration": 11,
    "start_time": "2023-03-14T20:54:39.890Z"
   },
   {
    "duration": 176,
    "start_time": "2023-03-14T20:54:39.902Z"
   },
   {
    "duration": 1386,
    "start_time": "2023-03-14T20:54:40.080Z"
   },
   {
    "duration": 3,
    "start_time": "2023-03-14T20:54:41.467Z"
   },
   {
    "duration": 184,
    "start_time": "2023-03-14T20:54:41.471Z"
   },
   {
    "duration": 120,
    "start_time": "2023-03-14T20:54:41.657Z"
   },
   {
    "duration": 171,
    "start_time": "2023-03-14T20:54:41.778Z"
   },
   {
    "duration": 118,
    "start_time": "2023-03-14T20:54:41.950Z"
   },
   {
    "duration": 237,
    "start_time": "2023-03-14T20:54:42.069Z"
   },
   {
    "duration": 204,
    "start_time": "2023-03-14T20:54:42.309Z"
   },
   {
    "duration": 108,
    "start_time": "2023-03-14T20:54:42.514Z"
   },
   {
    "duration": 122,
    "start_time": "2023-03-14T20:54:42.624Z"
   },
   {
    "duration": 127,
    "start_time": "2023-03-14T20:54:42.748Z"
   },
   {
    "duration": 113,
    "start_time": "2023-03-14T20:54:42.876Z"
   },
   {
    "duration": 120,
    "start_time": "2023-03-14T20:54:42.990Z"
   },
   {
    "duration": 203,
    "start_time": "2023-03-14T20:54:43.112Z"
   },
   {
    "duration": 201,
    "start_time": "2023-03-14T20:54:43.316Z"
   },
   {
    "duration": 119,
    "start_time": "2023-03-14T20:54:43.519Z"
   },
   {
    "duration": 215,
    "start_time": "2023-03-14T20:54:43.641Z"
   },
   {
    "duration": 2,
    "start_time": "2023-03-14T20:54:43.858Z"
   },
   {
    "duration": 21,
    "start_time": "2023-03-14T20:54:43.861Z"
   },
   {
    "duration": 78,
    "start_time": "2023-03-14T20:54:43.883Z"
   },
   {
    "duration": 59,
    "start_time": "2023-03-14T20:54:43.962Z"
   },
   {
    "duration": 32,
    "start_time": "2023-03-14T20:54:44.023Z"
   },
   {
    "duration": 6,
    "start_time": "2023-03-14T20:54:44.056Z"
   },
   {
    "duration": 5,
    "start_time": "2023-03-14T20:54:44.064Z"
   },
   {
    "duration": 98,
    "start_time": "2023-03-14T20:54:44.071Z"
   },
   {
    "duration": 42,
    "start_time": "2023-03-14T20:54:44.171Z"
   },
   {
    "duration": 4,
    "start_time": "2023-03-14T20:54:44.214Z"
   },
   {
    "duration": 7,
    "start_time": "2023-03-14T20:54:44.219Z"
   },
   {
    "duration": 30,
    "start_time": "2023-03-14T20:54:44.227Z"
   },
   {
    "duration": 45299,
    "start_time": "2023-03-14T20:54:44.259Z"
   },
   {
    "duration": 96,
    "start_time": "2023-03-14T20:55:29.562Z"
   },
   {
    "duration": 17599,
    "start_time": "2023-03-14T20:55:29.664Z"
   },
   {
    "duration": 2,
    "start_time": "2023-03-14T20:55:47.265Z"
   },
   {
    "duration": 241763,
    "start_time": "2023-03-14T20:55:47.269Z"
   },
   {
    "duration": 2513,
    "start_time": "2023-03-14T20:59:49.034Z"
   },
   {
    "duration": 70,
    "start_time": "2023-03-14T20:59:51.548Z"
   },
   {
    "duration": 10,
    "start_time": "2023-03-14T20:59:51.620Z"
   },
   {
    "duration": 0,
    "start_time": "2023-03-14T20:59:51.631Z"
   },
   {
    "duration": 0,
    "start_time": "2023-03-14T20:59:51.633Z"
   },
   {
    "duration": 0,
    "start_time": "2023-03-14T20:59:51.634Z"
   },
   {
    "duration": 0,
    "start_time": "2023-03-14T20:59:51.635Z"
   },
   {
    "duration": 1,
    "start_time": "2023-03-14T20:59:51.636Z"
   },
   {
    "duration": 0,
    "start_time": "2023-03-14T20:59:51.655Z"
   },
   {
    "duration": 0,
    "start_time": "2023-03-14T20:59:51.656Z"
   },
   {
    "duration": 69,
    "start_time": "2023-03-14T21:06:49.020Z"
   },
   {
    "duration": 3670,
    "start_time": "2023-03-15T18:28:56.588Z"
   },
   {
    "duration": 7905,
    "start_time": "2023-03-15T18:29:00.260Z"
   },
   {
    "duration": 1368,
    "start_time": "2023-03-15T18:29:08.167Z"
   },
   {
    "duration": 4,
    "start_time": "2023-03-15T18:29:09.537Z"
   },
   {
    "duration": 372,
    "start_time": "2023-03-15T18:29:09.542Z"
   },
   {
    "duration": 73,
    "start_time": "2023-03-15T18:29:09.916Z"
   },
   {
    "duration": 67,
    "start_time": "2023-03-15T18:29:09.991Z"
   },
   {
    "duration": 43,
    "start_time": "2023-03-15T18:29:10.060Z"
   },
   {
    "duration": 52,
    "start_time": "2023-03-15T18:29:10.105Z"
   },
   {
    "duration": 10,
    "start_time": "2023-03-15T18:29:10.160Z"
   },
   {
    "duration": 18,
    "start_time": "2023-03-15T18:29:10.172Z"
   },
   {
    "duration": 17,
    "start_time": "2023-03-15T18:29:10.192Z"
   },
   {
    "duration": 8,
    "start_time": "2023-03-15T18:29:10.242Z"
   },
   {
    "duration": 19,
    "start_time": "2023-03-15T18:29:10.251Z"
   },
   {
    "duration": 11,
    "start_time": "2023-03-15T18:29:10.273Z"
   },
   {
    "duration": 24,
    "start_time": "2023-03-15T18:29:10.286Z"
   },
   {
    "duration": 41,
    "start_time": "2023-03-15T18:29:10.313Z"
   },
   {
    "duration": 156,
    "start_time": "2023-03-15T18:29:10.356Z"
   },
   {
    "duration": 11,
    "start_time": "2023-03-15T18:29:10.514Z"
   },
   {
    "duration": 101,
    "start_time": "2023-03-15T18:29:10.541Z"
   },
   {
    "duration": 1098,
    "start_time": "2023-03-15T18:29:10.644Z"
   },
   {
    "duration": 4,
    "start_time": "2023-03-15T18:29:11.744Z"
   },
   {
    "duration": 236,
    "start_time": "2023-03-15T18:29:11.749Z"
   },
   {
    "duration": 163,
    "start_time": "2023-03-15T18:29:11.987Z"
   },
   {
    "duration": 199,
    "start_time": "2023-03-15T18:29:12.153Z"
   },
   {
    "duration": 143,
    "start_time": "2023-03-15T18:29:12.354Z"
   },
   {
    "duration": 271,
    "start_time": "2023-03-15T18:29:12.499Z"
   },
   {
    "duration": 234,
    "start_time": "2023-03-15T18:29:12.774Z"
   },
   {
    "duration": 119,
    "start_time": "2023-03-15T18:29:13.010Z"
   },
   {
    "duration": 146,
    "start_time": "2023-03-15T18:29:13.131Z"
   },
   {
    "duration": 151,
    "start_time": "2023-03-15T18:29:13.279Z"
   },
   {
    "duration": 139,
    "start_time": "2023-03-15T18:29:13.431Z"
   },
   {
    "duration": 171,
    "start_time": "2023-03-15T18:29:13.572Z"
   },
   {
    "duration": 240,
    "start_time": "2023-03-15T18:29:13.745Z"
   },
   {
    "duration": 251,
    "start_time": "2023-03-15T18:29:13.987Z"
   },
   {
    "duration": 147,
    "start_time": "2023-03-15T18:29:14.241Z"
   },
   {
    "duration": 229,
    "start_time": "2023-03-15T18:29:14.390Z"
   },
   {
    "duration": 3,
    "start_time": "2023-03-15T18:29:14.621Z"
   },
   {
    "duration": 23,
    "start_time": "2023-03-15T18:29:14.626Z"
   },
   {
    "duration": 112,
    "start_time": "2023-03-15T18:29:14.651Z"
   },
   {
    "duration": 90,
    "start_time": "2023-03-15T18:29:14.765Z"
   },
   {
    "duration": 15,
    "start_time": "2023-03-15T18:29:14.857Z"
   },
   {
    "duration": 7,
    "start_time": "2023-03-15T18:29:14.874Z"
   },
   {
    "duration": 15,
    "start_time": "2023-03-15T18:29:14.882Z"
   },
   {
    "duration": 122,
    "start_time": "2023-03-15T18:29:14.899Z"
   },
   {
    "duration": 60,
    "start_time": "2023-03-15T18:29:15.023Z"
   },
   {
    "duration": 3,
    "start_time": "2023-03-15T18:29:15.085Z"
   },
   {
    "duration": 9,
    "start_time": "2023-03-15T18:29:15.090Z"
   },
   {
    "duration": 10,
    "start_time": "2023-03-15T18:29:15.100Z"
   },
   {
    "duration": 39134,
    "start_time": "2023-03-15T18:29:15.112Z"
   },
   {
    "duration": 7,
    "start_time": "2023-03-15T18:29:54.248Z"
   },
   {
    "duration": 23948,
    "start_time": "2023-03-15T18:29:54.341Z"
   },
   {
    "duration": 4,
    "start_time": "2023-03-15T18:30:18.291Z"
   },
   {
    "duration": 25,
    "start_time": "2023-03-15T18:30:18.296Z"
   },
   {
    "duration": 285637,
    "start_time": "2023-03-15T18:30:18.322Z"
   },
   {
    "duration": 101,
    "start_time": "2023-03-15T18:35:03.961Z"
   },
   {
    "duration": 13,
    "start_time": "2023-03-15T18:35:04.064Z"
   },
   {
    "duration": 0,
    "start_time": "2023-03-15T18:35:04.079Z"
   },
   {
    "duration": 0,
    "start_time": "2023-03-15T18:35:04.080Z"
   },
   {
    "duration": 0,
    "start_time": "2023-03-15T18:35:04.082Z"
   },
   {
    "duration": 0,
    "start_time": "2023-03-15T18:35:04.083Z"
   },
   {
    "duration": 0,
    "start_time": "2023-03-15T18:35:04.085Z"
   },
   {
    "duration": 0,
    "start_time": "2023-03-15T18:35:04.086Z"
   },
   {
    "duration": 0,
    "start_time": "2023-03-15T18:35:04.088Z"
   },
   {
    "duration": 21,
    "start_time": "2023-03-15T19:44:43.141Z"
   },
   {
    "duration": 2401,
    "start_time": "2023-03-15T20:01:08.370Z"
   },
   {
    "duration": 2257,
    "start_time": "2023-03-15T20:01:10.774Z"
   },
   {
    "duration": 1327,
    "start_time": "2023-03-15T20:01:13.033Z"
   },
   {
    "duration": 2,
    "start_time": "2023-03-15T20:01:14.362Z"
   },
   {
    "duration": 124,
    "start_time": "2023-03-15T20:01:14.366Z"
   },
   {
    "duration": 62,
    "start_time": "2023-03-15T20:01:14.492Z"
   },
   {
    "duration": 38,
    "start_time": "2023-03-15T20:01:14.556Z"
   },
   {
    "duration": 73,
    "start_time": "2023-03-15T20:01:14.596Z"
   },
   {
    "duration": 27,
    "start_time": "2023-03-15T20:01:14.671Z"
   },
   {
    "duration": 9,
    "start_time": "2023-03-15T20:01:14.700Z"
   },
   {
    "duration": 41,
    "start_time": "2023-03-15T20:01:14.711Z"
   },
   {
    "duration": 25,
    "start_time": "2023-03-15T20:01:14.754Z"
   },
   {
    "duration": 22,
    "start_time": "2023-03-15T20:01:14.781Z"
   },
   {
    "duration": 22,
    "start_time": "2023-03-15T20:01:14.805Z"
   },
   {
    "duration": 13,
    "start_time": "2023-03-15T20:01:14.829Z"
   },
   {
    "duration": 21,
    "start_time": "2023-03-15T20:01:14.844Z"
   },
   {
    "duration": 23,
    "start_time": "2023-03-15T20:01:14.866Z"
   },
   {
    "duration": 123,
    "start_time": "2023-03-15T20:01:14.891Z"
   },
   {
    "duration": 13,
    "start_time": "2023-03-15T20:01:15.015Z"
   },
   {
    "duration": 100,
    "start_time": "2023-03-15T20:01:15.042Z"
   },
   {
    "duration": 980,
    "start_time": "2023-03-15T20:01:15.144Z"
   },
   {
    "duration": 3,
    "start_time": "2023-03-15T20:01:16.126Z"
   },
   {
    "duration": 196,
    "start_time": "2023-03-15T20:01:16.130Z"
   },
   {
    "duration": 128,
    "start_time": "2023-03-15T20:01:16.328Z"
   },
   {
    "duration": 203,
    "start_time": "2023-03-15T20:01:16.457Z"
   },
   {
    "duration": 150,
    "start_time": "2023-03-15T20:01:16.662Z"
   },
   {
    "duration": 294,
    "start_time": "2023-03-15T20:01:16.814Z"
   },
   {
    "duration": 266,
    "start_time": "2023-03-15T20:01:17.113Z"
   },
   {
    "duration": 125,
    "start_time": "2023-03-15T20:01:17.381Z"
   },
   {
    "duration": 154,
    "start_time": "2023-03-15T20:01:17.509Z"
   },
   {
    "duration": 192,
    "start_time": "2023-03-15T20:01:17.665Z"
   },
   {
    "duration": 177,
    "start_time": "2023-03-15T20:01:17.859Z"
   },
   {
    "duration": 143,
    "start_time": "2023-03-15T20:01:18.042Z"
   },
   {
    "duration": 249,
    "start_time": "2023-03-15T20:01:18.187Z"
   },
   {
    "duration": 248,
    "start_time": "2023-03-15T20:01:18.438Z"
   },
   {
    "duration": 143,
    "start_time": "2023-03-15T20:01:18.688Z"
   },
   {
    "duration": 237,
    "start_time": "2023-03-15T20:01:18.833Z"
   },
   {
    "duration": 3,
    "start_time": "2023-03-15T20:01:19.071Z"
   },
   {
    "duration": 12,
    "start_time": "2023-03-15T20:01:19.075Z"
   },
   {
    "duration": 101,
    "start_time": "2023-03-15T20:01:19.089Z"
   },
   {
    "duration": 86,
    "start_time": "2023-03-15T20:01:19.191Z"
   },
   {
    "duration": 13,
    "start_time": "2023-03-15T20:01:19.279Z"
   },
   {
    "duration": 7,
    "start_time": "2023-03-15T20:01:19.294Z"
   },
   {
    "duration": 4,
    "start_time": "2023-03-15T20:01:19.303Z"
   },
   {
    "duration": 116,
    "start_time": "2023-03-15T20:01:19.309Z"
   },
   {
    "duration": 64,
    "start_time": "2023-03-15T20:01:19.427Z"
   },
   {
    "duration": 4,
    "start_time": "2023-03-15T20:01:19.493Z"
   },
   {
    "duration": 7,
    "start_time": "2023-03-15T20:01:19.499Z"
   },
   {
    "duration": 35,
    "start_time": "2023-03-15T20:01:19.508Z"
   },
   {
    "duration": 2299,
    "start_time": "2023-03-15T20:02:09.012Z"
   },
   {
    "duration": 2262,
    "start_time": "2023-03-15T20:02:11.314Z"
   },
   {
    "duration": 1377,
    "start_time": "2023-03-15T20:02:13.581Z"
   },
   {
    "duration": 3,
    "start_time": "2023-03-15T20:02:14.960Z"
   },
   {
    "duration": 165,
    "start_time": "2023-03-15T20:02:14.965Z"
   },
   {
    "duration": 63,
    "start_time": "2023-03-15T20:02:15.132Z"
   },
   {
    "duration": 73,
    "start_time": "2023-03-15T20:02:15.197Z"
   },
   {
    "duration": 66,
    "start_time": "2023-03-15T20:02:15.271Z"
   },
   {
    "duration": 27,
    "start_time": "2023-03-15T20:02:15.340Z"
   },
   {
    "duration": 41,
    "start_time": "2023-03-15T20:02:15.369Z"
   },
   {
    "duration": 129,
    "start_time": "2023-03-15T20:02:15.413Z"
   },
   {
    "duration": 46,
    "start_time": "2023-03-15T20:02:15.544Z"
   },
   {
    "duration": 13,
    "start_time": "2023-03-15T20:02:15.592Z"
   },
   {
    "duration": 39,
    "start_time": "2023-03-15T20:02:15.607Z"
   },
   {
    "duration": 9,
    "start_time": "2023-03-15T20:02:15.647Z"
   },
   {
    "duration": 33,
    "start_time": "2023-03-15T20:02:15.658Z"
   },
   {
    "duration": 18,
    "start_time": "2023-03-15T20:02:15.693Z"
   },
   {
    "duration": 161,
    "start_time": "2023-03-15T20:02:15.713Z"
   },
   {
    "duration": 15,
    "start_time": "2023-03-15T20:02:15.876Z"
   },
   {
    "duration": 108,
    "start_time": "2023-03-15T20:02:15.893Z"
   },
   {
    "duration": 1128,
    "start_time": "2023-03-15T20:02:16.004Z"
   },
   {
    "duration": 9,
    "start_time": "2023-03-15T20:02:17.133Z"
   },
   {
    "duration": 223,
    "start_time": "2023-03-15T20:02:17.143Z"
   },
   {
    "duration": 151,
    "start_time": "2023-03-15T20:02:17.368Z"
   },
   {
    "duration": 234,
    "start_time": "2023-03-15T20:02:17.522Z"
   },
   {
    "duration": 190,
    "start_time": "2023-03-15T20:02:17.758Z"
   },
   {
    "duration": 295,
    "start_time": "2023-03-15T20:02:17.953Z"
   },
   {
    "duration": 239,
    "start_time": "2023-03-15T20:02:18.250Z"
   },
   {
    "duration": 128,
    "start_time": "2023-03-15T20:02:18.491Z"
   },
   {
    "duration": 155,
    "start_time": "2023-03-15T20:02:18.621Z"
   },
   {
    "duration": 163,
    "start_time": "2023-03-15T20:02:18.778Z"
   },
   {
    "duration": 139,
    "start_time": "2023-03-15T20:02:18.942Z"
   },
   {
    "duration": 146,
    "start_time": "2023-03-15T20:02:19.083Z"
   },
   {
    "duration": 242,
    "start_time": "2023-03-15T20:02:19.231Z"
   },
   {
    "duration": 245,
    "start_time": "2023-03-15T20:02:19.475Z"
   },
   {
    "duration": 150,
    "start_time": "2023-03-15T20:02:19.722Z"
   },
   {
    "duration": 230,
    "start_time": "2023-03-15T20:02:19.874Z"
   },
   {
    "duration": 2,
    "start_time": "2023-03-15T20:02:20.106Z"
   },
   {
    "duration": 198,
    "start_time": "2023-03-15T20:02:20.110Z"
   },
   {
    "duration": 76,
    "start_time": "2023-03-15T20:02:20.309Z"
   },
   {
    "duration": 77,
    "start_time": "2023-03-15T20:02:20.386Z"
   },
   {
    "duration": 12,
    "start_time": "2023-03-15T20:02:20.465Z"
   },
   {
    "duration": 18,
    "start_time": "2023-03-15T20:02:20.478Z"
   },
   {
    "duration": 5,
    "start_time": "2023-03-15T20:02:20.498Z"
   },
   {
    "duration": 85,
    "start_time": "2023-03-15T20:02:20.505Z"
   },
   {
    "duration": 56,
    "start_time": "2023-03-15T20:02:20.592Z"
   },
   {
    "duration": 4,
    "start_time": "2023-03-15T20:02:20.650Z"
   },
   {
    "duration": 9,
    "start_time": "2023-03-15T20:02:20.655Z"
   },
   {
    "duration": 27,
    "start_time": "2023-03-15T20:02:20.665Z"
   },
   {
    "duration": 18,
    "start_time": "2023-03-15T20:02:20.693Z"
   },
   {
    "duration": 23,
    "start_time": "2023-03-15T20:02:20.714Z"
   },
   {
    "duration": 260087,
    "start_time": "2023-03-15T20:02:20.739Z"
   },
   {
    "duration": 11,
    "start_time": "2023-03-15T20:06:40.828Z"
   },
   {
    "duration": 0,
    "start_time": "2023-03-15T20:06:40.842Z"
   },
   {
    "duration": 0,
    "start_time": "2023-03-15T20:06:40.843Z"
   },
   {
    "duration": 0,
    "start_time": "2023-03-15T20:06:40.845Z"
   },
   {
    "duration": 0,
    "start_time": "2023-03-15T20:06:40.846Z"
   },
   {
    "duration": 0,
    "start_time": "2023-03-15T20:06:40.847Z"
   },
   {
    "duration": 0,
    "start_time": "2023-03-15T20:06:40.848Z"
   },
   {
    "duration": 0,
    "start_time": "2023-03-15T20:06:40.849Z"
   },
   {
    "duration": 0,
    "start_time": "2023-03-15T20:06:40.850Z"
   },
   {
    "duration": 529073,
    "start_time": "2023-03-15T20:08:29.471Z"
   },
   {
    "duration": 11,
    "start_time": "2023-03-15T20:17:18.546Z"
   },
   {
    "duration": 412340,
    "start_time": "2023-03-15T20:17:21.355Z"
   },
   {
    "duration": 12,
    "start_time": "2023-03-15T20:24:13.697Z"
   },
   {
    "duration": 28944,
    "start_time": "2023-03-15T20:24:15.695Z"
   },
   {
    "duration": 4,
    "start_time": "2023-03-15T20:27:03.738Z"
   },
   {
    "duration": 2285,
    "start_time": "2023-03-15T20:27:30.103Z"
   },
   {
    "duration": 2243,
    "start_time": "2023-03-15T20:27:32.390Z"
   },
   {
    "duration": 1260,
    "start_time": "2023-03-15T20:27:34.635Z"
   },
   {
    "duration": 2,
    "start_time": "2023-03-15T20:27:35.897Z"
   },
   {
    "duration": 117,
    "start_time": "2023-03-15T20:27:35.901Z"
   },
   {
    "duration": 62,
    "start_time": "2023-03-15T20:27:36.020Z"
   },
   {
    "duration": 58,
    "start_time": "2023-03-15T20:27:36.084Z"
   },
   {
    "duration": 47,
    "start_time": "2023-03-15T20:27:36.144Z"
   },
   {
    "duration": 55,
    "start_time": "2023-03-15T20:27:36.192Z"
   },
   {
    "duration": 9,
    "start_time": "2023-03-15T20:27:36.249Z"
   },
   {
    "duration": 51,
    "start_time": "2023-03-15T20:27:36.260Z"
   },
   {
    "duration": 18,
    "start_time": "2023-03-15T20:27:36.313Z"
   },
   {
    "duration": 6,
    "start_time": "2023-03-15T20:27:36.333Z"
   },
   {
    "duration": 32,
    "start_time": "2023-03-15T20:27:36.341Z"
   },
   {
    "duration": 9,
    "start_time": "2023-03-15T20:27:36.375Z"
   },
   {
    "duration": 17,
    "start_time": "2023-03-15T20:27:36.385Z"
   },
   {
    "duration": 19,
    "start_time": "2023-03-15T20:27:36.403Z"
   },
   {
    "duration": 134,
    "start_time": "2023-03-15T20:27:36.424Z"
   },
   {
    "duration": 12,
    "start_time": "2023-03-15T20:27:36.559Z"
   },
   {
    "duration": 107,
    "start_time": "2023-03-15T20:27:36.573Z"
   },
   {
    "duration": 1195,
    "start_time": "2023-03-15T20:27:36.683Z"
   },
   {
    "duration": 3,
    "start_time": "2023-03-15T20:27:37.880Z"
   },
   {
    "duration": 227,
    "start_time": "2023-03-15T20:27:37.885Z"
   },
   {
    "duration": 148,
    "start_time": "2023-03-15T20:27:38.114Z"
   },
   {
    "duration": 211,
    "start_time": "2023-03-15T20:27:38.264Z"
   },
   {
    "duration": 141,
    "start_time": "2023-03-15T20:27:38.477Z"
   },
   {
    "duration": 296,
    "start_time": "2023-03-15T20:27:38.620Z"
   },
   {
    "duration": 261,
    "start_time": "2023-03-15T20:27:38.920Z"
   },
   {
    "duration": 139,
    "start_time": "2023-03-15T20:27:39.183Z"
   },
   {
    "duration": 166,
    "start_time": "2023-03-15T20:27:39.324Z"
   },
   {
    "duration": 155,
    "start_time": "2023-03-15T20:27:39.492Z"
   },
   {
    "duration": 134,
    "start_time": "2023-03-15T20:27:39.649Z"
   },
   {
    "duration": 137,
    "start_time": "2023-03-15T20:27:39.786Z"
   },
   {
    "duration": 233,
    "start_time": "2023-03-15T20:27:39.925Z"
   },
   {
    "duration": 235,
    "start_time": "2023-03-15T20:27:40.160Z"
   },
   {
    "duration": 144,
    "start_time": "2023-03-15T20:27:40.397Z"
   },
   {
    "duration": 231,
    "start_time": "2023-03-15T20:27:40.543Z"
   },
   {
    "duration": 3,
    "start_time": "2023-03-15T20:27:40.776Z"
   },
   {
    "duration": 21,
    "start_time": "2023-03-15T20:27:40.781Z"
   },
   {
    "duration": 100,
    "start_time": "2023-03-15T20:27:40.804Z"
   },
   {
    "duration": 97,
    "start_time": "2023-03-15T20:27:40.906Z"
   },
   {
    "duration": 35,
    "start_time": "2023-03-15T20:27:41.005Z"
   },
   {
    "duration": 8,
    "start_time": "2023-03-15T20:27:41.043Z"
   },
   {
    "duration": 12,
    "start_time": "2023-03-15T20:27:41.053Z"
   },
   {
    "duration": 112,
    "start_time": "2023-03-15T20:27:41.067Z"
   },
   {
    "duration": 72,
    "start_time": "2023-03-15T20:27:41.181Z"
   },
   {
    "duration": 5,
    "start_time": "2023-03-15T20:27:41.254Z"
   },
   {
    "duration": 26,
    "start_time": "2023-03-15T20:27:41.261Z"
   },
   {
    "duration": 9,
    "start_time": "2023-03-15T20:27:41.289Z"
   },
   {
    "duration": 13,
    "start_time": "2023-03-15T20:27:41.300Z"
   },
   {
    "duration": 21,
    "start_time": "2023-03-15T20:27:41.315Z"
   },
   {
    "duration": 77,
    "start_time": "2023-03-15T20:27:41.338Z"
   },
   {
    "duration": 0,
    "start_time": "2023-03-15T20:27:41.417Z"
   },
   {
    "duration": 0,
    "start_time": "2023-03-15T20:27:41.418Z"
   },
   {
    "duration": 0,
    "start_time": "2023-03-15T20:27:41.420Z"
   },
   {
    "duration": 0,
    "start_time": "2023-03-15T20:27:41.421Z"
   },
   {
    "duration": 0,
    "start_time": "2023-03-15T20:27:41.422Z"
   },
   {
    "duration": 0,
    "start_time": "2023-03-15T20:27:41.423Z"
   },
   {
    "duration": 0,
    "start_time": "2023-03-15T20:27:41.426Z"
   },
   {
    "duration": 0,
    "start_time": "2023-03-15T20:27:41.427Z"
   },
   {
    "duration": 0,
    "start_time": "2023-03-15T20:27:41.429Z"
   },
   {
    "duration": 0,
    "start_time": "2023-03-15T20:27:41.431Z"
   },
   {
    "duration": 0,
    "start_time": "2023-03-15T20:27:41.432Z"
   },
   {
    "duration": 0,
    "start_time": "2023-03-15T20:27:41.434Z"
   },
   {
    "duration": 3148,
    "start_time": "2023-03-17T18:54:30.436Z"
   },
   {
    "duration": 7285,
    "start_time": "2023-03-17T18:54:33.586Z"
   },
   {
    "duration": 1448,
    "start_time": "2023-03-17T18:54:40.873Z"
   },
   {
    "duration": 3,
    "start_time": "2023-03-17T18:54:42.323Z"
   },
   {
    "duration": 359,
    "start_time": "2023-03-17T18:54:42.330Z"
   },
   {
    "duration": 57,
    "start_time": "2023-03-17T18:54:42.691Z"
   },
   {
    "duration": 37,
    "start_time": "2023-03-17T18:54:42.750Z"
   },
   {
    "duration": 57,
    "start_time": "2023-03-17T18:54:42.788Z"
   },
   {
    "duration": 26,
    "start_time": "2023-03-17T18:54:42.846Z"
   },
   {
    "duration": 9,
    "start_time": "2023-03-17T18:54:42.874Z"
   },
   {
    "duration": 19,
    "start_time": "2023-03-17T18:54:42.885Z"
   },
   {
    "duration": 21,
    "start_time": "2023-03-17T18:54:42.930Z"
   },
   {
    "duration": 10,
    "start_time": "2023-03-17T18:54:42.953Z"
   },
   {
    "duration": 24,
    "start_time": "2023-03-17T18:54:42.967Z"
   },
   {
    "duration": 11,
    "start_time": "2023-03-17T18:54:42.993Z"
   },
   {
    "duration": 39,
    "start_time": "2023-03-17T18:54:43.006Z"
   },
   {
    "duration": 19,
    "start_time": "2023-03-17T18:54:43.047Z"
   },
   {
    "duration": 140,
    "start_time": "2023-03-17T18:54:43.068Z"
   },
   {
    "duration": 33,
    "start_time": "2023-03-17T18:54:43.209Z"
   },
   {
    "duration": 112,
    "start_time": "2023-03-17T18:54:43.243Z"
   },
   {
    "duration": 1020,
    "start_time": "2023-03-17T18:54:43.356Z"
   },
   {
    "duration": 3,
    "start_time": "2023-03-17T18:54:44.378Z"
   },
   {
    "duration": 227,
    "start_time": "2023-03-17T18:54:44.383Z"
   },
   {
    "duration": 138,
    "start_time": "2023-03-17T18:54:44.612Z"
   },
   {
    "duration": 201,
    "start_time": "2023-03-17T18:54:44.752Z"
   },
   {
    "duration": 132,
    "start_time": "2023-03-17T18:54:44.955Z"
   },
   {
    "duration": 264,
    "start_time": "2023-03-17T18:54:45.089Z"
   },
   {
    "duration": 225,
    "start_time": "2023-03-17T18:54:45.355Z"
   },
   {
    "duration": 118,
    "start_time": "2023-03-17T18:54:45.582Z"
   },
   {
    "duration": 142,
    "start_time": "2023-03-17T18:54:45.702Z"
   },
   {
    "duration": 148,
    "start_time": "2023-03-17T18:54:45.846Z"
   },
   {
    "duration": 134,
    "start_time": "2023-03-17T18:54:45.996Z"
   },
   {
    "duration": 132,
    "start_time": "2023-03-17T18:54:46.132Z"
   },
   {
    "duration": 227,
    "start_time": "2023-03-17T18:54:46.266Z"
   },
   {
    "duration": 265,
    "start_time": "2023-03-17T18:54:46.495Z"
   },
   {
    "duration": 180,
    "start_time": "2023-03-17T18:54:46.762Z"
   },
   {
    "duration": 242,
    "start_time": "2023-03-17T18:54:46.944Z"
   },
   {
    "duration": 5,
    "start_time": "2023-03-17T18:54:47.188Z"
   },
   {
    "duration": 13,
    "start_time": "2023-03-17T18:54:47.194Z"
   },
   {
    "duration": 90,
    "start_time": "2023-03-17T18:54:47.209Z"
   },
   {
    "duration": 83,
    "start_time": "2023-03-17T18:54:47.303Z"
   },
   {
    "duration": 13,
    "start_time": "2023-03-17T18:54:47.388Z"
   },
   {
    "duration": 30,
    "start_time": "2023-03-17T18:54:47.402Z"
   },
   {
    "duration": 4,
    "start_time": "2023-03-17T18:54:47.434Z"
   },
   {
    "duration": 99,
    "start_time": "2023-03-17T18:54:47.439Z"
   },
   {
    "duration": 47,
    "start_time": "2023-03-17T18:54:47.540Z"
   },
   {
    "duration": 3,
    "start_time": "2023-03-17T18:54:47.589Z"
   },
   {
    "duration": 9,
    "start_time": "2023-03-17T18:54:47.594Z"
   },
   {
    "duration": 26,
    "start_time": "2023-03-17T18:54:47.605Z"
   },
   {
    "duration": 52409,
    "start_time": "2023-03-17T18:54:47.633Z"
   },
   {
    "duration": 87,
    "start_time": "2023-03-17T18:55:40.046Z"
   },
   {
    "duration": 18108,
    "start_time": "2023-03-17T18:55:40.135Z"
   },
   {
    "duration": 3,
    "start_time": "2023-03-17T18:55:58.245Z"
   },
   {
    "duration": 59818,
    "start_time": "2023-03-17T18:55:58.250Z"
   },
   {
    "duration": 2648,
    "start_time": "2023-03-17T18:56:58.070Z"
   },
   {
    "duration": 13,
    "start_time": "2023-03-17T18:57:00.720Z"
   },
   {
    "duration": 41,
    "start_time": "2023-03-17T18:57:00.735Z"
   },
   {
    "duration": 139,
    "start_time": "2023-03-17T18:57:00.778Z"
   },
   {
    "duration": 398,
    "start_time": "2023-03-17T18:57:00.919Z"
   },
   {
    "duration": 18,
    "start_time": "2023-03-17T18:57:01.318Z"
   },
   {
    "duration": 370,
    "start_time": "2023-03-17T18:57:01.338Z"
   },
   {
    "duration": 6,
    "start_time": "2023-03-17T18:57:01.710Z"
   },
   {
    "duration": 26,
    "start_time": "2023-03-17T18:57:01.718Z"
   },
   {
    "duration": 18,
    "start_time": "2023-03-17T18:57:01.746Z"
   },
   {
    "duration": 22,
    "start_time": "2023-03-17T18:57:01.766Z"
   },
   {
    "duration": 139,
    "start_time": "2023-03-17T18:57:01.791Z"
   },
   {
    "duration": 7,
    "start_time": "2023-03-17T18:57:30.600Z"
   },
   {
    "duration": 16,
    "start_time": "2023-03-17T18:57:42.409Z"
   },
   {
    "duration": 14,
    "start_time": "2023-03-17T18:57:52.864Z"
   },
   {
    "duration": 20,
    "start_time": "2023-03-17T18:59:11.331Z"
   },
   {
    "duration": 169,
    "start_time": "2023-03-17T18:59:32.759Z"
   },
   {
    "duration": 155,
    "start_time": "2023-03-17T19:00:12.702Z"
   },
   {
    "duration": 163,
    "start_time": "2023-03-17T19:00:21.540Z"
   },
   {
    "duration": 158,
    "start_time": "2023-03-17T19:00:27.795Z"
   },
   {
    "duration": 258,
    "start_time": "2023-03-17T19:00:33.771Z"
   },
   {
    "duration": 384,
    "start_time": "2023-03-17T19:00:42.047Z"
   },
   {
    "duration": 489,
    "start_time": "2023-03-17T19:00:49.274Z"
   },
   {
    "duration": 290,
    "start_time": "2023-03-17T19:00:53.829Z"
   },
   {
    "duration": 300,
    "start_time": "2023-03-17T19:00:58.333Z"
   },
   {
    "duration": 164,
    "start_time": "2023-03-17T19:01:09.100Z"
   },
   {
    "duration": 151,
    "start_time": "2023-03-17T19:07:49.296Z"
   },
   {
    "duration": 16,
    "start_time": "2023-03-17T19:08:03.813Z"
   }
  ],
  "kernelspec": {
   "display_name": "Python 3 (ipykernel)",
   "language": "python",
   "name": "python3"
  },
  "language_info": {
   "codemirror_mode": {
    "name": "ipython",
    "version": 3
   },
   "file_extension": ".py",
   "mimetype": "text/x-python",
   "name": "python",
   "nbconvert_exporter": "python",
   "pygments_lexer": "ipython3",
   "version": "3.9.12"
  },
  "toc": {
   "base_numbering": 1,
   "nav_menu": {},
   "number_sections": true,
   "sideBar": true,
   "skip_h1_title": true,
   "title_cell": "Table of Contents",
   "title_sidebar": "Contents",
   "toc_cell": false,
   "toc_position": {
    "height": "calc(100% - 180px)",
    "left": "10px",
    "top": "150px",
    "width": "165px"
   },
   "toc_section_display": true,
   "toc_window_display": true
  }
 },
 "nbformat": 4,
 "nbformat_minor": 5
}
