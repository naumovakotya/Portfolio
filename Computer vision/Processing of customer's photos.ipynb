{
 "cells": [
  {
   "cell_type": "markdown",
   "id": "85b988bc",
   "metadata": {},
   "source": [
    "# Обработка фотографий покупателя"
   ]
  },
  {
   "cell_type": "markdown",
   "id": "1800bca8",
   "metadata": {},
   "source": [
    "## Исследовательский анализ данных\n",
    "### Описание данных\n",
    "Сетевой супермаркет внедряет систему компьютерного зрения для обработки фотографий покупателей. Фотофиксация в прикассовой зоне поможет определять возраст клиентов, чтобы анализировать покупки и предлагать товары, которые могут заинтересовать покупателей этой возрастной группы и контролировать добросовестность кассиров при продаже алкоголя. Строится модель, которая по фотографии определит приблизительный возраст человека. В нашем распоряжении набор фотографий людей с указанием возраста.\n",
    "\n",
    "**Цель проекта:** построить модель, которая будет предсказывать возраст покупателей, при этом `MAE`должно быть не более 8."
   ]
  },
  {
   "cell_type": "code",
   "execution_count": null,
   "id": "15928862",
   "metadata": {},
   "outputs": [],
   "source": [
    "# загрузка библиотек\n",
    "import pandas as pd\n",
    "\n",
    "from tensorflow.keras.applications.resnet import ResNet50\n",
    "from tensorflow.keras.layers import GlobalAveragePooling2D, Dense\n",
    "from tensorflow.keras.models import Sequential\n",
    "from tensorflow.keras.optimizers import Adam\n",
    "from tensorflow.keras.preprocessing.image import ImageDataGenerator"
   ]
  },
  {
   "cell_type": "code",
   "execution_count": null,
   "id": "f18574ec",
   "metadata": {},
   "outputs": [],
   "source": [
    "# зададим параметры\n",
    "optimizer = Adam(learning_rate=0.00005)\n",
    "datagen = ImageDataGenerator(validation_split=0.25, rescale=1./255)"
   ]
  },
  {
   "cell_type": "markdown",
   "id": "e82deb10",
   "metadata": {},
   "source": [
    "Датасет содержит 7591 изображение с соответствующими метками реального и кажущегося возраста. Общее число голосов составляет около 250 000. В среднем в датасете около 38 голосов за каждое изображение, и это делает средний видимый возраст очень стабильным (0,3 стандартной ошибки от среднего значения).\n",
    "\n",
    "\n",
    "\n",
    "Обучение полностью проходило на графической карте (GPU) [Yandex Compute Cloud](https://cloud.yandex.ru/services/compute). В связи с этим, ниже будут только представлены функции, без выводов, которые использовались для подготовки данных и обучения модели."
   ]
  },
  {
   "cell_type": "markdown",
   "id": "cdfe3dea",
   "metadata": {},
   "source": [
    "## Подготовка данных и загрузка на сервер\n",
    "Фотографии были дополнительно зумированы, перевёрнуты, а также изменён их масштаб для увеличения выборки и увеличения разнообразия фотографий, так как покупатели могут стоять близко или далеко от камеры у кассы, может быть разный угол наклона установки камер в разных магазинах, так и угол наклона головы также может различаться и тд. Таким образом, увеличиваем точность предстаказания нашей модели."
   ]
  },
  {
   "cell_type": "code",
   "execution_count": null,
   "id": "289d7c6c",
   "metadata": {},
   "outputs": [],
   "source": [
    "# Загрузка обучающей выборки на сервер\n",
    "def load_train(path):\n",
    "    labels=pd.read_csv(path + \"labels.csv\")\n",
    "    train_datagen = ImageDataGenerator(\n",
    "        validation_split=0.25,\n",
    "        rescale=1./255,\n",
    "        zoom_range=[0.5, 1.5],\n",
    "        horizontal_flip=True)\n",
    "\n",
    "    train_gen_flow = train_datagen.flow_from_dataframe(\n",
    "        dataframe=labels,\n",
    "        directory=path + 'final_files/',\n",
    "        x_col='file_name',\n",
    "        y_col='real_age',\n",
    "        target_size=(224, 224),\n",
    "        batch_size=32,\n",
    "        class_mode='raw',\n",
    "        subset='training',\n",
    "        seed=12345) \n",
    "    return train_gen_flow\n"
   ]
  },
  {
   "cell_type": "code",
   "execution_count": null,
   "id": "5f1b7138",
   "metadata": {},
   "outputs": [],
   "source": [
    "# Загрузка тестовой выборки на сервер\n",
    "def load_test(path):\n",
    "    labels=pd.read_csv(path + \"labels.csv\")\n",
    "    test_datagen = ImageDataGenerator(\n",
    "        validation_split=0.25,\n",
    "        rescale=1./255)\n",
    "\n",
    "    test_gen_flow = test_datagen.flow_from_dataframe(\n",
    "        dataframe=labels,\n",
    "        directory=path + 'final_files/',\n",
    "        x_col='file_name',\n",
    "        y_col='real_age',\n",
    "        target_size=(224, 224),\n",
    "        batch_size=32,\n",
    "        class_mode='raw',\n",
    "        subset='validation',        \n",
    "        seed=12345)\n",
    "    return test_gen_flow"
   ]
  },
  {
   "cell_type": "markdown",
   "id": "a9d27b4d",
   "metadata": {},
   "source": [
    "## Обучение модели\n",
    "Обучение данных происходило на модели `ResNet50`. Были выставлены аргументы:\n",
    "* `weights` = 'imagenet' (от англ. «сеть изображений»), чтобы улучшить результат, так как будет \"дообучение\" на ImageNet\n",
    "* `include_top` = True (англ. «добавить верхушку»), чтобы указать, что в конце архитектуры ResNet есть два слоя: GlobalAveragePooling2D и Dense."
   ]
  },
  {
   "cell_type": "code",
   "execution_count": null,
   "id": "99fa6304",
   "metadata": {},
   "outputs": [],
   "source": [
    "# Создание модели\n",
    "def create_model(input_shape):\n",
    "    backbone = ResNet50(input_shape=input_shape,\n",
    "                    weights='imagenet', \n",
    "                    include_top=False)\n",
    "\n",
    "    model = Sequential()\n",
    "    model.add(backbone)\n",
    "    model.add(GlobalAveragePooling2D())\n",
    "    model.add(Dense(1, activation='relu')) \n",
    "    model.compile(optimizer=optimizer, loss='mse', metrics=['mae'])\n",
    "    return model"
   ]
  },
  {
   "cell_type": "markdown",
   "id": "4db958f1",
   "metadata": {},
   "source": [
    "Наилучший результат у меня был достигнул на 40 эпохах:"
   ]
  },
  {
   "cell_type": "code",
   "execution_count": null,
   "id": "f0933043",
   "metadata": {},
   "outputs": [],
   "source": [
    "# Запуск модели (обучение)\n",
    "def train_model(model, train_data, test_data, batch_size=None, epochs=40, \n",
    "                steps_per_epoch=None, validation_steps=None):\n",
    "    model.fit(train_data, \n",
    "              validation_data=test_data,\n",
    "              batch_size=batch_size, epochs=epochs,\n",
    "              steps_per_epoch=steps_per_epoch,\n",
    "              validation_steps=validation_steps,\n",
    "              verbose=2, shuffle=True)\n",
    " \n",
    "    return model"
   ]
  },
  {
   "cell_type": "markdown",
   "id": "9ae961f5",
   "metadata": {},
   "source": [
    "Ниже ход обучения модели. Для сокращения, оставлены были только 5 эпох:\n",
    "\n",
    "    Train for 178 steps, validate for 60 steps\n",
    "\n",
    "    Epoch 1/40\n",
    "    178/178 - 113s - loss: 365.6234 - mae: 14.1019 - val_loss: 1051.1215 - val_mae: 27.7879\n",
    "\n",
    "    Epoch 10/40\n",
    "    178/178 - 90s - loss: 42.1746 - mae: 4.9861 - val_loss: 89.2430 - val_mae: 7.2008\n",
    "\n",
    "    Epoch 20/40\n",
    "    178/178 - 90s - loss: 23.1570 - mae: 3.6620 - val_loss: 71.1486 - val_mae: 6.1434\n",
    "\n",
    "    Epoch 30/40\n",
    "    178/178 - 87s - loss: 15.1969 - mae: 2.9909 - val_loss: 66.0796 - val_mae: 5.8567\n",
    "\n",
    "    Epoch 40/40\n",
    "    178/178 - 93s - loss: 11.0937 - mae: 2.5385 - val_loss: 60.3392 - val_mae: 5.7854\n",
    "\n",
    "    60/60 - 10s - loss: 60.3392 - mae: 5.7854\n",
    "\n",
    "**Test MAE: 5.7854**\n",
    "\n",
    "`MAE` меньше 8, а значит цель данного проекта достигнута. Перейдём к выводам."
   ]
  },
  {
   "cell_type": "markdown",
   "id": "a92b5eb6",
   "metadata": {},
   "source": [
    "## Выводы"
   ]
  },
  {
   "cell_type": "markdown",
   "id": "5ca09e7c",
   "metadata": {},
   "source": [
    "Была постоена и обучена свёрточная нейронная сеть на базе `ResNet50` из библиотеки `tensorflow.keras` на датасете с фотографиями людей разных возрастов для сетевого супермаркета. Нейронная сеть была обучена с целью фотофиксации в прикассовой зоне для определения возраста клиентов, чтобы анализировать покупки и предлагать товары, которые могут заинтересовать покупателей этой возрастной группы и контролировать добросовестность кассиров при продаже алкоголя.\n",
    "\n",
    "По ТЗ модель `MAE`< 8, однако получилось достичь `MAE` = 5.7854, что считаю хорошим результатом."
   ]
  }
 ],
 "metadata": {
  "kernelspec": {
   "display_name": "Python 3 (ipykernel)",
   "language": "python",
   "name": "python3"
  },
  "language_info": {
   "codemirror_mode": {
    "name": "ipython",
    "version": 3
   },
   "file_extension": ".py",
   "mimetype": "text/x-python",
   "name": "python",
   "nbconvert_exporter": "python",
   "pygments_lexer": "ipython3",
   "version": "3.9.12"
  }
 },
 "nbformat": 4,
 "nbformat_minor": 5
}
